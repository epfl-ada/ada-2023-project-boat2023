{
  "cells": [
    {
      "cell_type": "markdown",
      "metadata": {},
      "source": [
        "# Explosive Narratives: Terrorism through the Cinematic Lens\n",
        "## Boat2023 Milestone 2"
      ]
    },
    {
      "cell_type": "markdown",
      "metadata": {},
      "source": [
        "In this preparatory part of the project, we agreed on our project proposal; the impact on terrorism on cinema. We performed initial analyses including data exploration, data pre-processing and initial data visualizations, all in relation to our research questions: emotional depiction of terrorism-related movies, genre association, topic analysis as well as popularity."
      ]
    },
    {
      "cell_type": "code",
      "execution_count": 1,
      "metadata": {},
      "outputs": [
        {
          "name": "stdout",
          "output_type": "stream",
          "text": [
            "Intel MKL WARNING: Support of Intel(R) Streaming SIMD Extensions 4.2 (Intel(R) SSE4.2) enabled only processors has been deprecated. Intel oneAPI Math Kernel Library 2025.0 will require Intel(R) Advanced Vector Extensions (Intel(R) AVX) instructions.\n",
            "Intel MKL WARNING: Support of Intel(R) Streaming SIMD Extensions 4.2 (Intel(R) SSE4.2) enabled only processors has been deprecated. Intel oneAPI Math Kernel Library 2025.0 will require Intel(R) Advanced Vector Extensions (Intel(R) AVX) instructions.\n"
          ]
        }
      ],
      "source": [
        "from helpers import *\n",
        "\n",
        "#useful imports\n",
        "import xml.etree.ElementTree as ET\n",
        "import pandas as pd\n",
        "from typing import Dict\n",
        "import json\n",
        "import re\n",
        "import ast\n",
        "from countryinfo import CountryInfo\n",
        "\n",
        "#important libraries for data visualisation\n",
        "import matplotlib.pyplot as plt\n",
        "import seaborn as sns\n",
        "import plotly.express as px\n",
        "import numpy as np\n",
        "from scipy import stats\n",
        "import statsmodels.formula.api as smf\n",
        "\n",
        "\n",
        "#important libraries for the Sentiment analysis\n",
        "from scipy.signal import savgol_filter\n",
        "import nltk\n",
        "from nltk import tokenize\n",
        "from nltk.corpus import stopwords\n",
        "from nltk.tokenize import sent_tokenize\n",
        "from nltk.stem import WordNetLemmatizer\n",
        "from vaderSentiment.vaderSentiment import SentimentIntensityAnalyzer\n",
        "\n",
        "FILE_ID = '1UKCPLE0QpJGDncD6zvXfSIil0pRlCj-c'\n",
        "LOCAL_FILE_NAME='local_title_data.tsv'"
      ]
    },
    {
      "cell_type": "markdown",
      "metadata": {},
      "source": [
        "The large file cannot be pushed to the github, so we uploaded the dataset on googleDrive. We download the dataset in local to be able to work with it"
      ]
    },
    {
      "cell_type": "code",
      "execution_count": 2,
      "metadata": {},
      "outputs": [
        {
          "name": "stdout",
          "output_type": "stream",
          "text": [
            "file already exists\n"
          ]
        }
      ],
      "source": [
        "download_data(FILE_ID,LOCAL_FILE_NAME)"
      ]
    },
    {
      "cell_type": "markdown",
      "metadata": {},
      "source": [
        "## 1. Data Pre-processing"
      ]
    },
    {
      "cell_type": "markdown",
      "metadata": {},
      "source": [
        "### 1.1 Import Data"
      ]
    },
    {
      "cell_type": "code",
      "execution_count": 3,
      "metadata": {},
      "outputs": [],
      "source": [
        "plot_path= 'data/plot_summaries.txt'\n",
        "movie_metadata_path = 'data/movie.metadata.tsv'\n",
        "external_title_path= LOCAL_FILE_NAME\n",
        "external_rating_path= 'data/data.tsv'"
      ]
    },
    {
      "cell_type": "code",
      "execution_count": 4,
      "metadata": {},
      "outputs": [
        {
          "name": "stderr",
          "output_type": "stream",
          "text": [
            "/var/folders/f6/p2jq7zvd7jq9y5mvqb6p1wlh0000gn/T/ipykernel_29396/2618959230.py:6: DtypeWarning: Columns (4) have mixed types. Specify dtype option on import or set low_memory=False.\n",
            "  external_title= pd.read_csv(external_title_path,delimiter='\\t', on_bad_lines='skip', header=0)\n"
          ]
        }
      ],
      "source": [
        "m_plot = pd.read_csv(plot_path, delimiter='\\t', header= None)\n",
        "m_column_names = ['W_movie ID', 'F_movie ID', 'Movie name', 'Release date', 'Box office revenue', 'Runtime', 'Languages', 'Countries', 'Genres']\n",
        "m_data = pd.read_csv('data/movie.metadata.tsv', delimiter= '\\t',on_bad_lines='skip', names=m_column_names, header=0)\n",
        "m_data_copy = m_data.copy() #We make a copy of the data set in case\n",
        "rating_data=pd.read_csv(external_rating_path,delimiter='\\t', on_bad_lines='skip', header=0)\n",
        "external_title= pd.read_csv(external_title_path,delimiter='\\t', on_bad_lines='skip', header=0)"
      ]
    },
    {
      "cell_type": "code",
      "execution_count": 5,
      "metadata": {},
      "outputs": [
        {
          "data": {
            "text/html": [
              "<div>\n",
              "<style scoped>\n",
              "    .dataframe tbody tr th:only-of-type {\n",
              "        vertical-align: middle;\n",
              "    }\n",
              "\n",
              "    .dataframe tbody tr th {\n",
              "        vertical-align: top;\n",
              "    }\n",
              "\n",
              "    .dataframe thead th {\n",
              "        text-align: right;\n",
              "    }\n",
              "</style>\n",
              "<table border=\"1\" class=\"dataframe\">\n",
              "  <thead>\n",
              "    <tr style=\"text-align: right;\">\n",
              "      <th></th>\n",
              "      <th>W_movie ID</th>\n",
              "      <th>F_movie ID</th>\n",
              "      <th>Movie name</th>\n",
              "      <th>Release date</th>\n",
              "      <th>Box office revenue</th>\n",
              "      <th>Runtime</th>\n",
              "      <th>Languages</th>\n",
              "      <th>Countries</th>\n",
              "      <th>Genres</th>\n",
              "    </tr>\n",
              "  </thead>\n",
              "  <tbody>\n",
              "    <tr>\n",
              "      <th>0</th>\n",
              "      <td>3196793</td>\n",
              "      <td>/m/08yl5d</td>\n",
              "      <td>Getting Away with Murder: The JonBenét Ramsey ...</td>\n",
              "      <td>2000-02-16</td>\n",
              "      <td>NaN</td>\n",
              "      <td>95.0</td>\n",
              "      <td>{\"/m/02h40lc\": \"English Language\"}</td>\n",
              "      <td>{\"/m/09c7w0\": \"United States of America\"}</td>\n",
              "      <td>{\"/m/02n4kr\": \"Mystery\", \"/m/03bxz7\": \"Biograp...</td>\n",
              "    </tr>\n",
              "    <tr>\n",
              "      <th>1</th>\n",
              "      <td>28463795</td>\n",
              "      <td>/m/0crgdbh</td>\n",
              "      <td>Brun bitter</td>\n",
              "      <td>1988</td>\n",
              "      <td>NaN</td>\n",
              "      <td>83.0</td>\n",
              "      <td>{\"/m/05f_3\": \"Norwegian Language\"}</td>\n",
              "      <td>{\"/m/05b4w\": \"Norway\"}</td>\n",
              "      <td>{\"/m/0lsxr\": \"Crime Fiction\", \"/m/07s9rl0\": \"D...</td>\n",
              "    </tr>\n",
              "    <tr>\n",
              "      <th>2</th>\n",
              "      <td>9363483</td>\n",
              "      <td>/m/0285_cd</td>\n",
              "      <td>White Of The Eye</td>\n",
              "      <td>1987</td>\n",
              "      <td>NaN</td>\n",
              "      <td>110.0</td>\n",
              "      <td>{\"/m/02h40lc\": \"English Language\"}</td>\n",
              "      <td>{\"/m/07ssc\": \"United Kingdom\"}</td>\n",
              "      <td>{\"/m/01jfsb\": \"Thriller\", \"/m/0glj9q\": \"Erotic...</td>\n",
              "    </tr>\n",
              "    <tr>\n",
              "      <th>3</th>\n",
              "      <td>261236</td>\n",
              "      <td>/m/01mrr1</td>\n",
              "      <td>A Woman in Flames</td>\n",
              "      <td>1983</td>\n",
              "      <td>NaN</td>\n",
              "      <td>106.0</td>\n",
              "      <td>{\"/m/04306rv\": \"German Language\"}</td>\n",
              "      <td>{\"/m/0345h\": \"Germany\"}</td>\n",
              "      <td>{\"/m/07s9rl0\": \"Drama\"}</td>\n",
              "    </tr>\n",
              "    <tr>\n",
              "      <th>4</th>\n",
              "      <td>13696889</td>\n",
              "      <td>/m/03cfc81</td>\n",
              "      <td>The Gangsters</td>\n",
              "      <td>1913-05-29</td>\n",
              "      <td>NaN</td>\n",
              "      <td>35.0</td>\n",
              "      <td>{\"/m/06ppq\": \"Silent film\", \"/m/02h40lc\": \"Eng...</td>\n",
              "      <td>{\"/m/09c7w0\": \"United States of America\"}</td>\n",
              "      <td>{\"/m/02hmvc\": \"Short Film\", \"/m/06ppq\": \"Silen...</td>\n",
              "    </tr>\n",
              "  </tbody>\n",
              "</table>\n",
              "</div>"
            ],
            "text/plain": [
              "   W_movie ID  F_movie ID                                         Movie name  \\\n",
              "0     3196793   /m/08yl5d  Getting Away with Murder: The JonBenét Ramsey ...   \n",
              "1    28463795  /m/0crgdbh                                        Brun bitter   \n",
              "2     9363483  /m/0285_cd                                   White Of The Eye   \n",
              "3      261236   /m/01mrr1                                  A Woman in Flames   \n",
              "4    13696889  /m/03cfc81                                      The Gangsters   \n",
              "\n",
              "  Release date  Box office revenue  Runtime  \\\n",
              "0   2000-02-16                 NaN     95.0   \n",
              "1         1988                 NaN     83.0   \n",
              "2         1987                 NaN    110.0   \n",
              "3         1983                 NaN    106.0   \n",
              "4   1913-05-29                 NaN     35.0   \n",
              "\n",
              "                                           Languages  \\\n",
              "0                 {\"/m/02h40lc\": \"English Language\"}   \n",
              "1                 {\"/m/05f_3\": \"Norwegian Language\"}   \n",
              "2                 {\"/m/02h40lc\": \"English Language\"}   \n",
              "3                  {\"/m/04306rv\": \"German Language\"}   \n",
              "4  {\"/m/06ppq\": \"Silent film\", \"/m/02h40lc\": \"Eng...   \n",
              "\n",
              "                                   Countries  \\\n",
              "0  {\"/m/09c7w0\": \"United States of America\"}   \n",
              "1                     {\"/m/05b4w\": \"Norway\"}   \n",
              "2             {\"/m/07ssc\": \"United Kingdom\"}   \n",
              "3                    {\"/m/0345h\": \"Germany\"}   \n",
              "4  {\"/m/09c7w0\": \"United States of America\"}   \n",
              "\n",
              "                                              Genres  \n",
              "0  {\"/m/02n4kr\": \"Mystery\", \"/m/03bxz7\": \"Biograp...  \n",
              "1  {\"/m/0lsxr\": \"Crime Fiction\", \"/m/07s9rl0\": \"D...  \n",
              "2  {\"/m/01jfsb\": \"Thriller\", \"/m/0glj9q\": \"Erotic...  \n",
              "3                            {\"/m/07s9rl0\": \"Drama\"}  \n",
              "4  {\"/m/02hmvc\": \"Short Film\", \"/m/06ppq\": \"Silen...  "
            ]
          },
          "execution_count": 5,
          "metadata": {},
          "output_type": "execute_result"
        }
      ],
      "source": [
        "m_data.head(5)"
      ]
    },
    {
      "cell_type": "markdown",
      "metadata": {},
      "source": [
        "When displaying the dataframe, we notice that the columns Countries, Languages and Genres include some kind of ID, in addition to the readable value we are interest in (for example {\"/m/0chghy\": \"Australia\"}). To get a more visually pleasing dataframe, we use the JSON library as follows."
      ]
    },
    {
      "cell_type": "code",
      "execution_count": 6,
      "metadata": {},
      "outputs": [
        {
          "data": {
            "text/html": [
              "<div>\n",
              "<style scoped>\n",
              "    .dataframe tbody tr th:only-of-type {\n",
              "        vertical-align: middle;\n",
              "    }\n",
              "\n",
              "    .dataframe tbody tr th {\n",
              "        vertical-align: top;\n",
              "    }\n",
              "\n",
              "    .dataframe thead th {\n",
              "        text-align: right;\n",
              "    }\n",
              "</style>\n",
              "<table border=\"1\" class=\"dataframe\">\n",
              "  <thead>\n",
              "    <tr style=\"text-align: right;\">\n",
              "      <th></th>\n",
              "      <th>W_movie ID</th>\n",
              "      <th>F_movie ID</th>\n",
              "      <th>Movie name</th>\n",
              "      <th>Release date</th>\n",
              "      <th>Box office revenue</th>\n",
              "      <th>Runtime</th>\n",
              "      <th>Languages</th>\n",
              "      <th>Countries</th>\n",
              "      <th>Genres</th>\n",
              "    </tr>\n",
              "  </thead>\n",
              "  <tbody>\n",
              "    <tr>\n",
              "      <th>0</th>\n",
              "      <td>3196793</td>\n",
              "      <td>/m/08yl5d</td>\n",
              "      <td>Getting Away with Murder: The JonBenét Ramsey ...</td>\n",
              "      <td>2000-02-16</td>\n",
              "      <td>NaN</td>\n",
              "      <td>95.0</td>\n",
              "      <td>English Language</td>\n",
              "      <td>United States of America</td>\n",
              "      <td>Mystery, Biographical film, Drama, Crime Drama</td>\n",
              "    </tr>\n",
              "    <tr>\n",
              "      <th>1</th>\n",
              "      <td>28463795</td>\n",
              "      <td>/m/0crgdbh</td>\n",
              "      <td>Brun bitter</td>\n",
              "      <td>1988</td>\n",
              "      <td>NaN</td>\n",
              "      <td>83.0</td>\n",
              "      <td>Norwegian Language</td>\n",
              "      <td>Norway</td>\n",
              "      <td>Crime Fiction, Drama</td>\n",
              "    </tr>\n",
              "  </tbody>\n",
              "</table>\n",
              "</div>"
            ],
            "text/plain": [
              "   W_movie ID  F_movie ID                                         Movie name  \\\n",
              "0     3196793   /m/08yl5d  Getting Away with Murder: The JonBenét Ramsey ...   \n",
              "1    28463795  /m/0crgdbh                                        Brun bitter   \n",
              "\n",
              "  Release date  Box office revenue  Runtime           Languages  \\\n",
              "0   2000-02-16                 NaN     95.0    English Language   \n",
              "1         1988                 NaN     83.0  Norwegian Language   \n",
              "\n",
              "                  Countries                                          Genres  \n",
              "0  United States of America  Mystery, Biographical film, Drama, Crime Drama  \n",
              "1                    Norway                            Crime Fiction, Drama  "
            ]
          },
          "execution_count": 6,
          "metadata": {},
          "output_type": "execute_result"
        }
      ],
      "source": [
        "# Function to extract the readable values from the strings\n",
        "def extract_values(text):\n",
        "    try:\n",
        "        # Load the text as JSON and extract values\n",
        "        data_dict = json.loads(text)\n",
        "        return ', '.join(data_dict.values())\n",
        "    except json.JSONDecodeError:\n",
        "        # If it's not valid JSON, try to find all readable parts with regex\n",
        "        return ', '.join(re.findall(r'\":\\s*\"([^\"]+)\"', text))\n",
        "\n",
        "# Apply the function to clean the columns of our dataframe\n",
        "m_data['Countries'] = m_data['Countries'].apply(extract_values)\n",
        "m_data['Languages'] = m_data['Languages'].apply(extract_values)\n",
        "m_data['Genres'] = m_data['Genres'].apply(extract_values)\n",
        "m_data.head(2)"
      ]
    },
    {
      "cell_type": "markdown",
      "metadata": {},
      "source": [
        "### 1.2 Filter Terrorism-Related Movies and Other Movies"
      ]
    },
    {
      "cell_type": "markdown",
      "metadata": {},
      "source": [
        "Since our research focuses on the impact of terrorism on movies, we need to filter the dataset to solely target movies related to terrorism. We did some research and crafted a list of keywords of the terrorism lexicon, mainly based on information from Wikipedia. We used this list to create a subset of our original dataset, that we will use for all our analyses."
      ]
    },
    {
      "cell_type": "code",
      "execution_count": 7,
      "metadata": {},
      "outputs": [],
      "source": [
        "KEYWORDS = [ \"Terrorism\", \"Terrorist\", \"Terrorists\", \"Jihad\", \"Extremism\", \"Extremist\", \"Attacks\", \"Attack\", \"Bombs\", \"Bombing\", \"Bombers\", \n",
        "            \"Hijack\", \"Hijacking\", \"Kidnap\", \"Kidnapping\", \"Counterterrorism\", \"Counterterrorist\", \"Radicalization\", \"Radicalized\", \n",
        "            \"Security Threat\", \"Political Violence\", \"Suicide Bomber\", \"War on Terror\", \"Homeland Security\", \"National Security\", \"Intelligence Agencies\", \n",
        "            \"Counterinsurgency\", \"Terrorist Cells\", \"Radical Ideology\", \"Terrorist Plot\", \"Terrorist Organization\", \"Hostage Crisis\", \"Terrorism Investigation\", \n",
        "            \"Counterterrorist Operation\", \"Radical\", \"Guerrilla Warfare\", \"Insurgency\", \"Terror Threat\", \"Covert Operations\", \"Political Unrest\", \"Martyrdom\", \n",
        "            \"Cyberterrorism\", \"Terrorism Financing\", \"Violent Extremism\", \"Terrorist Recruitment\", \"Suicide Attacks\", \"Terrorist Sleeper Cells\", \n",
        "            \"Counterterror Measures\", \"Clandestine Activities\", \"Security Intelligence\" ]"
      ]
    },
    {
      "cell_type": "code",
      "execution_count": 8,
      "metadata": {},
      "outputs": [],
      "source": [
        "movie_ids=[]\n",
        "# Create a new column in the DataFrame to store the count of keywords in each movie plot\n",
        "for index, row in m_plot.iterrows():\n",
        "    movie_id = row[0]\n",
        "    plot = row[1]\n",
        "    # Check if the plot contains any of the keywords\n",
        "    for keyword in KEYWORDS:\n",
        "        if keyword.lower() in plot:\n",
        "            movie_ids.append(movie_id)\n",
        "# Display the list of movie IDs that match the keywords\n",
        "movie_ids= set(movie_ids)"
      ]
    },
    {
      "cell_type": "code",
      "execution_count": 9,
      "metadata": {},
      "outputs": [
        {
          "data": {
            "text/html": [
              "<div>\n",
              "<style scoped>\n",
              "    .dataframe tbody tr th:only-of-type {\n",
              "        vertical-align: middle;\n",
              "    }\n",
              "\n",
              "    .dataframe tbody tr th {\n",
              "        vertical-align: top;\n",
              "    }\n",
              "\n",
              "    .dataframe thead th {\n",
              "        text-align: right;\n",
              "    }\n",
              "</style>\n",
              "<table border=\"1\" class=\"dataframe\">\n",
              "  <thead>\n",
              "    <tr style=\"text-align: right;\">\n",
              "      <th></th>\n",
              "      <th>W_movie ID</th>\n",
              "      <th>Movie name</th>\n",
              "      <th>Release date</th>\n",
              "      <th>Countries</th>\n",
              "      <th>Languages</th>\n",
              "      <th>Genres</th>\n",
              "      <th>Box office revenue</th>\n",
              "    </tr>\n",
              "  </thead>\n",
              "  <tbody>\n",
              "    <tr>\n",
              "      <th>42214</th>\n",
              "      <td>32986669</td>\n",
              "      <td>Robbery Under Arms</td>\n",
              "      <td>1907-11-02</td>\n",
              "      <td>Australia</td>\n",
              "      <td>Silent film</td>\n",
              "      <td>Silent film, Drama</td>\n",
              "      <td>NaN</td>\n",
              "    </tr>\n",
              "    <tr>\n",
              "      <th>64189</th>\n",
              "      <td>7870349</td>\n",
              "      <td>Dr. Jekyll and Mr. Hyde</td>\n",
              "      <td>1908-03-07</td>\n",
              "      <td>United States of America</td>\n",
              "      <td>Silent film</td>\n",
              "      <td>Short Film, Silent film, Horror, Indie, Black-...</td>\n",
              "      <td>NaN</td>\n",
              "    </tr>\n",
              "  </tbody>\n",
              "</table>\n",
              "</div>"
            ],
            "text/plain": [
              "       W_movie ID               Movie name Release date  \\\n",
              "42214    32986669       Robbery Under Arms   1907-11-02   \n",
              "64189     7870349  Dr. Jekyll and Mr. Hyde   1908-03-07   \n",
              "\n",
              "                      Countries    Languages  \\\n",
              "42214                 Australia  Silent film   \n",
              "64189  United States of America  Silent film   \n",
              "\n",
              "                                                  Genres  Box office revenue  \n",
              "42214                                 Silent film, Drama                 NaN  \n",
              "64189  Short Film, Silent film, Horror, Indie, Black-...                 NaN  "
            ]
          },
          "execution_count": 9,
          "metadata": {},
          "output_type": "execute_result"
        }
      ],
      "source": [
        "# Terrorism-related movies\n",
        "terrorism_movies = m_data[m_data['W_movie ID'].isin(movie_ids)][['W_movie ID','Movie name', 'Release date','Countries', 'Languages', 'Genres','Box office revenue']]\n",
        "terrorism_movies = terrorism_movies.sort_values(by=['Release date'])\n",
        "terrorism_movies.head(2) "
      ]
    },
    {
      "cell_type": "code",
      "execution_count": 10,
      "metadata": {},
      "outputs": [
        {
          "data": {
            "text/html": [
              "<div>\n",
              "<style scoped>\n",
              "    .dataframe tbody tr th:only-of-type {\n",
              "        vertical-align: middle;\n",
              "    }\n",
              "\n",
              "    .dataframe tbody tr th {\n",
              "        vertical-align: top;\n",
              "    }\n",
              "\n",
              "    .dataframe thead th {\n",
              "        text-align: right;\n",
              "    }\n",
              "</style>\n",
              "<table border=\"1\" class=\"dataframe\">\n",
              "  <thead>\n",
              "    <tr style=\"text-align: right;\">\n",
              "      <th></th>\n",
              "      <th>W_movie ID</th>\n",
              "      <th>Movie name</th>\n",
              "      <th>Release date</th>\n",
              "      <th>Countries</th>\n",
              "      <th>Languages</th>\n",
              "      <th>Genres</th>\n",
              "      <th>summary</th>\n",
              "    </tr>\n",
              "  </thead>\n",
              "  <tbody>\n",
              "    <tr>\n",
              "      <th>0</th>\n",
              "      <td>32986669</td>\n",
              "      <td>Robbery Under Arms</td>\n",
              "      <td>1907-11-02</td>\n",
              "      <td>Australia</td>\n",
              "      <td>Silent film</td>\n",
              "      <td>Silent film, Drama</td>\n",
              "      <td>Key scenes of the film included the branding o...</td>\n",
              "    </tr>\n",
              "    <tr>\n",
              "      <th>1</th>\n",
              "      <td>7870349</td>\n",
              "      <td>Dr. Jekyll and Mr. Hyde</td>\n",
              "      <td>1908-03-07</td>\n",
              "      <td>United States of America</td>\n",
              "      <td>Silent film</td>\n",
              "      <td>Short Film, Silent film, Horror, Indie, Black-...</td>\n",
              "      <td>Dr. Jekyll and Mr. Hyde began with the raising...</td>\n",
              "    </tr>\n",
              "    <tr>\n",
              "      <th>2</th>\n",
              "      <td>29391146</td>\n",
              "      <td>The Black Viper</td>\n",
              "      <td>1908-07-25</td>\n",
              "      <td>United States of America</td>\n",
              "      <td>Silent film</td>\n",
              "      <td>Silent film</td>\n",
              "      <td>A thug accosts a girl as she leaves her workpl...</td>\n",
              "    </tr>\n",
              "  </tbody>\n",
              "</table>\n",
              "</div>"
            ],
            "text/plain": [
              "   W_movie ID               Movie name Release date                 Countries  \\\n",
              "0    32986669       Robbery Under Arms   1907-11-02                 Australia   \n",
              "1     7870349  Dr. Jekyll and Mr. Hyde   1908-03-07  United States of America   \n",
              "2    29391146          The Black Viper   1908-07-25  United States of America   \n",
              "\n",
              "     Languages                                             Genres  \\\n",
              "0  Silent film                                 Silent film, Drama   \n",
              "1  Silent film  Short Film, Silent film, Horror, Indie, Black-...   \n",
              "2  Silent film                                        Silent film   \n",
              "\n",
              "                                             summary  \n",
              "0  Key scenes of the film included the branding o...  \n",
              "1  Dr. Jekyll and Mr. Hyde began with the raising...  \n",
              "2  A thug accosts a girl as she leaves her workpl...  "
            ]
          },
          "execution_count": 10,
          "metadata": {},
          "output_type": "execute_result"
        }
      ],
      "source": [
        "#Rename the column of dataframe that contains the plot summaries\n",
        "df_plot = m_plot.rename(columns={0: 'W_movie ID', 1: 'summary'})\n",
        "#Merge the dataframe related to the movies metadata and movies plot\n",
        "df_terrorism_summaries = pd.merge(terrorism_movies, df_plot, on='W_movie ID', how='inner')\n",
        "#Drop the rows where the box office revenue is nan\n",
        "df_terrorism_summaries.drop('Box office revenue', axis =1, inplace=True)\n",
        "df_terrorism_summaries.head(3)"
      ]
    },
    {
      "cell_type": "markdown",
      "metadata": {},
      "source": [
        "We change the Release data column. We don't need the exact date, we are only interested in the year. "
      ]
    },
    {
      "cell_type": "code",
      "execution_count": 11,
      "metadata": {},
      "outputs": [],
      "source": [
        "terrorism_movies = terrorism_movies.sort_values(by=['Release date'])\n",
        "terrorism_movies['Release date']=  terrorism_movies['Release date'].str[:4]"
      ]
    },
    {
      "cell_type": "markdown",
      "metadata": {},
      "source": [
        "## 2. First visualizations"
      ]
    },
    {
      "cell_type": "markdown",
      "metadata": {},
      "source": [
        "### 2.1 Terrorism-related movies per year."
      ]
    },
    {
      "cell_type": "code",
      "execution_count": 12,
      "metadata": {},
      "outputs": [
        {
          "data": {
            "application/vnd.plotly.v1+json": {
              "config": {
                "plotlyServerURL": "https://plot.ly"
              },
              "data": [
                {
                  "alignmentgroup": "True",
                  "bingroup": "x",
                  "hovertemplate": "Release date=%{x}<br>count=%{y}<extra></extra>",
                  "legendgroup": "",
                  "marker": {
                    "color": "#21918c",
                    "pattern": {
                      "shape": ""
                    }
                  },
                  "name": "",
                  "nbinsx": 100,
                  "offsetgroup": "",
                  "orientation": "v",
                  "showlegend": false,
                  "type": "histogram",
                  "x": [
                    "1907",
                    "1908",
                    "1908",
                    "1910",
                    "1910",
                    "1911",
                    "1911",
                    "1911",
                    "1911",
                    "1912",
                    "1912",
                    "1912",
                    "1912",
                    "1913",
                    "1913",
                    "1913",
                    "1913",
                    "1913",
                    "1913",
                    "1914",
                    "1914",
                    "1914",
                    "1914",
                    "1914",
                    "1915",
                    "1915",
                    "1915",
                    "1915",
                    "1915",
                    "1915",
                    "1915",
                    "1915",
                    "1915",
                    "1915",
                    "1916",
                    "1916",
                    "1916",
                    "1916",
                    "1916",
                    "1916",
                    "1917",
                    "1917",
                    "1917",
                    "1917",
                    "1917",
                    "1917",
                    "1918",
                    "1918",
                    "1918",
                    "1918",
                    "1918",
                    "1918",
                    "1918",
                    "1918",
                    "1918",
                    "1919",
                    "1919",
                    "1919",
                    "1920",
                    "1920",
                    "1920",
                    "1920",
                    "1920",
                    "1920",
                    "1920",
                    "1920",
                    "1920",
                    "1921",
                    "1921",
                    "1921",
                    "1921",
                    "1921",
                    "1921",
                    "1921",
                    "1921",
                    "1921",
                    "1921",
                    "1922",
                    "1922",
                    "1922",
                    "1922",
                    "1922",
                    "1922",
                    "1922",
                    "1923",
                    "1923",
                    "1923",
                    "1923",
                    "1923",
                    "1924",
                    "1924",
                    "1924",
                    "1924",
                    "1924",
                    "1924",
                    "1924",
                    "1924",
                    "1924",
                    "1924",
                    "1924",
                    "1925",
                    "1925",
                    "1925",
                    "1925",
                    "1925",
                    "1925",
                    "1925",
                    "1925",
                    "1925",
                    "1926",
                    "1926",
                    "1926",
                    "1926",
                    "1926",
                    "1926",
                    "1927",
                    "1927",
                    "1927",
                    "1928",
                    "1928",
                    "1928",
                    "1928",
                    "1928",
                    "1928",
                    "1928",
                    "1928",
                    "1928",
                    "1928",
                    "1928",
                    "1928",
                    "1928",
                    "1929",
                    "1929",
                    "1929",
                    "1929",
                    "1929",
                    "1929",
                    "1929",
                    "1929",
                    "1929",
                    "1929",
                    "1929",
                    "1929",
                    "1929",
                    "1930",
                    "1930",
                    "1930",
                    "1930",
                    "1930",
                    "1930",
                    "1930",
                    "1930",
                    "1930",
                    "1930",
                    "1930",
                    "1930",
                    "1930",
                    "1930",
                    "1930",
                    "1930",
                    "1930",
                    "1931",
                    "1931",
                    "1931",
                    "1931",
                    "1931",
                    "1931",
                    "1931",
                    "1931",
                    "1931",
                    "1931",
                    "1931",
                    "1931",
                    "1931",
                    "1931",
                    "1931",
                    "1931",
                    "1931",
                    "1931",
                    "1931",
                    "1931",
                    "1931",
                    "1931",
                    "1931",
                    "1931",
                    "1931",
                    "1931",
                    "1931",
                    "1932",
                    "1932",
                    "1932",
                    "1932",
                    "1932",
                    "1932",
                    "1932",
                    "1932",
                    "1932",
                    "1932",
                    "1932",
                    "1932",
                    "1932",
                    "1932",
                    "1932",
                    "1932",
                    "1932",
                    "1932",
                    "1932",
                    "1933",
                    "1933",
                    "1933",
                    "1933",
                    "1933",
                    "1933",
                    "1933",
                    "1933",
                    "1933",
                    "1933",
                    "1933",
                    "1933",
                    "1933",
                    "1933",
                    "1933",
                    "1933",
                    "1933",
                    "1933",
                    "1933",
                    "1933",
                    "1934",
                    "1934",
                    "1934",
                    "1934",
                    "1934",
                    "1934",
                    "1934",
                    "1934",
                    "1934",
                    "1934",
                    "1934",
                    "1934",
                    "1934",
                    "1934",
                    "1934",
                    "1934",
                    "1934",
                    "1934",
                    "1934",
                    "1934",
                    "1934",
                    "1935",
                    "1935",
                    "1935",
                    "1935",
                    "1935",
                    "1935",
                    "1935",
                    "1935",
                    "1935",
                    "1935",
                    "1935",
                    "1935",
                    "1935",
                    "1935",
                    "1935",
                    "1935",
                    "1935",
                    "1935",
                    "1935",
                    "1935",
                    "1935",
                    "1935",
                    "1935",
                    "1935",
                    "1935",
                    "1935",
                    "1936",
                    "1936",
                    "1936",
                    "1936",
                    "1936",
                    "1936",
                    "1936",
                    "1936",
                    "1936",
                    "1936",
                    "1936",
                    "1936",
                    "1936",
                    "1936",
                    "1936",
                    "1936",
                    "1936",
                    "1936",
                    "1936",
                    "1936",
                    "1936",
                    "1936",
                    "1936",
                    "1937",
                    "1937",
                    "1937",
                    "1937",
                    "1937",
                    "1937",
                    "1937",
                    "1937",
                    "1937",
                    "1937",
                    "1937",
                    "1937",
                    "1937",
                    "1937",
                    "1937",
                    "1937",
                    "1937",
                    "1937",
                    "1937",
                    "1937",
                    "1937",
                    "1937",
                    "1938",
                    "1938",
                    "1938",
                    "1938",
                    "1938",
                    "1938",
                    "1938",
                    "1938",
                    "1938",
                    "1938",
                    "1938",
                    "1938",
                    "1938",
                    "1938",
                    "1938",
                    "1938",
                    "1938",
                    "1938",
                    "1938",
                    "1938",
                    "1938",
                    "1938",
                    "1939",
                    "1939",
                    "1939",
                    "1939",
                    "1939",
                    "1939",
                    "1939",
                    "1939",
                    "1939",
                    "1939",
                    "1939",
                    "1939",
                    "1939",
                    "1939",
                    "1939",
                    "1939",
                    "1939",
                    "1939",
                    "1939",
                    "1939",
                    "1939",
                    "1939",
                    "1939",
                    "1939",
                    "1939",
                    "1939",
                    "1939",
                    "1939",
                    "1939",
                    "1939",
                    "1939",
                    "1939",
                    "1939",
                    "1940",
                    "1940",
                    "1940",
                    "1940",
                    "1940",
                    "1940",
                    "1940",
                    "1940",
                    "1940",
                    "1940",
                    "1940",
                    "1940",
                    "1940",
                    "1940",
                    "1940",
                    "1940",
                    "1940",
                    "1940",
                    "1940",
                    "1940",
                    "1940",
                    "1940",
                    "1940",
                    "1940",
                    "1940",
                    "1940",
                    "1940",
                    "1940",
                    "1940",
                    "1940",
                    "1940",
                    "1940",
                    "1940",
                    "1940",
                    "1940",
                    "1940",
                    "1941",
                    "1941",
                    "1941",
                    "1941",
                    "1941",
                    "1941",
                    "1941",
                    "1941",
                    "1941",
                    "1941",
                    "1941",
                    "1941",
                    "1941",
                    "1941",
                    "1941",
                    "1941",
                    "1941",
                    "1941",
                    "1941",
                    "1941",
                    "1941",
                    "1941",
                    "1941",
                    "1941",
                    "1941",
                    "1941",
                    "1941",
                    "1941",
                    "1941",
                    "1941",
                    "1941",
                    "1942",
                    "1942",
                    "1942",
                    "1942",
                    "1942",
                    "1942",
                    "1942",
                    "1942",
                    "1942",
                    "1942",
                    "1942",
                    "1942",
                    "1942",
                    "1942",
                    "1942",
                    "1942",
                    "1942",
                    "1942",
                    "1942",
                    "1942",
                    "1942",
                    "1942",
                    "1942",
                    "1942",
                    "1942",
                    "1942",
                    "1942",
                    "1942",
                    "1942",
                    "1942",
                    "1942",
                    "1942",
                    "1942",
                    "1942",
                    "1942",
                    "1942",
                    "1942",
                    "1942",
                    "1942",
                    "1942",
                    "1942",
                    "1942",
                    "1942",
                    "1943",
                    "1943",
                    "1943",
                    "1943",
                    "1943",
                    "1943",
                    "1943",
                    "1943",
                    "1943",
                    "1943",
                    "1943",
                    "1943",
                    "1943",
                    "1943",
                    "1943",
                    "1943",
                    "1943",
                    "1943",
                    "1943",
                    "1943",
                    "1943",
                    "1943",
                    "1943",
                    "1943",
                    "1943",
                    "1943",
                    "1943",
                    "1943",
                    "1943",
                    "1943",
                    "1943",
                    "1943",
                    "1943",
                    "1943",
                    "1943",
                    "1943",
                    "1943",
                    "1943",
                    "1943",
                    "1943",
                    "1943",
                    "1943",
                    "1943",
                    "1943",
                    "1943",
                    "1943",
                    "1943",
                    "1943",
                    "1943",
                    "1943",
                    "1943",
                    "1943",
                    "1943",
                    "1943",
                    "1943",
                    "1944",
                    "1944",
                    "1944",
                    "1944",
                    "1944",
                    "1944",
                    "1944",
                    "1944",
                    "1944",
                    "1944",
                    "1944",
                    "1944",
                    "1944",
                    "1944",
                    "1944",
                    "1944",
                    "1944",
                    "1944",
                    "1944",
                    "1944",
                    "1944",
                    "1944",
                    "1944",
                    "1944",
                    "1944",
                    "1944",
                    "1944",
                    "1944",
                    "1944",
                    "1944",
                    "1944",
                    "1944",
                    "1944",
                    "1944",
                    "1944",
                    "1944",
                    "1945",
                    "1945",
                    "1945",
                    "1945",
                    "1945",
                    "1945",
                    "1945",
                    "1945",
                    "1945",
                    "1945",
                    "1945",
                    "1945",
                    "1945",
                    "1945",
                    "1945",
                    "1945",
                    "1945",
                    "1945",
                    "1945",
                    "1945",
                    "1945",
                    "1945",
                    "1945",
                    "1945",
                    "1945",
                    "1945",
                    "1946",
                    "1946",
                    "1946",
                    "1946",
                    "1946",
                    "1946",
                    "1946",
                    "1946",
                    "1946",
                    "1946",
                    "1946",
                    "1946",
                    "1946",
                    "1946",
                    "1946",
                    "1946",
                    "1946",
                    "1946",
                    "1946",
                    "1946",
                    "1946",
                    "1946",
                    "1946",
                    "1946",
                    "1946",
                    "1946",
                    "1946",
                    "1947",
                    "1947",
                    "1947",
                    "1947",
                    "1947",
                    "1947",
                    "1947",
                    "1947",
                    "1947",
                    "1947",
                    "1947",
                    "1947",
                    "1947",
                    "1947",
                    "1947",
                    "1947",
                    "1947",
                    "1947",
                    "1947",
                    "1947",
                    "1947",
                    "1947",
                    "1948",
                    "1948",
                    "1948",
                    "1948",
                    "1948",
                    "1948",
                    "1948",
                    "1948",
                    "1948",
                    "1948",
                    "1948",
                    "1948",
                    "1948",
                    "1948",
                    "1948",
                    "1948",
                    "1948",
                    "1948",
                    "1948",
                    "1948",
                    "1948",
                    "1948",
                    "1948",
                    "1948",
                    "1949",
                    "1949",
                    "1949",
                    "1949",
                    "1949",
                    "1949",
                    "1949",
                    "1949",
                    "1949",
                    "1949",
                    "1949",
                    "1949",
                    "1949",
                    "1949",
                    "1949",
                    "1949",
                    "1949",
                    "1949",
                    "1949",
                    "1949",
                    "1949",
                    "1949",
                    "1949",
                    "1949",
                    "1949",
                    "1949",
                    "1949",
                    "1949",
                    "1949",
                    "1949",
                    "1949",
                    "1949",
                    "1950",
                    "1950",
                    "1950",
                    "1950",
                    "1950",
                    "1950",
                    "1950",
                    "1950",
                    "1950",
                    "1950",
                    "1950",
                    "1950",
                    "1950",
                    "1950",
                    "1950",
                    "1950",
                    "1950",
                    "1950",
                    "1950",
                    "1950",
                    "1950",
                    "1950",
                    "1950",
                    "1950",
                    "1950",
                    "1950",
                    "1950",
                    "1950",
                    "1950",
                    "1950",
                    "1950",
                    "1950",
                    "1951",
                    "1951",
                    "1951",
                    "1951",
                    "1951",
                    "1951",
                    "1951",
                    "1951",
                    "1951",
                    "1951",
                    "1951",
                    "1951",
                    "1951",
                    "1951",
                    "1951",
                    "1951",
                    "1951",
                    "1951",
                    "1951",
                    "1951",
                    "1951",
                    "1951",
                    "1951",
                    "1951",
                    "1951",
                    "1951",
                    "1951",
                    "1951",
                    "1951",
                    "1951",
                    "1951",
                    "1951",
                    "1951",
                    "1951",
                    "1951",
                    "1951",
                    "1952",
                    "1952",
                    "1952",
                    "1952",
                    "1952",
                    "1952",
                    "1952",
                    "1952",
                    "1952",
                    "1952",
                    "1952",
                    "1952",
                    "1952",
                    "1952",
                    "1952",
                    "1952",
                    "1952",
                    "1952",
                    "1952",
                    "1952",
                    "1952",
                    "1952",
                    "1952",
                    "1952",
                    "1952",
                    "1952",
                    "1952",
                    "1952",
                    "1952",
                    "1952",
                    "1952",
                    "1952",
                    "1952",
                    "1952",
                    "1952",
                    "1952",
                    "1952",
                    "1952",
                    "1952",
                    "1953",
                    "1953",
                    "1953",
                    "1953",
                    "1953",
                    "1953",
                    "1953",
                    "1953",
                    "1953",
                    "1953",
                    "1953",
                    "1953",
                    "1953",
                    "1953",
                    "1953",
                    "1953",
                    "1953",
                    "1953",
                    "1953",
                    "1953",
                    "1953",
                    "1953",
                    "1953",
                    "1953",
                    "1953",
                    "1953",
                    "1953",
                    "1953",
                    "1953",
                    "1953",
                    "1953",
                    "1953",
                    "1953",
                    "1953",
                    "1953",
                    "1953",
                    "1953",
                    "1953",
                    "1953",
                    "1953",
                    "1954",
                    "1954",
                    "1954",
                    "1954",
                    "1954",
                    "1954",
                    "1954",
                    "1954",
                    "1954",
                    "1954",
                    "1954",
                    "1954",
                    "1954",
                    "1954",
                    "1954",
                    "1954",
                    "1954",
                    "1954",
                    "1954",
                    "1954",
                    "1954",
                    "1954",
                    "1954",
                    "1954",
                    "1954",
                    "1954",
                    "1954",
                    "1954",
                    "1954",
                    "1954",
                    "1954",
                    "1954",
                    "1954",
                    "1954",
                    "1954",
                    "1954",
                    "1954",
                    "1954",
                    "1954",
                    "1954",
                    "1954",
                    "1954",
                    "1954",
                    "1954",
                    "1954",
                    "1954",
                    "1954",
                    "1955",
                    "1955",
                    "1955",
                    "1955",
                    "1955",
                    "1955",
                    "1955",
                    "1955",
                    "1955",
                    "1955",
                    "1955",
                    "1955",
                    "1955",
                    "1955",
                    "1955",
                    "1955",
                    "1955",
                    "1955",
                    "1955",
                    "1955",
                    "1955",
                    "1955",
                    "1955",
                    "1955",
                    "1955",
                    "1955",
                    "1955",
                    "1955",
                    "1955",
                    "1955",
                    "1955",
                    "1955",
                    "1955",
                    "1955",
                    "1955",
                    "1955",
                    "1955",
                    "1955",
                    "1955",
                    "1955",
                    "1955",
                    "1955",
                    "1955",
                    "1955",
                    "1955",
                    "1955",
                    "1955",
                    "1955",
                    "1955",
                    "1955",
                    "1956",
                    "1956",
                    "1956",
                    "1956",
                    "1956",
                    "1956",
                    "1956",
                    "1956",
                    "1956",
                    "1956",
                    "1956",
                    "1956",
                    "1956",
                    "1956",
                    "1956",
                    "1956",
                    "1956",
                    "1956",
                    "1956",
                    "1956",
                    "1956",
                    "1956",
                    "1956",
                    "1956",
                    "1956",
                    "1956",
                    "1956",
                    "1956",
                    "1956",
                    "1956",
                    "1956",
                    "1956",
                    "1956",
                    "1956",
                    "1956",
                    "1956",
                    "1956",
                    "1956",
                    "1956",
                    "1956",
                    "1956",
                    "1956",
                    "1956",
                    "1956",
                    "1956",
                    "1956",
                    "1957",
                    "1957",
                    "1957",
                    "1957",
                    "1957",
                    "1957",
                    "1957",
                    "1957",
                    "1957",
                    "1957",
                    "1957",
                    "1957",
                    "1957",
                    "1957",
                    "1957",
                    "1957",
                    "1957",
                    "1957",
                    "1957",
                    "1957",
                    "1957",
                    "1957",
                    "1957",
                    "1957",
                    "1957",
                    "1957",
                    "1957",
                    "1957",
                    "1957",
                    "1957",
                    "1957",
                    "1957",
                    "1957",
                    "1957",
                    "1957",
                    "1957",
                    "1957",
                    "1957",
                    "1957",
                    "1957",
                    "1957",
                    "1957",
                    "1957",
                    "1957",
                    "1957",
                    "1957",
                    "1958",
                    "1958",
                    "1958",
                    "1958",
                    "1958",
                    "1958",
                    "1958",
                    "1958",
                    "1958",
                    "1958",
                    "1958",
                    "1958",
                    "1958",
                    "1958",
                    "1958",
                    "1958",
                    "1958",
                    "1958",
                    "1958",
                    "1958",
                    "1958",
                    "1958",
                    "1958",
                    "1958",
                    "1958",
                    "1958",
                    "1958",
                    "1958",
                    "1958",
                    "1958",
                    "1958",
                    "1958",
                    "1958",
                    "1958",
                    "1958",
                    "1958",
                    "1958",
                    "1958",
                    "1958",
                    "1958",
                    "1958",
                    "1958",
                    "1958",
                    "1958",
                    "1958",
                    "1958",
                    "1958",
                    "1958",
                    "1958",
                    "1958",
                    "1958",
                    "1958",
                    "1958",
                    "1958",
                    "1958",
                    "1958",
                    "1958",
                    "1958",
                    "1959",
                    "1959",
                    "1959",
                    "1959",
                    "1959",
                    "1959",
                    "1959",
                    "1959",
                    "1959",
                    "1959",
                    "1959",
                    "1959",
                    "1959",
                    "1959",
                    "1959",
                    "1959",
                    "1959",
                    "1959",
                    "1959",
                    "1959",
                    "1959",
                    "1959",
                    "1959",
                    "1959",
                    "1959",
                    "1959",
                    "1959",
                    "1959",
                    "1959",
                    "1959",
                    "1959",
                    "1959",
                    "1959",
                    "1959",
                    "1959",
                    "1959",
                    "1959",
                    "1959",
                    "1959",
                    "1959",
                    "1959",
                    "1959",
                    "1959",
                    "1959",
                    "1959",
                    "1959",
                    "1959",
                    "1959",
                    "1959",
                    "1959",
                    "1960",
                    "1960",
                    "1960",
                    "1960",
                    "1960",
                    "1960",
                    "1960",
                    "1960",
                    "1960",
                    "1960",
                    "1960",
                    "1960",
                    "1960",
                    "1960",
                    "1960",
                    "1960",
                    "1960",
                    "1960",
                    "1960",
                    "1960",
                    "1960",
                    "1960",
                    "1960",
                    "1960",
                    "1960",
                    "1960",
                    "1960",
                    "1960",
                    "1960",
                    "1960",
                    "1960",
                    "1960",
                    "1961",
                    "1961",
                    "1961",
                    "1961",
                    "1961",
                    "1961",
                    "1961",
                    "1961",
                    "1961",
                    "1961",
                    "1961",
                    "1961",
                    "1961",
                    "1961",
                    "1961",
                    "1961",
                    "1961",
                    "1961",
                    "1961",
                    "1961",
                    "1961",
                    "1961",
                    "1961",
                    "1961",
                    "1961",
                    "1961",
                    "1961",
                    "1961",
                    "1961",
                    "1961",
                    "1961",
                    "1961",
                    "1961",
                    "1961",
                    "1961",
                    "1961",
                    "1961",
                    "1961",
                    "1961",
                    "1961",
                    "1961",
                    "1961",
                    "1961",
                    "1961",
                    "1961",
                    "1961",
                    "1961",
                    "1962",
                    "1962",
                    "1962",
                    "1962",
                    "1962",
                    "1962",
                    "1962",
                    "1962",
                    "1962",
                    "1962",
                    "1962",
                    "1962",
                    "1962",
                    "1962",
                    "1962",
                    "1962",
                    "1962",
                    "1962",
                    "1962",
                    "1962",
                    "1962",
                    "1962",
                    "1962",
                    "1962",
                    "1962",
                    "1962",
                    "1962",
                    "1962",
                    "1962",
                    "1962",
                    "1962",
                    "1962",
                    "1962",
                    "1962",
                    "1962",
                    "1962",
                    "1962",
                    "1962",
                    "1962",
                    "1962",
                    "1962",
                    "1962",
                    "1962",
                    "1962",
                    "1962",
                    "1962",
                    "1962",
                    "1962",
                    "1963",
                    "1963",
                    "1963",
                    "1963",
                    "1963",
                    "1963",
                    "1963",
                    "1963",
                    "1963",
                    "1963",
                    "1963",
                    "1963",
                    "1963",
                    "1963",
                    "1963",
                    "1963",
                    "1963",
                    "1963",
                    "1963",
                    "1963",
                    "1963",
                    "1963",
                    "1963",
                    "1963",
                    "1963",
                    "1963",
                    "1963",
                    "1963",
                    "1963",
                    "1963",
                    "1963",
                    "1963",
                    "1963",
                    "1963",
                    "1963",
                    "1963",
                    "1963",
                    "1964",
                    "1964",
                    "1964",
                    "1964",
                    "1964",
                    "1964",
                    "1964",
                    "1964",
                    "1964",
                    "1964",
                    "1964",
                    "1964",
                    "1964",
                    "1964",
                    "1964",
                    "1964",
                    "1964",
                    "1964",
                    "1964",
                    "1964",
                    "1964",
                    "1964",
                    "1964",
                    "1964",
                    "1964",
                    "1964",
                    "1964",
                    "1964",
                    "1964",
                    "1964",
                    "1964",
                    "1964",
                    "1964",
                    "1964",
                    "1964",
                    "1964",
                    "1964",
                    "1964",
                    "1964",
                    "1964",
                    "1964",
                    "1964",
                    "1964",
                    "1964",
                    "1964",
                    "1964",
                    "1964",
                    "1964",
                    "1964",
                    "1964",
                    "1964",
                    "1964",
                    "1964",
                    "1964",
                    "1964",
                    "1964",
                    "1964",
                    "1964",
                    "1964",
                    "1964",
                    "1965",
                    "1965",
                    "1965",
                    "1965",
                    "1965",
                    "1965",
                    "1965",
                    "1965",
                    "1965",
                    "1965",
                    "1965",
                    "1965",
                    "1965",
                    "1965",
                    "1965",
                    "1965",
                    "1965",
                    "1965",
                    "1965",
                    "1965",
                    "1965",
                    "1965",
                    "1965",
                    "1965",
                    "1965",
                    "1965",
                    "1965",
                    "1965",
                    "1965",
                    "1965",
                    "1965",
                    "1965",
                    "1965",
                    "1965",
                    "1965",
                    "1965",
                    "1965",
                    "1965",
                    "1965",
                    "1965",
                    "1965",
                    "1965",
                    "1965",
                    "1965",
                    "1965",
                    "1965",
                    "1965",
                    "1965",
                    "1965",
                    "1965",
                    "1965",
                    "1965",
                    "1965",
                    "1965",
                    "1966",
                    "1966",
                    "1966",
                    "1966",
                    "1966",
                    "1966",
                    "1966",
                    "1966",
                    "1966",
                    "1966",
                    "1966",
                    "1966",
                    "1966",
                    "1966",
                    "1966",
                    "1966",
                    "1966",
                    "1966",
                    "1966",
                    "1966",
                    "1966",
                    "1966",
                    "1966",
                    "1966",
                    "1966",
                    "1966",
                    "1966",
                    "1966",
                    "1966",
                    "1966",
                    "1966",
                    "1966",
                    "1966",
                    "1966",
                    "1966",
                    "1966",
                    "1966",
                    "1966",
                    "1966",
                    "1966",
                    "1966",
                    "1966",
                    "1966",
                    "1966",
                    "1966",
                    "1966",
                    "1966",
                    "1966",
                    "1966",
                    "1966",
                    "1966",
                    "1966",
                    "1966",
                    "1966",
                    "1966",
                    "1967",
                    "1967",
                    "1967",
                    "1967",
                    "1967",
                    "1967",
                    "1967",
                    "1967",
                    "1967",
                    "1967",
                    "1967",
                    "1967",
                    "1967",
                    "1967",
                    "1967",
                    "1967",
                    "1967",
                    "1967",
                    "1967",
                    "1967",
                    "1967",
                    "1967",
                    "1967",
                    "1967",
                    "1967",
                    "1967",
                    "1967",
                    "1967",
                    "1967",
                    "1967",
                    "1967",
                    "1967",
                    "1967",
                    "1967",
                    "1967",
                    "1967",
                    "1967",
                    "1967",
                    "1967",
                    "1967",
                    "1967",
                    "1967",
                    "1967",
                    "1967",
                    "1967",
                    "1967",
                    "1967",
                    "1967",
                    "1967",
                    "1967",
                    "1967",
                    "1967",
                    "1967",
                    "1967",
                    "1967",
                    "1967",
                    "1967",
                    "1968",
                    "1968",
                    "1968",
                    "1968",
                    "1968",
                    "1968",
                    "1968",
                    "1968",
                    "1968",
                    "1968",
                    "1968",
                    "1968",
                    "1968",
                    "1968",
                    "1968",
                    "1968",
                    "1968",
                    "1968",
                    "1968",
                    "1968",
                    "1968",
                    "1968",
                    "1968",
                    "1968",
                    "1968",
                    "1968",
                    "1968",
                    "1968",
                    "1968",
                    "1968",
                    "1968",
                    "1968",
                    "1968",
                    "1968",
                    "1968",
                    "1968",
                    "1968",
                    "1968",
                    "1968",
                    "1968",
                    "1968",
                    "1968",
                    "1968",
                    "1968",
                    "1968",
                    "1968",
                    "1968",
                    "1968",
                    "1968",
                    "1968",
                    "1968",
                    "1968",
                    "1968",
                    "1968",
                    "1968",
                    "1969",
                    "1969",
                    "1969",
                    "1969",
                    "1969",
                    "1969",
                    "1969",
                    "1969",
                    "1969",
                    "1969",
                    "1969",
                    "1969",
                    "1969",
                    "1969",
                    "1969",
                    "1969",
                    "1969",
                    "1969",
                    "1969",
                    "1969",
                    "1969",
                    "1969",
                    "1969",
                    "1969",
                    "1969",
                    "1969",
                    "1969",
                    "1969",
                    "1969",
                    "1969",
                    "1969",
                    "1969",
                    "1969",
                    "1969",
                    "1969",
                    "1969",
                    "1969",
                    "1969",
                    "1969",
                    "1969",
                    "1969",
                    "1969",
                    "1969",
                    "1969",
                    "1969",
                    "1969",
                    "1969",
                    "1969",
                    "1969",
                    "1969",
                    "1969",
                    "1969",
                    "1969",
                    "1969",
                    "1970",
                    "1970",
                    "1970",
                    "1970",
                    "1970",
                    "1970",
                    "1970",
                    "1970",
                    "1970",
                    "1970",
                    "1970",
                    "1970",
                    "1970",
                    "1970",
                    "1970",
                    "1970",
                    "1970",
                    "1970",
                    "1970",
                    "1970",
                    "1970",
                    "1970",
                    "1970",
                    "1970",
                    "1970",
                    "1970",
                    "1970",
                    "1970",
                    "1970",
                    "1970",
                    "1970",
                    "1970",
                    "1970",
                    "1970",
                    "1970",
                    "1970",
                    "1970",
                    "1970",
                    "1970",
                    "1970",
                    "1970",
                    "1970",
                    "1970",
                    "1970",
                    "1970",
                    "1970",
                    "1971",
                    "1971",
                    "1971",
                    "1971",
                    "1971",
                    "1971",
                    "1971",
                    "1971",
                    "1971",
                    "1971",
                    "1971",
                    "1971",
                    "1971",
                    "1971",
                    "1971",
                    "1971",
                    "1971",
                    "1971",
                    "1971",
                    "1971",
                    "1971",
                    "1971",
                    "1971",
                    "1971",
                    "1971",
                    "1971",
                    "1971",
                    "1971",
                    "1971",
                    "1971",
                    "1971",
                    "1971",
                    "1971",
                    "1971",
                    "1971",
                    "1971",
                    "1971",
                    "1971",
                    "1971",
                    "1971",
                    "1971",
                    "1971",
                    "1971",
                    "1971",
                    "1971",
                    "1971",
                    "1971",
                    "1971",
                    "1971",
                    "1971",
                    "1971",
                    "1971",
                    "1971",
                    "1971",
                    "1971",
                    "1971",
                    "1972",
                    "1972",
                    "1972",
                    "1972",
                    "1972",
                    "1972",
                    "1972",
                    "1972",
                    "1972",
                    "1972",
                    "1972",
                    "1972",
                    "1972",
                    "1972",
                    "1972",
                    "1972",
                    "1972",
                    "1972",
                    "1972",
                    "1972",
                    "1972",
                    "1972",
                    "1972",
                    "1972",
                    "1972",
                    "1972",
                    "1972",
                    "1972",
                    "1972",
                    "1972",
                    "1972",
                    "1972",
                    "1972",
                    "1972",
                    "1972",
                    "1972",
                    "1972",
                    "1972",
                    "1972",
                    "1972",
                    "1972",
                    "1972",
                    "1972",
                    "1972",
                    "1972",
                    "1972",
                    "1972",
                    "1972",
                    "1972",
                    "1972",
                    "1972",
                    "1972",
                    "1972",
                    "1972",
                    "1972",
                    "1972",
                    "1972",
                    "1972",
                    "1972",
                    "1972",
                    "1972",
                    "1972",
                    "1972",
                    "1972",
                    "1972",
                    "1972",
                    "1972",
                    "1972",
                    "1972",
                    "1972",
                    "1972",
                    "1972",
                    "1972",
                    "1972",
                    "1972",
                    "1972",
                    "1972",
                    "1973",
                    "1973",
                    "1973",
                    "1973",
                    "1973",
                    "1973",
                    "1973",
                    "1973",
                    "1973",
                    "1973",
                    "1973",
                    "1973",
                    "1973",
                    "1973",
                    "1973",
                    "1973",
                    "1973",
                    "1973",
                    "1973",
                    "1973",
                    "1973",
                    "1973",
                    "1973",
                    "1973",
                    "1973",
                    "1973",
                    "1973",
                    "1973",
                    "1973",
                    "1973",
                    "1973",
                    "1973",
                    "1973",
                    "1973",
                    "1973",
                    "1973",
                    "1973",
                    "1973",
                    "1973",
                    "1973",
                    "1973",
                    "1973",
                    "1973",
                    "1973",
                    "1973",
                    "1973",
                    "1973",
                    "1973",
                    "1973",
                    "1973",
                    "1973",
                    "1973",
                    "1973",
                    "1973",
                    "1973",
                    "1973",
                    "1973",
                    "1973",
                    "1973",
                    "1973",
                    "1973",
                    "1973",
                    "1973",
                    "1973",
                    "1973",
                    "1973",
                    "1973",
                    "1973",
                    "1973",
                    "1973",
                    "1974",
                    "1974",
                    "1974",
                    "1974",
                    "1974",
                    "1974",
                    "1974",
                    "1974",
                    "1974",
                    "1974",
                    "1974",
                    "1974",
                    "1974",
                    "1974",
                    "1974",
                    "1974",
                    "1974",
                    "1974",
                    "1974",
                    "1974",
                    "1974",
                    "1974",
                    "1974",
                    "1974",
                    "1974",
                    "1974",
                    "1974",
                    "1974",
                    "1974",
                    "1974",
                    "1974",
                    "1974",
                    "1974",
                    "1974",
                    "1974",
                    "1974",
                    "1974",
                    "1974",
                    "1974",
                    "1974",
                    "1974",
                    "1974",
                    "1974",
                    "1974",
                    "1974",
                    "1974",
                    "1974",
                    "1974",
                    "1974",
                    "1974",
                    "1974",
                    "1974",
                    "1974",
                    "1974",
                    "1974",
                    "1974",
                    "1974",
                    "1974",
                    "1974",
                    "1975",
                    "1975",
                    "1975",
                    "1975",
                    "1975",
                    "1975",
                    "1975",
                    "1975",
                    "1975",
                    "1975",
                    "1975",
                    "1975",
                    "1975",
                    "1975",
                    "1975",
                    "1975",
                    "1975",
                    "1975",
                    "1975",
                    "1975",
                    "1975",
                    "1975",
                    "1975",
                    "1975",
                    "1975",
                    "1975",
                    "1975",
                    "1975",
                    "1975",
                    "1975",
                    "1975",
                    "1975",
                    "1975",
                    "1975",
                    "1975",
                    "1975",
                    "1975",
                    "1975",
                    "1975",
                    "1975",
                    "1975",
                    "1975",
                    "1975",
                    "1975",
                    "1975",
                    "1975",
                    "1975",
                    "1975",
                    "1975",
                    "1975",
                    "1975",
                    "1975",
                    "1975",
                    "1975",
                    "1975",
                    "1975",
                    "1975",
                    "1975",
                    "1975",
                    "1976",
                    "1976",
                    "1976",
                    "1976",
                    "1976",
                    "1976",
                    "1976",
                    "1976",
                    "1976",
                    "1976",
                    "1976",
                    "1976",
                    "1976",
                    "1976",
                    "1976",
                    "1976",
                    "1976",
                    "1976",
                    "1976",
                    "1976",
                    "1976",
                    "1976",
                    "1976",
                    "1976",
                    "1976",
                    "1976",
                    "1976",
                    "1976",
                    "1976",
                    "1976",
                    "1976",
                    "1976",
                    "1976",
                    "1976",
                    "1976",
                    "1976",
                    "1976",
                    "1976",
                    "1976",
                    "1976",
                    "1976",
                    "1976",
                    "1976",
                    "1976",
                    "1976",
                    "1976",
                    "1976",
                    "1976",
                    "1976",
                    "1976",
                    "1976",
                    "1976",
                    "1976",
                    "1976",
                    "1976",
                    "1976",
                    "1976",
                    "1976",
                    "1976",
                    "1976",
                    "1976",
                    "1976",
                    "1976",
                    "1976",
                    "1976",
                    "1977",
                    "1977",
                    "1977",
                    "1977",
                    "1977",
                    "1977",
                    "1977",
                    "1977",
                    "1977",
                    "1977",
                    "1977",
                    "1977",
                    "1977",
                    "1977",
                    "1977",
                    "1977",
                    "1977",
                    "1977",
                    "1977",
                    "1977",
                    "1977",
                    "1977",
                    "1977",
                    "1977",
                    "1977",
                    "1977",
                    "1977",
                    "1977",
                    "1977",
                    "1977",
                    "1977",
                    "1977",
                    "1977",
                    "1977",
                    "1977",
                    "1977",
                    "1977",
                    "1977",
                    "1977",
                    "1977",
                    "1977",
                    "1977",
                    "1977",
                    "1977",
                    "1977",
                    "1977",
                    "1977",
                    "1977",
                    "1977",
                    "1977",
                    "1977",
                    "1977",
                    "1977",
                    "1977",
                    "1977",
                    "1977",
                    "1977",
                    "1977",
                    "1977",
                    "1977",
                    "1977",
                    "1977",
                    "1977",
                    "1977",
                    "1977",
                    "1977",
                    "1977",
                    "1977",
                    "1977",
                    "1977",
                    "1978",
                    "1978",
                    "1978",
                    "1978",
                    "1978",
                    "1978",
                    "1978",
                    "1978",
                    "1978",
                    "1978",
                    "1978",
                    "1978",
                    "1978",
                    "1978",
                    "1978",
                    "1978",
                    "1978",
                    "1978",
                    "1978",
                    "1978",
                    "1978",
                    "1978",
                    "1978",
                    "1978",
                    "1978",
                    "1978",
                    "1978",
                    "1978",
                    "1978",
                    "1978",
                    "1978",
                    "1978",
                    "1978",
                    "1978",
                    "1978",
                    "1978",
                    "1978",
                    "1978",
                    "1978",
                    "1978",
                    "1978",
                    "1978",
                    "1978",
                    "1978",
                    "1978",
                    "1978",
                    "1978",
                    "1978",
                    "1978",
                    "1978",
                    "1978",
                    "1978",
                    "1978",
                    "1978",
                    "1978",
                    "1978",
                    "1978",
                    "1978",
                    "1978",
                    "1978",
                    "1978",
                    "1978",
                    "1978",
                    "1978",
                    "1979",
                    "1979",
                    "1979",
                    "1979",
                    "1979",
                    "1979",
                    "1979",
                    "1979",
                    "1979",
                    "1979",
                    "1979",
                    "1979",
                    "1979",
                    "1979",
                    "1979",
                    "1979",
                    "1979",
                    "1979",
                    "1979",
                    "1979",
                    "1979",
                    "1979",
                    "1979",
                    "1979",
                    "1979",
                    "1979",
                    "1979",
                    "1979",
                    "1979",
                    "1979",
                    "1979",
                    "1979",
                    "1979",
                    "1979",
                    "1979",
                    "1979",
                    "1979",
                    "1979",
                    "1979",
                    "1979",
                    "1979",
                    "1979",
                    "1979",
                    "1979",
                    "1979",
                    "1979",
                    "1979",
                    "1979",
                    "1979",
                    "1979",
                    "1979",
                    "1979",
                    "1979",
                    "1979",
                    "1979",
                    "1979",
                    "1979",
                    "1979",
                    "1979",
                    "1979",
                    "1979",
                    "1979",
                    "1979",
                    "1979",
                    "1979",
                    "1979",
                    "1979",
                    "1979",
                    "1979",
                    "1979",
                    "1979",
                    "1979",
                    "1979",
                    "1979",
                    "1979",
                    "1979",
                    "1979",
                    "1979",
                    "1979",
                    "1980",
                    "1980",
                    "1980",
                    "1980",
                    "1980",
                    "1980",
                    "1980",
                    "1980",
                    "1980",
                    "1980",
                    "1980",
                    "1980",
                    "1980",
                    "1980",
                    "1980",
                    "1980",
                    "1980",
                    "1980",
                    "1980",
                    "1980",
                    "1980",
                    "1980",
                    "1980",
                    "1980",
                    "1980",
                    "1980",
                    "1980",
                    "1980",
                    "1980",
                    "1980",
                    "1980",
                    "1980",
                    "1980",
                    "1980",
                    "1980",
                    "1980",
                    "1980",
                    "1980",
                    "1980",
                    "1980",
                    "1980",
                    "1980",
                    "1980",
                    "1980",
                    "1980",
                    "1980",
                    "1980",
                    "1980",
                    "1980",
                    "1980",
                    "1980",
                    "1980",
                    "1980",
                    "1980",
                    "1980",
                    "1980",
                    "1980",
                    "1980",
                    "1980",
                    "1980",
                    "1980",
                    "1980",
                    "1980",
                    "1980",
                    "1980",
                    "1980",
                    "1980",
                    "1980",
                    "1980",
                    "1980",
                    "1980",
                    "1980",
                    "1980",
                    "1980",
                    "1980",
                    "1980",
                    "1981",
                    "1981",
                    "1981",
                    "1981",
                    "1981",
                    "1981",
                    "1981",
                    "1981",
                    "1981",
                    "1981",
                    "1981",
                    "1981",
                    "1981",
                    "1981",
                    "1981",
                    "1981",
                    "1981",
                    "1981",
                    "1981",
                    "1981",
                    "1981",
                    "1981",
                    "1981",
                    "1981",
                    "1981",
                    "1981",
                    "1981",
                    "1981",
                    "1981",
                    "1981",
                    "1981",
                    "1981",
                    "1981",
                    "1981",
                    "1981",
                    "1981",
                    "1981",
                    "1981",
                    "1981",
                    "1981",
                    "1981",
                    "1981",
                    "1981",
                    "1981",
                    "1981",
                    "1981",
                    "1981",
                    "1981",
                    "1981",
                    "1981",
                    "1981",
                    "1981",
                    "1981",
                    "1981",
                    "1981",
                    "1981",
                    "1981",
                    "1981",
                    "1981",
                    "1981",
                    "1981",
                    "1981",
                    "1981",
                    "1981",
                    "1981",
                    "1981",
                    "1981",
                    "1981",
                    "1981",
                    "1981",
                    "1981",
                    "1981",
                    "1981",
                    "1981",
                    "1981",
                    "1981",
                    "1981",
                    "1981",
                    "1981",
                    "1981",
                    "1981",
                    "1981",
                    "1981",
                    "1981",
                    "1981",
                    "1981",
                    "1981",
                    "1981",
                    "1981",
                    "1981",
                    "1981",
                    "1981",
                    "1981",
                    "1982",
                    "1982",
                    "1982",
                    "1982",
                    "1982",
                    "1982",
                    "1982",
                    "1982",
                    "1982",
                    "1982",
                    "1982",
                    "1982",
                    "1982",
                    "1982",
                    "1982",
                    "1982",
                    "1982",
                    "1982",
                    "1982",
                    "1982",
                    "1982",
                    "1982",
                    "1982",
                    "1982",
                    "1982",
                    "1982",
                    "1982",
                    "1982",
                    "1982",
                    "1982",
                    "1982",
                    "1982",
                    "1982",
                    "1982",
                    "1982",
                    "1982",
                    "1982",
                    "1982",
                    "1982",
                    "1982",
                    "1982",
                    "1982",
                    "1982",
                    "1982",
                    "1982",
                    "1982",
                    "1982",
                    "1982",
                    "1982",
                    "1982",
                    "1982",
                    "1982",
                    "1982",
                    "1982",
                    "1982",
                    "1982",
                    "1982",
                    "1982",
                    "1982",
                    "1982",
                    "1982",
                    "1982",
                    "1982",
                    "1982",
                    "1982",
                    "1982",
                    "1982",
                    "1982",
                    "1982",
                    "1982",
                    "1982",
                    "1982",
                    "1982",
                    "1982",
                    "1982",
                    "1982",
                    "1982",
                    "1982",
                    "1982",
                    "1982",
                    "1982",
                    "1982",
                    "1983",
                    "1983",
                    "1983",
                    "1983",
                    "1983",
                    "1983",
                    "1983",
                    "1983",
                    "1983",
                    "1983",
                    "1983",
                    "1983",
                    "1983",
                    "1983",
                    "1983",
                    "1983",
                    "1983",
                    "1983",
                    "1983",
                    "1983",
                    "1983",
                    "1983",
                    "1983",
                    "1983",
                    "1983",
                    "1983",
                    "1983",
                    "1983",
                    "1983",
                    "1983",
                    "1983",
                    "1983",
                    "1983",
                    "1983",
                    "1983",
                    "1983",
                    "1983",
                    "1983",
                    "1983",
                    "1983",
                    "1983",
                    "1983",
                    "1983",
                    "1983",
                    "1983",
                    "1983",
                    "1983",
                    "1983",
                    "1983",
                    "1983",
                    "1983",
                    "1983",
                    "1983",
                    "1983",
                    "1983",
                    "1983",
                    "1983",
                    "1983",
                    "1983",
                    "1983",
                    "1983",
                    "1983",
                    "1983",
                    "1983",
                    "1983",
                    "1983",
                    "1983",
                    "1983",
                    "1983",
                    "1983",
                    "1983",
                    "1983",
                    "1983",
                    "1983",
                    "1983",
                    "1983",
                    "1983",
                    "1983",
                    "1983",
                    "1983",
                    "1983",
                    "1983",
                    "1983",
                    "1983",
                    "1983",
                    "1983",
                    "1983",
                    "1983",
                    "1983",
                    "1983",
                    "1983",
                    "1983",
                    "1983",
                    "1983",
                    "1983",
                    "1983",
                    "1983",
                    "1984",
                    "1984",
                    "1984",
                    "1984",
                    "1984",
                    "1984",
                    "1984",
                    "1984",
                    "1984",
                    "1984",
                    "1984",
                    "1984",
                    "1984",
                    "1984",
                    "1984",
                    "1984",
                    "1984",
                    "1984",
                    "1984",
                    "1984",
                    "1984",
                    "1984",
                    "1984",
                    "1984",
                    "1984",
                    "1984",
                    "1984",
                    "1984",
                    "1984",
                    "1984",
                    "1984",
                    "1984",
                    "1984",
                    "1984",
                    "1984",
                    "1984",
                    "1984",
                    "1984",
                    "1984",
                    "1984",
                    "1984",
                    "1984",
                    "1984",
                    "1984",
                    "1984",
                    "1984",
                    "1984",
                    "1984",
                    "1984",
                    "1984",
                    "1984",
                    "1984",
                    "1984",
                    "1984",
                    "1984",
                    "1984",
                    "1984",
                    "1984",
                    "1984",
                    "1984",
                    "1984",
                    "1984",
                    "1984",
                    "1984",
                    "1984",
                    "1984",
                    "1984",
                    "1984",
                    "1984",
                    "1984",
                    "1984",
                    "1984",
                    "1984",
                    "1984",
                    "1984",
                    "1984",
                    "1984",
                    "1984",
                    "1984",
                    "1984",
                    "1984",
                    "1984",
                    "1984",
                    "1984",
                    "1984",
                    "1984",
                    "1984",
                    "1984",
                    "1984",
                    "1984",
                    "1985",
                    "1985",
                    "1985",
                    "1985",
                    "1985",
                    "1985",
                    "1985",
                    "1985",
                    "1985",
                    "1985",
                    "1985",
                    "1985",
                    "1985",
                    "1985",
                    "1985",
                    "1985",
                    "1985",
                    "1985",
                    "1985",
                    "1985",
                    "1985",
                    "1985",
                    "1985",
                    "1985",
                    "1985",
                    "1985",
                    "1985",
                    "1985",
                    "1985",
                    "1985",
                    "1985",
                    "1985",
                    "1985",
                    "1985",
                    "1985",
                    "1985",
                    "1985",
                    "1985",
                    "1985",
                    "1985",
                    "1985",
                    "1985",
                    "1985",
                    "1985",
                    "1985",
                    "1985",
                    "1985",
                    "1985",
                    "1985",
                    "1985",
                    "1985",
                    "1985",
                    "1985",
                    "1985",
                    "1985",
                    "1985",
                    "1985",
                    "1985",
                    "1985",
                    "1985",
                    "1985",
                    "1985",
                    "1985",
                    "1985",
                    "1985",
                    "1985",
                    "1985",
                    "1985",
                    "1985",
                    "1985",
                    "1985",
                    "1985",
                    "1985",
                    "1985",
                    "1985",
                    "1985",
                    "1985",
                    "1985",
                    "1985",
                    "1985",
                    "1985",
                    "1985",
                    "1985",
                    "1985",
                    "1985",
                    "1985",
                    "1985",
                    "1985",
                    "1985",
                    "1985",
                    "1985",
                    "1985",
                    "1985",
                    "1985",
                    "1985",
                    "1985",
                    "1985",
                    "1985",
                    "1985",
                    "1985",
                    "1985",
                    "1986",
                    "1986",
                    "1986",
                    "1986",
                    "1986",
                    "1986",
                    "1986",
                    "1986",
                    "1986",
                    "1986",
                    "1986",
                    "1986",
                    "1986",
                    "1986",
                    "1986",
                    "1986",
                    "1986",
                    "1986",
                    "1986",
                    "1986",
                    "1986",
                    "1986",
                    "1986",
                    "1986",
                    "1986",
                    "1986",
                    "1986",
                    "1986",
                    "1986",
                    "1986",
                    "1986",
                    "1986",
                    "1986",
                    "1986",
                    "1986",
                    "1986",
                    "1986",
                    "1986",
                    "1986",
                    "1986",
                    "1986",
                    "1986",
                    "1986",
                    "1986",
                    "1986",
                    "1986",
                    "1986",
                    "1986",
                    "1986",
                    "1986",
                    "1986",
                    "1986",
                    "1986",
                    "1986",
                    "1986",
                    "1986",
                    "1986",
                    "1986",
                    "1986",
                    "1986",
                    "1986",
                    "1986",
                    "1986",
                    "1986",
                    "1986",
                    "1986",
                    "1986",
                    "1986",
                    "1986",
                    "1986",
                    "1986",
                    "1986",
                    "1986",
                    "1986",
                    "1986",
                    "1986",
                    "1986",
                    "1986",
                    "1986",
                    "1986",
                    "1986",
                    "1986",
                    "1986",
                    "1986",
                    "1986",
                    "1986",
                    "1986",
                    "1986",
                    "1986",
                    "1986",
                    "1986",
                    "1986",
                    "1986",
                    "1986",
                    "1986",
                    "1986",
                    "1986",
                    "1986",
                    "1986",
                    "1986",
                    "1986",
                    "1986",
                    "1986",
                    "1986",
                    "1986",
                    "1986",
                    "1986",
                    "1986",
                    "1986",
                    "1986",
                    "1986",
                    "1986",
                    "1986",
                    "1986",
                    "1986",
                    "1986",
                    "1987",
                    "1987",
                    "1987",
                    "1987",
                    "1987",
                    "1987",
                    "1987",
                    "1987",
                    "1987",
                    "1987",
                    "1987",
                    "1987",
                    "1987",
                    "1987",
                    "1987",
                    "1987",
                    "1987",
                    "1987",
                    "1987",
                    "1987",
                    "1987",
                    "1987",
                    "1987",
                    "1987",
                    "1987",
                    "1987",
                    "1987",
                    "1987",
                    "1987",
                    "1987",
                    "1987",
                    "1987",
                    "1987",
                    "1987",
                    "1987",
                    "1987",
                    "1987",
                    "1987",
                    "1987",
                    "1987",
                    "1987",
                    "1987",
                    "1987",
                    "1987",
                    "1987",
                    "1987",
                    "1987",
                    "1987",
                    "1987",
                    "1987",
                    "1987",
                    "1987",
                    "1987",
                    "1987",
                    "1987",
                    "1987",
                    "1987",
                    "1987",
                    "1987",
                    "1987",
                    "1987",
                    "1987",
                    "1987",
                    "1987",
                    "1987",
                    "1987",
                    "1987",
                    "1987",
                    "1987",
                    "1987",
                    "1987",
                    "1987",
                    "1987",
                    "1987",
                    "1987",
                    "1987",
                    "1987",
                    "1987",
                    "1987",
                    "1987",
                    "1987",
                    "1987",
                    "1987",
                    "1987",
                    "1987",
                    "1987",
                    "1987",
                    "1987",
                    "1987",
                    "1987",
                    "1987",
                    "1987",
                    "1987",
                    "1987",
                    "1987",
                    "1987",
                    "1987",
                    "1987",
                    "1987",
                    "1987",
                    "1987",
                    "1987",
                    "1987",
                    "1987",
                    "1987",
                    "1987",
                    "1987",
                    "1987",
                    "1987",
                    "1987",
                    "1987",
                    "1987",
                    "1987",
                    "1987",
                    "1987",
                    "1987",
                    "1987",
                    "1988",
                    "1988",
                    "1988",
                    "1988",
                    "1988",
                    "1988",
                    "1988",
                    "1988",
                    "1988",
                    "1988",
                    "1988",
                    "1988",
                    "1988",
                    "1988",
                    "1988",
                    "1988",
                    "1988",
                    "1988",
                    "1988",
                    "1988",
                    "1988",
                    "1988",
                    "1988",
                    "1988",
                    "1988",
                    "1988",
                    "1988",
                    "1988",
                    "1988",
                    "1988",
                    "1988",
                    "1988",
                    "1988",
                    "1988",
                    "1988",
                    "1988",
                    "1988",
                    "1988",
                    "1988",
                    "1988",
                    "1988",
                    "1988",
                    "1988",
                    "1988",
                    "1988",
                    "1988",
                    "1988",
                    "1988",
                    "1988",
                    "1988",
                    "1988",
                    "1988",
                    "1988",
                    "1988",
                    "1988",
                    "1988",
                    "1988",
                    "1988",
                    "1988",
                    "1988",
                    "1988",
                    "1988",
                    "1988",
                    "1988",
                    "1988",
                    "1988",
                    "1988",
                    "1988",
                    "1988",
                    "1988",
                    "1988",
                    "1988",
                    "1988",
                    "1988",
                    "1988",
                    "1988",
                    "1988",
                    "1988",
                    "1988",
                    "1988",
                    "1988",
                    "1988",
                    "1988",
                    "1988",
                    "1988",
                    "1988",
                    "1988",
                    "1988",
                    "1988",
                    "1988",
                    "1988",
                    "1988",
                    "1988",
                    "1988",
                    "1988",
                    "1988",
                    "1988",
                    "1988",
                    "1988",
                    "1988",
                    "1988",
                    "1988",
                    "1988",
                    "1988",
                    "1988",
                    "1988",
                    "1988",
                    "1988",
                    "1988",
                    "1988",
                    "1988",
                    "1988",
                    "1988",
                    "1988",
                    "1988",
                    "1988",
                    "1988",
                    "1988",
                    "1988",
                    "1988",
                    "1989",
                    "1989",
                    "1989",
                    "1989",
                    "1989",
                    "1989",
                    "1989",
                    "1989",
                    "1989",
                    "1989",
                    "1989",
                    "1989",
                    "1989",
                    "1989",
                    "1989",
                    "1989",
                    "1989",
                    "1989",
                    "1989",
                    "1989",
                    "1989",
                    "1989",
                    "1989",
                    "1989",
                    "1989",
                    "1989",
                    "1989",
                    "1989",
                    "1989",
                    "1989",
                    "1989",
                    "1989",
                    "1989",
                    "1989",
                    "1989",
                    "1989",
                    "1989",
                    "1989",
                    "1989",
                    "1989",
                    "1989",
                    "1989",
                    "1989",
                    "1989",
                    "1989",
                    "1989",
                    "1989",
                    "1989",
                    "1989",
                    "1989",
                    "1989",
                    "1989",
                    "1989",
                    "1989",
                    "1989",
                    "1989",
                    "1989",
                    "1989",
                    "1989",
                    "1989",
                    "1989",
                    "1989",
                    "1989",
                    "1989",
                    "1989",
                    "1989",
                    "1989",
                    "1989",
                    "1989",
                    "1989",
                    "1989",
                    "1989",
                    "1989",
                    "1989",
                    "1989",
                    "1989",
                    "1989",
                    "1989",
                    "1989",
                    "1989",
                    "1989",
                    "1989",
                    "1989",
                    "1989",
                    "1989",
                    "1989",
                    "1989",
                    "1989",
                    "1989",
                    "1989",
                    "1989",
                    "1989",
                    "1989",
                    "1989",
                    "1989",
                    "1989",
                    "1989",
                    "1989",
                    "1989",
                    "1989",
                    "1989",
                    "1989",
                    "1989",
                    "1989",
                    "1989",
                    "1989",
                    "1989",
                    "1989",
                    "1989",
                    "1989",
                    "1989",
                    "1989",
                    "1989",
                    "1989",
                    "1989",
                    "1989",
                    "1989",
                    "1989",
                    "1989",
                    "1989",
                    "1989",
                    "1989",
                    "1989",
                    "1989",
                    "1989",
                    "1989",
                    "1989",
                    "1989",
                    "1989",
                    "1990",
                    "1990",
                    "1990",
                    "1990",
                    "1990",
                    "1990",
                    "1990",
                    "1990",
                    "1990",
                    "1990",
                    "1990",
                    "1990",
                    "1990",
                    "1990",
                    "1990",
                    "1990",
                    "1990",
                    "1990",
                    "1990",
                    "1990",
                    "1990",
                    "1990",
                    "1990",
                    "1990",
                    "1990",
                    "1990",
                    "1990",
                    "1990",
                    "1990",
                    "1990",
                    "1990",
                    "1990",
                    "1990",
                    "1990",
                    "1990",
                    "1990",
                    "1990",
                    "1990",
                    "1990",
                    "1990",
                    "1990",
                    "1990",
                    "1990",
                    "1990",
                    "1990",
                    "1990",
                    "1990",
                    "1990",
                    "1990",
                    "1990",
                    "1990",
                    "1990",
                    "1990",
                    "1990",
                    "1990",
                    "1990",
                    "1990",
                    "1990",
                    "1990",
                    "1990",
                    "1990",
                    "1990",
                    "1990",
                    "1990",
                    "1990",
                    "1990",
                    "1990",
                    "1990",
                    "1990",
                    "1990",
                    "1990",
                    "1990",
                    "1990",
                    "1990",
                    "1990",
                    "1990",
                    "1990",
                    "1990",
                    "1990",
                    "1990",
                    "1990",
                    "1990",
                    "1990",
                    "1990",
                    "1990",
                    "1990",
                    "1990",
                    "1990",
                    "1990",
                    "1990",
                    "1990",
                    "1990",
                    "1990",
                    "1990",
                    "1990",
                    "1990",
                    "1990",
                    "1990",
                    "1990",
                    "1990",
                    "1990",
                    "1990",
                    "1990",
                    "1990",
                    "1990",
                    "1990",
                    "1990",
                    "1990",
                    "1990",
                    "1990",
                    "1990",
                    "1990",
                    "1990",
                    "1990",
                    "1990",
                    "1990",
                    "1990",
                    "1990",
                    "1990",
                    "1990",
                    "1990",
                    "1990",
                    "1990",
                    "1990",
                    "1990",
                    "1990",
                    "1990",
                    "1990",
                    "1990",
                    "1990",
                    "1990",
                    "1991",
                    "1991",
                    "1991",
                    "1991",
                    "1991",
                    "1991",
                    "1991",
                    "1991",
                    "1991",
                    "1991",
                    "1991",
                    "1991",
                    "1991",
                    "1991",
                    "1991",
                    "1991",
                    "1991",
                    "1991",
                    "1991",
                    "1991",
                    "1991",
                    "1991",
                    "1991",
                    "1991",
                    "1991",
                    "1991",
                    "1991",
                    "1991",
                    "1991",
                    "1991",
                    "1991",
                    "1991",
                    "1991",
                    "1991",
                    "1991",
                    "1991",
                    "1991",
                    "1991",
                    "1991",
                    "1991",
                    "1991",
                    "1991",
                    "1991",
                    "1991",
                    "1991",
                    "1991",
                    "1991",
                    "1991",
                    "1991",
                    "1991",
                    "1991",
                    "1991",
                    "1991",
                    "1991",
                    "1991",
                    "1991",
                    "1991",
                    "1991",
                    "1991",
                    "1991",
                    "1991",
                    "1991",
                    "1991",
                    "1991",
                    "1991",
                    "1991",
                    "1991",
                    "1991",
                    "1991",
                    "1991",
                    "1991",
                    "1991",
                    "1991",
                    "1991",
                    "1991",
                    "1991",
                    "1991",
                    "1991",
                    "1991",
                    "1991",
                    "1991",
                    "1991",
                    "1991",
                    "1991",
                    "1991",
                    "1991",
                    "1991",
                    "1991",
                    "1991",
                    "1991",
                    "1991",
                    "1991",
                    "1991",
                    "1991",
                    "1991",
                    "1991",
                    "1991",
                    "1991",
                    "1991",
                    "1991",
                    "1991",
                    "1991",
                    "1991",
                    "1991",
                    "1991",
                    "1992",
                    "1992",
                    "1992",
                    "1992",
                    "1992",
                    "1992",
                    "1992",
                    "1992",
                    "1992",
                    "1992",
                    "1992",
                    "1992",
                    "1992",
                    "1992",
                    "1992",
                    "1992",
                    "1992",
                    "1992",
                    "1992",
                    "1992",
                    "1992",
                    "1992",
                    "1992",
                    "1992",
                    "1992",
                    "1992",
                    "1992",
                    "1992",
                    "1992",
                    "1992",
                    "1992",
                    "1992",
                    "1992",
                    "1992",
                    "1992",
                    "1992",
                    "1992",
                    "1992",
                    "1992",
                    "1992",
                    "1992",
                    "1992",
                    "1992",
                    "1992",
                    "1992",
                    "1992",
                    "1992",
                    "1992",
                    "1992",
                    "1992",
                    "1992",
                    "1992",
                    "1992",
                    "1992",
                    "1992",
                    "1992",
                    "1992",
                    "1992",
                    "1992",
                    "1992",
                    "1992",
                    "1992",
                    "1992",
                    "1992",
                    "1992",
                    "1992",
                    "1992",
                    "1992",
                    "1992",
                    "1992",
                    "1992",
                    "1992",
                    "1992",
                    "1992",
                    "1992",
                    "1992",
                    "1992",
                    "1992",
                    "1992",
                    "1992",
                    "1992",
                    "1992",
                    "1992",
                    "1992",
                    "1992",
                    "1992",
                    "1992",
                    "1992",
                    "1992",
                    "1992",
                    "1992",
                    "1992",
                    "1992",
                    "1992",
                    "1992",
                    "1992",
                    "1992",
                    "1992",
                    "1992",
                    "1992",
                    "1992",
                    "1992",
                    "1992",
                    "1992",
                    "1992",
                    "1992",
                    "1992",
                    "1992",
                    "1992",
                    "1992",
                    "1992",
                    "1992",
                    "1992",
                    "1992",
                    "1992",
                    "1992",
                    "1992",
                    "1992",
                    "1992",
                    "1992",
                    "1992",
                    "1992",
                    "1992",
                    "1992",
                    "1992",
                    "1992",
                    "1992",
                    "1993",
                    "1993",
                    "1993",
                    "1993",
                    "1993",
                    "1993",
                    "1993",
                    "1993",
                    "1993",
                    "1993",
                    "1993",
                    "1993",
                    "1993",
                    "1993",
                    "1993",
                    "1993",
                    "1993",
                    "1993",
                    "1993",
                    "1993",
                    "1993",
                    "1993",
                    "1993",
                    "1993",
                    "1993",
                    "1993",
                    "1993",
                    "1993",
                    "1993",
                    "1993",
                    "1993",
                    "1993",
                    "1993",
                    "1993",
                    "1993",
                    "1993",
                    "1993",
                    "1993",
                    "1993",
                    "1993",
                    "1993",
                    "1993",
                    "1993",
                    "1993",
                    "1993",
                    "1993",
                    "1993",
                    "1993",
                    "1993",
                    "1993",
                    "1993",
                    "1993",
                    "1993",
                    "1993",
                    "1993",
                    "1993",
                    "1993",
                    "1993",
                    "1993",
                    "1993",
                    "1993",
                    "1993",
                    "1993",
                    "1993",
                    "1993",
                    "1993",
                    "1993",
                    "1993",
                    "1993",
                    "1993",
                    "1993",
                    "1993",
                    "1993",
                    "1993",
                    "1993",
                    "1993",
                    "1993",
                    "1993",
                    "1993",
                    "1993",
                    "1993",
                    "1993",
                    "1993",
                    "1993",
                    "1993",
                    "1993",
                    "1993",
                    "1993",
                    "1993",
                    "1993",
                    "1993",
                    "1993",
                    "1993",
                    "1993",
                    "1993",
                    "1993",
                    "1993",
                    "1993",
                    "1993",
                    "1993",
                    "1993",
                    "1993",
                    "1993",
                    "1993",
                    "1993",
                    "1993",
                    "1993",
                    "1993",
                    "1993",
                    "1993",
                    "1993",
                    "1993",
                    "1993",
                    "1993",
                    "1993",
                    "1993",
                    "1993",
                    "1993",
                    "1993",
                    "1993",
                    "1993",
                    "1993",
                    "1993",
                    "1993",
                    "1993",
                    "1993",
                    "1993",
                    "1993",
                    "1993",
                    "1993",
                    "1993",
                    "1993",
                    "1993",
                    "1993",
                    "1993",
                    "1993",
                    "1993",
                    "1993",
                    "1993",
                    "1993",
                    "1994",
                    "1994",
                    "1994",
                    "1994",
                    "1994",
                    "1994",
                    "1994",
                    "1994",
                    "1994",
                    "1994",
                    "1994",
                    "1994",
                    "1994",
                    "1994",
                    "1994",
                    "1994",
                    "1994",
                    "1994",
                    "1994",
                    "1994",
                    "1994",
                    "1994",
                    "1994",
                    "1994",
                    "1994",
                    "1994",
                    "1994",
                    "1994",
                    "1994",
                    "1994",
                    "1994",
                    "1994",
                    "1994",
                    "1994",
                    "1994",
                    "1994",
                    "1994",
                    "1994",
                    "1994",
                    "1994",
                    "1994",
                    "1994",
                    "1994",
                    "1994",
                    "1994",
                    "1994",
                    "1994",
                    "1994",
                    "1994",
                    "1994",
                    "1994",
                    "1994",
                    "1994",
                    "1994",
                    "1994",
                    "1994",
                    "1994",
                    "1994",
                    "1994",
                    "1994",
                    "1994",
                    "1994",
                    "1994",
                    "1994",
                    "1994",
                    "1994",
                    "1994",
                    "1994",
                    "1994",
                    "1994",
                    "1994",
                    "1994",
                    "1994",
                    "1994",
                    "1994",
                    "1994",
                    "1994",
                    "1994",
                    "1994",
                    "1994",
                    "1994",
                    "1994",
                    "1994",
                    "1994",
                    "1994",
                    "1994",
                    "1994",
                    "1994",
                    "1994",
                    "1994",
                    "1994",
                    "1994",
                    "1994",
                    "1994",
                    "1994",
                    "1994",
                    "1994",
                    "1994",
                    "1994",
                    "1994",
                    "1994",
                    "1994",
                    "1994",
                    "1994",
                    "1994",
                    "1994",
                    "1994",
                    "1994",
                    "1994",
                    "1994",
                    "1994",
                    "1994",
                    "1994",
                    "1994",
                    "1994",
                    "1994",
                    "1994",
                    "1994",
                    "1994",
                    "1994",
                    "1994",
                    "1994",
                    "1994",
                    "1994",
                    "1994",
                    "1994",
                    "1994",
                    "1994",
                    "1994",
                    "1994",
                    "1994",
                    "1994",
                    "1994",
                    "1994",
                    "1994",
                    "1994",
                    "1994",
                    "1994",
                    "1994",
                    "1994",
                    "1995",
                    "1995",
                    "1995",
                    "1995",
                    "1995",
                    "1995",
                    "1995",
                    "1995",
                    "1995",
                    "1995",
                    "1995",
                    "1995",
                    "1995",
                    "1995",
                    "1995",
                    "1995",
                    "1995",
                    "1995",
                    "1995",
                    "1995",
                    "1995",
                    "1995",
                    "1995",
                    "1995",
                    "1995",
                    "1995",
                    "1995",
                    "1995",
                    "1995",
                    "1995",
                    "1995",
                    "1995",
                    "1995",
                    "1995",
                    "1995",
                    "1995",
                    "1995",
                    "1995",
                    "1995",
                    "1995",
                    "1995",
                    "1995",
                    "1995",
                    "1995",
                    "1995",
                    "1995",
                    "1995",
                    "1995",
                    "1995",
                    "1995",
                    "1995",
                    "1995",
                    "1995",
                    "1995",
                    "1995",
                    "1995",
                    "1995",
                    "1995",
                    "1995",
                    "1995",
                    "1995",
                    "1995",
                    "1995",
                    "1995",
                    "1995",
                    "1995",
                    "1995",
                    "1995",
                    "1995",
                    "1995",
                    "1995",
                    "1995",
                    "1995",
                    "1995",
                    "1995",
                    "1995",
                    "1995",
                    "1995",
                    "1995",
                    "1995",
                    "1995",
                    "1995",
                    "1995",
                    "1995",
                    "1995",
                    "1995",
                    "1995",
                    "1995",
                    "1995",
                    "1995",
                    "1995",
                    "1995",
                    "1995",
                    "1995",
                    "1995",
                    "1995",
                    "1995",
                    "1995",
                    "1995",
                    "1995",
                    "1995",
                    "1995",
                    "1995",
                    "1995",
                    "1995",
                    "1995",
                    "1995",
                    "1995",
                    "1995",
                    "1995",
                    "1995",
                    "1995",
                    "1995",
                    "1995",
                    "1995",
                    "1995",
                    "1995",
                    "1995",
                    "1995",
                    "1995",
                    "1995",
                    "1995",
                    "1995",
                    "1995",
                    "1995",
                    "1995",
                    "1995",
                    "1995",
                    "1995",
                    "1995",
                    "1995",
                    "1995",
                    "1995",
                    "1995",
                    "1995",
                    "1995",
                    "1995",
                    "1995",
                    "1995",
                    "1995",
                    "1995",
                    "1996",
                    "1996",
                    "1996",
                    "1996",
                    "1996",
                    "1996",
                    "1996",
                    "1996",
                    "1996",
                    "1996",
                    "1996",
                    "1996",
                    "1996",
                    "1996",
                    "1996",
                    "1996",
                    "1996",
                    "1996",
                    "1996",
                    "1996",
                    "1996",
                    "1996",
                    "1996",
                    "1996",
                    "1996",
                    "1996",
                    "1996",
                    "1996",
                    "1996",
                    "1996",
                    "1996",
                    "1996",
                    "1996",
                    "1996",
                    "1996",
                    "1996",
                    "1996",
                    "1996",
                    "1996",
                    "1996",
                    "1996",
                    "1996",
                    "1996",
                    "1996",
                    "1996",
                    "1996",
                    "1996",
                    "1996",
                    "1996",
                    "1996",
                    "1996",
                    "1996",
                    "1996",
                    "1996",
                    "1996",
                    "1996",
                    "1996",
                    "1996",
                    "1996",
                    "1996",
                    "1996",
                    "1996",
                    "1996",
                    "1996",
                    "1996",
                    "1996",
                    "1996",
                    "1996",
                    "1996",
                    "1996",
                    "1996",
                    "1996",
                    "1996",
                    "1996",
                    "1996",
                    "1996",
                    "1996",
                    "1996",
                    "1996",
                    "1996",
                    "1996",
                    "1996",
                    "1996",
                    "1996",
                    "1996",
                    "1996",
                    "1996",
                    "1996",
                    "1996",
                    "1996",
                    "1996",
                    "1996",
                    "1996",
                    "1996",
                    "1996",
                    "1996",
                    "1996",
                    "1996",
                    "1996",
                    "1996",
                    "1996",
                    "1996",
                    "1996",
                    "1996",
                    "1996",
                    "1996",
                    "1996",
                    "1996",
                    "1996",
                    "1996",
                    "1996",
                    "1996",
                    "1996",
                    "1996",
                    "1996",
                    "1996",
                    "1996",
                    "1996",
                    "1996",
                    "1996",
                    "1996",
                    "1996",
                    "1996",
                    "1996",
                    "1996",
                    "1996",
                    "1996",
                    "1996",
                    "1996",
                    "1996",
                    "1996",
                    "1996",
                    "1996",
                    "1996",
                    "1996",
                    "1997",
                    "1997",
                    "1997",
                    "1997",
                    "1997",
                    "1997",
                    "1997",
                    "1997",
                    "1997",
                    "1997",
                    "1997",
                    "1997",
                    "1997",
                    "1997",
                    "1997",
                    "1997",
                    "1997",
                    "1997",
                    "1997",
                    "1997",
                    "1997",
                    "1997",
                    "1997",
                    "1997",
                    "1997",
                    "1997",
                    "1997",
                    "1997",
                    "1997",
                    "1997",
                    "1997",
                    "1997",
                    "1997",
                    "1997",
                    "1997",
                    "1997",
                    "1997",
                    "1997",
                    "1997",
                    "1997",
                    "1997",
                    "1997",
                    "1997",
                    "1997",
                    "1997",
                    "1997",
                    "1997",
                    "1997",
                    "1997",
                    "1997",
                    "1997",
                    "1997",
                    "1997",
                    "1997",
                    "1997",
                    "1997",
                    "1997",
                    "1997",
                    "1997",
                    "1997",
                    "1997",
                    "1997",
                    "1997",
                    "1997",
                    "1997",
                    "1997",
                    "1997",
                    "1997",
                    "1997",
                    "1997",
                    "1997",
                    "1997",
                    "1997",
                    "1997",
                    "1997",
                    "1997",
                    "1997",
                    "1997",
                    "1997",
                    "1997",
                    "1997",
                    "1997",
                    "1997",
                    "1997",
                    "1997",
                    "1997",
                    "1997",
                    "1997",
                    "1997",
                    "1997",
                    "1997",
                    "1997",
                    "1997",
                    "1997",
                    "1997",
                    "1997",
                    "1997",
                    "1997",
                    "1997",
                    "1997",
                    "1997",
                    "1997",
                    "1997",
                    "1997",
                    "1997",
                    "1997",
                    "1997",
                    "1997",
                    "1997",
                    "1997",
                    "1997",
                    "1997",
                    "1997",
                    "1997",
                    "1997",
                    "1997",
                    "1997",
                    "1997",
                    "1997",
                    "1997",
                    "1997",
                    "1997",
                    "1997",
                    "1997",
                    "1997",
                    "1997",
                    "1997",
                    "1997",
                    "1997",
                    "1997",
                    "1997",
                    "1997",
                    "1997",
                    "1997",
                    "1997",
                    "1997",
                    "1997",
                    "1997",
                    "1997",
                    "1997",
                    "1997",
                    "1997",
                    "1997",
                    "1997",
                    "1997",
                    "1997",
                    "1997",
                    "1997",
                    "1997",
                    "1997",
                    "1997",
                    "1997",
                    "1997",
                    "1997",
                    "1997",
                    "1997",
                    "1997",
                    "1997",
                    "1997",
                    "1998",
                    "1998",
                    "1998",
                    "1998",
                    "1998",
                    "1998",
                    "1998",
                    "1998",
                    "1998",
                    "1998",
                    "1998",
                    "1998",
                    "1998",
                    "1998",
                    "1998",
                    "1998",
                    "1998",
                    "1998",
                    "1998",
                    "1998",
                    "1998",
                    "1998",
                    "1998",
                    "1998",
                    "1998",
                    "1998",
                    "1998",
                    "1998",
                    "1998",
                    "1998",
                    "1998",
                    "1998",
                    "1998",
                    "1998",
                    "1998",
                    "1998",
                    "1998",
                    "1998",
                    "1998",
                    "1998",
                    "1998",
                    "1998",
                    "1998",
                    "1998",
                    "1998",
                    "1998",
                    "1998",
                    "1998",
                    "1998",
                    "1998",
                    "1998",
                    "1998",
                    "1998",
                    "1998",
                    "1998",
                    "1998",
                    "1998",
                    "1998",
                    "1998",
                    "1998",
                    "1998",
                    "1998",
                    "1998",
                    "1998",
                    "1998",
                    "1998",
                    "1998",
                    "1998",
                    "1998",
                    "1998",
                    "1998",
                    "1998",
                    "1998",
                    "1998",
                    "1998",
                    "1998",
                    "1998",
                    "1998",
                    "1998",
                    "1998",
                    "1998",
                    "1998",
                    "1998",
                    "1998",
                    "1998",
                    "1998",
                    "1998",
                    "1998",
                    "1998",
                    "1998",
                    "1998",
                    "1998",
                    "1998",
                    "1998",
                    "1998",
                    "1998",
                    "1998",
                    "1998",
                    "1998",
                    "1998",
                    "1998",
                    "1998",
                    "1998",
                    "1998",
                    "1998",
                    "1998",
                    "1998",
                    "1998",
                    "1998",
                    "1998",
                    "1998",
                    "1998",
                    "1998",
                    "1998",
                    "1998",
                    "1998",
                    "1998",
                    "1998",
                    "1998",
                    "1998",
                    "1998",
                    "1998",
                    "1998",
                    "1998",
                    "1998",
                    "1998",
                    "1998",
                    "1998",
                    "1998",
                    "1998",
                    "1998",
                    "1998",
                    "1998",
                    "1998",
                    "1998",
                    "1998",
                    "1998",
                    "1998",
                    "1998",
                    "1998",
                    "1998",
                    "1998",
                    "1998",
                    "1998",
                    "1998",
                    "1998",
                    "1998",
                    "1998",
                    "1998",
                    "1998",
                    "1998",
                    "1998",
                    "1998",
                    "1998",
                    "1998",
                    "1998",
                    "1998",
                    "1998",
                    "1998",
                    "1998",
                    "1998",
                    "1998",
                    "1998",
                    "1998",
                    "1998",
                    "1998",
                    "1998",
                    "1998",
                    "1998",
                    "1999",
                    "1999",
                    "1999",
                    "1999",
                    "1999",
                    "1999",
                    "1999",
                    "1999",
                    "1999",
                    "1999",
                    "1999",
                    "1999",
                    "1999",
                    "1999",
                    "1999",
                    "1999",
                    "1999",
                    "1999",
                    "1999",
                    "1999",
                    "1999",
                    "1999",
                    "1999",
                    "1999",
                    "1999",
                    "1999",
                    "1999",
                    "1999",
                    "1999",
                    "1999",
                    "1999",
                    "1999",
                    "1999",
                    "1999",
                    "1999",
                    "1999",
                    "1999",
                    "1999",
                    "1999",
                    "1999",
                    "1999",
                    "1999",
                    "1999",
                    "1999",
                    "1999",
                    "1999",
                    "1999",
                    "1999",
                    "1999",
                    "1999",
                    "1999",
                    "1999",
                    "1999",
                    "1999",
                    "1999",
                    "1999",
                    "1999",
                    "1999",
                    "1999",
                    "1999",
                    "1999",
                    "1999",
                    "1999",
                    "1999",
                    "1999",
                    "1999",
                    "1999",
                    "1999",
                    "1999",
                    "1999",
                    "1999",
                    "1999",
                    "1999",
                    "1999",
                    "1999",
                    "1999",
                    "1999",
                    "1999",
                    "1999",
                    "1999",
                    "1999",
                    "1999",
                    "1999",
                    "1999",
                    "1999",
                    "1999",
                    "1999",
                    "1999",
                    "1999",
                    "1999",
                    "1999",
                    "1999",
                    "1999",
                    "1999",
                    "1999",
                    "1999",
                    "1999",
                    "1999",
                    "1999",
                    "1999",
                    "1999",
                    "1999",
                    "1999",
                    "1999",
                    "1999",
                    "1999",
                    "1999",
                    "1999",
                    "1999",
                    "1999",
                    "1999",
                    "1999",
                    "1999",
                    "1999",
                    "1999",
                    "1999",
                    "1999",
                    "1999",
                    "1999",
                    "1999",
                    "1999",
                    "1999",
                    "1999",
                    "1999",
                    "1999",
                    "1999",
                    "1999",
                    "1999",
                    "1999",
                    "1999",
                    "1999",
                    "1999",
                    "1999",
                    "1999",
                    "1999",
                    "1999",
                    "1999",
                    "1999",
                    "1999",
                    "1999",
                    "1999",
                    "1999",
                    "1999",
                    "1999",
                    "1999",
                    "1999",
                    "1999",
                    "1999",
                    "1999",
                    "1999",
                    "1999",
                    "1999",
                    "1999",
                    "1999",
                    "1999",
                    "1999",
                    "2000",
                    "2000",
                    "2000",
                    "2000",
                    "2000",
                    "2000",
                    "2000",
                    "2000",
                    "2000",
                    "2000",
                    "2000",
                    "2000",
                    "2000",
                    "2000",
                    "2000",
                    "2000",
                    "2000",
                    "2000",
                    "2000",
                    "2000",
                    "2000",
                    "2000",
                    "2000",
                    "2000",
                    "2000",
                    "2000",
                    "2000",
                    "2000",
                    "2000",
                    "2000",
                    "2000",
                    "2000",
                    "2000",
                    "2000",
                    "2000",
                    "2000",
                    "2000",
                    "2000",
                    "2000",
                    "2000",
                    "2000",
                    "2000",
                    "2000",
                    "2000",
                    "2000",
                    "2000",
                    "2000",
                    "2000",
                    "2000",
                    "2000",
                    "2000",
                    "2000",
                    "2000",
                    "2000",
                    "2000",
                    "2000",
                    "2000",
                    "2000",
                    "2000",
                    "2000",
                    "2000",
                    "2000",
                    "2000",
                    "2000",
                    "2000",
                    "2000",
                    "2000",
                    "2000",
                    "2000",
                    "2000",
                    "2000",
                    "2000",
                    "2000",
                    "2000",
                    "2000",
                    "2000",
                    "2000",
                    "2000",
                    "2000",
                    "2000",
                    "2000",
                    "2000",
                    "2000",
                    "2000",
                    "2000",
                    "2000",
                    "2000",
                    "2000",
                    "2000",
                    "2000",
                    "2000",
                    "2000",
                    "2000",
                    "2000",
                    "2000",
                    "2000",
                    "2000",
                    "2000",
                    "2000",
                    "2000",
                    "2000",
                    "2000",
                    "2000",
                    "2000",
                    "2000",
                    "2000",
                    "2000",
                    "2000",
                    "2000",
                    "2000",
                    "2000",
                    "2000",
                    "2000",
                    "2000",
                    "2000",
                    "2000",
                    "2000",
                    "2000",
                    "2000",
                    "2000",
                    "2000",
                    "2000",
                    "2000",
                    "2000",
                    "2000",
                    "2000",
                    "2000",
                    "2000",
                    "2000",
                    "2000",
                    "2000",
                    "2000",
                    "2000",
                    "2000",
                    "2000",
                    "2000",
                    "2000",
                    "2000",
                    "2000",
                    "2000",
                    "2000",
                    "2000",
                    "2000",
                    "2000",
                    "2000",
                    "2000",
                    "2000",
                    "2000",
                    "2000",
                    "2000",
                    "2000",
                    "2000",
                    "2000",
                    "2000",
                    "2000",
                    "2000",
                    "2000",
                    "2000",
                    "2000",
                    "2000",
                    "2000",
                    "2000",
                    "2000",
                    "2000",
                    "2000",
                    "2000",
                    "2000",
                    "2000",
                    "2000",
                    "2000",
                    "2000",
                    "2000",
                    "2000",
                    "2000",
                    "2000",
                    "2000",
                    "2001",
                    "2001",
                    "2001",
                    "2001",
                    "2001",
                    "2001",
                    "2001",
                    "2001",
                    "2001",
                    "2001",
                    "2001",
                    "2001",
                    "2001",
                    "2001",
                    "2001",
                    "2001",
                    "2001",
                    "2001",
                    "2001",
                    "2001",
                    "2001",
                    "2001",
                    "2001",
                    "2001",
                    "2001",
                    "2001",
                    "2001",
                    "2001",
                    "2001",
                    "2001",
                    "2001",
                    "2001",
                    "2001",
                    "2001",
                    "2001",
                    "2001",
                    "2001",
                    "2001",
                    "2001",
                    "2001",
                    "2001",
                    "2001",
                    "2001",
                    "2001",
                    "2001",
                    "2001",
                    "2001",
                    "2001",
                    "2001",
                    "2001",
                    "2001",
                    "2001",
                    "2001",
                    "2001",
                    "2001",
                    "2001",
                    "2001",
                    "2001",
                    "2001",
                    "2001",
                    "2001",
                    "2001",
                    "2001",
                    "2001",
                    "2001",
                    "2001",
                    "2001",
                    "2001",
                    "2001",
                    "2001",
                    "2001",
                    "2001",
                    "2001",
                    "2001",
                    "2001",
                    "2001",
                    "2001",
                    "2001",
                    "2001",
                    "2001",
                    "2001",
                    "2001",
                    "2001",
                    "2001",
                    "2001",
                    "2001",
                    "2001",
                    "2001",
                    "2001",
                    "2001",
                    "2001",
                    "2001",
                    "2001",
                    "2001",
                    "2001",
                    "2001",
                    "2001",
                    "2001",
                    "2001",
                    "2001",
                    "2001",
                    "2001",
                    "2001",
                    "2001",
                    "2001",
                    "2001",
                    "2001",
                    "2001",
                    "2001",
                    "2001",
                    "2001",
                    "2001",
                    "2001",
                    "2001",
                    "2001",
                    "2001",
                    "2001",
                    "2001",
                    "2001",
                    "2001",
                    "2001",
                    "2001",
                    "2001",
                    "2001",
                    "2001",
                    "2001",
                    "2001",
                    "2001",
                    "2001",
                    "2001",
                    "2001",
                    "2001",
                    "2001",
                    "2001",
                    "2001",
                    "2001",
                    "2001",
                    "2001",
                    "2001",
                    "2001",
                    "2001",
                    "2001",
                    "2001",
                    "2001",
                    "2001",
                    "2001",
                    "2001",
                    "2001",
                    "2001",
                    "2001",
                    "2001",
                    "2001",
                    "2001",
                    "2001",
                    "2001",
                    "2001",
                    "2001",
                    "2001",
                    "2001",
                    "2001",
                    "2001",
                    "2001",
                    "2001",
                    "2001",
                    "2001",
                    "2001",
                    "2001",
                    "2001",
                    "2001",
                    "2001",
                    "2001",
                    "2001",
                    "2001",
                    "2001",
                    "2001",
                    "2001",
                    "2001",
                    "2001",
                    "2001",
                    "2001",
                    "2001",
                    "2001",
                    "2001",
                    "2001",
                    "2001",
                    "2001",
                    "2001",
                    "2001",
                    "2001",
                    "2001",
                    "2001",
                    "2001",
                    "2001",
                    "2001",
                    "2001",
                    "2001",
                    "2002",
                    "2002",
                    "2002",
                    "2002",
                    "2002",
                    "2002",
                    "2002",
                    "2002",
                    "2002",
                    "2002",
                    "2002",
                    "2002",
                    "2002",
                    "2002",
                    "2002",
                    "2002",
                    "2002",
                    "2002",
                    "2002",
                    "2002",
                    "2002",
                    "2002",
                    "2002",
                    "2002",
                    "2002",
                    "2002",
                    "2002",
                    "2002",
                    "2002",
                    "2002",
                    "2002",
                    "2002",
                    "2002",
                    "2002",
                    "2002",
                    "2002",
                    "2002",
                    "2002",
                    "2002",
                    "2002",
                    "2002",
                    "2002",
                    "2002",
                    "2002",
                    "2002",
                    "2002",
                    "2002",
                    "2002",
                    "2002",
                    "2002",
                    "2002",
                    "2002",
                    "2002",
                    "2002",
                    "2002",
                    "2002",
                    "2002",
                    "2002",
                    "2002",
                    "2002",
                    "2002",
                    "2002",
                    "2002",
                    "2002",
                    "2002",
                    "2002",
                    "2002",
                    "2002",
                    "2002",
                    "2002",
                    "2002",
                    "2002",
                    "2002",
                    "2002",
                    "2002",
                    "2002",
                    "2002",
                    "2002",
                    "2002",
                    "2002",
                    "2002",
                    "2002",
                    "2002",
                    "2002",
                    "2002",
                    "2002",
                    "2002",
                    "2002",
                    "2002",
                    "2002",
                    "2002",
                    "2002",
                    "2002",
                    "2002",
                    "2002",
                    "2002",
                    "2002",
                    "2002",
                    "2002",
                    "2002",
                    "2002",
                    "2002",
                    "2002",
                    "2002",
                    "2002",
                    "2002",
                    "2002",
                    "2002",
                    "2002",
                    "2002",
                    "2002",
                    "2002",
                    "2002",
                    "2002",
                    "2002",
                    "2002",
                    "2002",
                    "2002",
                    "2002",
                    "2002",
                    "2002",
                    "2002",
                    "2002",
                    "2002",
                    "2002",
                    "2002",
                    "2002",
                    "2002",
                    "2002",
                    "2002",
                    "2002",
                    "2002",
                    "2002",
                    "2002",
                    "2002",
                    "2002",
                    "2002",
                    "2002",
                    "2002",
                    "2002",
                    "2002",
                    "2002",
                    "2002",
                    "2002",
                    "2002",
                    "2002",
                    "2002",
                    "2002",
                    "2002",
                    "2002",
                    "2002",
                    "2002",
                    "2002",
                    "2002",
                    "2002",
                    "2002",
                    "2002",
                    "2002",
                    "2002",
                    "2002",
                    "2002",
                    "2002",
                    "2002",
                    "2002",
                    "2002",
                    "2002",
                    "2002",
                    "2002",
                    "2002",
                    "2002",
                    "2002",
                    "2002",
                    "2002",
                    "2002",
                    "2002",
                    "2002",
                    "2002",
                    "2002",
                    "2002",
                    "2002",
                    "2002",
                    "2002",
                    "2002",
                    "2002",
                    "2002",
                    "2002",
                    "2002",
                    "2002",
                    "2002",
                    "2002",
                    "2002",
                    "2002",
                    "2002",
                    "2002",
                    "2002",
                    "2002",
                    "2002",
                    "2002",
                    "2002",
                    "2002",
                    "2002",
                    "2002",
                    "2003",
                    "2003",
                    "2003",
                    "2003",
                    "2003",
                    "2003",
                    "2003",
                    "2003",
                    "2003",
                    "2003",
                    "2003",
                    "2003",
                    "2003",
                    "2003",
                    "2003",
                    "2003",
                    "2003",
                    "2003",
                    "2003",
                    "2003",
                    "2003",
                    "2003",
                    "2003",
                    "2003",
                    "2003",
                    "2003",
                    "2003",
                    "2003",
                    "2003",
                    "2003",
                    "2003",
                    "2003",
                    "2003",
                    "2003",
                    "2003",
                    "2003",
                    "2003",
                    "2003",
                    "2003",
                    "2003",
                    "2003",
                    "2003",
                    "2003",
                    "2003",
                    "2003",
                    "2003",
                    "2003",
                    "2003",
                    "2003",
                    "2003",
                    "2003",
                    "2003",
                    "2003",
                    "2003",
                    "2003",
                    "2003",
                    "2003",
                    "2003",
                    "2003",
                    "2003",
                    "2003",
                    "2003",
                    "2003",
                    "2003",
                    "2003",
                    "2003",
                    "2003",
                    "2003",
                    "2003",
                    "2003",
                    "2003",
                    "2003",
                    "2003",
                    "2003",
                    "2003",
                    "2003",
                    "2003",
                    "2003",
                    "2003",
                    "2003",
                    "2003",
                    "2003",
                    "2003",
                    "2003",
                    "2003",
                    "2003",
                    "2003",
                    "2003",
                    "2003",
                    "2003",
                    "2003",
                    "2003",
                    "2003",
                    "2003",
                    "2003",
                    "2003",
                    "2003",
                    "2003",
                    "2003",
                    "2003",
                    "2003",
                    "2003",
                    "2003",
                    "2003",
                    "2003",
                    "2003",
                    "2003",
                    "2003",
                    "2003",
                    "2003",
                    "2003",
                    "2003",
                    "2003",
                    "2003",
                    "2003",
                    "2003",
                    "2003",
                    "2003",
                    "2003",
                    "2003",
                    "2003",
                    "2003",
                    "2003",
                    "2003",
                    "2003",
                    "2003",
                    "2003",
                    "2003",
                    "2003",
                    "2003",
                    "2003",
                    "2003",
                    "2003",
                    "2003",
                    "2003",
                    "2003",
                    "2003",
                    "2003",
                    "2003",
                    "2003",
                    "2003",
                    "2003",
                    "2003",
                    "2003",
                    "2003",
                    "2003",
                    "2003",
                    "2003",
                    "2003",
                    "2003",
                    "2003",
                    "2003",
                    "2003",
                    "2003",
                    "2003",
                    "2003",
                    "2003",
                    "2003",
                    "2003",
                    "2003",
                    "2003",
                    "2003",
                    "2003",
                    "2003",
                    "2003",
                    "2003",
                    "2003",
                    "2003",
                    "2003",
                    "2003",
                    "2003",
                    "2003",
                    "2003",
                    "2003",
                    "2003",
                    "2003",
                    "2003",
                    "2003",
                    "2003",
                    "2003",
                    "2003",
                    "2003",
                    "2003",
                    "2003",
                    "2003",
                    "2003",
                    "2003",
                    "2003",
                    "2003",
                    "2003",
                    "2003",
                    "2003",
                    "2003",
                    "2003",
                    "2003",
                    "2003",
                    "2003",
                    "2003",
                    "2003",
                    "2003",
                    "2003",
                    "2003",
                    "2003",
                    "2003",
                    "2003",
                    "2003",
                    "2003",
                    "2003",
                    "2003",
                    "2003",
                    "2003",
                    "2003",
                    "2003",
                    "2003",
                    "2003",
                    "2003",
                    "2003",
                    "2003",
                    "2003",
                    "2003",
                    "2003",
                    "2003",
                    "2003",
                    "2003",
                    "2003",
                    "2003",
                    "2003",
                    "2003",
                    "2003",
                    "2003",
                    "2003",
                    "2003",
                    "2003",
                    "2003",
                    "2003",
                    "2004",
                    "2004",
                    "2004",
                    "2004",
                    "2004",
                    "2004",
                    "2004",
                    "2004",
                    "2004",
                    "2004",
                    "2004",
                    "2004",
                    "2004",
                    "2004",
                    "2004",
                    "2004",
                    "2004",
                    "2004",
                    "2004",
                    "2004",
                    "2004",
                    "2004",
                    "2004",
                    "2004",
                    "2004",
                    "2004",
                    "2004",
                    "2004",
                    "2004",
                    "2004",
                    "2004",
                    "2004",
                    "2004",
                    "2004",
                    "2004",
                    "2004",
                    "2004",
                    "2004",
                    "2004",
                    "2004",
                    "2004",
                    "2004",
                    "2004",
                    "2004",
                    "2004",
                    "2004",
                    "2004",
                    "2004",
                    "2004",
                    "2004",
                    "2004",
                    "2004",
                    "2004",
                    "2004",
                    "2004",
                    "2004",
                    "2004",
                    "2004",
                    "2004",
                    "2004",
                    "2004",
                    "2004",
                    "2004",
                    "2004",
                    "2004",
                    "2004",
                    "2004",
                    "2004",
                    "2004",
                    "2004",
                    "2004",
                    "2004",
                    "2004",
                    "2004",
                    "2004",
                    "2004",
                    "2004",
                    "2004",
                    "2004",
                    "2004",
                    "2004",
                    "2004",
                    "2004",
                    "2004",
                    "2004",
                    "2004",
                    "2004",
                    "2004",
                    "2004",
                    "2004",
                    "2004",
                    "2004",
                    "2004",
                    "2004",
                    "2004",
                    "2004",
                    "2004",
                    "2004",
                    "2004",
                    "2004",
                    "2004",
                    "2004",
                    "2004",
                    "2004",
                    "2004",
                    "2004",
                    "2004",
                    "2004",
                    "2004",
                    "2004",
                    "2004",
                    "2004",
                    "2004",
                    "2004",
                    "2004",
                    "2004",
                    "2004",
                    "2004",
                    "2004",
                    "2004",
                    "2004",
                    "2004",
                    "2004",
                    "2004",
                    "2004",
                    "2004",
                    "2004",
                    "2004",
                    "2004",
                    "2004",
                    "2004",
                    "2004",
                    "2004",
                    "2004",
                    "2004",
                    "2004",
                    "2004",
                    "2004",
                    "2004",
                    "2004",
                    "2004",
                    "2004",
                    "2004",
                    "2004",
                    "2004",
                    "2004",
                    "2004",
                    "2004",
                    "2004",
                    "2004",
                    "2004",
                    "2004",
                    "2004",
                    "2004",
                    "2004",
                    "2004",
                    "2004",
                    "2004",
                    "2004",
                    "2004",
                    "2004",
                    "2004",
                    "2004",
                    "2004",
                    "2004",
                    "2004",
                    "2004",
                    "2004",
                    "2004",
                    "2004",
                    "2004",
                    "2004",
                    "2004",
                    "2004",
                    "2004",
                    "2004",
                    "2004",
                    "2004",
                    "2004",
                    "2004",
                    "2004",
                    "2004",
                    "2004",
                    "2004",
                    "2004",
                    "2004",
                    "2004",
                    "2004",
                    "2004",
                    "2004",
                    "2004",
                    "2004",
                    "2004",
                    "2004",
                    "2004",
                    "2004",
                    "2004",
                    "2004",
                    "2004",
                    "2004",
                    "2004",
                    "2004",
                    "2004",
                    "2004",
                    "2004",
                    "2004",
                    "2004",
                    "2004",
                    "2004",
                    "2004",
                    "2004",
                    "2004",
                    "2004",
                    "2004",
                    "2004",
                    "2004",
                    "2004",
                    "2004",
                    "2004",
                    "2004",
                    "2004",
                    "2004",
                    "2004",
                    "2004",
                    "2004",
                    "2004",
                    "2004",
                    "2004",
                    "2004",
                    "2004",
                    "2004",
                    "2004",
                    "2004",
                    "2004",
                    "2004",
                    "2004",
                    "2004",
                    "2004",
                    "2004",
                    "2004",
                    "2004",
                    "2004",
                    "2004",
                    "2004",
                    "2004",
                    "2004",
                    "2004",
                    "2004",
                    "2004",
                    "2004",
                    "2004",
                    "2004",
                    "2004",
                    "2004",
                    "2004",
                    "2004",
                    "2004",
                    "2004",
                    "2004",
                    "2004",
                    "2004",
                    "2004",
                    "2004",
                    "2004",
                    "2004",
                    "2004",
                    "2004",
                    "2004",
                    "2004",
                    "2004",
                    "2005",
                    "2005",
                    "2005",
                    "2005",
                    "2005",
                    "2005",
                    "2005",
                    "2005",
                    "2005",
                    "2005",
                    "2005",
                    "2005",
                    "2005",
                    "2005",
                    "2005",
                    "2005",
                    "2005",
                    "2005",
                    "2005",
                    "2005",
                    "2005",
                    "2005",
                    "2005",
                    "2005",
                    "2005",
                    "2005",
                    "2005",
                    "2005",
                    "2005",
                    "2005",
                    "2005",
                    "2005",
                    "2005",
                    "2005",
                    "2005",
                    "2005",
                    "2005",
                    "2005",
                    "2005",
                    "2005",
                    "2005",
                    "2005",
                    "2005",
                    "2005",
                    "2005",
                    "2005",
                    "2005",
                    "2005",
                    "2005",
                    "2005",
                    "2005",
                    "2005",
                    "2005",
                    "2005",
                    "2005",
                    "2005",
                    "2005",
                    "2005",
                    "2005",
                    "2005",
                    "2005",
                    "2005",
                    "2005",
                    "2005",
                    "2005",
                    "2005",
                    "2005",
                    "2005",
                    "2005",
                    "2005",
                    "2005",
                    "2005",
                    "2005",
                    "2005",
                    "2005",
                    "2005",
                    "2005",
                    "2005",
                    "2005",
                    "2005",
                    "2005",
                    "2005",
                    "2005",
                    "2005",
                    "2005",
                    "2005",
                    "2005",
                    "2005",
                    "2005",
                    "2005",
                    "2005",
                    "2005",
                    "2005",
                    "2005",
                    "2005",
                    "2005",
                    "2005",
                    "2005",
                    "2005",
                    "2005",
                    "2005",
                    "2005",
                    "2005",
                    "2005",
                    "2005",
                    "2005",
                    "2005",
                    "2005",
                    "2005",
                    "2005",
                    "2005",
                    "2005",
                    "2005",
                    "2005",
                    "2005",
                    "2005",
                    "2005",
                    "2005",
                    "2005",
                    "2005",
                    "2005",
                    "2005",
                    "2005",
                    "2005",
                    "2005",
                    "2005",
                    "2005",
                    "2005",
                    "2005",
                    "2005",
                    "2005",
                    "2005",
                    "2005",
                    "2005",
                    "2005",
                    "2005",
                    "2005",
                    "2005",
                    "2005",
                    "2005",
                    "2005",
                    "2005",
                    "2005",
                    "2005",
                    "2005",
                    "2005",
                    "2005",
                    "2005",
                    "2005",
                    "2005",
                    "2005",
                    "2005",
                    "2005",
                    "2005",
                    "2005",
                    "2005",
                    "2005",
                    "2005",
                    "2005",
                    "2005",
                    "2005",
                    "2005",
                    "2005",
                    "2005",
                    "2005",
                    "2005",
                    "2005",
                    "2005",
                    "2005",
                    "2005",
                    "2005",
                    "2005",
                    "2005",
                    "2005",
                    "2005",
                    "2005",
                    "2005",
                    "2005",
                    "2005",
                    "2005",
                    "2005",
                    "2005",
                    "2005",
                    "2005",
                    "2005",
                    "2005",
                    "2005",
                    "2005",
                    "2005",
                    "2005",
                    "2005",
                    "2005",
                    "2005",
                    "2005",
                    "2005",
                    "2005",
                    "2005",
                    "2005",
                    "2005",
                    "2005",
                    "2005",
                    "2005",
                    "2005",
                    "2005",
                    "2005",
                    "2005",
                    "2005",
                    "2005",
                    "2005",
                    "2005",
                    "2005",
                    "2005",
                    "2005",
                    "2005",
                    "2005",
                    "2005",
                    "2005",
                    "2005",
                    "2005",
                    "2005",
                    "2005",
                    "2005",
                    "2005",
                    "2005",
                    "2005",
                    "2005",
                    "2005",
                    "2005",
                    "2005",
                    "2005",
                    "2005",
                    "2005",
                    "2005",
                    "2005",
                    "2005",
                    "2005",
                    "2005",
                    "2005",
                    "2005",
                    "2005",
                    "2005",
                    "2005",
                    "2005",
                    "2005",
                    "2005",
                    "2005",
                    "2005",
                    "2005",
                    "2005",
                    "2005",
                    "2005",
                    "2005",
                    "2005",
                    "2005",
                    "2005",
                    "2005",
                    "2005",
                    "2005",
                    "2005",
                    "2005",
                    "2005",
                    "2005",
                    "2005",
                    "2005",
                    "2005",
                    "2005",
                    "2005",
                    "2005",
                    "2005",
                    "2005",
                    "2005",
                    "2005",
                    "2005",
                    "2005",
                    "2005",
                    "2005",
                    "2005",
                    "2005",
                    "2005",
                    "2005",
                    "2005",
                    "2005",
                    "2005",
                    "2005",
                    "2005",
                    "2005",
                    "2005",
                    "2005",
                    "2005",
                    "2005",
                    "2005",
                    "2005",
                    "2005",
                    "2005",
                    "2005",
                    "2005",
                    "2005",
                    "2005",
                    "2005",
                    "2005",
                    "2005",
                    "2005",
                    "2005",
                    "2005",
                    "2005",
                    "2005",
                    "2005",
                    "2005",
                    "2005",
                    "2005",
                    "2005",
                    "2006",
                    "2006",
                    "2006",
                    "2006",
                    "2006",
                    "2006",
                    "2006",
                    "2006",
                    "2006",
                    "2006",
                    "2006",
                    "2006",
                    "2006",
                    "2006",
                    "2006",
                    "2006",
                    "2006",
                    "2006",
                    "2006",
                    "2006",
                    "2006",
                    "2006",
                    "2006",
                    "2006",
                    "2006",
                    "2006",
                    "2006",
                    "2006",
                    "2006",
                    "2006",
                    "2006",
                    "2006",
                    "2006",
                    "2006",
                    "2006",
                    "2006",
                    "2006",
                    "2006",
                    "2006",
                    "2006",
                    "2006",
                    "2006",
                    "2006",
                    "2006",
                    "2006",
                    "2006",
                    "2006",
                    "2006",
                    "2006",
                    "2006",
                    "2006",
                    "2006",
                    "2006",
                    "2006",
                    "2006",
                    "2006",
                    "2006",
                    "2006",
                    "2006",
                    "2006",
                    "2006",
                    "2006",
                    "2006",
                    "2006",
                    "2006",
                    "2006",
                    "2006",
                    "2006",
                    "2006",
                    "2006",
                    "2006",
                    "2006",
                    "2006",
                    "2006",
                    "2006",
                    "2006",
                    "2006",
                    "2006",
                    "2006",
                    "2006",
                    "2006",
                    "2006",
                    "2006",
                    "2006",
                    "2006",
                    "2006",
                    "2006",
                    "2006",
                    "2006",
                    "2006",
                    "2006",
                    "2006",
                    "2006",
                    "2006",
                    "2006",
                    "2006",
                    "2006",
                    "2006",
                    "2006",
                    "2006",
                    "2006",
                    "2006",
                    "2006",
                    "2006",
                    "2006",
                    "2006",
                    "2006",
                    "2006",
                    "2006",
                    "2006",
                    "2006",
                    "2006",
                    "2006",
                    "2006",
                    "2006",
                    "2006",
                    "2006",
                    "2006",
                    "2006",
                    "2006",
                    "2006",
                    "2006",
                    "2006",
                    "2006",
                    "2006",
                    "2006",
                    "2006",
                    "2006",
                    "2006",
                    "2006",
                    "2006",
                    "2006",
                    "2006",
                    "2006",
                    "2006",
                    "2006",
                    "2006",
                    "2006",
                    "2006",
                    "2006",
                    "2006",
                    "2006",
                    "2006",
                    "2006",
                    "2006",
                    "2006",
                    "2006",
                    "2006",
                    "2006",
                    "2006",
                    "2006",
                    "2006",
                    "2006",
                    "2006",
                    "2006",
                    "2006",
                    "2006",
                    "2006",
                    "2006",
                    "2006",
                    "2006",
                    "2006",
                    "2006",
                    "2006",
                    "2006",
                    "2006",
                    "2006",
                    "2006",
                    "2006",
                    "2006",
                    "2006",
                    "2006",
                    "2006",
                    "2006",
                    "2006",
                    "2006",
                    "2006",
                    "2006",
                    "2006",
                    "2006",
                    "2006",
                    "2006",
                    "2006",
                    "2006",
                    "2006",
                    "2006",
                    "2006",
                    "2006",
                    "2006",
                    "2006",
                    "2006",
                    "2006",
                    "2006",
                    "2006",
                    "2006",
                    "2006",
                    "2006",
                    "2006",
                    "2006",
                    "2006",
                    "2006",
                    "2006",
                    "2006",
                    "2006",
                    "2006",
                    "2006",
                    "2006",
                    "2006",
                    "2006",
                    "2006",
                    "2006",
                    "2006",
                    "2006",
                    "2006",
                    "2006",
                    "2006",
                    "2006",
                    "2006",
                    "2006",
                    "2006",
                    "2006",
                    "2006",
                    "2006",
                    "2006",
                    "2006",
                    "2006",
                    "2006",
                    "2006",
                    "2006",
                    "2006",
                    "2006",
                    "2006",
                    "2006",
                    "2006",
                    "2006",
                    "2006",
                    "2006",
                    "2006",
                    "2006",
                    "2006",
                    "2006",
                    "2006",
                    "2006",
                    "2006",
                    "2006",
                    "2006",
                    "2006",
                    "2006",
                    "2006",
                    "2006",
                    "2006",
                    "2006",
                    "2006",
                    "2006",
                    "2006",
                    "2006",
                    "2006",
                    "2006",
                    "2006",
                    "2006",
                    "2006",
                    "2006",
                    "2006",
                    "2006",
                    "2006",
                    "2006",
                    "2006",
                    "2006",
                    "2006",
                    "2006",
                    "2006",
                    "2006",
                    "2006",
                    "2006",
                    "2006",
                    "2006",
                    "2006",
                    "2006",
                    "2006",
                    "2006",
                    "2006",
                    "2006",
                    "2006",
                    "2006",
                    "2006",
                    "2006",
                    "2006",
                    "2006",
                    "2006",
                    "2006",
                    "2006",
                    "2006",
                    "2006",
                    "2006",
                    "2006",
                    "2006",
                    "2006",
                    "2006",
                    "2006",
                    "2006",
                    "2006",
                    "2006",
                    "2006",
                    "2006",
                    "2006",
                    "2006",
                    "2006",
                    "2006",
                    "2006",
                    "2006",
                    "2006",
                    "2006",
                    "2006",
                    "2006",
                    "2006",
                    "2006",
                    "2006",
                    "2006",
                    "2006",
                    "2006",
                    "2006",
                    "2006",
                    "2006",
                    "2006",
                    "2006",
                    "2006",
                    "2006",
                    "2006",
                    "2006",
                    "2007",
                    "2007",
                    "2007",
                    "2007",
                    "2007",
                    "2007",
                    "2007",
                    "2007",
                    "2007",
                    "2007",
                    "2007",
                    "2007",
                    "2007",
                    "2007",
                    "2007",
                    "2007",
                    "2007",
                    "2007",
                    "2007",
                    "2007",
                    "2007",
                    "2007",
                    "2007",
                    "2007",
                    "2007",
                    "2007",
                    "2007",
                    "2007",
                    "2007",
                    "2007",
                    "2007",
                    "2007",
                    "2007",
                    "2007",
                    "2007",
                    "2007",
                    "2007",
                    "2007",
                    "2007",
                    "2007",
                    "2007",
                    "2007",
                    "2007",
                    "2007",
                    "2007",
                    "2007",
                    "2007",
                    "2007",
                    "2007",
                    "2007",
                    "2007",
                    "2007",
                    "2007",
                    "2007",
                    "2007",
                    "2007",
                    "2007",
                    "2007",
                    "2007",
                    "2007",
                    "2007",
                    "2007",
                    "2007",
                    "2007",
                    "2007",
                    "2007",
                    "2007",
                    "2007",
                    "2007",
                    "2007",
                    "2007",
                    "2007",
                    "2007",
                    "2007",
                    "2007",
                    "2007",
                    "2007",
                    "2007",
                    "2007",
                    "2007",
                    "2007",
                    "2007",
                    "2007",
                    "2007",
                    "2007",
                    "2007",
                    "2007",
                    "2007",
                    "2007",
                    "2007",
                    "2007",
                    "2007",
                    "2007",
                    "2007",
                    "2007",
                    "2007",
                    "2007",
                    "2007",
                    "2007",
                    "2007",
                    "2007",
                    "2007",
                    "2007",
                    "2007",
                    "2007",
                    "2007",
                    "2007",
                    "2007",
                    "2007",
                    "2007",
                    "2007",
                    "2007",
                    "2007",
                    "2007",
                    "2007",
                    "2007",
                    "2007",
                    "2007",
                    "2007",
                    "2007",
                    "2007",
                    "2007",
                    "2007",
                    "2007",
                    "2007",
                    "2007",
                    "2007",
                    "2007",
                    "2007",
                    "2007",
                    "2007",
                    "2007",
                    "2007",
                    "2007",
                    "2007",
                    "2007",
                    "2007",
                    "2007",
                    "2007",
                    "2007",
                    "2007",
                    "2007",
                    "2007",
                    "2007",
                    "2007",
                    "2007",
                    "2007",
                    "2007",
                    "2007",
                    "2007",
                    "2007",
                    "2007",
                    "2007",
                    "2007",
                    "2007",
                    "2007",
                    "2007",
                    "2007",
                    "2007",
                    "2007",
                    "2007",
                    "2007",
                    "2007",
                    "2007",
                    "2007",
                    "2007",
                    "2007",
                    "2007",
                    "2007",
                    "2007",
                    "2007",
                    "2007",
                    "2007",
                    "2007",
                    "2007",
                    "2007",
                    "2007",
                    "2007",
                    "2007",
                    "2007",
                    "2007",
                    "2007",
                    "2007",
                    "2007",
                    "2007",
                    "2007",
                    "2007",
                    "2007",
                    "2007",
                    "2007",
                    "2007",
                    "2007",
                    "2007",
                    "2007",
                    "2007",
                    "2007",
                    "2007",
                    "2007",
                    "2007",
                    "2007",
                    "2007",
                    "2007",
                    "2007",
                    "2007",
                    "2007",
                    "2007",
                    "2007",
                    "2007",
                    "2007",
                    "2007",
                    "2007",
                    "2007",
                    "2007",
                    "2007",
                    "2007",
                    "2007",
                    "2007",
                    "2007",
                    "2007",
                    "2007",
                    "2007",
                    "2007",
                    "2007",
                    "2007",
                    "2007",
                    "2007",
                    "2007",
                    "2007",
                    "2007",
                    "2007",
                    "2007",
                    "2007",
                    "2007",
                    "2007",
                    "2007",
                    "2007",
                    "2007",
                    "2007",
                    "2007",
                    "2007",
                    "2007",
                    "2007",
                    "2007",
                    "2007",
                    "2007",
                    "2007",
                    "2007",
                    "2007",
                    "2007",
                    "2007",
                    "2007",
                    "2007",
                    "2007",
                    "2007",
                    "2007",
                    "2007",
                    "2007",
                    "2007",
                    "2007",
                    "2007",
                    "2007",
                    "2007",
                    "2007",
                    "2007",
                    "2007",
                    "2007",
                    "2007",
                    "2007",
                    "2007",
                    "2007",
                    "2007",
                    "2007",
                    "2007",
                    "2007",
                    "2007",
                    "2007",
                    "2007",
                    "2007",
                    "2007",
                    "2007",
                    "2007",
                    "2007",
                    "2007",
                    "2007",
                    "2007",
                    "2007",
                    "2007",
                    "2007",
                    "2007",
                    "2007",
                    "2007",
                    "2007",
                    "2007",
                    "2007",
                    "2007",
                    "2007",
                    "2007",
                    "2007",
                    "2007",
                    "2007",
                    "2007",
                    "2007",
                    "2007",
                    "2007",
                    "2007",
                    "2007",
                    "2007",
                    "2007",
                    "2007",
                    "2007",
                    "2007",
                    "2007",
                    "2007",
                    "2007",
                    "2007",
                    "2007",
                    "2007",
                    "2007",
                    "2007",
                    "2007",
                    "2007",
                    "2007",
                    "2007",
                    "2007",
                    "2007",
                    "2007",
                    "2007",
                    "2007",
                    "2007",
                    "2007",
                    "2007",
                    "2007",
                    "2007",
                    "2007",
                    "2007",
                    "2007",
                    "2007",
                    "2007",
                    "2007",
                    "2007",
                    "2007",
                    "2007",
                    "2007",
                    "2008",
                    "2008",
                    "2008",
                    "2008",
                    "2008",
                    "2008",
                    "2008",
                    "2008",
                    "2008",
                    "2008",
                    "2008",
                    "2008",
                    "2008",
                    "2008",
                    "2008",
                    "2008",
                    "2008",
                    "2008",
                    "2008",
                    "2008",
                    "2008",
                    "2008",
                    "2008",
                    "2008",
                    "2008",
                    "2008",
                    "2008",
                    "2008",
                    "2008",
                    "2008",
                    "2008",
                    "2008",
                    "2008",
                    "2008",
                    "2008",
                    "2008",
                    "2008",
                    "2008",
                    "2008",
                    "2008",
                    "2008",
                    "2008",
                    "2008",
                    "2008",
                    "2008",
                    "2008",
                    "2008",
                    "2008",
                    "2008",
                    "2008",
                    "2008",
                    "2008",
                    "2008",
                    "2008",
                    "2008",
                    "2008",
                    "2008",
                    "2008",
                    "2008",
                    "2008",
                    "2008",
                    "2008",
                    "2008",
                    "2008",
                    "2008",
                    "2008",
                    "2008",
                    "2008",
                    "2008",
                    "2008",
                    "2008",
                    "2008",
                    "2008",
                    "2008",
                    "2008",
                    "2008",
                    "2008",
                    "2008",
                    "2008",
                    "2008",
                    "2008",
                    "2008",
                    "2008",
                    "2008",
                    "2008",
                    "2008",
                    "2008",
                    "2008",
                    "2008",
                    "2008",
                    "2008",
                    "2008",
                    "2008",
                    "2008",
                    "2008",
                    "2008",
                    "2008",
                    "2008",
                    "2008",
                    "2008",
                    "2008",
                    "2008",
                    "2008",
                    "2008",
                    "2008",
                    "2008",
                    "2008",
                    "2008",
                    "2008",
                    "2008",
                    "2008",
                    "2008",
                    "2008",
                    "2008",
                    "2008",
                    "2008",
                    "2008",
                    "2008",
                    "2008",
                    "2008",
                    "2008",
                    "2008",
                    "2008",
                    "2008",
                    "2008",
                    "2008",
                    "2008",
                    "2008",
                    "2008",
                    "2008",
                    "2008",
                    "2008",
                    "2008",
                    "2008",
                    "2008",
                    "2008",
                    "2008",
                    "2008",
                    "2008",
                    "2008",
                    "2008",
                    "2008",
                    "2008",
                    "2008",
                    "2008",
                    "2008",
                    "2008",
                    "2008",
                    "2008",
                    "2008",
                    "2008",
                    "2008",
                    "2008",
                    "2008",
                    "2008",
                    "2008",
                    "2008",
                    "2008",
                    "2008",
                    "2008",
                    "2008",
                    "2008",
                    "2008",
                    "2008",
                    "2008",
                    "2008",
                    "2008",
                    "2008",
                    "2008",
                    "2008",
                    "2008",
                    "2008",
                    "2008",
                    "2008",
                    "2008",
                    "2008",
                    "2008",
                    "2008",
                    "2008",
                    "2008",
                    "2008",
                    "2008",
                    "2008",
                    "2008",
                    "2008",
                    "2008",
                    "2008",
                    "2008",
                    "2008",
                    "2008",
                    "2008",
                    "2008",
                    "2008",
                    "2008",
                    "2008",
                    "2008",
                    "2008",
                    "2008",
                    "2008",
                    "2008",
                    "2008",
                    "2008",
                    "2008",
                    "2008",
                    "2008",
                    "2008",
                    "2008",
                    "2008",
                    "2008",
                    "2008",
                    "2008",
                    "2008",
                    "2008",
                    "2008",
                    "2008",
                    "2008",
                    "2008",
                    "2008",
                    "2008",
                    "2008",
                    "2008",
                    "2008",
                    "2008",
                    "2008",
                    "2008",
                    "2008",
                    "2008",
                    "2008",
                    "2008",
                    "2008",
                    "2008",
                    "2008",
                    "2008",
                    "2008",
                    "2008",
                    "2008",
                    "2008",
                    "2008",
                    "2008",
                    "2008",
                    "2008",
                    "2008",
                    "2008",
                    "2008",
                    "2008",
                    "2008",
                    "2008",
                    "2008",
                    "2008",
                    "2008",
                    "2008",
                    "2008",
                    "2008",
                    "2008",
                    "2008",
                    "2008",
                    "2008",
                    "2008",
                    "2008",
                    "2008",
                    "2008",
                    "2008",
                    "2008",
                    "2008",
                    "2008",
                    "2008",
                    "2008",
                    "2008",
                    "2008",
                    "2008",
                    "2008",
                    "2008",
                    "2008",
                    "2008",
                    "2008",
                    "2008",
                    "2008",
                    "2008",
                    "2008",
                    "2008",
                    "2008",
                    "2008",
                    "2008",
                    "2008",
                    "2008",
                    "2008",
                    "2008",
                    "2008",
                    "2008",
                    "2008",
                    "2008",
                    "2008",
                    "2008",
                    "2008",
                    "2008",
                    "2008",
                    "2008",
                    "2008",
                    "2008",
                    "2008",
                    "2008",
                    "2008",
                    "2008",
                    "2008",
                    "2008",
                    "2008",
                    "2008",
                    "2008",
                    "2008",
                    "2008",
                    "2008",
                    "2008",
                    "2008",
                    "2008",
                    "2008",
                    "2008",
                    "2008",
                    "2008",
                    "2008",
                    "2008",
                    "2008",
                    "2008",
                    "2008",
                    "2008",
                    "2008",
                    "2008",
                    "2008",
                    "2008",
                    "2008",
                    "2008",
                    "2008",
                    "2008",
                    "2008",
                    "2008",
                    "2008",
                    "2008",
                    "2008",
                    "2008",
                    "2008",
                    "2008",
                    "2008",
                    "2008",
                    "2008",
                    "2008",
                    "2008",
                    "2008",
                    "2008",
                    "2008",
                    "2008",
                    "2008",
                    "2008",
                    "2008",
                    "2008",
                    "2008",
                    "2008",
                    "2008",
                    "2008",
                    "2008",
                    "2008",
                    "2008",
                    "2008",
                    "2008",
                    "2008",
                    "2008",
                    "2008",
                    "2008",
                    "2008",
                    "2008",
                    "2008",
                    "2008",
                    "2008",
                    "2008",
                    "2008",
                    "2009",
                    "2009",
                    "2009",
                    "2009",
                    "2009",
                    "2009",
                    "2009",
                    "2009",
                    "2009",
                    "2009",
                    "2009",
                    "2009",
                    "2009",
                    "2009",
                    "2009",
                    "2009",
                    "2009",
                    "2009",
                    "2009",
                    "2009",
                    "2009",
                    "2009",
                    "2009",
                    "2009",
                    "2009",
                    "2009",
                    "2009",
                    "2009",
                    "2009",
                    "2009",
                    "2009",
                    "2009",
                    "2009",
                    "2009",
                    "2009",
                    "2009",
                    "2009",
                    "2009",
                    "2009",
                    "2009",
                    "2009",
                    "2009",
                    "2009",
                    "2009",
                    "2009",
                    "2009",
                    "2009",
                    "2009",
                    "2009",
                    "2009",
                    "2009",
                    "2009",
                    "2009",
                    "2009",
                    "2009",
                    "2009",
                    "2009",
                    "2009",
                    "2009",
                    "2009",
                    "2009",
                    "2009",
                    "2009",
                    "2009",
                    "2009",
                    "2009",
                    "2009",
                    "2009",
                    "2009",
                    "2009",
                    "2009",
                    "2009",
                    "2009",
                    "2009",
                    "2009",
                    "2009",
                    "2009",
                    "2009",
                    "2009",
                    "2009",
                    "2009",
                    "2009",
                    "2009",
                    "2009",
                    "2009",
                    "2009",
                    "2009",
                    "2009",
                    "2009",
                    "2009",
                    "2009",
                    "2009",
                    "2009",
                    "2009",
                    "2009",
                    "2009",
                    "2009",
                    "2009",
                    "2009",
                    "2009",
                    "2009",
                    "2009",
                    "2009",
                    "2009",
                    "2009",
                    "2009",
                    "2009",
                    "2009",
                    "2009",
                    "2009",
                    "2009",
                    "2009",
                    "2009",
                    "2009",
                    "2009",
                    "2009",
                    "2009",
                    "2009",
                    "2009",
                    "2009",
                    "2009",
                    "2009",
                    "2009",
                    "2009",
                    "2009",
                    "2009",
                    "2009",
                    "2009",
                    "2009",
                    "2009",
                    "2009",
                    "2009",
                    "2009",
                    "2009",
                    "2009",
                    "2009",
                    "2009",
                    "2009",
                    "2009",
                    "2009",
                    "2009",
                    "2009",
                    "2009",
                    "2009",
                    "2009",
                    "2009",
                    "2009",
                    "2009",
                    "2009",
                    "2009",
                    "2009",
                    "2009",
                    "2009",
                    "2009",
                    "2009",
                    "2009",
                    "2009",
                    "2009",
                    "2009",
                    "2009",
                    "2009",
                    "2009",
                    "2009",
                    "2009",
                    "2009",
                    "2009",
                    "2009",
                    "2009",
                    "2009",
                    "2009",
                    "2009",
                    "2009",
                    "2009",
                    "2009",
                    "2009",
                    "2009",
                    "2009",
                    "2009",
                    "2009",
                    "2009",
                    "2009",
                    "2009",
                    "2009",
                    "2009",
                    "2009",
                    "2009",
                    "2009",
                    "2009",
                    "2009",
                    "2009",
                    "2009",
                    "2009",
                    "2009",
                    "2009",
                    "2009",
                    "2009",
                    "2009",
                    "2009",
                    "2009",
                    "2009",
                    "2009",
                    "2009",
                    "2009",
                    "2009",
                    "2009",
                    "2009",
                    "2009",
                    "2009",
                    "2009",
                    "2009",
                    "2009",
                    "2009",
                    "2009",
                    "2009",
                    "2009",
                    "2009",
                    "2009",
                    "2009",
                    "2009",
                    "2009",
                    "2009",
                    "2009",
                    "2009",
                    "2009",
                    "2009",
                    "2009",
                    "2009",
                    "2009",
                    "2009",
                    "2009",
                    "2009",
                    "2009",
                    "2009",
                    "2009",
                    "2009",
                    "2009",
                    "2009",
                    "2009",
                    "2009",
                    "2009",
                    "2009",
                    "2009",
                    "2009",
                    "2009",
                    "2009",
                    "2009",
                    "2009",
                    "2009",
                    "2009",
                    "2009",
                    "2009",
                    "2009",
                    "2009",
                    "2009",
                    "2009",
                    "2009",
                    "2009",
                    "2009",
                    "2009",
                    "2009",
                    "2009",
                    "2009",
                    "2009",
                    "2009",
                    "2009",
                    "2009",
                    "2009",
                    "2009",
                    "2009",
                    "2009",
                    "2009",
                    "2009",
                    "2009",
                    "2009",
                    "2009",
                    "2009",
                    "2009",
                    "2009",
                    "2009",
                    "2009",
                    "2009",
                    "2009",
                    "2009",
                    "2009",
                    "2009",
                    "2009",
                    "2009",
                    "2009",
                    "2009",
                    "2009",
                    "2009",
                    "2009",
                    "2009",
                    "2009",
                    "2009",
                    "2009",
                    "2009",
                    "2009",
                    "2009",
                    "2009",
                    "2009",
                    "2009",
                    "2009",
                    "2009",
                    "2009",
                    "2009",
                    "2009",
                    "2009",
                    "2009",
                    "2009",
                    "2009",
                    "2009",
                    "2009",
                    "2009",
                    "2009",
                    "2009",
                    "2009",
                    "2009",
                    "2009",
                    "2009",
                    "2009",
                    "2009",
                    "2009",
                    "2009",
                    "2009",
                    "2009",
                    "2009",
                    "2009",
                    "2009",
                    "2009",
                    "2009",
                    "2009",
                    "2009",
                    "2009",
                    "2009",
                    "2009",
                    "2009",
                    "2009",
                    "2009",
                    "2009",
                    "2009",
                    "2009",
                    "2009",
                    "2009",
                    "2009",
                    "2009",
                    "2009",
                    "2009",
                    "2009",
                    "2009",
                    "2009",
                    "2009",
                    "2009",
                    "2009",
                    "2009",
                    "2009",
                    "2009",
                    "2009",
                    "2009",
                    "2009",
                    "2009",
                    "2009",
                    "2009",
                    "2009",
                    "2009",
                    "2010",
                    "2010",
                    "2010",
                    "2010",
                    "2010",
                    "2010",
                    "2010",
                    "2010",
                    "2010",
                    "2010",
                    "2010",
                    "2010",
                    "2010",
                    "2010",
                    "2010",
                    "2010",
                    "2010",
                    "2010",
                    "2010",
                    "2010",
                    "2010",
                    "2010",
                    "2010",
                    "2010",
                    "2010",
                    "2010",
                    "2010",
                    "2010",
                    "2010",
                    "2010",
                    "2010",
                    "2010",
                    "2010",
                    "2010",
                    "2010",
                    "2010",
                    "2010",
                    "2010",
                    "2010",
                    "2010",
                    "2010",
                    "2010",
                    "2010",
                    "2010",
                    "2010",
                    "2010",
                    "2010",
                    "2010",
                    "2010",
                    "2010",
                    "2010",
                    "2010",
                    "2010",
                    "2010",
                    "2010",
                    "2010",
                    "2010",
                    "2010",
                    "2010",
                    "2010",
                    "2010",
                    "2010",
                    "2010",
                    "2010",
                    "2010",
                    "2010",
                    "2010",
                    "2010",
                    "2010",
                    "2010",
                    "2010",
                    "2010",
                    "2010",
                    "2010",
                    "2010",
                    "2010",
                    "2010",
                    "2010",
                    "2010",
                    "2010",
                    "2010",
                    "2010",
                    "2010",
                    "2010",
                    "2010",
                    "2010",
                    "2010",
                    "2010",
                    "2010",
                    "2010",
                    "2010",
                    "2010",
                    "2010",
                    "2010",
                    "2010",
                    "2010",
                    "2010",
                    "2010",
                    "2010",
                    "2010",
                    "2010",
                    "2010",
                    "2010",
                    "2010",
                    "2010",
                    "2010",
                    "2010",
                    "2010",
                    "2010",
                    "2010",
                    "2010",
                    "2010",
                    "2010",
                    "2010",
                    "2010",
                    "2010",
                    "2010",
                    "2010",
                    "2010",
                    "2010",
                    "2010",
                    "2010",
                    "2010",
                    "2010",
                    "2010",
                    "2010",
                    "2010",
                    "2010",
                    "2010",
                    "2010",
                    "2010",
                    "2010",
                    "2010",
                    "2010",
                    "2010",
                    "2010",
                    "2010",
                    "2010",
                    "2010",
                    "2010",
                    "2010",
                    "2010",
                    "2010",
                    "2010",
                    "2010",
                    "2010",
                    "2010",
                    "2010",
                    "2010",
                    "2010",
                    "2010",
                    "2010",
                    "2010",
                    "2010",
                    "2010",
                    "2010",
                    "2010",
                    "2010",
                    "2010",
                    "2010",
                    "2010",
                    "2010",
                    "2010",
                    "2010",
                    "2010",
                    "2010",
                    "2010",
                    "2010",
                    "2010",
                    "2010",
                    "2010",
                    "2010",
                    "2010",
                    "2010",
                    "2010",
                    "2010",
                    "2010",
                    "2010",
                    "2010",
                    "2010",
                    "2010",
                    "2010",
                    "2010",
                    "2010",
                    "2010",
                    "2010",
                    "2010",
                    "2010",
                    "2010",
                    "2010",
                    "2010",
                    "2010",
                    "2010",
                    "2010",
                    "2010",
                    "2010",
                    "2010",
                    "2010",
                    "2010",
                    "2010",
                    "2010",
                    "2010",
                    "2010",
                    "2010",
                    "2010",
                    "2010",
                    "2010",
                    "2010",
                    "2010",
                    "2010",
                    "2010",
                    "2010",
                    "2010",
                    "2010",
                    "2010",
                    "2010",
                    "2010",
                    "2010",
                    "2010",
                    "2010",
                    "2010",
                    "2010",
                    "2010",
                    "2010",
                    "2010",
                    "2010",
                    "2010",
                    "2010",
                    "2010",
                    "2010",
                    "2010",
                    "2010",
                    "2010",
                    "2010",
                    "2010",
                    "2010",
                    "2010",
                    "2010",
                    "2010",
                    "2010",
                    "2010",
                    "2010",
                    "2010",
                    "2010",
                    "2010",
                    "2010",
                    "2010",
                    "2010",
                    "2010",
                    "2010",
                    "2010",
                    "2010",
                    "2010",
                    "2010",
                    "2010",
                    "2010",
                    "2010",
                    "2010",
                    "2010",
                    "2010",
                    "2010",
                    "2010",
                    "2010",
                    "2010",
                    "2010",
                    "2010",
                    "2010",
                    "2010",
                    "2010",
                    "2010",
                    "2010",
                    "2010",
                    "2010",
                    "2010",
                    "2010",
                    "2010",
                    "2010",
                    "2010",
                    "2010",
                    "2010",
                    "2010",
                    "2010",
                    "2010",
                    "2010",
                    "2010",
                    "2010",
                    "2010",
                    "2010",
                    "2010",
                    "2010",
                    "2010",
                    "2010",
                    "2010",
                    "2010",
                    "2010",
                    "2010",
                    "2010",
                    "2010",
                    "2010",
                    "2010",
                    "2010",
                    "2010",
                    "2010",
                    "2010",
                    "2010",
                    "2010",
                    "2010",
                    "2010",
                    "2010",
                    "2010",
                    "2010",
                    "2010",
                    "2010",
                    "2010",
                    "2010",
                    "2010",
                    "2010",
                    "2010",
                    "2010",
                    "2010",
                    "2010",
                    "2010",
                    "2010",
                    "2010",
                    "2010",
                    "2010",
                    "2010",
                    "2010",
                    "2010",
                    "2010",
                    "2010",
                    "2010",
                    "2010",
                    "2010",
                    "2010",
                    "2010",
                    "2010",
                    "2010",
                    "2010",
                    "2010",
                    "2010",
                    "2010",
                    "2010",
                    "2010",
                    "2010",
                    "2010",
                    "2010",
                    "2010",
                    "2010",
                    "2011",
                    "2011",
                    "2011",
                    "2011",
                    "2011",
                    "2011",
                    "2011",
                    "2011",
                    "2011",
                    "2011",
                    "2011",
                    "2011",
                    "2011",
                    "2011",
                    "2011",
                    "2011",
                    "2011",
                    "2011",
                    "2011",
                    "2011",
                    "2011",
                    "2011",
                    "2011",
                    "2011",
                    "2011",
                    "2011",
                    "2011",
                    "2011",
                    "2011",
                    "2011",
                    "2011",
                    "2011",
                    "2011",
                    "2011",
                    "2011",
                    "2011",
                    "2011",
                    "2011",
                    "2011",
                    "2011",
                    "2011",
                    "2011",
                    "2011",
                    "2011",
                    "2011",
                    "2011",
                    "2011",
                    "2011",
                    "2011",
                    "2011",
                    "2011",
                    "2011",
                    "2011",
                    "2011",
                    "2011",
                    "2011",
                    "2011",
                    "2011",
                    "2011",
                    "2011",
                    "2011",
                    "2011",
                    "2011",
                    "2011",
                    "2011",
                    "2011",
                    "2011",
                    "2011",
                    "2011",
                    "2011",
                    "2011",
                    "2011",
                    "2011",
                    "2011",
                    "2011",
                    "2011",
                    "2011",
                    "2011",
                    "2011",
                    "2011",
                    "2011",
                    "2011",
                    "2011",
                    "2011",
                    "2011",
                    "2011",
                    "2011",
                    "2011",
                    "2011",
                    "2011",
                    "2011",
                    "2011",
                    "2011",
                    "2011",
                    "2011",
                    "2011",
                    "2011",
                    "2011",
                    "2011",
                    "2011",
                    "2011",
                    "2011",
                    "2011",
                    "2011",
                    "2011",
                    "2011",
                    "2011",
                    "2011",
                    "2011",
                    "2011",
                    "2011",
                    "2011",
                    "2011",
                    "2011",
                    "2011",
                    "2011",
                    "2011",
                    "2011",
                    "2011",
                    "2011",
                    "2011",
                    "2011",
                    "2011",
                    "2011",
                    "2011",
                    "2011",
                    "2011",
                    "2011",
                    "2011",
                    "2011",
                    "2011",
                    "2011",
                    "2011",
                    "2011",
                    "2011",
                    "2011",
                    "2011",
                    "2011",
                    "2011",
                    "2011",
                    "2011",
                    "2011",
                    "2011",
                    "2011",
                    "2011",
                    "2011",
                    "2011",
                    "2011",
                    "2011",
                    "2011",
                    "2011",
                    "2011",
                    "2011",
                    "2011",
                    "2011",
                    "2011",
                    "2011",
                    "2011",
                    "2011",
                    "2011",
                    "2011",
                    "2011",
                    "2011",
                    "2011",
                    "2011",
                    "2011",
                    "2011",
                    "2011",
                    "2011",
                    "2011",
                    "2011",
                    "2011",
                    "2011",
                    "2011",
                    "2011",
                    "2011",
                    "2011",
                    "2011",
                    "2011",
                    "2011",
                    "2011",
                    "2011",
                    "2011",
                    "2011",
                    "2011",
                    "2011",
                    "2011",
                    "2011",
                    "2011",
                    "2011",
                    "2011",
                    "2011",
                    "2011",
                    "2011",
                    "2011",
                    "2011",
                    "2011",
                    "2011",
                    "2011",
                    "2011",
                    "2011",
                    "2011",
                    "2011",
                    "2011",
                    "2011",
                    "2011",
                    "2011",
                    "2011",
                    "2011",
                    "2011",
                    "2011",
                    "2011",
                    "2011",
                    "2011",
                    "2011",
                    "2011",
                    "2011",
                    "2011",
                    "2011",
                    "2011",
                    "2011",
                    "2011",
                    "2011",
                    "2011",
                    "2011",
                    "2011",
                    "2011",
                    "2011",
                    "2011",
                    "2011",
                    "2011",
                    "2011",
                    "2011",
                    "2011",
                    "2011",
                    "2011",
                    "2011",
                    "2011",
                    "2011",
                    "2011",
                    "2011",
                    "2011",
                    "2011",
                    "2011",
                    "2011",
                    "2011",
                    "2011",
                    "2011",
                    "2011",
                    "2011",
                    "2011",
                    "2011",
                    "2011",
                    "2011",
                    "2011",
                    "2011",
                    "2011",
                    "2011",
                    "2011",
                    "2011",
                    "2011",
                    "2011",
                    "2011",
                    "2011",
                    "2011",
                    "2011",
                    "2011",
                    "2011",
                    "2011",
                    "2011",
                    "2011",
                    "2011",
                    "2011",
                    "2011",
                    "2011",
                    "2011",
                    "2011",
                    "2012",
                    "2012",
                    "2012",
                    "2012",
                    "2012",
                    "2012",
                    "2012",
                    "2012",
                    "2012",
                    "2012",
                    "2012",
                    "2012",
                    "2012",
                    "2012",
                    "2012",
                    "2012",
                    "2012",
                    "2012",
                    "2012",
                    "2012",
                    "2012",
                    "2012",
                    "2012",
                    "2012",
                    "2012",
                    "2012",
                    "2012",
                    "2012",
                    "2012",
                    "2012",
                    "2012",
                    "2012",
                    "2012",
                    "2012",
                    "2012",
                    "2012",
                    "2012",
                    "2012",
                    "2012",
                    "2012",
                    "2012",
                    "2012",
                    "2012",
                    "2012",
                    "2012",
                    "2012",
                    "2012",
                    "2012",
                    "2012",
                    "2012",
                    "2012",
                    "2012",
                    "2012",
                    "2012",
                    "2012",
                    "2012",
                    "2012",
                    "2012",
                    "2012",
                    "2012",
                    "2012",
                    "2012",
                    "2012",
                    "2012",
                    "2012",
                    "2012",
                    "2012",
                    "2012",
                    "2012",
                    "2012",
                    "2012",
                    "2012",
                    "2012",
                    "2012",
                    "2012",
                    "2012",
                    "2012",
                    "2012",
                    "2012",
                    "2012",
                    "2012",
                    "2012",
                    "2012",
                    "2012",
                    "2012",
                    "2012",
                    "2012",
                    "2012",
                    "2012",
                    "2012",
                    "2012",
                    "2012",
                    "2012",
                    "2012",
                    "2012",
                    "2012",
                    "2012",
                    "2012",
                    "2012",
                    "2012",
                    "2012",
                    "2012",
                    "2012",
                    "2012",
                    "2012",
                    "2012",
                    "2012",
                    "2012",
                    "2012",
                    "2012",
                    "2012",
                    "2012",
                    "2012",
                    "2012",
                    "2012",
                    "2012",
                    "2012",
                    "2012",
                    "2012",
                    "2012",
                    "2012",
                    "2012",
                    "2012",
                    "2012",
                    "2012",
                    "2012",
                    "2012",
                    "2012",
                    "2012",
                    "2012",
                    "2012",
                    "2012",
                    "2012",
                    "2012",
                    "2012",
                    "2012",
                    "2012",
                    "2012",
                    "2012",
                    "2012",
                    "2012",
                    "2012",
                    "2013",
                    "2013",
                    "2013"
                  ],
                  "xaxis": "x",
                  "yaxis": "y"
                }
              ],
              "layout": {
                "bargap": 0.05,
                "barmode": "relative",
                "legend": {
                  "tracegroupgap": 0
                },
                "template": {
                  "data": {
                    "bar": [
                      {
                        "error_x": {
                          "color": "#2a3f5f"
                        },
                        "error_y": {
                          "color": "#2a3f5f"
                        },
                        "marker": {
                          "line": {
                            "color": "#E5ECF6",
                            "width": 0.5
                          },
                          "pattern": {
                            "fillmode": "overlay",
                            "size": 10,
                            "solidity": 0.2
                          }
                        },
                        "type": "bar"
                      }
                    ],
                    "barpolar": [
                      {
                        "marker": {
                          "line": {
                            "color": "#E5ECF6",
                            "width": 0.5
                          },
                          "pattern": {
                            "fillmode": "overlay",
                            "size": 10,
                            "solidity": 0.2
                          }
                        },
                        "type": "barpolar"
                      }
                    ],
                    "carpet": [
                      {
                        "aaxis": {
                          "endlinecolor": "#2a3f5f",
                          "gridcolor": "white",
                          "linecolor": "white",
                          "minorgridcolor": "white",
                          "startlinecolor": "#2a3f5f"
                        },
                        "baxis": {
                          "endlinecolor": "#2a3f5f",
                          "gridcolor": "white",
                          "linecolor": "white",
                          "minorgridcolor": "white",
                          "startlinecolor": "#2a3f5f"
                        },
                        "type": "carpet"
                      }
                    ],
                    "choropleth": [
                      {
                        "colorbar": {
                          "outlinewidth": 0,
                          "ticks": ""
                        },
                        "type": "choropleth"
                      }
                    ],
                    "contour": [
                      {
                        "colorbar": {
                          "outlinewidth": 0,
                          "ticks": ""
                        },
                        "colorscale": [
                          [
                            0,
                            "#0d0887"
                          ],
                          [
                            0.1111111111111111,
                            "#46039f"
                          ],
                          [
                            0.2222222222222222,
                            "#7201a8"
                          ],
                          [
                            0.3333333333333333,
                            "#9c179e"
                          ],
                          [
                            0.4444444444444444,
                            "#bd3786"
                          ],
                          [
                            0.5555555555555556,
                            "#d8576b"
                          ],
                          [
                            0.6666666666666666,
                            "#ed7953"
                          ],
                          [
                            0.7777777777777778,
                            "#fb9f3a"
                          ],
                          [
                            0.8888888888888888,
                            "#fdca26"
                          ],
                          [
                            1,
                            "#f0f921"
                          ]
                        ],
                        "type": "contour"
                      }
                    ],
                    "contourcarpet": [
                      {
                        "colorbar": {
                          "outlinewidth": 0,
                          "ticks": ""
                        },
                        "type": "contourcarpet"
                      }
                    ],
                    "heatmap": [
                      {
                        "colorbar": {
                          "outlinewidth": 0,
                          "ticks": ""
                        },
                        "colorscale": [
                          [
                            0,
                            "#0d0887"
                          ],
                          [
                            0.1111111111111111,
                            "#46039f"
                          ],
                          [
                            0.2222222222222222,
                            "#7201a8"
                          ],
                          [
                            0.3333333333333333,
                            "#9c179e"
                          ],
                          [
                            0.4444444444444444,
                            "#bd3786"
                          ],
                          [
                            0.5555555555555556,
                            "#d8576b"
                          ],
                          [
                            0.6666666666666666,
                            "#ed7953"
                          ],
                          [
                            0.7777777777777778,
                            "#fb9f3a"
                          ],
                          [
                            0.8888888888888888,
                            "#fdca26"
                          ],
                          [
                            1,
                            "#f0f921"
                          ]
                        ],
                        "type": "heatmap"
                      }
                    ],
                    "heatmapgl": [
                      {
                        "colorbar": {
                          "outlinewidth": 0,
                          "ticks": ""
                        },
                        "colorscale": [
                          [
                            0,
                            "#0d0887"
                          ],
                          [
                            0.1111111111111111,
                            "#46039f"
                          ],
                          [
                            0.2222222222222222,
                            "#7201a8"
                          ],
                          [
                            0.3333333333333333,
                            "#9c179e"
                          ],
                          [
                            0.4444444444444444,
                            "#bd3786"
                          ],
                          [
                            0.5555555555555556,
                            "#d8576b"
                          ],
                          [
                            0.6666666666666666,
                            "#ed7953"
                          ],
                          [
                            0.7777777777777778,
                            "#fb9f3a"
                          ],
                          [
                            0.8888888888888888,
                            "#fdca26"
                          ],
                          [
                            1,
                            "#f0f921"
                          ]
                        ],
                        "type": "heatmapgl"
                      }
                    ],
                    "histogram": [
                      {
                        "marker": {
                          "pattern": {
                            "fillmode": "overlay",
                            "size": 10,
                            "solidity": 0.2
                          }
                        },
                        "type": "histogram"
                      }
                    ],
                    "histogram2d": [
                      {
                        "colorbar": {
                          "outlinewidth": 0,
                          "ticks": ""
                        },
                        "colorscale": [
                          [
                            0,
                            "#0d0887"
                          ],
                          [
                            0.1111111111111111,
                            "#46039f"
                          ],
                          [
                            0.2222222222222222,
                            "#7201a8"
                          ],
                          [
                            0.3333333333333333,
                            "#9c179e"
                          ],
                          [
                            0.4444444444444444,
                            "#bd3786"
                          ],
                          [
                            0.5555555555555556,
                            "#d8576b"
                          ],
                          [
                            0.6666666666666666,
                            "#ed7953"
                          ],
                          [
                            0.7777777777777778,
                            "#fb9f3a"
                          ],
                          [
                            0.8888888888888888,
                            "#fdca26"
                          ],
                          [
                            1,
                            "#f0f921"
                          ]
                        ],
                        "type": "histogram2d"
                      }
                    ],
                    "histogram2dcontour": [
                      {
                        "colorbar": {
                          "outlinewidth": 0,
                          "ticks": ""
                        },
                        "colorscale": [
                          [
                            0,
                            "#0d0887"
                          ],
                          [
                            0.1111111111111111,
                            "#46039f"
                          ],
                          [
                            0.2222222222222222,
                            "#7201a8"
                          ],
                          [
                            0.3333333333333333,
                            "#9c179e"
                          ],
                          [
                            0.4444444444444444,
                            "#bd3786"
                          ],
                          [
                            0.5555555555555556,
                            "#d8576b"
                          ],
                          [
                            0.6666666666666666,
                            "#ed7953"
                          ],
                          [
                            0.7777777777777778,
                            "#fb9f3a"
                          ],
                          [
                            0.8888888888888888,
                            "#fdca26"
                          ],
                          [
                            1,
                            "#f0f921"
                          ]
                        ],
                        "type": "histogram2dcontour"
                      }
                    ],
                    "mesh3d": [
                      {
                        "colorbar": {
                          "outlinewidth": 0,
                          "ticks": ""
                        },
                        "type": "mesh3d"
                      }
                    ],
                    "parcoords": [
                      {
                        "line": {
                          "colorbar": {
                            "outlinewidth": 0,
                            "ticks": ""
                          }
                        },
                        "type": "parcoords"
                      }
                    ],
                    "pie": [
                      {
                        "automargin": true,
                        "type": "pie"
                      }
                    ],
                    "scatter": [
                      {
                        "fillpattern": {
                          "fillmode": "overlay",
                          "size": 10,
                          "solidity": 0.2
                        },
                        "type": "scatter"
                      }
                    ],
                    "scatter3d": [
                      {
                        "line": {
                          "colorbar": {
                            "outlinewidth": 0,
                            "ticks": ""
                          }
                        },
                        "marker": {
                          "colorbar": {
                            "outlinewidth": 0,
                            "ticks": ""
                          }
                        },
                        "type": "scatter3d"
                      }
                    ],
                    "scattercarpet": [
                      {
                        "marker": {
                          "colorbar": {
                            "outlinewidth": 0,
                            "ticks": ""
                          }
                        },
                        "type": "scattercarpet"
                      }
                    ],
                    "scattergeo": [
                      {
                        "marker": {
                          "colorbar": {
                            "outlinewidth": 0,
                            "ticks": ""
                          }
                        },
                        "type": "scattergeo"
                      }
                    ],
                    "scattergl": [
                      {
                        "marker": {
                          "colorbar": {
                            "outlinewidth": 0,
                            "ticks": ""
                          }
                        },
                        "type": "scattergl"
                      }
                    ],
                    "scattermapbox": [
                      {
                        "marker": {
                          "colorbar": {
                            "outlinewidth": 0,
                            "ticks": ""
                          }
                        },
                        "type": "scattermapbox"
                      }
                    ],
                    "scatterpolar": [
                      {
                        "marker": {
                          "colorbar": {
                            "outlinewidth": 0,
                            "ticks": ""
                          }
                        },
                        "type": "scatterpolar"
                      }
                    ],
                    "scatterpolargl": [
                      {
                        "marker": {
                          "colorbar": {
                            "outlinewidth": 0,
                            "ticks": ""
                          }
                        },
                        "type": "scatterpolargl"
                      }
                    ],
                    "scatterternary": [
                      {
                        "marker": {
                          "colorbar": {
                            "outlinewidth": 0,
                            "ticks": ""
                          }
                        },
                        "type": "scatterternary"
                      }
                    ],
                    "surface": [
                      {
                        "colorbar": {
                          "outlinewidth": 0,
                          "ticks": ""
                        },
                        "colorscale": [
                          [
                            0,
                            "#0d0887"
                          ],
                          [
                            0.1111111111111111,
                            "#46039f"
                          ],
                          [
                            0.2222222222222222,
                            "#7201a8"
                          ],
                          [
                            0.3333333333333333,
                            "#9c179e"
                          ],
                          [
                            0.4444444444444444,
                            "#bd3786"
                          ],
                          [
                            0.5555555555555556,
                            "#d8576b"
                          ],
                          [
                            0.6666666666666666,
                            "#ed7953"
                          ],
                          [
                            0.7777777777777778,
                            "#fb9f3a"
                          ],
                          [
                            0.8888888888888888,
                            "#fdca26"
                          ],
                          [
                            1,
                            "#f0f921"
                          ]
                        ],
                        "type": "surface"
                      }
                    ],
                    "table": [
                      {
                        "cells": {
                          "fill": {
                            "color": "#EBF0F8"
                          },
                          "line": {
                            "color": "white"
                          }
                        },
                        "header": {
                          "fill": {
                            "color": "#C8D4E3"
                          },
                          "line": {
                            "color": "white"
                          }
                        },
                        "type": "table"
                      }
                    ]
                  },
                  "layout": {
                    "annotationdefaults": {
                      "arrowcolor": "#2a3f5f",
                      "arrowhead": 0,
                      "arrowwidth": 1
                    },
                    "autotypenumbers": "strict",
                    "coloraxis": {
                      "colorbar": {
                        "outlinewidth": 0,
                        "ticks": ""
                      }
                    },
                    "colorscale": {
                      "diverging": [
                        [
                          0,
                          "#8e0152"
                        ],
                        [
                          0.1,
                          "#c51b7d"
                        ],
                        [
                          0.2,
                          "#de77ae"
                        ],
                        [
                          0.3,
                          "#f1b6da"
                        ],
                        [
                          0.4,
                          "#fde0ef"
                        ],
                        [
                          0.5,
                          "#f7f7f7"
                        ],
                        [
                          0.6,
                          "#e6f5d0"
                        ],
                        [
                          0.7,
                          "#b8e186"
                        ],
                        [
                          0.8,
                          "#7fbc41"
                        ],
                        [
                          0.9,
                          "#4d9221"
                        ],
                        [
                          1,
                          "#276419"
                        ]
                      ],
                      "sequential": [
                        [
                          0,
                          "#0d0887"
                        ],
                        [
                          0.1111111111111111,
                          "#46039f"
                        ],
                        [
                          0.2222222222222222,
                          "#7201a8"
                        ],
                        [
                          0.3333333333333333,
                          "#9c179e"
                        ],
                        [
                          0.4444444444444444,
                          "#bd3786"
                        ],
                        [
                          0.5555555555555556,
                          "#d8576b"
                        ],
                        [
                          0.6666666666666666,
                          "#ed7953"
                        ],
                        [
                          0.7777777777777778,
                          "#fb9f3a"
                        ],
                        [
                          0.8888888888888888,
                          "#fdca26"
                        ],
                        [
                          1,
                          "#f0f921"
                        ]
                      ],
                      "sequentialminus": [
                        [
                          0,
                          "#0d0887"
                        ],
                        [
                          0.1111111111111111,
                          "#46039f"
                        ],
                        [
                          0.2222222222222222,
                          "#7201a8"
                        ],
                        [
                          0.3333333333333333,
                          "#9c179e"
                        ],
                        [
                          0.4444444444444444,
                          "#bd3786"
                        ],
                        [
                          0.5555555555555556,
                          "#d8576b"
                        ],
                        [
                          0.6666666666666666,
                          "#ed7953"
                        ],
                        [
                          0.7777777777777778,
                          "#fb9f3a"
                        ],
                        [
                          0.8888888888888888,
                          "#fdca26"
                        ],
                        [
                          1,
                          "#f0f921"
                        ]
                      ]
                    },
                    "colorway": [
                      "#636efa",
                      "#EF553B",
                      "#00cc96",
                      "#ab63fa",
                      "#FFA15A",
                      "#19d3f3",
                      "#FF6692",
                      "#B6E880",
                      "#FF97FF",
                      "#FECB52"
                    ],
                    "font": {
                      "color": "#2a3f5f"
                    },
                    "geo": {
                      "bgcolor": "white",
                      "lakecolor": "white",
                      "landcolor": "#E5ECF6",
                      "showlakes": true,
                      "showland": true,
                      "subunitcolor": "white"
                    },
                    "hoverlabel": {
                      "align": "left"
                    },
                    "hovermode": "closest",
                    "mapbox": {
                      "style": "light"
                    },
                    "paper_bgcolor": "white",
                    "plot_bgcolor": "#E5ECF6",
                    "polar": {
                      "angularaxis": {
                        "gridcolor": "white",
                        "linecolor": "white",
                        "ticks": ""
                      },
                      "bgcolor": "#E5ECF6",
                      "radialaxis": {
                        "gridcolor": "white",
                        "linecolor": "white",
                        "ticks": ""
                      }
                    },
                    "scene": {
                      "xaxis": {
                        "backgroundcolor": "#E5ECF6",
                        "gridcolor": "white",
                        "gridwidth": 2,
                        "linecolor": "white",
                        "showbackground": true,
                        "ticks": "",
                        "zerolinecolor": "white"
                      },
                      "yaxis": {
                        "backgroundcolor": "#E5ECF6",
                        "gridcolor": "white",
                        "gridwidth": 2,
                        "linecolor": "white",
                        "showbackground": true,
                        "ticks": "",
                        "zerolinecolor": "white"
                      },
                      "zaxis": {
                        "backgroundcolor": "#E5ECF6",
                        "gridcolor": "white",
                        "gridwidth": 2,
                        "linecolor": "white",
                        "showbackground": true,
                        "ticks": "",
                        "zerolinecolor": "white"
                      }
                    },
                    "shapedefaults": {
                      "line": {
                        "color": "#2a3f5f"
                      }
                    },
                    "ternary": {
                      "aaxis": {
                        "gridcolor": "white",
                        "linecolor": "white",
                        "ticks": ""
                      },
                      "baxis": {
                        "gridcolor": "white",
                        "linecolor": "white",
                        "ticks": ""
                      },
                      "bgcolor": "#E5ECF6",
                      "caxis": {
                        "gridcolor": "white",
                        "linecolor": "white",
                        "ticks": ""
                      }
                    },
                    "title": {
                      "x": 0.05
                    },
                    "xaxis": {
                      "automargin": true,
                      "gridcolor": "white",
                      "linecolor": "white",
                      "ticks": "",
                      "title": {
                        "standoff": 15
                      },
                      "zerolinecolor": "white",
                      "zerolinewidth": 2
                    },
                    "yaxis": {
                      "automargin": true,
                      "gridcolor": "white",
                      "linecolor": "white",
                      "ticks": "",
                      "title": {
                        "standoff": 15
                      },
                      "zerolinecolor": "white",
                      "zerolinewidth": 2
                    }
                  }
                },
                "title": {
                  "text": "Number of Terrorism-Related Movies Per Year"
                },
                "xaxis": {
                  "anchor": "y",
                  "domain": [
                    0,
                    1
                  ],
                  "tickangle": -45,
                  "title": {
                    "text": "Release Year"
                  }
                },
                "yaxis": {
                  "anchor": "x",
                  "domain": [
                    0,
                    1
                  ],
                  "title": {
                    "text": "Number of Movies"
                  }
                }
              }
            }
          },
          "metadata": {},
          "output_type": "display_data"
        }
      ],
      "source": [
        "# We drop the movies that have a NaN value in the release date column\n",
        "terrorism_movies.dropna(subset=['Release date'], inplace=True)\n",
        "\n",
        "# Create the histogram using Plotly Express\n",
        "fig = px.histogram(terrorism_movies, x='Release date',\n",
        "                   nbins=100,\n",
        "                   title='Number of Terrorism-Related Movies Per Year',\n",
        "                   color_discrete_sequence=['#21918c'])\n",
        "\n",
        "# Update layout for a better appearance\n",
        "fig.update_layout(\n",
        "    xaxis_title='Release Year',\n",
        "    yaxis_title='Number of Movies',\n",
        "    xaxis_tickangle=-45,\n",
        "    bargap=0.05 # Smaller gap between bars\n",
        ")\n",
        "\n",
        "# Show the figure\n",
        "fig.show()\n"
      ]
    },
    {
      "cell_type": "markdown",
      "metadata": {},
      "source": [
        "### 2.2 Terrorism-related movies per country"
      ]
    },
    {
      "cell_type": "markdown",
      "metadata": {},
      "source": [
        "We keep the n most represented countries in the visualisation. "
      ]
    },
    {
      "cell_type": "code",
      "execution_count": 13,
      "metadata": {},
      "outputs": [],
      "source": [
        "def plot_interactive_pie(df, column, title, n, color_palette):\n",
        "    counts = df[column].value_counts()\n",
        "    # Keep the top n and sum the rest under \"Others\"\n",
        "    top_counts = counts[:n]\n",
        "    top_counts['Others'] = counts[n:].sum()\n",
        "    fig = px.pie(values=top_counts, names=top_counts.index, title=title, \n",
        "                 color_discrete_sequence=color_palette)\n",
        "    fig.update_traces(textinfo='percent+label')\n",
        "    fig.show()"
      ]
    },
    {
      "cell_type": "code",
      "execution_count": 14,
      "metadata": {},
      "outputs": [
        {
          "data": {
            "application/vnd.plotly.v1+json": {
              "config": {
                "plotlyServerURL": "https://plot.ly"
              },
              "data": [
                {
                  "domain": {
                    "x": [
                      0,
                      1
                    ],
                    "y": [
                      0,
                      1
                    ]
                  },
                  "hovertemplate": "label=%{label}<br>value=%{value}<extra></extra>",
                  "labels": [
                    "United States of America",
                    "India",
                    "United Kingdom",
                    "Japan",
                    "Others"
                  ],
                  "legendgroup": "",
                  "name": "",
                  "showlegend": true,
                  "textinfo": "percent+label",
                  "type": "pie",
                  "values": [
                    3881,
                    883,
                    436,
                    361,
                    2580
                  ]
                }
              ],
              "layout": {
                "legend": {
                  "tracegroupgap": 0
                },
                "piecolorway": [
                  "#fde725",
                  "#5ec962",
                  "#21918c",
                  "#3b528b",
                  "#440154"
                ],
                "template": {
                  "data": {
                    "bar": [
                      {
                        "error_x": {
                          "color": "#2a3f5f"
                        },
                        "error_y": {
                          "color": "#2a3f5f"
                        },
                        "marker": {
                          "line": {
                            "color": "#E5ECF6",
                            "width": 0.5
                          },
                          "pattern": {
                            "fillmode": "overlay",
                            "size": 10,
                            "solidity": 0.2
                          }
                        },
                        "type": "bar"
                      }
                    ],
                    "barpolar": [
                      {
                        "marker": {
                          "line": {
                            "color": "#E5ECF6",
                            "width": 0.5
                          },
                          "pattern": {
                            "fillmode": "overlay",
                            "size": 10,
                            "solidity": 0.2
                          }
                        },
                        "type": "barpolar"
                      }
                    ],
                    "carpet": [
                      {
                        "aaxis": {
                          "endlinecolor": "#2a3f5f",
                          "gridcolor": "white",
                          "linecolor": "white",
                          "minorgridcolor": "white",
                          "startlinecolor": "#2a3f5f"
                        },
                        "baxis": {
                          "endlinecolor": "#2a3f5f",
                          "gridcolor": "white",
                          "linecolor": "white",
                          "minorgridcolor": "white",
                          "startlinecolor": "#2a3f5f"
                        },
                        "type": "carpet"
                      }
                    ],
                    "choropleth": [
                      {
                        "colorbar": {
                          "outlinewidth": 0,
                          "ticks": ""
                        },
                        "type": "choropleth"
                      }
                    ],
                    "contour": [
                      {
                        "colorbar": {
                          "outlinewidth": 0,
                          "ticks": ""
                        },
                        "colorscale": [
                          [
                            0,
                            "#0d0887"
                          ],
                          [
                            0.1111111111111111,
                            "#46039f"
                          ],
                          [
                            0.2222222222222222,
                            "#7201a8"
                          ],
                          [
                            0.3333333333333333,
                            "#9c179e"
                          ],
                          [
                            0.4444444444444444,
                            "#bd3786"
                          ],
                          [
                            0.5555555555555556,
                            "#d8576b"
                          ],
                          [
                            0.6666666666666666,
                            "#ed7953"
                          ],
                          [
                            0.7777777777777778,
                            "#fb9f3a"
                          ],
                          [
                            0.8888888888888888,
                            "#fdca26"
                          ],
                          [
                            1,
                            "#f0f921"
                          ]
                        ],
                        "type": "contour"
                      }
                    ],
                    "contourcarpet": [
                      {
                        "colorbar": {
                          "outlinewidth": 0,
                          "ticks": ""
                        },
                        "type": "contourcarpet"
                      }
                    ],
                    "heatmap": [
                      {
                        "colorbar": {
                          "outlinewidth": 0,
                          "ticks": ""
                        },
                        "colorscale": [
                          [
                            0,
                            "#0d0887"
                          ],
                          [
                            0.1111111111111111,
                            "#46039f"
                          ],
                          [
                            0.2222222222222222,
                            "#7201a8"
                          ],
                          [
                            0.3333333333333333,
                            "#9c179e"
                          ],
                          [
                            0.4444444444444444,
                            "#bd3786"
                          ],
                          [
                            0.5555555555555556,
                            "#d8576b"
                          ],
                          [
                            0.6666666666666666,
                            "#ed7953"
                          ],
                          [
                            0.7777777777777778,
                            "#fb9f3a"
                          ],
                          [
                            0.8888888888888888,
                            "#fdca26"
                          ],
                          [
                            1,
                            "#f0f921"
                          ]
                        ],
                        "type": "heatmap"
                      }
                    ],
                    "heatmapgl": [
                      {
                        "colorbar": {
                          "outlinewidth": 0,
                          "ticks": ""
                        },
                        "colorscale": [
                          [
                            0,
                            "#0d0887"
                          ],
                          [
                            0.1111111111111111,
                            "#46039f"
                          ],
                          [
                            0.2222222222222222,
                            "#7201a8"
                          ],
                          [
                            0.3333333333333333,
                            "#9c179e"
                          ],
                          [
                            0.4444444444444444,
                            "#bd3786"
                          ],
                          [
                            0.5555555555555556,
                            "#d8576b"
                          ],
                          [
                            0.6666666666666666,
                            "#ed7953"
                          ],
                          [
                            0.7777777777777778,
                            "#fb9f3a"
                          ],
                          [
                            0.8888888888888888,
                            "#fdca26"
                          ],
                          [
                            1,
                            "#f0f921"
                          ]
                        ],
                        "type": "heatmapgl"
                      }
                    ],
                    "histogram": [
                      {
                        "marker": {
                          "pattern": {
                            "fillmode": "overlay",
                            "size": 10,
                            "solidity": 0.2
                          }
                        },
                        "type": "histogram"
                      }
                    ],
                    "histogram2d": [
                      {
                        "colorbar": {
                          "outlinewidth": 0,
                          "ticks": ""
                        },
                        "colorscale": [
                          [
                            0,
                            "#0d0887"
                          ],
                          [
                            0.1111111111111111,
                            "#46039f"
                          ],
                          [
                            0.2222222222222222,
                            "#7201a8"
                          ],
                          [
                            0.3333333333333333,
                            "#9c179e"
                          ],
                          [
                            0.4444444444444444,
                            "#bd3786"
                          ],
                          [
                            0.5555555555555556,
                            "#d8576b"
                          ],
                          [
                            0.6666666666666666,
                            "#ed7953"
                          ],
                          [
                            0.7777777777777778,
                            "#fb9f3a"
                          ],
                          [
                            0.8888888888888888,
                            "#fdca26"
                          ],
                          [
                            1,
                            "#f0f921"
                          ]
                        ],
                        "type": "histogram2d"
                      }
                    ],
                    "histogram2dcontour": [
                      {
                        "colorbar": {
                          "outlinewidth": 0,
                          "ticks": ""
                        },
                        "colorscale": [
                          [
                            0,
                            "#0d0887"
                          ],
                          [
                            0.1111111111111111,
                            "#46039f"
                          ],
                          [
                            0.2222222222222222,
                            "#7201a8"
                          ],
                          [
                            0.3333333333333333,
                            "#9c179e"
                          ],
                          [
                            0.4444444444444444,
                            "#bd3786"
                          ],
                          [
                            0.5555555555555556,
                            "#d8576b"
                          ],
                          [
                            0.6666666666666666,
                            "#ed7953"
                          ],
                          [
                            0.7777777777777778,
                            "#fb9f3a"
                          ],
                          [
                            0.8888888888888888,
                            "#fdca26"
                          ],
                          [
                            1,
                            "#f0f921"
                          ]
                        ],
                        "type": "histogram2dcontour"
                      }
                    ],
                    "mesh3d": [
                      {
                        "colorbar": {
                          "outlinewidth": 0,
                          "ticks": ""
                        },
                        "type": "mesh3d"
                      }
                    ],
                    "parcoords": [
                      {
                        "line": {
                          "colorbar": {
                            "outlinewidth": 0,
                            "ticks": ""
                          }
                        },
                        "type": "parcoords"
                      }
                    ],
                    "pie": [
                      {
                        "automargin": true,
                        "type": "pie"
                      }
                    ],
                    "scatter": [
                      {
                        "fillpattern": {
                          "fillmode": "overlay",
                          "size": 10,
                          "solidity": 0.2
                        },
                        "type": "scatter"
                      }
                    ],
                    "scatter3d": [
                      {
                        "line": {
                          "colorbar": {
                            "outlinewidth": 0,
                            "ticks": ""
                          }
                        },
                        "marker": {
                          "colorbar": {
                            "outlinewidth": 0,
                            "ticks": ""
                          }
                        },
                        "type": "scatter3d"
                      }
                    ],
                    "scattercarpet": [
                      {
                        "marker": {
                          "colorbar": {
                            "outlinewidth": 0,
                            "ticks": ""
                          }
                        },
                        "type": "scattercarpet"
                      }
                    ],
                    "scattergeo": [
                      {
                        "marker": {
                          "colorbar": {
                            "outlinewidth": 0,
                            "ticks": ""
                          }
                        },
                        "type": "scattergeo"
                      }
                    ],
                    "scattergl": [
                      {
                        "marker": {
                          "colorbar": {
                            "outlinewidth": 0,
                            "ticks": ""
                          }
                        },
                        "type": "scattergl"
                      }
                    ],
                    "scattermapbox": [
                      {
                        "marker": {
                          "colorbar": {
                            "outlinewidth": 0,
                            "ticks": ""
                          }
                        },
                        "type": "scattermapbox"
                      }
                    ],
                    "scatterpolar": [
                      {
                        "marker": {
                          "colorbar": {
                            "outlinewidth": 0,
                            "ticks": ""
                          }
                        },
                        "type": "scatterpolar"
                      }
                    ],
                    "scatterpolargl": [
                      {
                        "marker": {
                          "colorbar": {
                            "outlinewidth": 0,
                            "ticks": ""
                          }
                        },
                        "type": "scatterpolargl"
                      }
                    ],
                    "scatterternary": [
                      {
                        "marker": {
                          "colorbar": {
                            "outlinewidth": 0,
                            "ticks": ""
                          }
                        },
                        "type": "scatterternary"
                      }
                    ],
                    "surface": [
                      {
                        "colorbar": {
                          "outlinewidth": 0,
                          "ticks": ""
                        },
                        "colorscale": [
                          [
                            0,
                            "#0d0887"
                          ],
                          [
                            0.1111111111111111,
                            "#46039f"
                          ],
                          [
                            0.2222222222222222,
                            "#7201a8"
                          ],
                          [
                            0.3333333333333333,
                            "#9c179e"
                          ],
                          [
                            0.4444444444444444,
                            "#bd3786"
                          ],
                          [
                            0.5555555555555556,
                            "#d8576b"
                          ],
                          [
                            0.6666666666666666,
                            "#ed7953"
                          ],
                          [
                            0.7777777777777778,
                            "#fb9f3a"
                          ],
                          [
                            0.8888888888888888,
                            "#fdca26"
                          ],
                          [
                            1,
                            "#f0f921"
                          ]
                        ],
                        "type": "surface"
                      }
                    ],
                    "table": [
                      {
                        "cells": {
                          "fill": {
                            "color": "#EBF0F8"
                          },
                          "line": {
                            "color": "white"
                          }
                        },
                        "header": {
                          "fill": {
                            "color": "#C8D4E3"
                          },
                          "line": {
                            "color": "white"
                          }
                        },
                        "type": "table"
                      }
                    ]
                  },
                  "layout": {
                    "annotationdefaults": {
                      "arrowcolor": "#2a3f5f",
                      "arrowhead": 0,
                      "arrowwidth": 1
                    },
                    "autotypenumbers": "strict",
                    "coloraxis": {
                      "colorbar": {
                        "outlinewidth": 0,
                        "ticks": ""
                      }
                    },
                    "colorscale": {
                      "diverging": [
                        [
                          0,
                          "#8e0152"
                        ],
                        [
                          0.1,
                          "#c51b7d"
                        ],
                        [
                          0.2,
                          "#de77ae"
                        ],
                        [
                          0.3,
                          "#f1b6da"
                        ],
                        [
                          0.4,
                          "#fde0ef"
                        ],
                        [
                          0.5,
                          "#f7f7f7"
                        ],
                        [
                          0.6,
                          "#e6f5d0"
                        ],
                        [
                          0.7,
                          "#b8e186"
                        ],
                        [
                          0.8,
                          "#7fbc41"
                        ],
                        [
                          0.9,
                          "#4d9221"
                        ],
                        [
                          1,
                          "#276419"
                        ]
                      ],
                      "sequential": [
                        [
                          0,
                          "#0d0887"
                        ],
                        [
                          0.1111111111111111,
                          "#46039f"
                        ],
                        [
                          0.2222222222222222,
                          "#7201a8"
                        ],
                        [
                          0.3333333333333333,
                          "#9c179e"
                        ],
                        [
                          0.4444444444444444,
                          "#bd3786"
                        ],
                        [
                          0.5555555555555556,
                          "#d8576b"
                        ],
                        [
                          0.6666666666666666,
                          "#ed7953"
                        ],
                        [
                          0.7777777777777778,
                          "#fb9f3a"
                        ],
                        [
                          0.8888888888888888,
                          "#fdca26"
                        ],
                        [
                          1,
                          "#f0f921"
                        ]
                      ],
                      "sequentialminus": [
                        [
                          0,
                          "#0d0887"
                        ],
                        [
                          0.1111111111111111,
                          "#46039f"
                        ],
                        [
                          0.2222222222222222,
                          "#7201a8"
                        ],
                        [
                          0.3333333333333333,
                          "#9c179e"
                        ],
                        [
                          0.4444444444444444,
                          "#bd3786"
                        ],
                        [
                          0.5555555555555556,
                          "#d8576b"
                        ],
                        [
                          0.6666666666666666,
                          "#ed7953"
                        ],
                        [
                          0.7777777777777778,
                          "#fb9f3a"
                        ],
                        [
                          0.8888888888888888,
                          "#fdca26"
                        ],
                        [
                          1,
                          "#f0f921"
                        ]
                      ]
                    },
                    "colorway": [
                      "#636efa",
                      "#EF553B",
                      "#00cc96",
                      "#ab63fa",
                      "#FFA15A",
                      "#19d3f3",
                      "#FF6692",
                      "#B6E880",
                      "#FF97FF",
                      "#FECB52"
                    ],
                    "font": {
                      "color": "#2a3f5f"
                    },
                    "geo": {
                      "bgcolor": "white",
                      "lakecolor": "white",
                      "landcolor": "#E5ECF6",
                      "showlakes": true,
                      "showland": true,
                      "subunitcolor": "white"
                    },
                    "hoverlabel": {
                      "align": "left"
                    },
                    "hovermode": "closest",
                    "mapbox": {
                      "style": "light"
                    },
                    "paper_bgcolor": "white",
                    "plot_bgcolor": "#E5ECF6",
                    "polar": {
                      "angularaxis": {
                        "gridcolor": "white",
                        "linecolor": "white",
                        "ticks": ""
                      },
                      "bgcolor": "#E5ECF6",
                      "radialaxis": {
                        "gridcolor": "white",
                        "linecolor": "white",
                        "ticks": ""
                      }
                    },
                    "scene": {
                      "xaxis": {
                        "backgroundcolor": "#E5ECF6",
                        "gridcolor": "white",
                        "gridwidth": 2,
                        "linecolor": "white",
                        "showbackground": true,
                        "ticks": "",
                        "zerolinecolor": "white"
                      },
                      "yaxis": {
                        "backgroundcolor": "#E5ECF6",
                        "gridcolor": "white",
                        "gridwidth": 2,
                        "linecolor": "white",
                        "showbackground": true,
                        "ticks": "",
                        "zerolinecolor": "white"
                      },
                      "zaxis": {
                        "backgroundcolor": "#E5ECF6",
                        "gridcolor": "white",
                        "gridwidth": 2,
                        "linecolor": "white",
                        "showbackground": true,
                        "ticks": "",
                        "zerolinecolor": "white"
                      }
                    },
                    "shapedefaults": {
                      "line": {
                        "color": "#2a3f5f"
                      }
                    },
                    "ternary": {
                      "aaxis": {
                        "gridcolor": "white",
                        "linecolor": "white",
                        "ticks": ""
                      },
                      "baxis": {
                        "gridcolor": "white",
                        "linecolor": "white",
                        "ticks": ""
                      },
                      "bgcolor": "#E5ECF6",
                      "caxis": {
                        "gridcolor": "white",
                        "linecolor": "white",
                        "ticks": ""
                      }
                    },
                    "title": {
                      "x": 0.05
                    },
                    "xaxis": {
                      "automargin": true,
                      "gridcolor": "white",
                      "linecolor": "white",
                      "ticks": "",
                      "title": {
                        "standoff": 15
                      },
                      "zerolinecolor": "white",
                      "zerolinewidth": 2
                    },
                    "yaxis": {
                      "automargin": true,
                      "gridcolor": "white",
                      "linecolor": "white",
                      "ticks": "",
                      "title": {
                        "standoff": 15
                      },
                      "zerolinecolor": "white",
                      "zerolinewidth": 2
                    }
                  }
                },
                "title": {
                  "text": "Percentage of Movies on terrorism per Country"
                }
              }
            }
          },
          "metadata": {},
          "output_type": "display_data"
        }
      ],
      "source": [
        "#Removing the NaN values from the Countries column\n",
        "df_terrorism_summaries = df_terrorism_summaries[df_terrorism_summaries['Countries'] != '']\n",
        "\n",
        "exploded = df_terrorism_summaries.explode('Countries')\n",
        "\n",
        "color_palette_pie = ['#fde725', '#5ec962', '#21918c', '#3b528b', '#440154']\n",
        "plot_interactive_pie(exploded, 'Countries', 'Percentage of Movies on terrorism per Country', 4, color_palette_pie)"
      ]
    },
    {
      "cell_type": "code",
      "execution_count": 15,
      "metadata": {},
      "outputs": [
        {
          "data": {
            "application/vnd.plotly.v1+json": {
              "config": {
                "plotlyServerURL": "https://plot.ly"
              },
              "data": [
                {
                  "autocolorscale": false,
                  "colorbar": {
                    "title": {
                      "text": "Number of Movies"
                    }
                  },
                  "colorscale": [
                    [
                      0,
                      "#440154"
                    ],
                    [
                      0.1111111111111111,
                      "#482878"
                    ],
                    [
                      0.2222222222222222,
                      "#3e4989"
                    ],
                    [
                      0.3333333333333333,
                      "#31688e"
                    ],
                    [
                      0.4444444444444444,
                      "#26828e"
                    ],
                    [
                      0.5555555555555556,
                      "#1f9e89"
                    ],
                    [
                      0.6666666666666666,
                      "#35b779"
                    ],
                    [
                      0.7777777777777778,
                      "#6ece58"
                    ],
                    [
                      0.8888888888888888,
                      "#b5de2b"
                    ],
                    [
                      1,
                      "#fde725"
                    ]
                  ],
                  "locations": [
                    "ARG",
                    "AUS",
                    "AUT",
                    "BEL",
                    "BGD",
                    "BGR",
                    "BRA",
                    "CAN",
                    "CHE",
                    "CHL",
                    "CHN",
                    "CMR",
                    "COL",
                    "CZE",
                    "DEU",
                    "DNK",
                    "EGY",
                    "ESP",
                    "EST",
                    "FIN",
                    "FRA",
                    "GBR",
                    "GRC",
                    "HKG",
                    "HRV",
                    "HUN",
                    "IDN",
                    "IND",
                    "IRL",
                    "IRN",
                    "ISR",
                    "ITA",
                    "JPN",
                    "KEN",
                    "KHM",
                    "KOR",
                    "LBN",
                    "LKA",
                    "MAR",
                    "MEX",
                    "MYS",
                    "NLD",
                    "NOR",
                    "NPL",
                    "NZL",
                    "PAK",
                    "PER",
                    "PHL",
                    "POL",
                    "PRI",
                    "ROU",
                    "SEN",
                    "SGP",
                    "SVN",
                    "SWE",
                    "THA",
                    "TUN",
                    "TWN",
                    "URY",
                    "USA",
                    "VEN",
                    "VNM",
                    "ZAF"
                  ],
                  "marker": {
                    "line": {
                      "color": "darkgray",
                      "width": 0.5
                    }
                  },
                  "reversescale": false,
                  "text": [
                    "ARG",
                    "AUS",
                    "AUT",
                    "BEL",
                    "BGD",
                    "BGR",
                    "BRA",
                    "CAN",
                    "CHE",
                    "CHL",
                    "CHN",
                    "CMR",
                    "COL",
                    "CZE",
                    "DEU",
                    "DNK",
                    "EGY",
                    "ESP",
                    "EST",
                    "FIN",
                    "FRA",
                    "GBR",
                    "GRC",
                    "HKG",
                    "HRV",
                    "HUN",
                    "IDN",
                    "IND",
                    "IRL",
                    "IRN",
                    "ISR",
                    "ITA",
                    "JPN",
                    "KEN",
                    "KHM",
                    "KOR",
                    "LBN",
                    "LKA",
                    "MAR",
                    "MEX",
                    "MYS",
                    "NLD",
                    "NOR",
                    "NPL",
                    "NZL",
                    "PAK",
                    "PER",
                    "PHL",
                    "POL",
                    "PRI",
                    "ROU",
                    "SEN",
                    "SGP",
                    "SVN",
                    "SWE",
                    "THA",
                    "TUN",
                    "TWN",
                    "URY",
                    "USA",
                    "VEN",
                    "VNM",
                    "ZAF"
                  ],
                  "type": "choropleth",
                  "z": [
                    14,
                    60,
                    1,
                    4,
                    1,
                    1,
                    17,
                    111,
                    1,
                    1,
                    23,
                    1,
                    6,
                    1,
                    40,
                    8,
                    4,
                    41,
                    1,
                    1,
                    94,
                    436,
                    3,
                    132,
                    3,
                    4,
                    11,
                    883,
                    3,
                    7,
                    6,
                    108,
                    361,
                    1,
                    5,
                    63,
                    1,
                    2,
                    1,
                    20,
                    13,
                    14,
                    7,
                    1,
                    8,
                    13,
                    1,
                    28,
                    5,
                    1,
                    4,
                    2,
                    5,
                    1,
                    18,
                    30,
                    1,
                    6,
                    2,
                    3881,
                    2,
                    1,
                    12
                  ]
                }
              ],
              "layout": {
                "geo": {
                  "projection": {
                    "type": "equirectangular"
                  },
                  "showcoastlines": false,
                  "showframe": false
                },
                "template": {
                  "data": {
                    "bar": [
                      {
                        "error_x": {
                          "color": "#2a3f5f"
                        },
                        "error_y": {
                          "color": "#2a3f5f"
                        },
                        "marker": {
                          "line": {
                            "color": "#E5ECF6",
                            "width": 0.5
                          },
                          "pattern": {
                            "fillmode": "overlay",
                            "size": 10,
                            "solidity": 0.2
                          }
                        },
                        "type": "bar"
                      }
                    ],
                    "barpolar": [
                      {
                        "marker": {
                          "line": {
                            "color": "#E5ECF6",
                            "width": 0.5
                          },
                          "pattern": {
                            "fillmode": "overlay",
                            "size": 10,
                            "solidity": 0.2
                          }
                        },
                        "type": "barpolar"
                      }
                    ],
                    "carpet": [
                      {
                        "aaxis": {
                          "endlinecolor": "#2a3f5f",
                          "gridcolor": "white",
                          "linecolor": "white",
                          "minorgridcolor": "white",
                          "startlinecolor": "#2a3f5f"
                        },
                        "baxis": {
                          "endlinecolor": "#2a3f5f",
                          "gridcolor": "white",
                          "linecolor": "white",
                          "minorgridcolor": "white",
                          "startlinecolor": "#2a3f5f"
                        },
                        "type": "carpet"
                      }
                    ],
                    "choropleth": [
                      {
                        "colorbar": {
                          "outlinewidth": 0,
                          "ticks": ""
                        },
                        "type": "choropleth"
                      }
                    ],
                    "contour": [
                      {
                        "colorbar": {
                          "outlinewidth": 0,
                          "ticks": ""
                        },
                        "colorscale": [
                          [
                            0,
                            "#0d0887"
                          ],
                          [
                            0.1111111111111111,
                            "#46039f"
                          ],
                          [
                            0.2222222222222222,
                            "#7201a8"
                          ],
                          [
                            0.3333333333333333,
                            "#9c179e"
                          ],
                          [
                            0.4444444444444444,
                            "#bd3786"
                          ],
                          [
                            0.5555555555555556,
                            "#d8576b"
                          ],
                          [
                            0.6666666666666666,
                            "#ed7953"
                          ],
                          [
                            0.7777777777777778,
                            "#fb9f3a"
                          ],
                          [
                            0.8888888888888888,
                            "#fdca26"
                          ],
                          [
                            1,
                            "#f0f921"
                          ]
                        ],
                        "type": "contour"
                      }
                    ],
                    "contourcarpet": [
                      {
                        "colorbar": {
                          "outlinewidth": 0,
                          "ticks": ""
                        },
                        "type": "contourcarpet"
                      }
                    ],
                    "heatmap": [
                      {
                        "colorbar": {
                          "outlinewidth": 0,
                          "ticks": ""
                        },
                        "colorscale": [
                          [
                            0,
                            "#0d0887"
                          ],
                          [
                            0.1111111111111111,
                            "#46039f"
                          ],
                          [
                            0.2222222222222222,
                            "#7201a8"
                          ],
                          [
                            0.3333333333333333,
                            "#9c179e"
                          ],
                          [
                            0.4444444444444444,
                            "#bd3786"
                          ],
                          [
                            0.5555555555555556,
                            "#d8576b"
                          ],
                          [
                            0.6666666666666666,
                            "#ed7953"
                          ],
                          [
                            0.7777777777777778,
                            "#fb9f3a"
                          ],
                          [
                            0.8888888888888888,
                            "#fdca26"
                          ],
                          [
                            1,
                            "#f0f921"
                          ]
                        ],
                        "type": "heatmap"
                      }
                    ],
                    "heatmapgl": [
                      {
                        "colorbar": {
                          "outlinewidth": 0,
                          "ticks": ""
                        },
                        "colorscale": [
                          [
                            0,
                            "#0d0887"
                          ],
                          [
                            0.1111111111111111,
                            "#46039f"
                          ],
                          [
                            0.2222222222222222,
                            "#7201a8"
                          ],
                          [
                            0.3333333333333333,
                            "#9c179e"
                          ],
                          [
                            0.4444444444444444,
                            "#bd3786"
                          ],
                          [
                            0.5555555555555556,
                            "#d8576b"
                          ],
                          [
                            0.6666666666666666,
                            "#ed7953"
                          ],
                          [
                            0.7777777777777778,
                            "#fb9f3a"
                          ],
                          [
                            0.8888888888888888,
                            "#fdca26"
                          ],
                          [
                            1,
                            "#f0f921"
                          ]
                        ],
                        "type": "heatmapgl"
                      }
                    ],
                    "histogram": [
                      {
                        "marker": {
                          "pattern": {
                            "fillmode": "overlay",
                            "size": 10,
                            "solidity": 0.2
                          }
                        },
                        "type": "histogram"
                      }
                    ],
                    "histogram2d": [
                      {
                        "colorbar": {
                          "outlinewidth": 0,
                          "ticks": ""
                        },
                        "colorscale": [
                          [
                            0,
                            "#0d0887"
                          ],
                          [
                            0.1111111111111111,
                            "#46039f"
                          ],
                          [
                            0.2222222222222222,
                            "#7201a8"
                          ],
                          [
                            0.3333333333333333,
                            "#9c179e"
                          ],
                          [
                            0.4444444444444444,
                            "#bd3786"
                          ],
                          [
                            0.5555555555555556,
                            "#d8576b"
                          ],
                          [
                            0.6666666666666666,
                            "#ed7953"
                          ],
                          [
                            0.7777777777777778,
                            "#fb9f3a"
                          ],
                          [
                            0.8888888888888888,
                            "#fdca26"
                          ],
                          [
                            1,
                            "#f0f921"
                          ]
                        ],
                        "type": "histogram2d"
                      }
                    ],
                    "histogram2dcontour": [
                      {
                        "colorbar": {
                          "outlinewidth": 0,
                          "ticks": ""
                        },
                        "colorscale": [
                          [
                            0,
                            "#0d0887"
                          ],
                          [
                            0.1111111111111111,
                            "#46039f"
                          ],
                          [
                            0.2222222222222222,
                            "#7201a8"
                          ],
                          [
                            0.3333333333333333,
                            "#9c179e"
                          ],
                          [
                            0.4444444444444444,
                            "#bd3786"
                          ],
                          [
                            0.5555555555555556,
                            "#d8576b"
                          ],
                          [
                            0.6666666666666666,
                            "#ed7953"
                          ],
                          [
                            0.7777777777777778,
                            "#fb9f3a"
                          ],
                          [
                            0.8888888888888888,
                            "#fdca26"
                          ],
                          [
                            1,
                            "#f0f921"
                          ]
                        ],
                        "type": "histogram2dcontour"
                      }
                    ],
                    "mesh3d": [
                      {
                        "colorbar": {
                          "outlinewidth": 0,
                          "ticks": ""
                        },
                        "type": "mesh3d"
                      }
                    ],
                    "parcoords": [
                      {
                        "line": {
                          "colorbar": {
                            "outlinewidth": 0,
                            "ticks": ""
                          }
                        },
                        "type": "parcoords"
                      }
                    ],
                    "pie": [
                      {
                        "automargin": true,
                        "type": "pie"
                      }
                    ],
                    "scatter": [
                      {
                        "fillpattern": {
                          "fillmode": "overlay",
                          "size": 10,
                          "solidity": 0.2
                        },
                        "type": "scatter"
                      }
                    ],
                    "scatter3d": [
                      {
                        "line": {
                          "colorbar": {
                            "outlinewidth": 0,
                            "ticks": ""
                          }
                        },
                        "marker": {
                          "colorbar": {
                            "outlinewidth": 0,
                            "ticks": ""
                          }
                        },
                        "type": "scatter3d"
                      }
                    ],
                    "scattercarpet": [
                      {
                        "marker": {
                          "colorbar": {
                            "outlinewidth": 0,
                            "ticks": ""
                          }
                        },
                        "type": "scattercarpet"
                      }
                    ],
                    "scattergeo": [
                      {
                        "marker": {
                          "colorbar": {
                            "outlinewidth": 0,
                            "ticks": ""
                          }
                        },
                        "type": "scattergeo"
                      }
                    ],
                    "scattergl": [
                      {
                        "marker": {
                          "colorbar": {
                            "outlinewidth": 0,
                            "ticks": ""
                          }
                        },
                        "type": "scattergl"
                      }
                    ],
                    "scattermapbox": [
                      {
                        "marker": {
                          "colorbar": {
                            "outlinewidth": 0,
                            "ticks": ""
                          }
                        },
                        "type": "scattermapbox"
                      }
                    ],
                    "scatterpolar": [
                      {
                        "marker": {
                          "colorbar": {
                            "outlinewidth": 0,
                            "ticks": ""
                          }
                        },
                        "type": "scatterpolar"
                      }
                    ],
                    "scatterpolargl": [
                      {
                        "marker": {
                          "colorbar": {
                            "outlinewidth": 0,
                            "ticks": ""
                          }
                        },
                        "type": "scatterpolargl"
                      }
                    ],
                    "scatterternary": [
                      {
                        "marker": {
                          "colorbar": {
                            "outlinewidth": 0,
                            "ticks": ""
                          }
                        },
                        "type": "scatterternary"
                      }
                    ],
                    "surface": [
                      {
                        "colorbar": {
                          "outlinewidth": 0,
                          "ticks": ""
                        },
                        "colorscale": [
                          [
                            0,
                            "#0d0887"
                          ],
                          [
                            0.1111111111111111,
                            "#46039f"
                          ],
                          [
                            0.2222222222222222,
                            "#7201a8"
                          ],
                          [
                            0.3333333333333333,
                            "#9c179e"
                          ],
                          [
                            0.4444444444444444,
                            "#bd3786"
                          ],
                          [
                            0.5555555555555556,
                            "#d8576b"
                          ],
                          [
                            0.6666666666666666,
                            "#ed7953"
                          ],
                          [
                            0.7777777777777778,
                            "#fb9f3a"
                          ],
                          [
                            0.8888888888888888,
                            "#fdca26"
                          ],
                          [
                            1,
                            "#f0f921"
                          ]
                        ],
                        "type": "surface"
                      }
                    ],
                    "table": [
                      {
                        "cells": {
                          "fill": {
                            "color": "#EBF0F8"
                          },
                          "line": {
                            "color": "white"
                          }
                        },
                        "header": {
                          "fill": {
                            "color": "#C8D4E3"
                          },
                          "line": {
                            "color": "white"
                          }
                        },
                        "type": "table"
                      }
                    ]
                  },
                  "layout": {
                    "annotationdefaults": {
                      "arrowcolor": "#2a3f5f",
                      "arrowhead": 0,
                      "arrowwidth": 1
                    },
                    "autotypenumbers": "strict",
                    "coloraxis": {
                      "colorbar": {
                        "outlinewidth": 0,
                        "ticks": ""
                      }
                    },
                    "colorscale": {
                      "diverging": [
                        [
                          0,
                          "#8e0152"
                        ],
                        [
                          0.1,
                          "#c51b7d"
                        ],
                        [
                          0.2,
                          "#de77ae"
                        ],
                        [
                          0.3,
                          "#f1b6da"
                        ],
                        [
                          0.4,
                          "#fde0ef"
                        ],
                        [
                          0.5,
                          "#f7f7f7"
                        ],
                        [
                          0.6,
                          "#e6f5d0"
                        ],
                        [
                          0.7,
                          "#b8e186"
                        ],
                        [
                          0.8,
                          "#7fbc41"
                        ],
                        [
                          0.9,
                          "#4d9221"
                        ],
                        [
                          1,
                          "#276419"
                        ]
                      ],
                      "sequential": [
                        [
                          0,
                          "#0d0887"
                        ],
                        [
                          0.1111111111111111,
                          "#46039f"
                        ],
                        [
                          0.2222222222222222,
                          "#7201a8"
                        ],
                        [
                          0.3333333333333333,
                          "#9c179e"
                        ],
                        [
                          0.4444444444444444,
                          "#bd3786"
                        ],
                        [
                          0.5555555555555556,
                          "#d8576b"
                        ],
                        [
                          0.6666666666666666,
                          "#ed7953"
                        ],
                        [
                          0.7777777777777778,
                          "#fb9f3a"
                        ],
                        [
                          0.8888888888888888,
                          "#fdca26"
                        ],
                        [
                          1,
                          "#f0f921"
                        ]
                      ],
                      "sequentialminus": [
                        [
                          0,
                          "#0d0887"
                        ],
                        [
                          0.1111111111111111,
                          "#46039f"
                        ],
                        [
                          0.2222222222222222,
                          "#7201a8"
                        ],
                        [
                          0.3333333333333333,
                          "#9c179e"
                        ],
                        [
                          0.4444444444444444,
                          "#bd3786"
                        ],
                        [
                          0.5555555555555556,
                          "#d8576b"
                        ],
                        [
                          0.6666666666666666,
                          "#ed7953"
                        ],
                        [
                          0.7777777777777778,
                          "#fb9f3a"
                        ],
                        [
                          0.8888888888888888,
                          "#fdca26"
                        ],
                        [
                          1,
                          "#f0f921"
                        ]
                      ]
                    },
                    "colorway": [
                      "#636efa",
                      "#EF553B",
                      "#00cc96",
                      "#ab63fa",
                      "#FFA15A",
                      "#19d3f3",
                      "#FF6692",
                      "#B6E880",
                      "#FF97FF",
                      "#FECB52"
                    ],
                    "font": {
                      "color": "#2a3f5f"
                    },
                    "geo": {
                      "bgcolor": "white",
                      "lakecolor": "white",
                      "landcolor": "#E5ECF6",
                      "showlakes": true,
                      "showland": true,
                      "subunitcolor": "white"
                    },
                    "hoverlabel": {
                      "align": "left"
                    },
                    "hovermode": "closest",
                    "mapbox": {
                      "style": "light"
                    },
                    "paper_bgcolor": "white",
                    "plot_bgcolor": "#E5ECF6",
                    "polar": {
                      "angularaxis": {
                        "gridcolor": "white",
                        "linecolor": "white",
                        "ticks": ""
                      },
                      "bgcolor": "#E5ECF6",
                      "radialaxis": {
                        "gridcolor": "white",
                        "linecolor": "white",
                        "ticks": ""
                      }
                    },
                    "scene": {
                      "xaxis": {
                        "backgroundcolor": "#E5ECF6",
                        "gridcolor": "white",
                        "gridwidth": 2,
                        "linecolor": "white",
                        "showbackground": true,
                        "ticks": "",
                        "zerolinecolor": "white"
                      },
                      "yaxis": {
                        "backgroundcolor": "#E5ECF6",
                        "gridcolor": "white",
                        "gridwidth": 2,
                        "linecolor": "white",
                        "showbackground": true,
                        "ticks": "",
                        "zerolinecolor": "white"
                      },
                      "zaxis": {
                        "backgroundcolor": "#E5ECF6",
                        "gridcolor": "white",
                        "gridwidth": 2,
                        "linecolor": "white",
                        "showbackground": true,
                        "ticks": "",
                        "zerolinecolor": "white"
                      }
                    },
                    "shapedefaults": {
                      "line": {
                        "color": "#2a3f5f"
                      }
                    },
                    "ternary": {
                      "aaxis": {
                        "gridcolor": "white",
                        "linecolor": "white",
                        "ticks": ""
                      },
                      "baxis": {
                        "gridcolor": "white",
                        "linecolor": "white",
                        "ticks": ""
                      },
                      "bgcolor": "#E5ECF6",
                      "caxis": {
                        "gridcolor": "white",
                        "linecolor": "white",
                        "ticks": ""
                      }
                    },
                    "title": {
                      "x": 0.05
                    },
                    "xaxis": {
                      "automargin": true,
                      "gridcolor": "white",
                      "linecolor": "white",
                      "ticks": "",
                      "title": {
                        "standoff": 15
                      },
                      "zerolinecolor": "white",
                      "zerolinewidth": 2
                    },
                    "yaxis": {
                      "automargin": true,
                      "gridcolor": "white",
                      "linecolor": "white",
                      "ticks": "",
                      "title": {
                        "standoff": 15
                      },
                      "zerolinecolor": "white",
                      "zerolinewidth": 2
                    }
                  }
                },
                "title": {
                  "text": "Number of Terrorism-related Movies per Country"
                }
              }
            }
          },
          "metadata": {},
          "output_type": "display_data"
        }
      ],
      "source": [
        "import pycountry\n",
        "import plotly.graph_objects as go\n",
        "\n",
        "#to be able to use Plotly's Choropleth map function\n",
        "def get_iso_code(country_name):\n",
        "    try:\n",
        "        return pycountry.countries.lookup(country_name).alpha_3\n",
        "    except LookupError:\n",
        "        return None  # If the country name is not found, return None\n",
        "\n",
        "# Apply the function to get ISO codes\n",
        "df_terrorism_summaries['iso_alpha'] = df_terrorism_summaries['Countries'].apply(get_iso_code)\n",
        "\n",
        "# create a Choropleth map:\n",
        "\n",
        "# Group by 'iso_alpha' to get the count of movies per country code\n",
        "movie_counts = df_terrorism_summaries.groupby('iso_alpha').size().reset_index(name='Movie Count')\n",
        "\n",
        "# Create the Choropleth map\n",
        "fig = go.Figure(data=go.Choropleth(\n",
        "    locations=movie_counts['iso_alpha'],  # ISO codes for countries\n",
        "    z=movie_counts['Movie Count'],  # Data to be color-coded\n",
        "    text=movie_counts['iso_alpha'],  # Country codes\n",
        "    colorscale='Viridis',\n",
        "    autocolorscale=False,\n",
        "    reversescale=False,\n",
        "    marker_line_color='darkgray',\n",
        "    marker_line_width=0.5,\n",
        "    colorbar_title='Number of Movies',\n",
        "))\n",
        "\n",
        "fig.update_layout(\n",
        "    title_text='Number of Terrorism-related Movies per Country',\n",
        "    geo=dict(\n",
        "        showframe=False,\n",
        "        showcoastlines=False,\n",
        "        projection_type='equirectangular'\n",
        "    ),\n",
        ")\n",
        "fig.show()"
      ]
    },
    {
      "cell_type": "markdown",
      "metadata": {},
      "source": [
        "## 4. Are there specific genres associated to terrorism movies?\n",
        "\n",
        "Each movie is associated with various genres. The genre of a movie is a way to categorize it. It reflects the movie’s narrative elements, thematic content, stylistic approach, and the emotional response it aims to evoke in the audience. It allows audiences and film-makers to understand the type of content they can expect from a movie. \n",
        "\n",
        "Below, we describe each method that we will be using to analyze the association between genres and terrorism movies.\n",
        "For each method, we describe what the method does, why it is interesting in the context of genres and terrorism movies and how it works.\n",
        "\n",
        "We also do the necessary data pre-processing for each method, as well as the first visualizations.\n",
        "\n",
        "The analysis is in three parts: Frequency analysis, heatmap of counts of movies of certain genres of different countries, and a chi-squared independence test."
      ]
    },
    {
      "cell_type": "markdown",
      "metadata": {},
      "source": [
        "### 4.1 Frequency Analysis\n",
        "__What It Does__: Frequency analysis counts how often each genre appears in movies about terrorism vs in non-terrorism movies.\n",
        "\n",
        "__Why It’s Interesting__: This method would provide a clear, quantitative measure of the association between genres and terrorism-themed movies. It could reveal if terrorism movies are associated with certain genres, like action or drama.\n",
        "\n",
        "__How It Works__: We first filter our dataset for movies that are classified as related to terrorism. We do this by keyword search within movie descriptions. We define a list of keywords that are associated with terrorism, then only keep the movies whose plot contains at least one of these keywords. Then, we count the frequency of each genre within this subset and compare it to the overall frequency of genres in the entire dataset.\n",
        "\n",
        "__Data Pre-Processing and Visualization__: We need to write a code that allows to count the genres. We also do a visualization of the top 10 most common genres in non-terrorism movies vs in terrorism-related movies."
      ]
    },
    {
      "cell_type": "markdown",
      "metadata": {},
      "source": [
        "We want to compare the frequency of genres between terrorism-related movies and non-terrorism-related movies."
      ]
    },
    {
      "cell_type": "code",
      "execution_count": 16,
      "metadata": {},
      "outputs": [
        {
          "name": "stdout",
          "output_type": "stream",
          "text": [
            "Number of terrorism-related movies: 8626\n",
            "Number of non terrorism-related movies: 73114\n"
          ]
        }
      ],
      "source": [
        "#Non-terrorism movies in their original format\n",
        "non_terrorism_movies = m_data_copy[~m_data_copy['W_movie ID'].isin(movie_ids)]\n",
        "#Terrorism movies in their original format\n",
        "t_movies = m_data_copy[m_data_copy['W_movie ID'].isin(movie_ids)][['W_movie ID','Movie name', 'Release date','Countries', 'Languages', 'Genres','Box office revenue']]\n",
        "t_movies = t_movies.sort_values(by=['Release date'])\n",
        "print(f\"Number of terrorism-related movies: {len(t_movies)}\")\n",
        "print(f\"Number of non terrorism-related movies: {len(non_terrorism_movies)}\")"
      ]
    },
    {
      "cell_type": "markdown",
      "metadata": {},
      "source": [
        "In the data set without terrorism-related movies `non_terrorism_movies`, we have 73114 movies.\n",
        "In the filtered data set `t_movies`, we have 8626 movies, which correspond to terrorism-related movies."
      ]
    },
    {
      "cell_type": "code",
      "execution_count": 17,
      "metadata": {},
      "outputs": [
        {
          "data": {
            "text/html": [
              "<div>\n",
              "<style scoped>\n",
              "    .dataframe tbody tr th:only-of-type {\n",
              "        vertical-align: middle;\n",
              "    }\n",
              "\n",
              "    .dataframe tbody tr th {\n",
              "        vertical-align: top;\n",
              "    }\n",
              "\n",
              "    .dataframe thead th {\n",
              "        text-align: right;\n",
              "    }\n",
              "</style>\n",
              "<table border=\"1\" class=\"dataframe\">\n",
              "  <thead>\n",
              "    <tr style=\"text-align: right;\">\n",
              "      <th></th>\n",
              "      <th>W_movie ID</th>\n",
              "      <th>F_movie ID</th>\n",
              "      <th>Movie name</th>\n",
              "      <th>Release date</th>\n",
              "      <th>Box office revenue</th>\n",
              "      <th>Runtime</th>\n",
              "      <th>Languages</th>\n",
              "      <th>Countries</th>\n",
              "      <th>Genres</th>\n",
              "    </tr>\n",
              "  </thead>\n",
              "  <tbody>\n",
              "    <tr>\n",
              "      <th>0</th>\n",
              "      <td>3196793</td>\n",
              "      <td>/m/08yl5d</td>\n",
              "      <td>Getting Away with Murder: The JonBenét Ramsey ...</td>\n",
              "      <td>2000-02-16</td>\n",
              "      <td>NaN</td>\n",
              "      <td>95.0</td>\n",
              "      <td>{\"/m/02h40lc\": \"English Language\"}</td>\n",
              "      <td>{\"/m/09c7w0\": \"United States of America\"}</td>\n",
              "      <td>{\"/m/02n4kr\": \"Mystery\", \"/m/03bxz7\": \"Biograp...</td>\n",
              "    </tr>\n",
              "    <tr>\n",
              "      <th>1</th>\n",
              "      <td>28463795</td>\n",
              "      <td>/m/0crgdbh</td>\n",
              "      <td>Brun bitter</td>\n",
              "      <td>1988</td>\n",
              "      <td>NaN</td>\n",
              "      <td>83.0</td>\n",
              "      <td>{\"/m/05f_3\": \"Norwegian Language\"}</td>\n",
              "      <td>{\"/m/05b4w\": \"Norway\"}</td>\n",
              "      <td>{\"/m/0lsxr\": \"Crime Fiction\", \"/m/07s9rl0\": \"D...</td>\n",
              "    </tr>\n",
              "  </tbody>\n",
              "</table>\n",
              "</div>"
            ],
            "text/plain": [
              "   W_movie ID  F_movie ID                                         Movie name  \\\n",
              "0     3196793   /m/08yl5d  Getting Away with Murder: The JonBenét Ramsey ...   \n",
              "1    28463795  /m/0crgdbh                                        Brun bitter   \n",
              "\n",
              "  Release date  Box office revenue  Runtime  \\\n",
              "0   2000-02-16                 NaN     95.0   \n",
              "1         1988                 NaN     83.0   \n",
              "\n",
              "                            Languages  \\\n",
              "0  {\"/m/02h40lc\": \"English Language\"}   \n",
              "1  {\"/m/05f_3\": \"Norwegian Language\"}   \n",
              "\n",
              "                                   Countries  \\\n",
              "0  {\"/m/09c7w0\": \"United States of America\"}   \n",
              "1                     {\"/m/05b4w\": \"Norway\"}   \n",
              "\n",
              "                                              Genres  \n",
              "0  {\"/m/02n4kr\": \"Mystery\", \"/m/03bxz7\": \"Biograp...  \n",
              "1  {\"/m/0lsxr\": \"Crime Fiction\", \"/m/07s9rl0\": \"D...  "
            ]
          },
          "metadata": {},
          "output_type": "display_data"
        }
      ],
      "source": [
        "display(non_terrorism_movies.head(2))"
      ]
    },
    {
      "cell_type": "code",
      "execution_count": 18,
      "metadata": {},
      "outputs": [
        {
          "data": {
            "text/html": [
              "<div>\n",
              "<style scoped>\n",
              "    .dataframe tbody tr th:only-of-type {\n",
              "        vertical-align: middle;\n",
              "    }\n",
              "\n",
              "    .dataframe tbody tr th {\n",
              "        vertical-align: top;\n",
              "    }\n",
              "\n",
              "    .dataframe thead th {\n",
              "        text-align: right;\n",
              "    }\n",
              "</style>\n",
              "<table border=\"1\" class=\"dataframe\">\n",
              "  <thead>\n",
              "    <tr style=\"text-align: right;\">\n",
              "      <th></th>\n",
              "      <th>W_movie ID</th>\n",
              "      <th>Movie name</th>\n",
              "      <th>Release date</th>\n",
              "      <th>Countries</th>\n",
              "      <th>Languages</th>\n",
              "      <th>Genres</th>\n",
              "      <th>Box office revenue</th>\n",
              "    </tr>\n",
              "  </thead>\n",
              "  <tbody>\n",
              "    <tr>\n",
              "      <th>42214</th>\n",
              "      <td>32986669</td>\n",
              "      <td>Robbery Under Arms</td>\n",
              "      <td>1907-11-02</td>\n",
              "      <td>{\"/m/0chghy\": \"Australia\"}</td>\n",
              "      <td>{\"/m/06ppq\": \"Silent film\"}</td>\n",
              "      <td>{\"/m/06ppq\": \"Silent film\", \"/m/07s9rl0\": \"Dra...</td>\n",
              "      <td>NaN</td>\n",
              "    </tr>\n",
              "    <tr>\n",
              "      <th>64189</th>\n",
              "      <td>7870349</td>\n",
              "      <td>Dr. Jekyll and Mr. Hyde</td>\n",
              "      <td>1908-03-07</td>\n",
              "      <td>{\"/m/09c7w0\": \"United States of America\"}</td>\n",
              "      <td>{\"/m/06ppq\": \"Silent film\"}</td>\n",
              "      <td>{\"/m/02hmvc\": \"Short Film\", \"/m/06ppq\": \"Silen...</td>\n",
              "      <td>NaN</td>\n",
              "    </tr>\n",
              "  </tbody>\n",
              "</table>\n",
              "</div>"
            ],
            "text/plain": [
              "       W_movie ID               Movie name Release date  \\\n",
              "42214    32986669       Robbery Under Arms   1907-11-02   \n",
              "64189     7870349  Dr. Jekyll and Mr. Hyde   1908-03-07   \n",
              "\n",
              "                                       Countries                    Languages  \\\n",
              "42214                 {\"/m/0chghy\": \"Australia\"}  {\"/m/06ppq\": \"Silent film\"}   \n",
              "64189  {\"/m/09c7w0\": \"United States of America\"}  {\"/m/06ppq\": \"Silent film\"}   \n",
              "\n",
              "                                                  Genres  Box office revenue  \n",
              "42214  {\"/m/06ppq\": \"Silent film\", \"/m/07s9rl0\": \"Dra...                 NaN  \n",
              "64189  {\"/m/02hmvc\": \"Short Film\", \"/m/06ppq\": \"Silen...                 NaN  "
            ]
          },
          "metadata": {},
          "output_type": "display_data"
        }
      ],
      "source": [
        "display(t_movies.head(2))"
      ]
    },
    {
      "cell_type": "code",
      "execution_count": 19,
      "metadata": {},
      "outputs": [],
      "source": [
        "#Define a function to parse the genre column\n",
        "def parse(str):\n",
        "    try:\n",
        "        # Convert the string representation of a dictionary into an actual dictionary\n",
        "        dict_ = ast.literal_eval(str)\n",
        "        # Return the values (genres) of the dictionary\n",
        "        return list(dict_.values())\n",
        "    except ValueError:\n",
        "        # In case of any parsing error, return an empty list\n",
        "        return []"
      ]
    },
    {
      "cell_type": "markdown",
      "metadata": {},
      "source": [
        "Now, we start the genre analysis. We want to take a look at the top 10 most common genres in both terrorism-related movies `t_movies` and non-terrorism-related movies."
      ]
    },
    {
      "cell_type": "code",
      "execution_count": 20,
      "metadata": {},
      "outputs": [
        {
          "name": "stderr",
          "output_type": "stream",
          "text": [
            "/var/folders/f6/p2jq7zvd7jq9y5mvqb6p1wlh0000gn/T/ipykernel_29396/4056011177.py:4: SettingWithCopyWarning:\n",
            "\n",
            "\n",
            "A value is trying to be set on a copy of a slice from a DataFrame.\n",
            "Try using .loc[row_indexer,col_indexer] = value instead\n",
            "\n",
            "See the caveats in the documentation: https://pandas.pydata.org/pandas-docs/stable/user_guide/indexing.html#returning-a-view-versus-a-copy\n",
            "\n"
          ]
        },
        {
          "data": {
            "image/png": "[encoded data removed]",
            "text/plain": [
              "<Figure size 1200x600 with 2 Axes>"
            ]
          },
          "metadata": {},
          "output_type": "display_data"
        }
      ],
      "source": [
        "## Non-terrorism movies\n",
        "\n",
        "#Apply the function to each row in the genre column and flatten the list of lists\n",
        "non_terrorism_movies['Genres'] = non_terrorism_movies['Genres'].apply(parse)\n",
        "all_genres = [genre for sublist in non_terrorism_movies['Genres'] for genre in sublist]\n",
        "\n",
        "#Create a frequency count of each genre\n",
        "genre_counts = pd.Series(all_genres).value_counts()\n",
        "\n",
        "#Only keep the top 10 most common genres\n",
        "top_10_non_terrorism_movies = genre_counts.nlargest(10)\n",
        "\n",
        "## Terrorism-related movies\n",
        "\n",
        "#Apply the function to each row in the genre column and flatten the list of lists\n",
        "t_movies['Genres'] = t_movies['Genres'].apply(parse)\n",
        "all_genres = [genre for sublist in t_movies['Genres'] for genre in sublist]\n",
        "\n",
        "#Create a frequency count of each genre\n",
        "genre_counts = pd.Series(all_genres).value_counts()\n",
        "\n",
        "#Only keep the genres that are present in more than 1000 movies\n",
        "top_10_terrorism_movies = genre_counts.nlargest(10)\n",
        "top_10_terrorism_genres = list(top_10_terrorism_movies.index)\n",
        "\n",
        "#Plot the barplots of movie genres for terrorism vs non-terrorism-related movies\n",
        "fig, axes = plt.subplots(nrows=1, ncols=2, figsize=(12, 6))\n",
        "\n",
        "top_10_non_terrorism_movies.plot(kind='bar', ax=axes[0], color='#21918c')\n",
        "axes[0].set_title('Frequency of Movie Genres in Non-Terrorism-related Movies')\n",
        "axes[0].set_xlabel('Genre')\n",
        "axes[0].set_ylabel('Count')\n",
        "\n",
        "top_10_terrorism_movies.plot(kind='bar', ax=axes[1], color='#440154')\n",
        "axes[1].set_title('Frequency of Movie Genres in Terrorism-related Movies')\n",
        "axes[1].set_ylabel('Count')\n",
        "axes[1].set_xlabel('Genre')\n",
        "\n",
        "plt.tight_layout()\n",
        "plt.show()"
      ]
    },
    {
      "cell_type": "markdown",
      "metadata": {},
      "source": [
        "In the plots above, we have plotted the counts of non-terrorism-related movies and terrorism-related movies against the different genres. We only plot the 10 most common genres.\n",
        "**Discuss**: \n",
        "1) What are the most prevalent genres of non-terrorism movies? What are the most prevalent genres of terrorism movies? Do they differ?\n",
        "- The top 10 most common genres of terrorism movies are: Drama, Action, Thriller, Comedy, Action/Adventure, Horror, Adventure, World cinema, Crime fiction and Science fiction.\n",
        "- The top 10 most common genres of non-terrorism movies are: Drama, Comedy, Romance Film, Black-and-white, Short film, Thriller, Action, Indie, World cinema and Crime ficiton.\n",
        "- We notice that for both sets of movies, the most prevalent genre is Drama. This could suggest that dramatic elements are central to storytelling in films regardless of the terrorism theme. \n",
        "\n",
        "Now, let's focus on the top 10 most common genres in terrorism related movies. To have a better comparison, we will look at the proportion of terrorism vs non-terrorism movies in each genre."
      ]
    },
    {
      "cell_type": "code",
      "execution_count": 21,
      "metadata": {},
      "outputs": [],
      "source": [
        "# Explode the 'Genres' column to have one genre per row\n",
        "exploded_genres = non_terrorism_movies.explode('Genres')\n",
        "\n",
        "# Filter out only the genres that are in the top 10 terrorism genres\n",
        "filtered_genres = exploded_genres[exploded_genres['Genres'].isin(top_10_terrorism_genres)]\n",
        "\n",
        "# Create a frequency count of each genre\n",
        "genre_counts = filtered_genres['Genres'].value_counts()\n",
        "\n",
        "# Get the counts for the top 10 terrorism genres\n",
        "top_non_terrorism_movies = genre_counts.reindex(top_10_terrorism_genres).fillna(0)"
      ]
    },
    {
      "cell_type": "code",
      "execution_count": 22,
      "metadata": {},
      "outputs": [],
      "source": [
        "proportion_non_terrorism_movies = top_non_terrorism_movies*100/len(non_terrorism_movies)\n",
        "proportion_terrorism_movies = top_10_terrorism_movies*100/len(t_movies)"
      ]
    },
    {
      "cell_type": "code",
      "execution_count": 23,
      "metadata": {},
      "outputs": [
        {
          "data": {
            "image/png": "[encoded data removed]",
            "text/plain": [
              "<Figure size 2400x600 with 2 Axes>"
            ]
          },
          "metadata": {},
          "output_type": "display_data"
        }
      ],
      "source": [
        "#Plot the barplots of movie genres for terrorism vs non-terrorism-related movies\n",
        "fig, axes = plt.subplots(nrows=1, ncols=2, figsize=(24, 6), sharex=True, sharey=True)\n",
        "\n",
        "axes[0].plot(proportion_non_terrorism_movies, marker='o', color='#21918c')\n",
        "axes[0].set_title('Proportion of Non-Terrorism-related Movies per genre')\n",
        "axes[0].set_xlabel('Genre')\n",
        "axes[0].set_ylabel('Count')\n",
        "\n",
        "axes[1].plot(proportion_terrorism_movies, marker='o', color='#440154')\n",
        "axes[1].set_title('Proprtion of Terrorism-related Movies per genre')\n",
        "axes[1].set_ylabel('Count')\n",
        "axes[1].set_xlabel('Genre')\n",
        "\n",
        "plt.tight_layout()\n",
        "plt.show()"
      ]
    },
    {
      "cell_type": "markdown",
      "metadata": {},
      "source": [
        "In the plot above, we plot the proprtion of terrorism and non-terrorism related movies in each genre. The genres we are interested in are the top 10 most common genres of terrorism-related movies found before.\n",
        "\n",
        "**Discuss** \n",
        "1) What genres are more prevalent in terrorism related movies than in non-terrorism related movies?\n",
        "- Action and Thriller: These genres seem to be more prevalent in terrorism-related movies when compared to non-terrorism-related movies. \n",
        "- Adventure and Horror: While not as dominant as Drama, Action, or Thriller, these genres also appear more frequently in terrorism-related movies than in non-terrorism-related ones.\n",
        "- Drama: This genre has a very high proportion in both terrorism and non-terrorism related movies.\n",
        "\n",
        "2) How do these genre preferences for terrorism movies reflect cultural attitudes towards terrorism? Do they suggest that certain genres are better suited to explore terrorism-related themes?\n",
        "- Action and Thriller: These genres are traditionally associated with high energy, suspense, and conflict, which are common elements in terrorism narratives. The prevalence of Action and Thriller genres in terrorism-related movies could reflect the intensity and high stakes often associated with terrorism. \n",
        "- Adventure and Horror: These genres could be more prevalent due to the way they can incorporate elements of the unknown and fear, which can reflect unpredictability and fear associated with acts of terrorism.\n",
        "- Drama: While Drama is prevalent in both types of movies, its slightly reduced prevalence in terrorism-related movies compared to non-terrorism-related ones might indicate that while dramatic storytelling is universal, terrorism movies might need the inclusion of action or thriller elements to better portray the specific themes associated to terrorism.\n",
        "\n",
        "3) Do these genre trends in terrorism-related movies reflect a global influence, or are they more indicative of Western cinematic trends?\n",
        "We discuss this in **section 4.2**.\n",
        "\n",
        "4) Evolution Over Time: How have the representations of terrorism in various genres evolved over time? We discuss this in **section 4.4**."
      ]
    },
    {
      "cell_type": "markdown",
      "metadata": {},
      "source": [
        "### 4.2 Heatmap of genres of terrorism movies between different regions/countries\n",
        "\n",
        "__What It Does__: The heatmap will show the counts of movies of each genre for each region/country.\n",
        "\n",
        "__Why It’s Interesting__: This method would provide a qualitative measure of the association between genres of terrorism-themed and regions/countries. It could reveal if terrorism movies in the USA or the United Kingdom are associated with certain genres, like action or drama, etc.\n",
        "\n",
        "__How It Works__: We create a matrix where each cell contains the count of movies for a particular genre in a particular region/country.\n",
        "\n",
        "__Data Pre-Processing and Visualization__: To prepare our data, we need to ensure that the dataset is structured so that each movie has a genre list and an associated region/country."
      ]
    },
    {
      "cell_type": "code",
      "execution_count": 24,
      "metadata": {},
      "outputs": [],
      "source": [
        "t_movies['Countries'] = t_movies['Countries'].apply(parse)\n",
        "t_movies['Languages'] = t_movies['Languages'].apply(parse)"
      ]
    },
    {
      "cell_type": "code",
      "execution_count": 25,
      "metadata": {},
      "outputs": [],
      "source": [
        "#If a movie is associated with multiple countries, create a separate row for each country.\n",
        "exploded_countries = t_movies.explode('Countries')"
      ]
    },
    {
      "cell_type": "code",
      "execution_count": 26,
      "metadata": {},
      "outputs": [],
      "source": [
        "exploded_countries = exploded_countries.dropna()\n",
        "    \n",
        "exploded_countries['Countries'] = exploded_countries['Countries'].replace('Yugoslavia', 'Serbia')\n",
        "exploded_countries['Countries'] = exploded_countries['Countries'].replace('England', 'United Kingdom')\n",
        "exploded_countries['Countries'] = exploded_countries['Countries'].replace('Socialist Federal Republic of Yugoslavia'  , 'Serbia') \n",
        "exploded_countries['Countries'] = exploded_countries['Countries'].replace('West Germany'  , 'Germany') \n",
        "exploded_countries['Countries'] = exploded_countries['Countries'].replace('Scotland'  , 'United Kingdom') \n",
        "exploded_countries['Countries'] = exploded_countries['Countries'].replace('Korea'  , 'South Korea') \n",
        "exploded_countries['Countries'] = exploded_countries['Countries'].replace('Bahamas'  , 'Canada') "
      ]
    },
    {
      "cell_type": "code",
      "execution_count": 27,
      "metadata": {},
      "outputs": [],
      "source": [
        "# Get unique countries to minimize API calls or computation\n",
        "unique_countries = exploded_countries['Countries'].unique()\n",
        "\n",
        "# Create a dictionary to hold the countries and their corresponding regions\n",
        "country_to_region = {}\n",
        "\n",
        "# Iterate over unique countries and fetch their regions\n",
        "for country in unique_countries:\n",
        "    try:\n",
        "        country_info = CountryInfo(country)\n",
        "        # Store the country and its region in the dictionary\n",
        "        country_to_region[country] = country_info.info().get('region', 'Unknown')  # 'Unknown' is a default value\n",
        "    except KeyError:\n",
        "        # Handle cases where the country is not found in the CountryInfo database\n",
        "        country_to_region[country] = 'Unknown'\n",
        "\n",
        "# Map the countries in the DataFrame to their corresponding regions using the dictionary\n",
        "exploded_countries['Region'] = exploded_countries['Countries'].map(country_to_region)"
      ]
    },
    {
      "cell_type": "code",
      "execution_count": 28,
      "metadata": {},
      "outputs": [
        {
          "data": {
            "text/plain": [
              "Text(0, 0.5, 'Movies')"
            ]
          },
          "execution_count": 28,
          "metadata": {},
          "output_type": "execute_result"
        },
        {
          "data": {
            "image/png": "[encoded data removed]",
            "text/plain": [
              "<Figure size 640x480 with 1 Axes>"
            ]
          },
          "metadata": {},
          "output_type": "display_data"
        }
      ],
      "source": [
        "#Count the occurrences of each region\n",
        "region_counts = exploded_countries['Region'].value_counts()\n",
        "\n",
        "plt.figure()\n",
        "region_counts.plot(kind='bar', color='#21918c')\n",
        "plt.title('Counts of terrorism-related movies per region')\n",
        "plt.xlabel('Country')\n",
        "plt.ylabel('Movies')"
      ]
    },
    {
      "cell_type": "code",
      "execution_count": 29,
      "metadata": {},
      "outputs": [
        {
          "data": {
            "application/vnd.plotly.v1+json": {
              "config": {
                "plotlyServerURL": "https://plot.ly"
              },
              "data": [
                {
                  "colorscale": [
                    [
                      0,
                      "#440154"
                    ],
                    [
                      0.1111111111111111,
                      "#482878"
                    ],
                    [
                      0.2222222222222222,
                      "#3e4989"
                    ],
                    [
                      0.3333333333333333,
                      "#31688e"
                    ],
                    [
                      0.4444444444444444,
                      "#26828e"
                    ],
                    [
                      0.5555555555555556,
                      "#1f9e89"
                    ],
                    [
                      0.6666666666666666,
                      "#35b779"
                    ],
                    [
                      0.7777777777777778,
                      "#6ece58"
                    ],
                    [
                      0.8888888888888888,
                      "#b5de2b"
                    ],
                    [
                      1,
                      "#fde725"
                    ]
                  ],
                  "type": "heatmap",
                  "x": [
                    "Action",
                    "Action/Adventure",
                    "Adventure",
                    "Comedy",
                    "Crime Fiction",
                    "Drama",
                    "Horror",
                    "Science Fiction",
                    "Thriller",
                    "World cinema"
                  ],
                  "y": [
                    "Africa",
                    "Americas",
                    "Asia",
                    "Europe",
                    "Oceania"
                  ],
                  "z": [
                    [
                      9,
                      8,
                      5,
                      3,
                      2,
                      10,
                      0,
                      2,
                      7,
                      3
                    ],
                    [
                      878,
                      675,
                      540,
                      771,
                      446,
                      950,
                      449,
                      351,
                      936,
                      40
                    ],
                    [
                      125,
                      100,
                      50,
                      37,
                      34,
                      111,
                      24,
                      34,
                      82,
                      91
                    ],
                    [
                      298,
                      234,
                      224,
                      221,
                      179,
                      462,
                      145,
                      119,
                      403,
                      138
                    ],
                    [
                      32,
                      26,
                      37,
                      26,
                      11,
                      40,
                      16,
                      16,
                      29,
                      30
                    ]
                  ]
                }
              ],
              "layout": {
                "template": {
                  "data": {
                    "bar": [
                      {
                        "error_x": {
                          "color": "#2a3f5f"
                        },
                        "error_y": {
                          "color": "#2a3f5f"
                        },
                        "marker": {
                          "line": {
                            "color": "#E5ECF6",
                            "width": 0.5
                          },
                          "pattern": {
                            "fillmode": "overlay",
                            "size": 10,
                            "solidity": 0.2
                          }
                        },
                        "type": "bar"
                      }
                    ],
                    "barpolar": [
                      {
                        "marker": {
                          "line": {
                            "color": "#E5ECF6",
                            "width": 0.5
                          },
                          "pattern": {
                            "fillmode": "overlay",
                            "size": 10,
                            "solidity": 0.2
                          }
                        },
                        "type": "barpolar"
                      }
                    ],
                    "carpet": [
                      {
                        "aaxis": {
                          "endlinecolor": "#2a3f5f",
                          "gridcolor": "white",
                          "linecolor": "white",
                          "minorgridcolor": "white",
                          "startlinecolor": "#2a3f5f"
                        },
                        "baxis": {
                          "endlinecolor": "#2a3f5f",
                          "gridcolor": "white",
                          "linecolor": "white",
                          "minorgridcolor": "white",
                          "startlinecolor": "#2a3f5f"
                        },
                        "type": "carpet"
                      }
                    ],
                    "choropleth": [
                      {
                        "colorbar": {
                          "outlinewidth": 0,
                          "ticks": ""
                        },
                        "type": "choropleth"
                      }
                    ],
                    "contour": [
                      {
                        "colorbar": {
                          "outlinewidth": 0,
                          "ticks": ""
                        },
                        "colorscale": [
                          [
                            0,
                            "#0d0887"
                          ],
                          [
                            0.1111111111111111,
                            "#46039f"
                          ],
                          [
                            0.2222222222222222,
                            "#7201a8"
                          ],
                          [
                            0.3333333333333333,
                            "#9c179e"
                          ],
                          [
                            0.4444444444444444,
                            "#bd3786"
                          ],
                          [
                            0.5555555555555556,
                            "#d8576b"
                          ],
                          [
                            0.6666666666666666,
                            "#ed7953"
                          ],
                          [
                            0.7777777777777778,
                            "#fb9f3a"
                          ],
                          [
                            0.8888888888888888,
                            "#fdca26"
                          ],
                          [
                            1,
                            "#f0f921"
                          ]
                        ],
                        "type": "contour"
                      }
                    ],
                    "contourcarpet": [
                      {
                        "colorbar": {
                          "outlinewidth": 0,
                          "ticks": ""
                        },
                        "type": "contourcarpet"
                      }
                    ],
                    "heatmap": [
                      {
                        "colorbar": {
                          "outlinewidth": 0,
                          "ticks": ""
                        },
                        "colorscale": [
                          [
                            0,
                            "#0d0887"
                          ],
                          [
                            0.1111111111111111,
                            "#46039f"
                          ],
                          [
                            0.2222222222222222,
                            "#7201a8"
                          ],
                          [
                            0.3333333333333333,
                            "#9c179e"
                          ],
                          [
                            0.4444444444444444,
                            "#bd3786"
                          ],
                          [
                            0.5555555555555556,
                            "#d8576b"
                          ],
                          [
                            0.6666666666666666,
                            "#ed7953"
                          ],
                          [
                            0.7777777777777778,
                            "#fb9f3a"
                          ],
                          [
                            0.8888888888888888,
                            "#fdca26"
                          ],
                          [
                            1,
                            "#f0f921"
                          ]
                        ],
                        "type": "heatmap"
                      }
                    ],
                    "heatmapgl": [
                      {
                        "colorbar": {
                          "outlinewidth": 0,
                          "ticks": ""
                        },
                        "colorscale": [
                          [
                            0,
                            "#0d0887"
                          ],
                          [
                            0.1111111111111111,
                            "#46039f"
                          ],
                          [
                            0.2222222222222222,
                            "#7201a8"
                          ],
                          [
                            0.3333333333333333,
                            "#9c179e"
                          ],
                          [
                            0.4444444444444444,
                            "#bd3786"
                          ],
                          [
                            0.5555555555555556,
                            "#d8576b"
                          ],
                          [
                            0.6666666666666666,
                            "#ed7953"
                          ],
                          [
                            0.7777777777777778,
                            "#fb9f3a"
                          ],
                          [
                            0.8888888888888888,
                            "#fdca26"
                          ],
                          [
                            1,
                            "#f0f921"
                          ]
                        ],
                        "type": "heatmapgl"
                      }
                    ],
                    "histogram": [
                      {
                        "marker": {
                          "pattern": {
                            "fillmode": "overlay",
                            "size": 10,
                            "solidity": 0.2
                          }
                        },
                        "type": "histogram"
                      }
                    ],
                    "histogram2d": [
                      {
                        "colorbar": {
                          "outlinewidth": 0,
                          "ticks": ""
                        },
                        "colorscale": [
                          [
                            0,
                            "#0d0887"
                          ],
                          [
                            0.1111111111111111,
                            "#46039f"
                          ],
                          [
                            0.2222222222222222,
                            "#7201a8"
                          ],
                          [
                            0.3333333333333333,
                            "#9c179e"
                          ],
                          [
                            0.4444444444444444,
                            "#bd3786"
                          ],
                          [
                            0.5555555555555556,
                            "#d8576b"
                          ],
                          [
                            0.6666666666666666,
                            "#ed7953"
                          ],
                          [
                            0.7777777777777778,
                            "#fb9f3a"
                          ],
                          [
                            0.8888888888888888,
                            "#fdca26"
                          ],
                          [
                            1,
                            "#f0f921"
                          ]
                        ],
                        "type": "histogram2d"
                      }
                    ],
                    "histogram2dcontour": [
                      {
                        "colorbar": {
                          "outlinewidth": 0,
                          "ticks": ""
                        },
                        "colorscale": [
                          [
                            0,
                            "#0d0887"
                          ],
                          [
                            0.1111111111111111,
                            "#46039f"
                          ],
                          [
                            0.2222222222222222,
                            "#7201a8"
                          ],
                          [
                            0.3333333333333333,
                            "#9c179e"
                          ],
                          [
                            0.4444444444444444,
                            "#bd3786"
                          ],
                          [
                            0.5555555555555556,
                            "#d8576b"
                          ],
                          [
                            0.6666666666666666,
                            "#ed7953"
                          ],
                          [
                            0.7777777777777778,
                            "#fb9f3a"
                          ],
                          [
                            0.8888888888888888,
                            "#fdca26"
                          ],
                          [
                            1,
                            "#f0f921"
                          ]
                        ],
                        "type": "histogram2dcontour"
                      }
                    ],
                    "mesh3d": [
                      {
                        "colorbar": {
                          "outlinewidth": 0,
                          "ticks": ""
                        },
                        "type": "mesh3d"
                      }
                    ],
                    "parcoords": [
                      {
                        "line": {
                          "colorbar": {
                            "outlinewidth": 0,
                            "ticks": ""
                          }
                        },
                        "type": "parcoords"
                      }
                    ],
                    "pie": [
                      {
                        "automargin": true,
                        "type": "pie"
                      }
                    ],
                    "scatter": [
                      {
                        "fillpattern": {
                          "fillmode": "overlay",
                          "size": 10,
                          "solidity": 0.2
                        },
                        "type": "scatter"
                      }
                    ],
                    "scatter3d": [
                      {
                        "line": {
                          "colorbar": {
                            "outlinewidth": 0,
                            "ticks": ""
                          }
                        },
                        "marker": {
                          "colorbar": {
                            "outlinewidth": 0,
                            "ticks": ""
                          }
                        },
                        "type": "scatter3d"
                      }
                    ],
                    "scattercarpet": [
                      {
                        "marker": {
                          "colorbar": {
                            "outlinewidth": 0,
                            "ticks": ""
                          }
                        },
                        "type": "scattercarpet"
                      }
                    ],
                    "scattergeo": [
                      {
                        "marker": {
                          "colorbar": {
                            "outlinewidth": 0,
                            "ticks": ""
                          }
                        },
                        "type": "scattergeo"
                      }
                    ],
                    "scattergl": [
                      {
                        "marker": {
                          "colorbar": {
                            "outlinewidth": 0,
                            "ticks": ""
                          }
                        },
                        "type": "scattergl"
                      }
                    ],
                    "scattermapbox": [
                      {
                        "marker": {
                          "colorbar": {
                            "outlinewidth": 0,
                            "ticks": ""
                          }
                        },
                        "type": "scattermapbox"
                      }
                    ],
                    "scatterpolar": [
                      {
                        "marker": {
                          "colorbar": {
                            "outlinewidth": 0,
                            "ticks": ""
                          }
                        },
                        "type": "scatterpolar"
                      }
                    ],
                    "scatterpolargl": [
                      {
                        "marker": {
                          "colorbar": {
                            "outlinewidth": 0,
                            "ticks": ""
                          }
                        },
                        "type": "scatterpolargl"
                      }
                    ],
                    "scatterternary": [
                      {
                        "marker": {
                          "colorbar": {
                            "outlinewidth": 0,
                            "ticks": ""
                          }
                        },
                        "type": "scatterternary"
                      }
                    ],
                    "surface": [
                      {
                        "colorbar": {
                          "outlinewidth": 0,
                          "ticks": ""
                        },
                        "colorscale": [
                          [
                            0,
                            "#0d0887"
                          ],
                          [
                            0.1111111111111111,
                            "#46039f"
                          ],
                          [
                            0.2222222222222222,
                            "#7201a8"
                          ],
                          [
                            0.3333333333333333,
                            "#9c179e"
                          ],
                          [
                            0.4444444444444444,
                            "#bd3786"
                          ],
                          [
                            0.5555555555555556,
                            "#d8576b"
                          ],
                          [
                            0.6666666666666666,
                            "#ed7953"
                          ],
                          [
                            0.7777777777777778,
                            "#fb9f3a"
                          ],
                          [
                            0.8888888888888888,
                            "#fdca26"
                          ],
                          [
                            1,
                            "#f0f921"
                          ]
                        ],
                        "type": "surface"
                      }
                    ],
                    "table": [
                      {
                        "cells": {
                          "fill": {
                            "color": "#EBF0F8"
                          },
                          "line": {
                            "color": "white"
                          }
                        },
                        "header": {
                          "fill": {
                            "color": "#C8D4E3"
                          },
                          "line": {
                            "color": "white"
                          }
                        },
                        "type": "table"
                      }
                    ]
                  },
                  "layout": {
                    "annotationdefaults": {
                      "arrowcolor": "#2a3f5f",
                      "arrowhead": 0,
                      "arrowwidth": 1
                    },
                    "autotypenumbers": "strict",
                    "coloraxis": {
                      "colorbar": {
                        "outlinewidth": 0,
                        "ticks": ""
                      }
                    },
                    "colorscale": {
                      "diverging": [
                        [
                          0,
                          "#8e0152"
                        ],
                        [
                          0.1,
                          "#c51b7d"
                        ],
                        [
                          0.2,
                          "#de77ae"
                        ],
                        [
                          0.3,
                          "#f1b6da"
                        ],
                        [
                          0.4,
                          "#fde0ef"
                        ],
                        [
                          0.5,
                          "#f7f7f7"
                        ],
                        [
                          0.6,
                          "#e6f5d0"
                        ],
                        [
                          0.7,
                          "#b8e186"
                        ],
                        [
                          0.8,
                          "#7fbc41"
                        ],
                        [
                          0.9,
                          "#4d9221"
                        ],
                        [
                          1,
                          "#276419"
                        ]
                      ],
                      "sequential": [
                        [
                          0,
                          "#0d0887"
                        ],
                        [
                          0.1111111111111111,
                          "#46039f"
                        ],
                        [
                          0.2222222222222222,
                          "#7201a8"
                        ],
                        [
                          0.3333333333333333,
                          "#9c179e"
                        ],
                        [
                          0.4444444444444444,
                          "#bd3786"
                        ],
                        [
                          0.5555555555555556,
                          "#d8576b"
                        ],
                        [
                          0.6666666666666666,
                          "#ed7953"
                        ],
                        [
                          0.7777777777777778,
                          "#fb9f3a"
                        ],
                        [
                          0.8888888888888888,
                          "#fdca26"
                        ],
                        [
                          1,
                          "#f0f921"
                        ]
                      ],
                      "sequentialminus": [
                        [
                          0,
                          "#0d0887"
                        ],
                        [
                          0.1111111111111111,
                          "#46039f"
                        ],
                        [
                          0.2222222222222222,
                          "#7201a8"
                        ],
                        [
                          0.3333333333333333,
                          "#9c179e"
                        ],
                        [
                          0.4444444444444444,
                          "#bd3786"
                        ],
                        [
                          0.5555555555555556,
                          "#d8576b"
                        ],
                        [
                          0.6666666666666666,
                          "#ed7953"
                        ],
                        [
                          0.7777777777777778,
                          "#fb9f3a"
                        ],
                        [
                          0.8888888888888888,
                          "#fdca26"
                        ],
                        [
                          1,
                          "#f0f921"
                        ]
                      ]
                    },
                    "colorway": [
                      "#636efa",
                      "#EF553B",
                      "#00cc96",
                      "#ab63fa",
                      "#FFA15A",
                      "#19d3f3",
                      "#FF6692",
                      "#B6E880",
                      "#FF97FF",
                      "#FECB52"
                    ],
                    "font": {
                      "color": "#2a3f5f"
                    },
                    "geo": {
                      "bgcolor": "white",
                      "lakecolor": "white",
                      "landcolor": "#E5ECF6",
                      "showlakes": true,
                      "showland": true,
                      "subunitcolor": "white"
                    },
                    "hoverlabel": {
                      "align": "left"
                    },
                    "hovermode": "closest",
                    "mapbox": {
                      "style": "light"
                    },
                    "paper_bgcolor": "white",
                    "plot_bgcolor": "#E5ECF6",
                    "polar": {
                      "angularaxis": {
                        "gridcolor": "white",
                        "linecolor": "white",
                        "ticks": ""
                      },
                      "bgcolor": "#E5ECF6",
                      "radialaxis": {
                        "gridcolor": "white",
                        "linecolor": "white",
                        "ticks": ""
                      }
                    },
                    "scene": {
                      "xaxis": {
                        "backgroundcolor": "#E5ECF6",
                        "gridcolor": "white",
                        "gridwidth": 2,
                        "linecolor": "white",
                        "showbackground": true,
                        "ticks": "",
                        "zerolinecolor": "white"
                      },
                      "yaxis": {
                        "backgroundcolor": "#E5ECF6",
                        "gridcolor": "white",
                        "gridwidth": 2,
                        "linecolor": "white",
                        "showbackground": true,
                        "ticks": "",
                        "zerolinecolor": "white"
                      },
                      "zaxis": {
                        "backgroundcolor": "#E5ECF6",
                        "gridcolor": "white",
                        "gridwidth": 2,
                        "linecolor": "white",
                        "showbackground": true,
                        "ticks": "",
                        "zerolinecolor": "white"
                      }
                    },
                    "shapedefaults": {
                      "line": {
                        "color": "#2a3f5f"
                      }
                    },
                    "ternary": {
                      "aaxis": {
                        "gridcolor": "white",
                        "linecolor": "white",
                        "ticks": ""
                      },
                      "baxis": {
                        "gridcolor": "white",
                        "linecolor": "white",
                        "ticks": ""
                      },
                      "bgcolor": "#E5ECF6",
                      "caxis": {
                        "gridcolor": "white",
                        "linecolor": "white",
                        "ticks": ""
                      }
                    },
                    "title": {
                      "x": 0.05
                    },
                    "xaxis": {
                      "automargin": true,
                      "gridcolor": "white",
                      "linecolor": "white",
                      "ticks": "",
                      "title": {
                        "standoff": 15
                      },
                      "zerolinecolor": "white",
                      "zerolinewidth": 2
                    },
                    "yaxis": {
                      "automargin": true,
                      "gridcolor": "white",
                      "linecolor": "white",
                      "ticks": "",
                      "title": {
                        "standoff": 15
                      },
                      "zerolinecolor": "white",
                      "zerolinewidth": 2
                    }
                  }
                },
                "title": {
                  "text": "Heatmap of Movie Genres by Region"
                },
                "xaxis": {
                  "title": {
                    "text": "Genre"
                  }
                },
                "yaxis": {
                  "title": {
                    "text": "Country"
                  }
                }
              }
            }
          },
          "metadata": {},
          "output_type": "display_data"
        }
      ],
      "source": [
        "#Explode the data frame w.r.t. Genres\n",
        "exploded_countries_genres = exploded_countries.explode('Genres')\n",
        "\n",
        "#Define the genres of interest (top 10 most common genres found in section 4.1)\n",
        "genres_of_interest = ['Drama', 'Action', 'Thriller', 'Comedy', 'Action/Adventure', 'Horror',\n",
        "                          'Adventure', 'World cinema', 'Crime Fiction', 'Science Fiction']\n",
        "\n",
        "#Only keep elements of the exploded data that have one of the genres of itnerest\n",
        "temp_regions = exploded_countries_genres[\n",
        "    exploded_countries_genres['Genres'].isin(genres_of_interest)]\n",
        "\n",
        "# Create a pivot table with countries as rows, genres as columns, and counts as values\n",
        "heatmap_set_regions = pd.pivot_table(temp_regions, index='Region', columns='Genres', aggfunc='size', fill_value=0)\n",
        "\n",
        "# Create a heatmap using Plotly\n",
        "fig = go.Figure(data=go.Heatmap(\n",
        "    z=heatmap_set_regions.values,\n",
        "    x=heatmap_set_regions.columns,\n",
        "    y=heatmap_set_regions.index,\n",
        "    colorscale='Viridis'  # Using the Viridis color palette\n",
        "))\n",
        "\n",
        "# Update layout for a better appearance\n",
        "fig.update_layout(\n",
        "    title='Heatmap of Movie Genres by Region',\n",
        "    xaxis_title='Genre',\n",
        "    yaxis_title='Country'\n",
        ")\n",
        "\n",
        "# Show the figure\n",
        "fig.show()"
      ]
    },
    {
      "cell_type": "markdown",
      "metadata": {},
      "source": [
        "Now, let's do the same analysis but by focusing on the 10 countries that have the most terrorism-related movies."
      ]
    },
    {
      "cell_type": "code",
      "execution_count": 30,
      "metadata": {},
      "outputs": [
        {
          "data": {
            "text/plain": [
              "Text(0, 0.5, 'Movies')"
            ]
          },
          "execution_count": 30,
          "metadata": {},
          "output_type": "execute_result"
        },
        {
          "data": {
            "image/png": "[encoded data removed]",
            "text/plain": [
              "<Figure size 640x480 with 1 Axes>"
            ]
          },
          "metadata": {},
          "output_type": "display_data"
        }
      ],
      "source": [
        "#Count the occurrences of each country\n",
        "country_counts = exploded_countries_genres['Countries'].value_counts()\n",
        "\n",
        "#Only keep the 10 countries that have the most movies\n",
        "country_counts = country_counts.nlargest(10)\n",
        "\n",
        "plt.figure()\n",
        "country_counts.plot(kind='bar', color='#21918c')\n",
        "plt.title('Counts of terrorism-related movies per country')\n",
        "plt.xlabel('Country')\n",
        "plt.ylabel('Movies')"
      ]
    },
    {
      "cell_type": "markdown",
      "metadata": {},
      "source": [
        "Now, we only keep the movies that are from at least one of the 10 countries mentioned before, and that have at least one genre from the 10 genres mentioned before."
      ]
    },
    {
      "cell_type": "code",
      "execution_count": 31,
      "metadata": {},
      "outputs": [
        {
          "data": {
            "application/vnd.plotly.v1+json": {
              "config": {
                "plotlyServerURL": "https://plot.ly"
              },
              "data": [
                {
                  "colorscale": [
                    [
                      0,
                      "#440154"
                    ],
                    [
                      0.1111111111111111,
                      "#482878"
                    ],
                    [
                      0.2222222222222222,
                      "#3e4989"
                    ],
                    [
                      0.3333333333333333,
                      "#31688e"
                    ],
                    [
                      0.4444444444444444,
                      "#26828e"
                    ],
                    [
                      0.5555555555555556,
                      "#1f9e89"
                    ],
                    [
                      0.6666666666666666,
                      "#35b779"
                    ],
                    [
                      0.7777777777777778,
                      "#6ece58"
                    ],
                    [
                      0.8888888888888888,
                      "#b5de2b"
                    ],
                    [
                      1,
                      "#fde725"
                    ]
                  ],
                  "type": "heatmap",
                  "x": [
                    "Action",
                    "Action/Adventure",
                    "Adventure",
                    "Comedy",
                    "Crime Fiction",
                    "Drama",
                    "Horror",
                    "Science Fiction",
                    "Thriller",
                    "World cinema"
                  ],
                  "y": [
                    "Australia",
                    "Canada",
                    "France",
                    "Germany",
                    "Hong Kong",
                    "India",
                    "Italy",
                    "Japan",
                    "United Kingdom",
                    "United States of America"
                  ],
                  "z": [
                    [
                      19,
                      16,
                      25,
                      21,
                      10,
                      24,
                      9,
                      11,
                      20,
                      15
                    ],
                    [
                      38,
                      27,
                      20,
                      38,
                      20,
                      34,
                      45,
                      24,
                      62,
                      6
                    ],
                    [
                      55,
                      41,
                      30,
                      40,
                      40,
                      83,
                      20,
                      20,
                      77,
                      27
                    ],
                    [
                      78,
                      61,
                      38,
                      46,
                      40,
                      99,
                      36,
                      24,
                      105,
                      27
                    ],
                    [
                      27,
                      26,
                      9,
                      11,
                      4,
                      12,
                      2,
                      3,
                      11,
                      18
                    ],
                    [
                      4,
                      3,
                      2,
                      1,
                      3,
                      9,
                      1,
                      3,
                      5,
                      5
                    ],
                    [
                      7,
                      7,
                      12,
                      7,
                      7,
                      28,
                      11,
                      4,
                      14,
                      7
                    ],
                    [
                      48,
                      34,
                      25,
                      16,
                      12,
                      36,
                      11,
                      20,
                      34,
                      24
                    ],
                    [
                      122,
                      96,
                      101,
                      95,
                      69,
                      166,
                      46,
                      52,
                      150,
                      18
                    ],
                    [
                      833,
                      643,
                      517,
                      727,
                      420,
                      904,
                      402,
                      325,
                      865,
                      27
                    ]
                  ]
                }
              ],
              "layout": {
                "template": {
                  "data": {
                    "bar": [
                      {
                        "error_x": {
                          "color": "#2a3f5f"
                        },
                        "error_y": {
                          "color": "#2a3f5f"
                        },
                        "marker": {
                          "line": {
                            "color": "#E5ECF6",
                            "width": 0.5
                          },
                          "pattern": {
                            "fillmode": "overlay",
                            "size": 10,
                            "solidity": 0.2
                          }
                        },
                        "type": "bar"
                      }
                    ],
                    "barpolar": [
                      {
                        "marker": {
                          "line": {
                            "color": "#E5ECF6",
                            "width": 0.5
                          },
                          "pattern": {
                            "fillmode": "overlay",
                            "size": 10,
                            "solidity": 0.2
                          }
                        },
                        "type": "barpolar"
                      }
                    ],
                    "carpet": [
                      {
                        "aaxis": {
                          "endlinecolor": "#2a3f5f",
                          "gridcolor": "white",
                          "linecolor": "white",
                          "minorgridcolor": "white",
                          "startlinecolor": "#2a3f5f"
                        },
                        "baxis": {
                          "endlinecolor": "#2a3f5f",
                          "gridcolor": "white",
                          "linecolor": "white",
                          "minorgridcolor": "white",
                          "startlinecolor": "#2a3f5f"
                        },
                        "type": "carpet"
                      }
                    ],
                    "choropleth": [
                      {
                        "colorbar": {
                          "outlinewidth": 0,
                          "ticks": ""
                        },
                        "type": "choropleth"
                      }
                    ],
                    "contour": [
                      {
                        "colorbar": {
                          "outlinewidth": 0,
                          "ticks": ""
                        },
                        "colorscale": [
                          [
                            0,
                            "#0d0887"
                          ],
                          [
                            0.1111111111111111,
                            "#46039f"
                          ],
                          [
                            0.2222222222222222,
                            "#7201a8"
                          ],
                          [
                            0.3333333333333333,
                            "#9c179e"
                          ],
                          [
                            0.4444444444444444,
                            "#bd3786"
                          ],
                          [
                            0.5555555555555556,
                            "#d8576b"
                          ],
                          [
                            0.6666666666666666,
                            "#ed7953"
                          ],
                          [
                            0.7777777777777778,
                            "#fb9f3a"
                          ],
                          [
                            0.8888888888888888,
                            "#fdca26"
                          ],
                          [
                            1,
                            "#f0f921"
                          ]
                        ],
                        "type": "contour"
                      }
                    ],
                    "contourcarpet": [
                      {
                        "colorbar": {
                          "outlinewidth": 0,
                          "ticks": ""
                        },
                        "type": "contourcarpet"
                      }
                    ],
                    "heatmap": [
                      {
                        "colorbar": {
                          "outlinewidth": 0,
                          "ticks": ""
                        },
                        "colorscale": [
                          [
                            0,
                            "#0d0887"
                          ],
                          [
                            0.1111111111111111,
                            "#46039f"
                          ],
                          [
                            0.2222222222222222,
                            "#7201a8"
                          ],
                          [
                            0.3333333333333333,
                            "#9c179e"
                          ],
                          [
                            0.4444444444444444,
                            "#bd3786"
                          ],
                          [
                            0.5555555555555556,
                            "#d8576b"
                          ],
                          [
                            0.6666666666666666,
                            "#ed7953"
                          ],
                          [
                            0.7777777777777778,
                            "#fb9f3a"
                          ],
                          [
                            0.8888888888888888,
                            "#fdca26"
                          ],
                          [
                            1,
                            "#f0f921"
                          ]
                        ],
                        "type": "heatmap"
                      }
                    ],
                    "heatmapgl": [
                      {
                        "colorbar": {
                          "outlinewidth": 0,
                          "ticks": ""
                        },
                        "colorscale": [
                          [
                            0,
                            "#0d0887"
                          ],
                          [
                            0.1111111111111111,
                            "#46039f"
                          ],
                          [
                            0.2222222222222222,
                            "#7201a8"
                          ],
                          [
                            0.3333333333333333,
                            "#9c179e"
                          ],
                          [
                            0.4444444444444444,
                            "#bd3786"
                          ],
                          [
                            0.5555555555555556,
                            "#d8576b"
                          ],
                          [
                            0.6666666666666666,
                            "#ed7953"
                          ],
                          [
                            0.7777777777777778,
                            "#fb9f3a"
                          ],
                          [
                            0.8888888888888888,
                            "#fdca26"
                          ],
                          [
                            1,
                            "#f0f921"
                          ]
                        ],
                        "type": "heatmapgl"
                      }
                    ],
                    "histogram": [
                      {
                        "marker": {
                          "pattern": {
                            "fillmode": "overlay",
                            "size": 10,
                            "solidity": 0.2
                          }
                        },
                        "type": "histogram"
                      }
                    ],
                    "histogram2d": [
                      {
                        "colorbar": {
                          "outlinewidth": 0,
                          "ticks": ""
                        },
                        "colorscale": [
                          [
                            0,
                            "#0d0887"
                          ],
                          [
                            0.1111111111111111,
                            "#46039f"
                          ],
                          [
                            0.2222222222222222,
                            "#7201a8"
                          ],
                          [
                            0.3333333333333333,
                            "#9c179e"
                          ],
                          [
                            0.4444444444444444,
                            "#bd3786"
                          ],
                          [
                            0.5555555555555556,
                            "#d8576b"
                          ],
                          [
                            0.6666666666666666,
                            "#ed7953"
                          ],
                          [
                            0.7777777777777778,
                            "#fb9f3a"
                          ],
                          [
                            0.8888888888888888,
                            "#fdca26"
                          ],
                          [
                            1,
                            "#f0f921"
                          ]
                        ],
                        "type": "histogram2d"
                      }
                    ],
                    "histogram2dcontour": [
                      {
                        "colorbar": {
                          "outlinewidth": 0,
                          "ticks": ""
                        },
                        "colorscale": [
                          [
                            0,
                            "#0d0887"
                          ],
                          [
                            0.1111111111111111,
                            "#46039f"
                          ],
                          [
                            0.2222222222222222,
                            "#7201a8"
                          ],
                          [
                            0.3333333333333333,
                            "#9c179e"
                          ],
                          [
                            0.4444444444444444,
                            "#bd3786"
                          ],
                          [
                            0.5555555555555556,
                            "#d8576b"
                          ],
                          [
                            0.6666666666666666,
                            "#ed7953"
                          ],
                          [
                            0.7777777777777778,
                            "#fb9f3a"
                          ],
                          [
                            0.8888888888888888,
                            "#fdca26"
                          ],
                          [
                            1,
                            "#f0f921"
                          ]
                        ],
                        "type": "histogram2dcontour"
                      }
                    ],
                    "mesh3d": [
                      {
                        "colorbar": {
                          "outlinewidth": 0,
                          "ticks": ""
                        },
                        "type": "mesh3d"
                      }
                    ],
                    "parcoords": [
                      {
                        "line": {
                          "colorbar": {
                            "outlinewidth": 0,
                            "ticks": ""
                          }
                        },
                        "type": "parcoords"
                      }
                    ],
                    "pie": [
                      {
                        "automargin": true,
                        "type": "pie"
                      }
                    ],
                    "scatter": [
                      {
                        "fillpattern": {
                          "fillmode": "overlay",
                          "size": 10,
                          "solidity": 0.2
                        },
                        "type": "scatter"
                      }
                    ],
                    "scatter3d": [
                      {
                        "line": {
                          "colorbar": {
                            "outlinewidth": 0,
                            "ticks": ""
                          }
                        },
                        "marker": {
                          "colorbar": {
                            "outlinewidth": 0,
                            "ticks": ""
                          }
                        },
                        "type": "scatter3d"
                      }
                    ],
                    "scattercarpet": [
                      {
                        "marker": {
                          "colorbar": {
                            "outlinewidth": 0,
                            "ticks": ""
                          }
                        },
                        "type": "scattercarpet"
                      }
                    ],
                    "scattergeo": [
                      {
                        "marker": {
                          "colorbar": {
                            "outlinewidth": 0,
                            "ticks": ""
                          }
                        },
                        "type": "scattergeo"
                      }
                    ],
                    "scattergl": [
                      {
                        "marker": {
                          "colorbar": {
                            "outlinewidth": 0,
                            "ticks": ""
                          }
                        },
                        "type": "scattergl"
                      }
                    ],
                    "scattermapbox": [
                      {
                        "marker": {
                          "colorbar": {
                            "outlinewidth": 0,
                            "ticks": ""
                          }
                        },
                        "type": "scattermapbox"
                      }
                    ],
                    "scatterpolar": [
                      {
                        "marker": {
                          "colorbar": {
                            "outlinewidth": 0,
                            "ticks": ""
                          }
                        },
                        "type": "scatterpolar"
                      }
                    ],
                    "scatterpolargl": [
                      {
                        "marker": {
                          "colorbar": {
                            "outlinewidth": 0,
                            "ticks": ""
                          }
                        },
                        "type": "scatterpolargl"
                      }
                    ],
                    "scatterternary": [
                      {
                        "marker": {
                          "colorbar": {
                            "outlinewidth": 0,
                            "ticks": ""
                          }
                        },
                        "type": "scatterternary"
                      }
                    ],
                    "surface": [
                      {
                        "colorbar": {
                          "outlinewidth": 0,
                          "ticks": ""
                        },
                        "colorscale": [
                          [
                            0,
                            "#0d0887"
                          ],
                          [
                            0.1111111111111111,
                            "#46039f"
                          ],
                          [
                            0.2222222222222222,
                            "#7201a8"
                          ],
                          [
                            0.3333333333333333,
                            "#9c179e"
                          ],
                          [
                            0.4444444444444444,
                            "#bd3786"
                          ],
                          [
                            0.5555555555555556,
                            "#d8576b"
                          ],
                          [
                            0.6666666666666666,
                            "#ed7953"
                          ],
                          [
                            0.7777777777777778,
                            "#fb9f3a"
                          ],
                          [
                            0.8888888888888888,
                            "#fdca26"
                          ],
                          [
                            1,
                            "#f0f921"
                          ]
                        ],
                        "type": "surface"
                      }
                    ],
                    "table": [
                      {
                        "cells": {
                          "fill": {
                            "color": "#EBF0F8"
                          },
                          "line": {
                            "color": "white"
                          }
                        },
                        "header": {
                          "fill": {
                            "color": "#C8D4E3"
                          },
                          "line": {
                            "color": "white"
                          }
                        },
                        "type": "table"
                      }
                    ]
                  },
                  "layout": {
                    "annotationdefaults": {
                      "arrowcolor": "#2a3f5f",
                      "arrowhead": 0,
                      "arrowwidth": 1
                    },
                    "autotypenumbers": "strict",
                    "coloraxis": {
                      "colorbar": {
                        "outlinewidth": 0,
                        "ticks": ""
                      }
                    },
                    "colorscale": {
                      "diverging": [
                        [
                          0,
                          "#8e0152"
                        ],
                        [
                          0.1,
                          "#c51b7d"
                        ],
                        [
                          0.2,
                          "#de77ae"
                        ],
                        [
                          0.3,
                          "#f1b6da"
                        ],
                        [
                          0.4,
                          "#fde0ef"
                        ],
                        [
                          0.5,
                          "#f7f7f7"
                        ],
                        [
                          0.6,
                          "#e6f5d0"
                        ],
                        [
                          0.7,
                          "#b8e186"
                        ],
                        [
                          0.8,
                          "#7fbc41"
                        ],
                        [
                          0.9,
                          "#4d9221"
                        ],
                        [
                          1,
                          "#276419"
                        ]
                      ],
                      "sequential": [
                        [
                          0,
                          "#0d0887"
                        ],
                        [
                          0.1111111111111111,
                          "#46039f"
                        ],
                        [
                          0.2222222222222222,
                          "#7201a8"
                        ],
                        [
                          0.3333333333333333,
                          "#9c179e"
                        ],
                        [
                          0.4444444444444444,
                          "#bd3786"
                        ],
                        [
                          0.5555555555555556,
                          "#d8576b"
                        ],
                        [
                          0.6666666666666666,
                          "#ed7953"
                        ],
                        [
                          0.7777777777777778,
                          "#fb9f3a"
                        ],
                        [
                          0.8888888888888888,
                          "#fdca26"
                        ],
                        [
                          1,
                          "#f0f921"
                        ]
                      ],
                      "sequentialminus": [
                        [
                          0,
                          "#0d0887"
                        ],
                        [
                          0.1111111111111111,
                          "#46039f"
                        ],
                        [
                          0.2222222222222222,
                          "#7201a8"
                        ],
                        [
                          0.3333333333333333,
                          "#9c179e"
                        ],
                        [
                          0.4444444444444444,
                          "#bd3786"
                        ],
                        [
                          0.5555555555555556,
                          "#d8576b"
                        ],
                        [
                          0.6666666666666666,
                          "#ed7953"
                        ],
                        [
                          0.7777777777777778,
                          "#fb9f3a"
                        ],
                        [
                          0.8888888888888888,
                          "#fdca26"
                        ],
                        [
                          1,
                          "#f0f921"
                        ]
                      ]
                    },
                    "colorway": [
                      "#636efa",
                      "#EF553B",
                      "#00cc96",
                      "#ab63fa",
                      "#FFA15A",
                      "#19d3f3",
                      "#FF6692",
                      "#B6E880",
                      "#FF97FF",
                      "#FECB52"
                    ],
                    "font": {
                      "color": "#2a3f5f"
                    },
                    "geo": {
                      "bgcolor": "white",
                      "lakecolor": "white",
                      "landcolor": "#E5ECF6",
                      "showlakes": true,
                      "showland": true,
                      "subunitcolor": "white"
                    },
                    "hoverlabel": {
                      "align": "left"
                    },
                    "hovermode": "closest",
                    "mapbox": {
                      "style": "light"
                    },
                    "paper_bgcolor": "white",
                    "plot_bgcolor": "#E5ECF6",
                    "polar": {
                      "angularaxis": {
                        "gridcolor": "white",
                        "linecolor": "white",
                        "ticks": ""
                      },
                      "bgcolor": "#E5ECF6",
                      "radialaxis": {
                        "gridcolor": "white",
                        "linecolor": "white",
                        "ticks": ""
                      }
                    },
                    "scene": {
                      "xaxis": {
                        "backgroundcolor": "#E5ECF6",
                        "gridcolor": "white",
                        "gridwidth": 2,
                        "linecolor": "white",
                        "showbackground": true,
                        "ticks": "",
                        "zerolinecolor": "white"
                      },
                      "yaxis": {
                        "backgroundcolor": "#E5ECF6",
                        "gridcolor": "white",
                        "gridwidth": 2,
                        "linecolor": "white",
                        "showbackground": true,
                        "ticks": "",
                        "zerolinecolor": "white"
                      },
                      "zaxis": {
                        "backgroundcolor": "#E5ECF6",
                        "gridcolor": "white",
                        "gridwidth": 2,
                        "linecolor": "white",
                        "showbackground": true,
                        "ticks": "",
                        "zerolinecolor": "white"
                      }
                    },
                    "shapedefaults": {
                      "line": {
                        "color": "#2a3f5f"
                      }
                    },
                    "ternary": {
                      "aaxis": {
                        "gridcolor": "white",
                        "linecolor": "white",
                        "ticks": ""
                      },
                      "baxis": {
                        "gridcolor": "white",
                        "linecolor": "white",
                        "ticks": ""
                      },
                      "bgcolor": "#E5ECF6",
                      "caxis": {
                        "gridcolor": "white",
                        "linecolor": "white",
                        "ticks": ""
                      }
                    },
                    "title": {
                      "x": 0.05
                    },
                    "xaxis": {
                      "automargin": true,
                      "gridcolor": "white",
                      "linecolor": "white",
                      "ticks": "",
                      "title": {
                        "standoff": 15
                      },
                      "zerolinecolor": "white",
                      "zerolinewidth": 2
                    },
                    "yaxis": {
                      "automargin": true,
                      "gridcolor": "white",
                      "linecolor": "white",
                      "ticks": "",
                      "title": {
                        "standoff": 15
                      },
                      "zerolinecolor": "white",
                      "zerolinewidth": 2
                    }
                  }
                },
                "title": {
                  "text": "Heatmap of Movie Genres by Country"
                },
                "xaxis": {
                  "title": {
                    "text": "Genre"
                  }
                },
                "yaxis": {
                  "title": {
                    "text": "Country"
                  }
                }
              }
            }
          },
          "metadata": {},
          "output_type": "display_data"
        }
      ],
      "source": [
        "#Define the countries of interest\n",
        "countries_of_interest = [\n",
        "        \"United States of America\", \"United Kingdom\", \"India\", \"Japan\",\n",
        "        \"France\", \"Germany\", \"Canada\", \"Italy\", \"Hong Kong\", \"Australia\"]\n",
        "\n",
        "#Only keep elements of the exploded data that have one of the countries of interest and one of the genres of interest\n",
        "temp_countries = exploded_countries_genres[\n",
        "    exploded_countries_genres['Countries'].isin(countries_of_interest) & \n",
        "    exploded_countries_genres['Genres'].isin(genres_of_interest)]\n",
        "\n",
        "# Create a pivot table with countries as rows, genres as columns, and counts as values\n",
        "heatmap_set_countries = pd.pivot_table(temp_countries, index='Countries', columns='Genres', aggfunc='size', fill_value=0)\n",
        "\n",
        "# Create a heatmap using Plotly\n",
        "fig = go.Figure(data=go.Heatmap(\n",
        "    z=heatmap_set_countries.values,\n",
        "    x=heatmap_set_countries.columns,\n",
        "    y=heatmap_set_countries.index,\n",
        "    colorscale='Viridis'  # Using the Viridis color palette\n",
        "))\n",
        "\n",
        "# Update layout for a better appearance\n",
        "fig.update_layout(\n",
        "    title='Heatmap of Movie Genres by Country',\n",
        "    xaxis_title='Genre',\n",
        "    yaxis_title='Country'\n",
        ")\n",
        "\n",
        "# Show the figure\n",
        "fig.show()"
      ]
    },
    {
      "cell_type": "markdown",
      "metadata": {},
      "source": [
        "As we can see, since there are a lot more movies from the USA, we can't really see the variation between genres for the rest of the countries. \n",
        "Therefore, we decided to check out the genre frequency of the USA movies alone, and repeat the visualization for the rest of the countries.\n",
        "\n",
        "First, let's remove the USA from list of countries of interest."
      ]
    },
    {
      "cell_type": "code",
      "execution_count": 32,
      "metadata": {},
      "outputs": [],
      "source": [
        "#Define the countries of interest\n",
        "countries_of_interest = [\"United Kingdom\", \"India\", \"Japan\",\n",
        "        \"France\", \"Germany\", \"Canada\", \"Italy\", \"Hong Kong\", \"Australia\"]\n",
        "\n",
        "#Only keep elements of the exploded data that have one of the countries of interest and one of the genres of interest\n",
        "temp_countries = exploded_countries_genres[\n",
        "    exploded_countries_genres['Countries'].isin(countries_of_interest) & \n",
        "    exploded_countries_genres['Genres'].isin(genres_of_interest)]\n",
        "\n",
        "# Create a pivot table with countries as rows, genres as columns, and counts as values\n",
        "heatmap_set_countries = pd.pivot_table(temp_countries, index='Countries', columns='Genres', aggfunc='size', fill_value=0)"
      ]
    },
    {
      "cell_type": "markdown",
      "metadata": {},
      "source": [
        "Finally, we compute the counts of movies per genre in the USA."
      ]
    },
    {
      "cell_type": "code",
      "execution_count": 33,
      "metadata": {},
      "outputs": [],
      "source": [
        "temp_USA = exploded_countries_genres[exploded_countries_genres['Countries'] == 'United States of America']\n",
        "temp_USA = temp_USA[temp_USA['Genres'].isin(genres_of_interest)]\n",
        "\n",
        "#Count the occurrences of each country\n",
        "genre_counts_USA = temp_USA['Genres'].value_counts()"
      ]
    },
    {
      "cell_type": "markdown",
      "metadata": {},
      "source": [
        "Now, let's visualize the heatmap of Movie Genres by Region, by Country, and a bar chart for the counts of movies per genre in the USA.\n"
      ]
    },
    {
      "cell_type": "code",
      "execution_count": 34,
      "metadata": {},
      "outputs": [
        {
          "data": {
            "image/png": "[encoded data removed]",
            "text/plain": [
              "<Figure size 640x480 with 1 Axes>"
            ]
          },
          "metadata": {},
          "output_type": "display_data"
        }
      ],
      "source": [
        "#Plot the barplots of movie genres for terrorism vs non-terrorism-related movies\n",
        "plt.figure()\n",
        "\n",
        "genre_counts_USA.plot(kind='bar', color='#21918c')\n",
        "plt.title('Counts of USA terrorism-related movies per genre')\n",
        "plt.xlabel('Genre')\n",
        "plt.ylabel('Movies')\n",
        "\n",
        "plt.tight_layout()\n",
        "plt.show()"
      ]
    },
    {
      "cell_type": "markdown",
      "metadata": {},
      "source": [
        "**Discuss**\n",
        "The prevalence of genres like Drama and Thriller in many regions might indicate a universal appeal of intense narratives that deal with complex human emotions and ethical dilemmas, which are often at the core of terrorism-related stories. In contrast, regions where certain genres are more popular may reflect regional storytelling traditions or preferences, such as a penchant for Action/Adventure in the Americas, which could be tied to the Hollywood influence and its history of high-stakes blockbusters.\n",
        "\n",
        "Economic factors, including the availability of funding and resources, market size, and audience demographics, can significantly influence which genres are produced within a region. For instance, regions where Action/Adventure and Thriller genres are highly prevalent may have more established film industries capable of supporting the high production costs associated with these genres. They may also have larger audiences that provide the box office revenues needed to justify such investments.\n",
        "\n",
        "The representation of certain genres, such as Action/Adventure and Drama, across multiple regions suggests that these genres have broad international appeal, likely influenced by the widespread distribution of Hollywood films. However, the presence of genres like World Cinema, which is more prevalent in Europe, indicates that unique cultural differences and cinematic expressions still persist despite the forces of globalization."
      ]
    },
    {
      "cell_type": "markdown",
      "metadata": {},
      "source": [
        "As we can notice, except for Hong Kong and Japan, the most prevalent genre is Drama. In the part about sentimental analysis, it could be interesting to only focus on the Drama movies and see whether the way each country depicts its Drama terrorism-related movies is different, sentimental-wise."
      ]
    },
    {
      "cell_type": "markdown",
      "metadata": {},
      "source": [
        "### 4.3 Chi-Square Test of Independence\n",
        "__What It Does__: Tests whether there is a significant association between movie genres and their portrayal of terrorism.\n",
        "\n",
        "__Why It’s Interesting__: This statistical test can validate whether any observed association between genres and terrorism portrayal is statistically significant, rather than due to random chance.\n",
        "\n",
        "__How It Works__: The Chi-Square test will tell you whether the distribution of genres in terrorism-related movies is different from what would be expected if there was no association between genre and terrorism content.\n",
        "\n",
        "__Data Pre-Processing Needed__: You will need a table where one column is genres and the other is a binary variable indicating whether the movie is terrorism-related.\n",
        "\n",
        "First, we create a new column for the feature Terrorism-related. This feature is binary. Its value is 1 if the movie is terrorism-related, and it is 0 if it is not."
      ]
    },
    {
      "cell_type": "code",
      "execution_count": 35,
      "metadata": {},
      "outputs": [],
      "source": [
        "m_data_chi = m_data_copy.copy()\n",
        "m_data_chi['Terrorism-related'] = m_data_copy['W_movie ID'].apply(lambda x: 1 if x in movie_ids else 0)\n",
        "\n",
        "m_data_chi['Release year'] = m_data_chi['Release date'].str[:4]\n",
        "m_data_chi.drop(columns=['F_movie ID','Box office revenue', 'Runtime', 'Release date'], axis=1, inplace=True)"
      ]
    },
    {
      "cell_type": "markdown",
      "metadata": {},
      "source": [
        "Now, we process the Genres columns in the m_data_chi DataFrame that contain JSON-like strings. We convert the strings in these columns into Python lists containing the values from the JSON object."
      ]
    },
    {
      "cell_type": "code",
      "execution_count": 36,
      "metadata": {},
      "outputs": [],
      "source": [
        "json_cols = [\"Genres\"]\n",
        "for col in json_cols:\n",
        "    m_data_chi[col] = m_data_chi[col].apply(lambda x: list(json.loads(x).values()))"
      ]
    },
    {
      "cell_type": "markdown",
      "metadata": {},
      "source": [
        "Finally, we create the chi-square test data that is a table where one column is the Genre and the other is the Terrorism-related binary variable."
      ]
    },
    {
      "cell_type": "code",
      "execution_count": 37,
      "metadata": {},
      "outputs": [
        {
          "data": {
            "text/html": [
              "<div>\n",
              "<style scoped>\n",
              "    .dataframe tbody tr th:only-of-type {\n",
              "        vertical-align: middle;\n",
              "    }\n",
              "\n",
              "    .dataframe tbody tr th {\n",
              "        vertical-align: top;\n",
              "    }\n",
              "\n",
              "    .dataframe thead th {\n",
              "        text-align: right;\n",
              "    }\n",
              "</style>\n",
              "<table border=\"1\" class=\"dataframe\">\n",
              "  <thead>\n",
              "    <tr style=\"text-align: right;\">\n",
              "      <th></th>\n",
              "      <th>Genres</th>\n",
              "      <th>Terrorism-related</th>\n",
              "    </tr>\n",
              "  </thead>\n",
              "  <tbody>\n",
              "    <tr>\n",
              "      <th>0</th>\n",
              "      <td>Mystery</td>\n",
              "      <td>0</td>\n",
              "    </tr>\n",
              "    <tr>\n",
              "      <th>0</th>\n",
              "      <td>Biographical film</td>\n",
              "      <td>0</td>\n",
              "    </tr>\n",
              "    <tr>\n",
              "      <th>0</th>\n",
              "      <td>Drama</td>\n",
              "      <td>0</td>\n",
              "    </tr>\n",
              "    <tr>\n",
              "      <th>0</th>\n",
              "      <td>Crime Drama</td>\n",
              "      <td>0</td>\n",
              "    </tr>\n",
              "    <tr>\n",
              "      <th>1</th>\n",
              "      <td>Crime Fiction</td>\n",
              "      <td>0</td>\n",
              "    </tr>\n",
              "  </tbody>\n",
              "</table>\n",
              "</div>"
            ],
            "text/plain": [
              "              Genres  Terrorism-related\n",
              "0            Mystery                  0\n",
              "0  Biographical film                  0\n",
              "0              Drama                  0\n",
              "0        Crime Drama                  0\n",
              "1      Crime Fiction                  0"
            ]
          },
          "execution_count": 37,
          "metadata": {},
          "output_type": "execute_result"
        }
      ],
      "source": [
        "exploded_data = m_data_chi.explode('Genres')\n",
        "chi_square_data = exploded_data[['Genres', 'Terrorism-related']]\n",
        "chi_square_data.head()"
      ]
    },
    {
      "cell_type": "code",
      "execution_count": 38,
      "metadata": {},
      "outputs": [
        {
          "name": "stdout",
          "output_type": "stream",
          "text": [
            "{'Mystery': 0, 'Biographical film': 1, 'Drama': 2, 'Crime Drama': 3, 'Crime Fiction': 4, 'Thriller': 5, 'Erotic thriller': 6, 'Psychological thriller': 7, 'Short Film': 8, 'Silent film': 9, 'Indie': 10, 'Black-and-white': 11, 'Comedy': 12, 'Family Film': 13, 'Fantasy': 14, 'Adventure': 15, 'World cinema': 16, 'Musical': 17, 'Horror': 18, 'Supernatural': 19, 'Japanese Movies': 20, 'Action/Adventure': 21, 'Romantic comedy': 22, 'Ensemble Film': 23, 'Comedy-drama': 24, 'Romantic drama': 25, 'Romance Film': 26, 'Costume drama': 27, 'War film': 28, 'Epic': 29, 'Period piece': 30, 'Film adaptation': 31, 'Science Fiction': 32, 'Animation': 33, 'Action': 34, \"Children's/Family\": 35, \"Children's Fantasy\": 36, 'Future noir': -1, 'Comedy film': 37, 'Coming of age': 38, 'Suspense': 39, 'Crime Thriller': 40, 'Black comedy': 41, 'Bollywood': 42, 'Marriage Drama': 43, 'Wuxia': 44, 'Martial Arts Film': 45, 'Chinese Movies': 46, 'Western': 47, 'Parody': 48, 'Mockumentary': 49, 'Fan film': 50, 'Cult': 51, 'Adventure Comedy': 52, 'Slapstick': 53, 'Biopic [feature]': 54, 'Historical Epic': 55, 'Sports': 56, 'Family Drama': 57, 'Political drama': 58, 'Historical fiction': 59, 'Courtroom Drama': 60, 'Culture & Society': 61, 'Biography': 62, 'Documentary': 63, 'Christmas movie': 64, 'Television movie': 65, 'Malayalam Cinema': 66, 'Historical drama': 67, 'Action Comedy': 68, 'Blaxploitation': 69, 'Erotica': 70, 'Sci-Fi Horror': 71, 'Satire': 72, 'Epic Western': 73, 'Gangster Film': 74, 'Softcore Porn': 75, 'Sexploitation': 76, 'B-movie': 77, 'Zombie Film': 78, 'Action Thrillers': 79, 'Musical Drama': 80, 'Erotic Drama': 81, 'Pornographic movie': 82, 'Slasher': 83, 'Film noir': 84, 'Social issues': 85, 'Legal drama': 86, 'New Hollywood': 87, 'History': 88, 'Experimental film': 89, 'Surrealism': 90, 'Tragicomedy': 91, 'Avant-garde': 92, 'Crime Comedy': 93, 'Fantasy Comedy': 94, 'Monster movie': 95, 'Natural horror films': 96, 'Creature Film': 97, 'Gender Issues': 98, 'LGBT': 99, 'Music': 100, 'Comedy of Errors': 101, 'Political thriller': 102, 'Melodrama': 103, 'Americana': 104, 'Detective fiction': 105, 'Detective': 106, 'Concert film': 107, 'Horror Comedy': 108, 'Anime': 109, 'Childhood Drama': 110, 'Docudrama': 111, 'Teen': 112, 'Gothic Film': 113, 'Disaster': 114, 'Art film': 115, 'Domestic Comedy': 116, 'Musical comedy': 117, 'Family-Oriented Adventure': 118, 'Escape Film': 119, 'Prison': 120, 'Dance': 121, 'Superhero movie': 122, 'Filipino Movies': 123, 'Filipino': 124, 'Spy': 125, 'Combat Films': 126, 'Fantasy Adventure': 127, 'Political cinema': 128, 'Comedy horror': 129, 'C-Movie': 130, 'Dystopia': 131, 'Buddy film': 132, 'Tragedy': 133, 'Time travel': 134, 'Sword and sorcery': 135, 'Political satire': 136, 'Gross-out film': 137, 'Gross out': 138, 'Doomsday film': 139, 'Plague': 140, 'Propaganda film': 141, 'Screwball comedy': 142, 'Comedy Western': 143, 'Gay': 144, 'Gay Interest': 145, 'Gay Themed': 146, 'Film & Television History': 147, 'Film': 148, 'Medical fiction': 149, 'Costume Adventure': 150, 'Rockumentary': 151, 'Feminist Film': 152, 'Educational': 153, 'Buddy cop': 154, 'Film à clef': 155, 'Costume Horror': 156, 'Pre-Code': 157, 'Juvenile Delinquency Film': 158, 'Christian film': 159, 'Natural disaster': 160, 'Movie serial': 161, 'Linguistics': 162, 'Language & Literature': 163, 'Comedy of manners': 164, \"Children's\": 165, 'Remake': 166, 'Media Satire': 167, 'Computer Animation': 168, 'Spaghetti Western': 169, 'Dogme 95': 170, 'Backstage Musical': 171, 'Law & Crime': 172, 'Space western': 173, 'Hybrid Western': 174, 'Stop motion': 175, 'Roadshow theatrical release': 176, 'Sex comedy': 177, 'Tollywood': 178, 'Women in prison films': 179, 'Holiday Film': 180, 'Heavenly Comedy': 181, 'Road movie': 182, 'Giallo': 183, 'Anthology': 184, 'Existentialism': 185, 'Social problem film': 186, 'Sci-Fi Adventure': 187, 'Anthropology': 188, 'Gay pornography': 189, 'Stoner film': 190, 'Auto racing': 191, 'Slice of life story': 192, 'Kitchen sink realism': 193, 'British New Wave': 194, 'Samurai cinema': 195, 'Heist': 196, 'Gulf War': 197, 'Archaeology': 198, 'Romantic fantasy': 199, 'Religious Film': 200, 'Biker Film': 201, 'Animal Picture': 202, 'Absurdism': 203, 'Swashbuckler films': 204, 'Hagiography': 205, 'Hardcore pornography': 206, 'Adult': 207, 'Animated Musical': 208, 'Anti-war': 209, 'Anti-war film': 210, 'Cavalry Film': 211, 'Haunted House Film': 212, 'Space opera': 213, 'Czechoslovak New Wave': 214, 'Animals': 215, 'Addiction Drama': 216, 'Punk rock': 217, 'Chase Movie': 218, 'Tokusatsu': 219, 'Pornography': 220, 'Extreme Sports': 221, 'Superhero': 222, 'Apocalyptic and post-apocalyptic fiction': 223, 'Whodunit': 224, 'Environmental Science': 225, 'Airplanes and airports': 226, 'Travel': 227, 'Alien Film': 228, 'Graphic & Applied Arts': 229, 'Animated cartoon': 230, 'Essay Film': 231, 'Inspirational Drama': 232, 'Revisionist Western': 233, 'Pinku eiga': 234, 'Stand-up comedy': 235, 'Jungle Film': 236, 'Fairy tale': 237, 'Comedy Thriller': 238, 'Tamil cinema': 239, 'Libraries and librarians': 240, 'Workplace Comedy': 241, 'Caper story': 242, 'Demonic child': 243, 'Illnesses & Disabilities': 244, 'Expressionism': 245, 'Glamorized Spy Film': 246, 'Early Black Cinema': 247, 'Interpersonal Relationships': 248, 'British Empire Film': 249, 'Monster': 250, 'Sword and sorcery films': 251, 'B-Western': 252, 'Bengali Cinema': 253, 'Filmed Play': 254, 'Northern': 255, 'Hip hop movies': 256, 'Humour': 257, 'Roadshow/Carny': 258, 'Exploitation': 259, 'Sword and Sandal': 260, 'Nature': 261, 'Mumblecore': 262, \"Children's Entertainment\": 263, 'Splatter film': 264, 'Star vehicle': 265, 'Business': 266, 'Mythological Fantasy': 267, 'Journalism': 268, 'Camp': 269, 'Boxing': 270, 'Mondo film': 271, 'Latino': 272, 'Alien invasion': 273, 'Sponsored film': 274, 'Revenge': 275, 'Foreign legion': 276, 'Historical Documentaries': 277, 'Heaven-Can-Wait Fantasies': 278, 'Baseball': 279, 'Prison film': 280, 'Conspiracy fiction': 281, 'Crime': 282, 'Master Criminal Films': 283, 'Jukebox musical': 284, 'Indian Western': 285, 'Road-Horror': 286, 'Werewolf fiction': 287, 'Feature film': 288, 'Neo-noir': 289, 'Private military company': 290, 'Finance & Investing': 291, 'Computers': 292, 'Movies About Gladiators': 293, 'Horse racing': 294, 'Nuclear warfare': 295, 'Inventions & Innovations': 296, 'Instrumental Music': 297, 'Media Studies': 298, 'Archives and records': 299, 'Psycho-biddy': 300, 'Outlaw biker film': 301, 'Prison escape': 302, 'Z movie': 303, 'News': 304, 'Beach Film': 305, 'Live action': 306, 'Fictional film': 307, 'Education': 308, 'Health & Fitness': 309, 'Film-Opera': 310, 'Period Horror': 311, 'Comdedy': 312, \"Children's Issues\": 313, 'Science fiction Western': 314, 'Bloopers & Candid Camera': 315, 'Psychological horror': 316, 'Albino bias': 317, 'Family & Personal Relationships': 318, 'Steampunk': 319, 'Fantasy Drama': 320, 'Sci-Fi Thriller': 321, 'Courtroom Comedy': 322, 'Operetta': 323, 'Parkour in popular culture': 324, 'Cyberpunk': 325, 'Coming-of-age film': 326, 'Cold War': 327, 'Political Documetary': 328, 'World History': 329, 'Reboot': 330, 'Bruceploitation': 331, 'Ealing Comedies': 332, 'Silhouette animation': 333, 'Female buddy film': 334, 'Race movie': 335, 'Breakdance': 336, 'Acid western': 337, 'War effort': 338, 'School story': 339, 'Clay animation': 340, 'Supermarionation': 341, 'Sci Fi Pictures original films': 342, 'Outlaw': 343, 'Kafkaesque': 344, 'Vampire movies': 345, 'Goat gland': 346, 'Therimin music': 347, 'Beach Party film': 348, 'Singing cowboy': 349, 'Point of view shot': 350, 'Romantic thriller': 351, 'Patriotic film': 352, 'Chick flick': 353, 'Ninja movie': 354, 'Buddy Picture': 355, 'Statutory rape': 356, 'New Queer Cinema': 357, 'Neorealism': 358, 'The Netherlands in World War II': 359, 'Revisionist Fairy Tale': 360, 'Homoeroticism': 361}\n"
          ]
        }
      ],
      "source": [
        "unique_genres = chi_square_data['Genres'].unique()\n",
        "# Use pandas factorize\n",
        "labels, unique = pd.factorize(unique_genres)\n",
        "\n",
        "# The 'labels' array contains the integer labels for each genre\n",
        "# The 'unique' array contains the unique genres in the order they were encountered\n",
        "genre_to_int = {genre: label for genre, label in zip(unique, labels)}\n",
        "\n",
        "print(genre_to_int)"
      ]
    },
    {
      "cell_type": "code",
      "execution_count": 39,
      "metadata": {},
      "outputs": [],
      "source": [
        "# Map the list of genres to their corresponding integers\n",
        "chi_square_data = chi_square_data.dropna()\n",
        "chi_square_data['Genres'] = [genre_to_int[genre] for genre in chi_square_data['Genres']]\n",
        "\n",
        "for i in range(len(chi_square_data)):\n",
        "    if chi_square_data.iloc[i]['Genres'] == -1: \n",
        "        chi_square_data['Genres'] = chi_square_data['Genres'].replace(-1, 362)"
      ]
    },
    {
      "cell_type": "code",
      "execution_count": 40,
      "metadata": {},
      "outputs": [
        {
          "data": {
            "text/plain": [
              "0          0\n",
              "0          1\n",
              "0          2\n",
              "0          3\n",
              "1          4\n",
              "        ... \n",
              "81738      2\n",
              "81739      5\n",
              "81739     18\n",
              "81739     83\n",
              "81739    112\n",
              "Name: Genres, Length: 243322, dtype: int64"
            ]
          },
          "execution_count": 40,
          "metadata": {},
          "output_type": "execute_result"
        }
      ],
      "source": [
        "chi_square_data['Genres']"
      ]
    },
    {
      "cell_type": "code",
      "execution_count": 41,
      "metadata": {},
      "outputs": [
        {
          "name": "stdout",
          "output_type": "stream",
          "text": [
            "                Results         Value\n",
            "0  Chi-Square Statistic  17893.153178\n",
            "1               P-value      0.000000\n",
            "Reject the null hypothesis - there is a significant association between genre and being terrorism-related.\n"
          ]
        }
      ],
      "source": [
        "from scipy.stats import chi2_contingency\n",
        "\n",
        "# Creating a contingency table\n",
        "contingency_table = pd.crosstab(chi_square_data['Genres'], chi_square_data['Terrorism-related'])\n",
        "\n",
        "# Performing the Chi-Square Test\n",
        "chi2, p, dof, expected = chi2_contingency(contingency_table)\n",
        "\n",
        "results = {\n",
        "    \"Results\": [\"Chi-Square Statistic\", \"P-value\"],\n",
        "    \"Value\": [chi2, p]\n",
        "}\n",
        "\n",
        "# Creating a DataFrame to display the results\n",
        "results_df = pd.DataFrame(results)\n",
        "\n",
        "# Display the DataFrame\n",
        "print(results_df)\n",
        "\n",
        "# Interpret the p-value (assuming a significance level of 0.05)\n",
        "alpha = 0.05\n",
        "if p < alpha:\n",
        "    print(\"Reject the null hypothesis - there is a significant association between genre and being terrorism-related.\")\n",
        "else:\n",
        "    print(\"Fail to reject the null hypothesis - there is no significant association between genre and being terrorism-related.\")"
      ]
    },
    {
      "cell_type": "markdown",
      "metadata": {},
      "source": [
        "### 4.4: Time Series Analysis per genre\n"
      ]
    },
    {
      "cell_type": "code",
      "execution_count": 42,
      "metadata": {},
      "outputs": [],
      "source": [
        "t_movies = t_movies.sort_values(by=['Release date'])\n",
        "t_movies['Release date']=  t_movies['Release date'].str[:4]"
      ]
    },
    {
      "cell_type": "code",
      "execution_count": 43,
      "metadata": {},
      "outputs": [],
      "source": [
        "exploded = t_movies.explode('Genres')"
      ]
    },
    {
      "cell_type": "code",
      "execution_count": 44,
      "metadata": {},
      "outputs": [
        {
          "data": {
            "application/vnd.plotly.v1+json": {
              "config": {
                "plotlyServerURL": "https://plot.ly"
              },
              "data": [
                {
                  "line": {
                    "color": "#440154"
                  },
                  "mode": "lines",
                  "name": "Drama",
                  "type": "scatter",
                  "x": [
                    "1907",
                    "1910",
                    "1911",
                    "1912",
                    "1914",
                    "1915",
                    "1917",
                    "1918",
                    "1919",
                    "1920",
                    "1921",
                    "1922",
                    "1923",
                    "1924",
                    "1925",
                    "1926",
                    "1927",
                    "1928",
                    "1929",
                    "1930",
                    "1931",
                    "1932",
                    "1933",
                    "1934",
                    "1935",
                    "1936",
                    "1937",
                    "1938",
                    "1939",
                    "1940",
                    "1941",
                    "1942",
                    "1943",
                    "1944",
                    "1945",
                    "1946",
                    "1947",
                    "1948",
                    "1949",
                    "1950",
                    "1951",
                    "1952",
                    "1953",
                    "1954",
                    "1955",
                    "1956",
                    "1957",
                    "1958",
                    "1959",
                    "1960",
                    "1961",
                    "1962",
                    "1963",
                    "1964",
                    "1965",
                    "1966",
                    "1967",
                    "1968",
                    "1969",
                    "1970",
                    "1971",
                    "1972",
                    "1973",
                    "1974",
                    "1975",
                    "1976",
                    "1977",
                    "1978",
                    "1979",
                    "1980",
                    "1981",
                    "1982",
                    "1983",
                    "1984",
                    "1985",
                    "1986",
                    "1987",
                    "1988",
                    "1989",
                    "1990",
                    "1991",
                    "1992",
                    "1993",
                    "1994",
                    "1995",
                    "1996",
                    "1997",
                    "1998",
                    "1999",
                    "2000",
                    "2001",
                    "2002",
                    "2003",
                    "2004",
                    "2005",
                    "2006",
                    "2007",
                    "2008",
                    "2009",
                    "2010",
                    "2011",
                    "2012",
                    "2013"
                  ],
                  "y": [
                    1,
                    1,
                    1,
                    2,
                    1,
                    3,
                    3,
                    1,
                    2,
                    6,
                    4,
                    2,
                    2,
                    4,
                    4,
                    3,
                    3,
                    3,
                    5,
                    7,
                    5,
                    11,
                    7,
                    10,
                    6,
                    7,
                    8,
                    4,
                    19,
                    14,
                    10,
                    21,
                    17,
                    13,
                    14,
                    8,
                    15,
                    17,
                    15,
                    14,
                    16,
                    18,
                    22,
                    23,
                    16,
                    22,
                    21,
                    22,
                    18,
                    22,
                    26,
                    28,
                    16,
                    26,
                    20,
                    20,
                    22,
                    16,
                    24,
                    17,
                    23,
                    32,
                    22,
                    23,
                    18,
                    16,
                    14,
                    16,
                    32,
                    28,
                    38,
                    30,
                    40,
                    35,
                    29,
                    39,
                    36,
                    36,
                    45,
                    47,
                    45,
                    48,
                    49,
                    45,
                    59,
                    48,
                    58,
                    61,
                    65,
                    76,
                    90,
                    89,
                    108,
                    110,
                    147,
                    145,
                    138,
                    141,
                    130,
                    137,
                    113,
                    40,
                    1
                  ]
                },
                {
                  "line": {
                    "color": "#482878"
                  },
                  "mode": "lines",
                  "name": "Action",
                  "type": "scatter",
                  "x": [
                    "1918",
                    "1920",
                    "1926",
                    "1927",
                    "1928",
                    "1929",
                    "1930",
                    "1931",
                    "1932",
                    "1933",
                    "1934",
                    "1935",
                    "1936",
                    "1937",
                    "1938",
                    "1939",
                    "1940",
                    "1941",
                    "1942",
                    "1943",
                    "1944",
                    "1945",
                    "1946",
                    "1947",
                    "1948",
                    "1949",
                    "1950",
                    "1951",
                    "1952",
                    "1953",
                    "1954",
                    "1955",
                    "1956",
                    "1957",
                    "1958",
                    "1959",
                    "1960",
                    "1961",
                    "1962",
                    "1963",
                    "1964",
                    "1965",
                    "1966",
                    "1967",
                    "1968",
                    "1969",
                    "1970",
                    "1971",
                    "1972",
                    "1973",
                    "1974",
                    "1975",
                    "1976",
                    "1977",
                    "1978",
                    "1979",
                    "1980",
                    "1981",
                    "1982",
                    "1983",
                    "1984",
                    "1985",
                    "1986",
                    "1987",
                    "1988",
                    "1989",
                    "1990",
                    "1991",
                    "1992",
                    "1993",
                    "1994",
                    "1995",
                    "1996",
                    "1997",
                    "1998",
                    "1999",
                    "2000",
                    "2001",
                    "2002",
                    "2003",
                    "2004",
                    "2005",
                    "2006",
                    "2007",
                    "2008",
                    "2009",
                    "2010",
                    "2011",
                    "2012",
                    "2013"
                  ],
                  "y": [
                    1,
                    1,
                    2,
                    1,
                    1,
                    1,
                    3,
                    5,
                    1,
                    6,
                    5,
                    4,
                    2,
                    5,
                    3,
                    8,
                    10,
                    3,
                    16,
                    7,
                    4,
                    6,
                    4,
                    6,
                    4,
                    8,
                    11,
                    12,
                    7,
                    9,
                    13,
                    9,
                    13,
                    7,
                    10,
                    13,
                    10,
                    8,
                    14,
                    6,
                    10,
                    14,
                    16,
                    14,
                    12,
                    15,
                    9,
                    16,
                    21,
                    22,
                    19,
                    14,
                    22,
                    20,
                    21,
                    17,
                    22,
                    22,
                    20,
                    21,
                    26,
                    35,
                    38,
                    50,
                    33,
                    45,
                    42,
                    23,
                    35,
                    50,
                    36,
                    45,
                    41,
                    57,
                    49,
                    42,
                    53,
                    70,
                    62,
                    68,
                    67,
                    77,
                    91,
                    87,
                    97,
                    103,
                    129,
                    104,
                    47,
                    2
                  ]
                },
                {
                  "line": {
                    "color": "#3e4989"
                  },
                  "mode": "lines",
                  "name": "Thriller",
                  "type": "scatter",
                  "x": [
                    "1912",
                    "1915",
                    "1922",
                    "1925",
                    "1927",
                    "1930",
                    "1931",
                    "1932",
                    "1933",
                    "1934",
                    "1935",
                    "1936",
                    "1937",
                    "1939",
                    "1940",
                    "1941",
                    "1942",
                    "1943",
                    "1944",
                    "1945",
                    "1946",
                    "1947",
                    "1948",
                    "1949",
                    "1950",
                    "1951",
                    "1952",
                    "1953",
                    "1954",
                    "1955",
                    "1956",
                    "1957",
                    "1958",
                    "1959",
                    "1960",
                    "1961",
                    "1962",
                    "1963",
                    "1964",
                    "1965",
                    "1966",
                    "1967",
                    "1968",
                    "1969",
                    "1970",
                    "1971",
                    "1972",
                    "1973",
                    "1974",
                    "1975",
                    "1976",
                    "1977",
                    "1978",
                    "1979",
                    "1980",
                    "1981",
                    "1982",
                    "1983",
                    "1984",
                    "1985",
                    "1986",
                    "1987",
                    "1988",
                    "1989",
                    "1990",
                    "1991",
                    "1992",
                    "1993",
                    "1994",
                    "1995",
                    "1996",
                    "1997",
                    "1998",
                    "1999",
                    "2000",
                    "2001",
                    "2002",
                    "2003",
                    "2004",
                    "2005",
                    "2006",
                    "2007",
                    "2008",
                    "2009",
                    "2010",
                    "2011",
                    "2012",
                    "2013"
                  ],
                  "y": [
                    1,
                    1,
                    1,
                    1,
                    1,
                    1,
                    1,
                    5,
                    2,
                    3,
                    3,
                    1,
                    3,
                    2,
                    4,
                    4,
                    8,
                    3,
                    1,
                    3,
                    3,
                    3,
                    4,
                    3,
                    3,
                    3,
                    3,
                    5,
                    5,
                    7,
                    5,
                    5,
                    5,
                    7,
                    5,
                    3,
                    6,
                    7,
                    10,
                    11,
                    7,
                    13,
                    6,
                    7,
                    7,
                    19,
                    18,
                    21,
                    13,
                    16,
                    19,
                    17,
                    18,
                    11,
                    16,
                    19,
                    25,
                    21,
                    21,
                    21,
                    22,
                    30,
                    26,
                    36,
                    45,
                    24,
                    39,
                    35,
                    27,
                    38,
                    44,
                    52,
                    51,
                    49,
                    62,
                    67,
                    62,
                    73,
                    82,
                    101,
                    122,
                    114,
                    125,
                    136,
                    122,
                    89,
                    45,
                    1
                  ]
                },
                {
                  "line": {
                    "color": "#31688e"
                  },
                  "mode": "lines",
                  "name": "Comedy",
                  "type": "scatter",
                  "x": [
                    "1910",
                    "1914",
                    "1915",
                    "1917",
                    "1920",
                    "1921",
                    "1922",
                    "1924",
                    "1925",
                    "1926",
                    "1928",
                    "1929",
                    "1930",
                    "1931",
                    "1932",
                    "1933",
                    "1934",
                    "1935",
                    "1936",
                    "1937",
                    "1938",
                    "1939",
                    "1940",
                    "1941",
                    "1942",
                    "1943",
                    "1944",
                    "1945",
                    "1946",
                    "1948",
                    "1949",
                    "1950",
                    "1951",
                    "1952",
                    "1953",
                    "1954",
                    "1955",
                    "1956",
                    "1957",
                    "1958",
                    "1959",
                    "1960",
                    "1961",
                    "1962",
                    "1963",
                    "1964",
                    "1965",
                    "1966",
                    "1967",
                    "1968",
                    "1969",
                    "1970",
                    "1971",
                    "1972",
                    "1973",
                    "1974",
                    "1975",
                    "1976",
                    "1977",
                    "1978",
                    "1979",
                    "1980",
                    "1981",
                    "1982",
                    "1983",
                    "1984",
                    "1985",
                    "1986",
                    "1987",
                    "1988",
                    "1989",
                    "1990",
                    "1991",
                    "1992",
                    "1993",
                    "1994",
                    "1995",
                    "1996",
                    "1997",
                    "1998",
                    "1999",
                    "2000",
                    "2001",
                    "2002",
                    "2003",
                    "2004",
                    "2005",
                    "2006",
                    "2007",
                    "2008",
                    "2009",
                    "2010",
                    "2011",
                    "2012",
                    "2013"
                  ],
                  "y": [
                    1,
                    3,
                    2,
                    1,
                    1,
                    2,
                    1,
                    2,
                    2,
                    1,
                    2,
                    1,
                    4,
                    6,
                    3,
                    5,
                    4,
                    8,
                    4,
                    3,
                    6,
                    3,
                    7,
                    6,
                    5,
                    5,
                    9,
                    3,
                    2,
                    1,
                    7,
                    5,
                    6,
                    9,
                    6,
                    7,
                    6,
                    7,
                    5,
                    9,
                    8,
                    5,
                    8,
                    7,
                    7,
                    13,
                    13,
                    13,
                    13,
                    11,
                    10,
                    13,
                    13,
                    14,
                    12,
                    12,
                    14,
                    16,
                    7,
                    14,
                    15,
                    21,
                    10,
                    12,
                    19,
                    17,
                    22,
                    27,
                    36,
                    38,
                    34,
                    25,
                    35,
                    27,
                    39,
                    41,
                    38,
                    36,
                    49,
                    45,
                    38,
                    43,
                    61,
                    60,
                    62,
                    68,
                    59,
                    72,
                    60,
                    89,
                    70,
                    80,
                    42,
                    16,
                    1
                  ]
                },
                {
                  "line": {
                    "color": "#26828e"
                  },
                  "mode": "lines",
                  "name": "Action/Adventure",
                  "type": "scatter",
                  "x": [
                    "1920",
                    "1926",
                    "1929",
                    "1931",
                    "1933",
                    "1934",
                    "1935",
                    "1936",
                    "1937",
                    "1938",
                    "1939",
                    "1940",
                    "1941",
                    "1942",
                    "1943",
                    "1944",
                    "1945",
                    "1946",
                    "1947",
                    "1948",
                    "1949",
                    "1950",
                    "1951",
                    "1952",
                    "1953",
                    "1954",
                    "1955",
                    "1956",
                    "1957",
                    "1958",
                    "1959",
                    "1960",
                    "1961",
                    "1962",
                    "1963",
                    "1964",
                    "1965",
                    "1966",
                    "1967",
                    "1968",
                    "1969",
                    "1970",
                    "1971",
                    "1972",
                    "1973",
                    "1974",
                    "1975",
                    "1976",
                    "1977",
                    "1978",
                    "1979",
                    "1980",
                    "1981",
                    "1982",
                    "1983",
                    "1984",
                    "1985",
                    "1986",
                    "1987",
                    "1988",
                    "1989",
                    "1990",
                    "1991",
                    "1992",
                    "1993",
                    "1994",
                    "1995",
                    "1996",
                    "1997",
                    "1998",
                    "1999",
                    "2000",
                    "2001",
                    "2002",
                    "2003",
                    "2004",
                    "2005",
                    "2006",
                    "2007",
                    "2008",
                    "2009",
                    "2010",
                    "2011",
                    "2012"
                  ],
                  "y": [
                    1,
                    1,
                    1,
                    3,
                    4,
                    4,
                    3,
                    3,
                    6,
                    3,
                    6,
                    6,
                    2,
                    8,
                    4,
                    5,
                    1,
                    1,
                    5,
                    3,
                    4,
                    12,
                    7,
                    3,
                    3,
                    14,
                    7,
                    10,
                    5,
                    8,
                    8,
                    7,
                    7,
                    11,
                    4,
                    5,
                    11,
                    19,
                    9,
                    10,
                    20,
                    11,
                    12,
                    23,
                    14,
                    19,
                    8,
                    14,
                    19,
                    15,
                    16,
                    18,
                    15,
                    13,
                    18,
                    17,
                    28,
                    21,
                    29,
                    21,
                    26,
                    25,
                    23,
                    28,
                    32,
                    23,
                    25,
                    23,
                    34,
                    32,
                    31,
                    32,
                    47,
                    47,
                    48,
                    63,
                    57,
                    71,
                    67,
                    62,
                    48,
                    65,
                    40,
                    7
                  ]
                },
                {
                  "line": {
                    "color": "#1f9e89"
                  },
                  "mode": "lines",
                  "name": "Horror",
                  "type": "scatter",
                  "x": [
                    "1908",
                    "1913",
                    "1920",
                    "1922",
                    "1925",
                    "1928",
                    "1930",
                    "1931",
                    "1932",
                    "1933",
                    "1935",
                    "1936",
                    "1940",
                    "1941",
                    "1942",
                    "1943",
                    "1944",
                    "1945",
                    "1946",
                    "1948",
                    "1949",
                    "1951",
                    "1952",
                    "1953",
                    "1954",
                    "1955",
                    "1956",
                    "1957",
                    "1958",
                    "1959",
                    "1961",
                    "1962",
                    "1963",
                    "1964",
                    "1965",
                    "1966",
                    "1967",
                    "1968",
                    "1969",
                    "1970",
                    "1971",
                    "1972",
                    "1973",
                    "1974",
                    "1975",
                    "1976",
                    "1977",
                    "1978",
                    "1979",
                    "1980",
                    "1981",
                    "1982",
                    "1983",
                    "1984",
                    "1985",
                    "1986",
                    "1987",
                    "1988",
                    "1989",
                    "1990",
                    "1991",
                    "1992",
                    "1993",
                    "1994",
                    "1995",
                    "1996",
                    "1997",
                    "1998",
                    "1999",
                    "2000",
                    "2001",
                    "2002",
                    "2003",
                    "2004",
                    "2005",
                    "2006",
                    "2007",
                    "2008",
                    "2009",
                    "2010",
                    "2011",
                    "2012"
                  ],
                  "y": [
                    1,
                    1,
                    3,
                    1,
                    4,
                    1,
                    1,
                    4,
                    4,
                    2,
                    3,
                    2,
                    1,
                    3,
                    3,
                    4,
                    3,
                    3,
                    2,
                    1,
                    1,
                    2,
                    1,
                    2,
                    4,
                    6,
                    2,
                    12,
                    8,
                    12,
                    3,
                    7,
                    10,
                    15,
                    6,
                    8,
                    6,
                    12,
                    6,
                    8,
                    12,
                    16,
                    21,
                    19,
                    13,
                    13,
                    18,
                    14,
                    12,
                    15,
                    32,
                    24,
                    23,
                    13,
                    20,
                    27,
                    25,
                    34,
                    31,
                    33,
                    17,
                    24,
                    16,
                    15,
                    9,
                    21,
                    16,
                    22,
                    24,
                    25,
                    35,
                    30,
                    36,
                    59,
                    68,
                    76,
                    92,
                    84,
                    83,
                    68,
                    45,
                    29
                  ]
                },
                {
                  "line": {
                    "color": "#35b779"
                  },
                  "mode": "lines",
                  "name": "Adventure",
                  "type": "scatter",
                  "x": [
                    "1917",
                    "1918",
                    "1919",
                    "1920",
                    "1921",
                    "1922",
                    "1923",
                    "1925",
                    "1926",
                    "1927",
                    "1930",
                    "1931",
                    "1932",
                    "1933",
                    "1934",
                    "1935",
                    "1936",
                    "1937",
                    "1938",
                    "1939",
                    "1940",
                    "1941",
                    "1942",
                    "1943",
                    "1944",
                    "1945",
                    "1946",
                    "1947",
                    "1948",
                    "1949",
                    "1950",
                    "1951",
                    "1952",
                    "1953",
                    "1954",
                    "1955",
                    "1956",
                    "1957",
                    "1958",
                    "1959",
                    "1960",
                    "1961",
                    "1962",
                    "1963",
                    "1964",
                    "1965",
                    "1966",
                    "1967",
                    "1968",
                    "1969",
                    "1970",
                    "1971",
                    "1972",
                    "1973",
                    "1974",
                    "1975",
                    "1976",
                    "1977",
                    "1978",
                    "1979",
                    "1980",
                    "1981",
                    "1982",
                    "1983",
                    "1984",
                    "1985",
                    "1986",
                    "1987",
                    "1988",
                    "1989",
                    "1990",
                    "1991",
                    "1992",
                    "1993",
                    "1994",
                    "1995",
                    "1996",
                    "1997",
                    "1998",
                    "1999",
                    "2000",
                    "2001",
                    "2002",
                    "2003",
                    "2004",
                    "2005",
                    "2006",
                    "2007",
                    "2008",
                    "2009",
                    "2010",
                    "2011",
                    "2012"
                  ],
                  "y": [
                    1,
                    2,
                    1,
                    3,
                    1,
                    1,
                    1,
                    2,
                    2,
                    1,
                    1,
                    4,
                    4,
                    4,
                    4,
                    7,
                    1,
                    7,
                    5,
                    10,
                    10,
                    4,
                    9,
                    6,
                    3,
                    5,
                    5,
                    5,
                    4,
                    5,
                    11,
                    9,
                    10,
                    7,
                    14,
                    10,
                    9,
                    3,
                    4,
                    7,
                    7,
                    8,
                    14,
                    8,
                    8,
                    13,
                    12,
                    7,
                    5,
                    9,
                    8,
                    7,
                    9,
                    7,
                    10,
                    6,
                    7,
                    13,
                    12,
                    16,
                    16,
                    11,
                    15,
                    13,
                    22,
                    18,
                    24,
                    20,
                    19,
                    19,
                    14,
                    15,
                    18,
                    15,
                    21,
                    25,
                    18,
                    26,
                    27,
                    22,
                    25,
                    25,
                    36,
                    32,
                    36,
                    42,
                    34,
                    27,
                    49,
                    50,
                    56,
                    44,
                    16
                  ]
                },
                {
                  "line": {
                    "color": "#6ece58"
                  },
                  "mode": "lines",
                  "name": "World cinema",
                  "type": "scatter",
                  "x": [
                    "1920",
                    "1927",
                    "1929",
                    "1932",
                    "1946",
                    "1947",
                    "1948",
                    "1949",
                    "1950",
                    "1951",
                    "1952",
                    "1953",
                    "1954",
                    "1955",
                    "1956",
                    "1957",
                    "1958",
                    "1959",
                    "1960",
                    "1961",
                    "1962",
                    "1963",
                    "1964",
                    "1965",
                    "1966",
                    "1967",
                    "1968",
                    "1969",
                    "1970",
                    "1971",
                    "1972",
                    "1973",
                    "1974",
                    "1975",
                    "1976",
                    "1977",
                    "1978",
                    "1979",
                    "1980",
                    "1981",
                    "1982",
                    "1983",
                    "1984",
                    "1985",
                    "1986",
                    "1987",
                    "1988",
                    "1989",
                    "1990",
                    "1991",
                    "1992",
                    "1993",
                    "1994",
                    "1995",
                    "1996",
                    "1997",
                    "1998",
                    "1999",
                    "2000",
                    "2001",
                    "2002",
                    "2003",
                    "2004",
                    "2005",
                    "2006",
                    "2007",
                    "2008",
                    "2009",
                    "2010",
                    "2011",
                    "2012"
                  ],
                  "y": [
                    1,
                    1,
                    1,
                    1,
                    1,
                    1,
                    1,
                    2,
                    1,
                    1,
                    1,
                    1,
                    9,
                    4,
                    2,
                    5,
                    5,
                    6,
                    5,
                    7,
                    7,
                    5,
                    8,
                    5,
                    9,
                    9,
                    7,
                    12,
                    6,
                    7,
                    20,
                    11,
                    11,
                    11,
                    6,
                    16,
                    13,
                    12,
                    10,
                    14,
                    10,
                    10,
                    7,
                    14,
                    9,
                    18,
                    9,
                    19,
                    10,
                    12,
                    16,
                    21,
                    18,
                    16,
                    16,
                    18,
                    20,
                    25,
                    37,
                    34,
                    36,
                    54,
                    63,
                    76,
                    74,
                    55,
                    62,
                    73,
                    56,
                    7,
                    2
                  ]
                },
                {
                  "line": {
                    "color": "#b5de2b"
                  },
                  "mode": "lines",
                  "name": "Crime Fiction",
                  "type": "scatter",
                  "x": [
                    "1922",
                    "1923",
                    "1929",
                    "1930",
                    "1931",
                    "1932",
                    "1935",
                    "1936",
                    "1937",
                    "1938",
                    "1939",
                    "1940",
                    "1941",
                    "1942",
                    "1943",
                    "1944",
                    "1945",
                    "1946",
                    "1947",
                    "1948",
                    "1949",
                    "1950",
                    "1951",
                    "1952",
                    "1953",
                    "1954",
                    "1955",
                    "1956",
                    "1957",
                    "1958",
                    "1959",
                    "1960",
                    "1961",
                    "1962",
                    "1963",
                    "1964",
                    "1965",
                    "1966",
                    "1967",
                    "1968",
                    "1969",
                    "1970",
                    "1971",
                    "1972",
                    "1973",
                    "1974",
                    "1975",
                    "1976",
                    "1977",
                    "1978",
                    "1979",
                    "1980",
                    "1981",
                    "1982",
                    "1983",
                    "1984",
                    "1985",
                    "1986",
                    "1987",
                    "1988",
                    "1989",
                    "1990",
                    "1991",
                    "1992",
                    "1993",
                    "1994",
                    "1995",
                    "1996",
                    "1997",
                    "1998",
                    "1999",
                    "2000",
                    "2001",
                    "2002",
                    "2003",
                    "2004",
                    "2005",
                    "2006",
                    "2007",
                    "2008",
                    "2009",
                    "2010",
                    "2011",
                    "2012",
                    "2013"
                  ],
                  "y": [
                    1,
                    1,
                    1,
                    2,
                    4,
                    7,
                    6,
                    3,
                    5,
                    5,
                    4,
                    5,
                    5,
                    2,
                    1,
                    1,
                    2,
                    3,
                    6,
                    7,
                    4,
                    8,
                    3,
                    2,
                    7,
                    5,
                    10,
                    4,
                    3,
                    4,
                    7,
                    6,
                    8,
                    3,
                    4,
                    8,
                    2,
                    1,
                    7,
                    6,
                    7,
                    7,
                    10,
                    14,
                    19,
                    9,
                    7,
                    14,
                    8,
                    3,
                    9,
                    7,
                    10,
                    7,
                    9,
                    11,
                    9,
                    20,
                    18,
                    12,
                    18,
                    15,
                    13,
                    24,
                    18,
                    22,
                    23,
                    23,
                    35,
                    26,
                    18,
                    31,
                    38,
                    32,
                    33,
                    31,
                    25,
                    50,
                    45,
                    46,
                    50,
                    49,
                    32,
                    17,
                    1
                  ]
                },
                {
                  "line": {
                    "color": "#fde725"
                  },
                  "mode": "lines",
                  "name": "Science Fiction",
                  "type": "scatter",
                  "x": [
                    "1911",
                    "1913",
                    "1921",
                    "1925",
                    "1927",
                    "1928",
                    "1929",
                    "1930",
                    "1931",
                    "1932",
                    "1933",
                    "1935",
                    "1936",
                    "1940",
                    "1941",
                    "1942",
                    "1943",
                    "1944",
                    "1945",
                    "1950",
                    "1951",
                    "1952",
                    "1953",
                    "1954",
                    "1955",
                    "1956",
                    "1957",
                    "1958",
                    "1959",
                    "1960",
                    "1961",
                    "1962",
                    "1963",
                    "1964",
                    "1965",
                    "1966",
                    "1967",
                    "1968",
                    "1969",
                    "1970",
                    "1971",
                    "1972",
                    "1973",
                    "1974",
                    "1975",
                    "1976",
                    "1977",
                    "1978",
                    "1979",
                    "1980",
                    "1981",
                    "1982",
                    "1983",
                    "1984",
                    "1985",
                    "1986",
                    "1987",
                    "1988",
                    "1989",
                    "1990",
                    "1991",
                    "1992",
                    "1993",
                    "1994",
                    "1995",
                    "1996",
                    "1997",
                    "1998",
                    "1999",
                    "2000",
                    "2001",
                    "2002",
                    "2003",
                    "2004",
                    "2005",
                    "2006",
                    "2007",
                    "2008",
                    "2009",
                    "2010",
                    "2011",
                    "2012"
                  ],
                  "y": [
                    1,
                    1,
                    1,
                    1,
                    1,
                    1,
                    2,
                    1,
                    3,
                    1,
                    1,
                    1,
                    1,
                    2,
                    1,
                    2,
                    1,
                    1,
                    1,
                    1,
                    4,
                    2,
                    3,
                    6,
                    8,
                    6,
                    15,
                    9,
                    11,
                    3,
                    6,
                    7,
                    5,
                    10,
                    3,
                    14,
                    10,
                    5,
                    8,
                    3,
                    7,
                    6,
                    12,
                    7,
                    6,
                    2,
                    10,
                    10,
                    13,
                    9,
                    10,
                    14,
                    22,
                    15,
                    17,
                    15,
                    19,
                    14,
                    20,
                    19,
                    12,
                    16,
                    21,
                    11,
                    16,
                    13,
                    18,
                    22,
                    17,
                    14,
                    23,
                    30,
                    21,
                    30,
                    31,
                    33,
                    41,
                    35,
                    54,
                    29,
                    40,
                    12
                  ]
                }
              ],
              "layout": {
                "legend": {
                  "title": {
                    "text": "Genre"
                  }
                },
                "template": {
                  "data": {
                    "bar": [
                      {
                        "error_x": {
                          "color": "#2a3f5f"
                        },
                        "error_y": {
                          "color": "#2a3f5f"
                        },
                        "marker": {
                          "line": {
                            "color": "#E5ECF6",
                            "width": 0.5
                          },
                          "pattern": {
                            "fillmode": "overlay",
                            "size": 10,
                            "solidity": 0.2
                          }
                        },
                        "type": "bar"
                      }
                    ],
                    "barpolar": [
                      {
                        "marker": {
                          "line": {
                            "color": "#E5ECF6",
                            "width": 0.5
                          },
                          "pattern": {
                            "fillmode": "overlay",
                            "size": 10,
                            "solidity": 0.2
                          }
                        },
                        "type": "barpolar"
                      }
                    ],
                    "carpet": [
                      {
                        "aaxis": {
                          "endlinecolor": "#2a3f5f",
                          "gridcolor": "white",
                          "linecolor": "white",
                          "minorgridcolor": "white",
                          "startlinecolor": "#2a3f5f"
                        },
                        "baxis": {
                          "endlinecolor": "#2a3f5f",
                          "gridcolor": "white",
                          "linecolor": "white",
                          "minorgridcolor": "white",
                          "startlinecolor": "#2a3f5f"
                        },
                        "type": "carpet"
                      }
                    ],
                    "choropleth": [
                      {
                        "colorbar": {
                          "outlinewidth": 0,
                          "ticks": ""
                        },
                        "type": "choropleth"
                      }
                    ],
                    "contour": [
                      {
                        "colorbar": {
                          "outlinewidth": 0,
                          "ticks": ""
                        },
                        "colorscale": [
                          [
                            0,
                            "#0d0887"
                          ],
                          [
                            0.1111111111111111,
                            "#46039f"
                          ],
                          [
                            0.2222222222222222,
                            "#7201a8"
                          ],
                          [
                            0.3333333333333333,
                            "#9c179e"
                          ],
                          [
                            0.4444444444444444,
                            "#bd3786"
                          ],
                          [
                            0.5555555555555556,
                            "#d8576b"
                          ],
                          [
                            0.6666666666666666,
                            "#ed7953"
                          ],
                          [
                            0.7777777777777778,
                            "#fb9f3a"
                          ],
                          [
                            0.8888888888888888,
                            "#fdca26"
                          ],
                          [
                            1,
                            "#f0f921"
                          ]
                        ],
                        "type": "contour"
                      }
                    ],
                    "contourcarpet": [
                      {
                        "colorbar": {
                          "outlinewidth": 0,
                          "ticks": ""
                        },
                        "type": "contourcarpet"
                      }
                    ],
                    "heatmap": [
                      {
                        "colorbar": {
                          "outlinewidth": 0,
                          "ticks": ""
                        },
                        "colorscale": [
                          [
                            0,
                            "#0d0887"
                          ],
                          [
                            0.1111111111111111,
                            "#46039f"
                          ],
                          [
                            0.2222222222222222,
                            "#7201a8"
                          ],
                          [
                            0.3333333333333333,
                            "#9c179e"
                          ],
                          [
                            0.4444444444444444,
                            "#bd3786"
                          ],
                          [
                            0.5555555555555556,
                            "#d8576b"
                          ],
                          [
                            0.6666666666666666,
                            "#ed7953"
                          ],
                          [
                            0.7777777777777778,
                            "#fb9f3a"
                          ],
                          [
                            0.8888888888888888,
                            "#fdca26"
                          ],
                          [
                            1,
                            "#f0f921"
                          ]
                        ],
                        "type": "heatmap"
                      }
                    ],
                    "heatmapgl": [
                      {
                        "colorbar": {
                          "outlinewidth": 0,
                          "ticks": ""
                        },
                        "colorscale": [
                          [
                            0,
                            "#0d0887"
                          ],
                          [
                            0.1111111111111111,
                            "#46039f"
                          ],
                          [
                            0.2222222222222222,
                            "#7201a8"
                          ],
                          [
                            0.3333333333333333,
                            "#9c179e"
                          ],
                          [
                            0.4444444444444444,
                            "#bd3786"
                          ],
                          [
                            0.5555555555555556,
                            "#d8576b"
                          ],
                          [
                            0.6666666666666666,
                            "#ed7953"
                          ],
                          [
                            0.7777777777777778,
                            "#fb9f3a"
                          ],
                          [
                            0.8888888888888888,
                            "#fdca26"
                          ],
                          [
                            1,
                            "#f0f921"
                          ]
                        ],
                        "type": "heatmapgl"
                      }
                    ],
                    "histogram": [
                      {
                        "marker": {
                          "pattern": {
                            "fillmode": "overlay",
                            "size": 10,
                            "solidity": 0.2
                          }
                        },
                        "type": "histogram"
                      }
                    ],
                    "histogram2d": [
                      {
                        "colorbar": {
                          "outlinewidth": 0,
                          "ticks": ""
                        },
                        "colorscale": [
                          [
                            0,
                            "#0d0887"
                          ],
                          [
                            0.1111111111111111,
                            "#46039f"
                          ],
                          [
                            0.2222222222222222,
                            "#7201a8"
                          ],
                          [
                            0.3333333333333333,
                            "#9c179e"
                          ],
                          [
                            0.4444444444444444,
                            "#bd3786"
                          ],
                          [
                            0.5555555555555556,
                            "#d8576b"
                          ],
                          [
                            0.6666666666666666,
                            "#ed7953"
                          ],
                          [
                            0.7777777777777778,
                            "#fb9f3a"
                          ],
                          [
                            0.8888888888888888,
                            "#fdca26"
                          ],
                          [
                            1,
                            "#f0f921"
                          ]
                        ],
                        "type": "histogram2d"
                      }
                    ],
                    "histogram2dcontour": [
                      {
                        "colorbar": {
                          "outlinewidth": 0,
                          "ticks": ""
                        },
                        "colorscale": [
                          [
                            0,
                            "#0d0887"
                          ],
                          [
                            0.1111111111111111,
                            "#46039f"
                          ],
                          [
                            0.2222222222222222,
                            "#7201a8"
                          ],
                          [
                            0.3333333333333333,
                            "#9c179e"
                          ],
                          [
                            0.4444444444444444,
                            "#bd3786"
                          ],
                          [
                            0.5555555555555556,
                            "#d8576b"
                          ],
                          [
                            0.6666666666666666,
                            "#ed7953"
                          ],
                          [
                            0.7777777777777778,
                            "#fb9f3a"
                          ],
                          [
                            0.8888888888888888,
                            "#fdca26"
                          ],
                          [
                            1,
                            "#f0f921"
                          ]
                        ],
                        "type": "histogram2dcontour"
                      }
                    ],
                    "mesh3d": [
                      {
                        "colorbar": {
                          "outlinewidth": 0,
                          "ticks": ""
                        },
                        "type": "mesh3d"
                      }
                    ],
                    "parcoords": [
                      {
                        "line": {
                          "colorbar": {
                            "outlinewidth": 0,
                            "ticks": ""
                          }
                        },
                        "type": "parcoords"
                      }
                    ],
                    "pie": [
                      {
                        "automargin": true,
                        "type": "pie"
                      }
                    ],
                    "scatter": [
                      {
                        "fillpattern": {
                          "fillmode": "overlay",
                          "size": 10,
                          "solidity": 0.2
                        },
                        "type": "scatter"
                      }
                    ],
                    "scatter3d": [
                      {
                        "line": {
                          "colorbar": {
                            "outlinewidth": 0,
                            "ticks": ""
                          }
                        },
                        "marker": {
                          "colorbar": {
                            "outlinewidth": 0,
                            "ticks": ""
                          }
                        },
                        "type": "scatter3d"
                      }
                    ],
                    "scattercarpet": [
                      {
                        "marker": {
                          "colorbar": {
                            "outlinewidth": 0,
                            "ticks": ""
                          }
                        },
                        "type": "scattercarpet"
                      }
                    ],
                    "scattergeo": [
                      {
                        "marker": {
                          "colorbar": {
                            "outlinewidth": 0,
                            "ticks": ""
                          }
                        },
                        "type": "scattergeo"
                      }
                    ],
                    "scattergl": [
                      {
                        "marker": {
                          "colorbar": {
                            "outlinewidth": 0,
                            "ticks": ""
                          }
                        },
                        "type": "scattergl"
                      }
                    ],
                    "scattermapbox": [
                      {
                        "marker": {
                          "colorbar": {
                            "outlinewidth": 0,
                            "ticks": ""
                          }
                        },
                        "type": "scattermapbox"
                      }
                    ],
                    "scatterpolar": [
                      {
                        "marker": {
                          "colorbar": {
                            "outlinewidth": 0,
                            "ticks": ""
                          }
                        },
                        "type": "scatterpolar"
                      }
                    ],
                    "scatterpolargl": [
                      {
                        "marker": {
                          "colorbar": {
                            "outlinewidth": 0,
                            "ticks": ""
                          }
                        },
                        "type": "scatterpolargl"
                      }
                    ],
                    "scatterternary": [
                      {
                        "marker": {
                          "colorbar": {
                            "outlinewidth": 0,
                            "ticks": ""
                          }
                        },
                        "type": "scatterternary"
                      }
                    ],
                    "surface": [
                      {
                        "colorbar": {
                          "outlinewidth": 0,
                          "ticks": ""
                        },
                        "colorscale": [
                          [
                            0,
                            "#0d0887"
                          ],
                          [
                            0.1111111111111111,
                            "#46039f"
                          ],
                          [
                            0.2222222222222222,
                            "#7201a8"
                          ],
                          [
                            0.3333333333333333,
                            "#9c179e"
                          ],
                          [
                            0.4444444444444444,
                            "#bd3786"
                          ],
                          [
                            0.5555555555555556,
                            "#d8576b"
                          ],
                          [
                            0.6666666666666666,
                            "#ed7953"
                          ],
                          [
                            0.7777777777777778,
                            "#fb9f3a"
                          ],
                          [
                            0.8888888888888888,
                            "#fdca26"
                          ],
                          [
                            1,
                            "#f0f921"
                          ]
                        ],
                        "type": "surface"
                      }
                    ],
                    "table": [
                      {
                        "cells": {
                          "fill": {
                            "color": "#EBF0F8"
                          },
                          "line": {
                            "color": "white"
                          }
                        },
                        "header": {
                          "fill": {
                            "color": "#C8D4E3"
                          },
                          "line": {
                            "color": "white"
                          }
                        },
                        "type": "table"
                      }
                    ]
                  },
                  "layout": {
                    "annotationdefaults": {
                      "arrowcolor": "#2a3f5f",
                      "arrowhead": 0,
                      "arrowwidth": 1
                    },
                    "autotypenumbers": "strict",
                    "coloraxis": {
                      "colorbar": {
                        "outlinewidth": 0,
                        "ticks": ""
                      }
                    },
                    "colorscale": {
                      "diverging": [
                        [
                          0,
                          "#8e0152"
                        ],
                        [
                          0.1,
                          "#c51b7d"
                        ],
                        [
                          0.2,
                          "#de77ae"
                        ],
                        [
                          0.3,
                          "#f1b6da"
                        ],
                        [
                          0.4,
                          "#fde0ef"
                        ],
                        [
                          0.5,
                          "#f7f7f7"
                        ],
                        [
                          0.6,
                          "#e6f5d0"
                        ],
                        [
                          0.7,
                          "#b8e186"
                        ],
                        [
                          0.8,
                          "#7fbc41"
                        ],
                        [
                          0.9,
                          "#4d9221"
                        ],
                        [
                          1,
                          "#276419"
                        ]
                      ],
                      "sequential": [
                        [
                          0,
                          "#0d0887"
                        ],
                        [
                          0.1111111111111111,
                          "#46039f"
                        ],
                        [
                          0.2222222222222222,
                          "#7201a8"
                        ],
                        [
                          0.3333333333333333,
                          "#9c179e"
                        ],
                        [
                          0.4444444444444444,
                          "#bd3786"
                        ],
                        [
                          0.5555555555555556,
                          "#d8576b"
                        ],
                        [
                          0.6666666666666666,
                          "#ed7953"
                        ],
                        [
                          0.7777777777777778,
                          "#fb9f3a"
                        ],
                        [
                          0.8888888888888888,
                          "#fdca26"
                        ],
                        [
                          1,
                          "#f0f921"
                        ]
                      ],
                      "sequentialminus": [
                        [
                          0,
                          "#0d0887"
                        ],
                        [
                          0.1111111111111111,
                          "#46039f"
                        ],
                        [
                          0.2222222222222222,
                          "#7201a8"
                        ],
                        [
                          0.3333333333333333,
                          "#9c179e"
                        ],
                        [
                          0.4444444444444444,
                          "#bd3786"
                        ],
                        [
                          0.5555555555555556,
                          "#d8576b"
                        ],
                        [
                          0.6666666666666666,
                          "#ed7953"
                        ],
                        [
                          0.7777777777777778,
                          "#fb9f3a"
                        ],
                        [
                          0.8888888888888888,
                          "#fdca26"
                        ],
                        [
                          1,
                          "#f0f921"
                        ]
                      ]
                    },
                    "colorway": [
                      "#636efa",
                      "#EF553B",
                      "#00cc96",
                      "#ab63fa",
                      "#FFA15A",
                      "#19d3f3",
                      "#FF6692",
                      "#B6E880",
                      "#FF97FF",
                      "#FECB52"
                    ],
                    "font": {
                      "color": "#2a3f5f"
                    },
                    "geo": {
                      "bgcolor": "white",
                      "lakecolor": "white",
                      "landcolor": "#E5ECF6",
                      "showlakes": true,
                      "showland": true,
                      "subunitcolor": "white"
                    },
                    "hoverlabel": {
                      "align": "left"
                    },
                    "hovermode": "closest",
                    "mapbox": {
                      "style": "light"
                    },
                    "paper_bgcolor": "white",
                    "plot_bgcolor": "#E5ECF6",
                    "polar": {
                      "angularaxis": {
                        "gridcolor": "white",
                        "linecolor": "white",
                        "ticks": ""
                      },
                      "bgcolor": "#E5ECF6",
                      "radialaxis": {
                        "gridcolor": "white",
                        "linecolor": "white",
                        "ticks": ""
                      }
                    },
                    "scene": {
                      "xaxis": {
                        "backgroundcolor": "#E5ECF6",
                        "gridcolor": "white",
                        "gridwidth": 2,
                        "linecolor": "white",
                        "showbackground": true,
                        "ticks": "",
                        "zerolinecolor": "white"
                      },
                      "yaxis": {
                        "backgroundcolor": "#E5ECF6",
                        "gridcolor": "white",
                        "gridwidth": 2,
                        "linecolor": "white",
                        "showbackground": true,
                        "ticks": "",
                        "zerolinecolor": "white"
                      },
                      "zaxis": {
                        "backgroundcolor": "#E5ECF6",
                        "gridcolor": "white",
                        "gridwidth": 2,
                        "linecolor": "white",
                        "showbackground": true,
                        "ticks": "",
                        "zerolinecolor": "white"
                      }
                    },
                    "shapedefaults": {
                      "line": {
                        "color": "#2a3f5f"
                      }
                    },
                    "ternary": {
                      "aaxis": {
                        "gridcolor": "white",
                        "linecolor": "white",
                        "ticks": ""
                      },
                      "baxis": {
                        "gridcolor": "white",
                        "linecolor": "white",
                        "ticks": ""
                      },
                      "bgcolor": "#E5ECF6",
                      "caxis": {
                        "gridcolor": "white",
                        "linecolor": "white",
                        "ticks": ""
                      }
                    },
                    "title": {
                      "x": 0.05
                    },
                    "xaxis": {
                      "automargin": true,
                      "gridcolor": "white",
                      "linecolor": "white",
                      "ticks": "",
                      "title": {
                        "standoff": 15
                      },
                      "zerolinecolor": "white",
                      "zerolinewidth": 2
                    },
                    "yaxis": {
                      "automargin": true,
                      "gridcolor": "white",
                      "linecolor": "white",
                      "ticks": "",
                      "title": {
                        "standoff": 15
                      },
                      "zerolinecolor": "white",
                      "zerolinewidth": 2
                    }
                  }
                },
                "title": {
                  "text": "Terrorism-Themed Movies Over Time by Genre"
                },
                "xaxis": {
                  "title": {
                    "text": "Year"
                  }
                },
                "yaxis": {
                  "title": {
                    "text": "Number of Movies"
                  }
                }
              }
            }
          },
          "metadata": {},
          "output_type": "display_data"
        }
      ],
      "source": [
        "import plotly.graph_objects as go\n",
        "import pandas as pd\n",
        "\n",
        "# Assuming exploded is your DataFrame and top_10_terrorism_genres is a list of genres\n",
        "\n",
        "# Create an empty figure\n",
        "fig = go.Figure()\n",
        "\n",
        "# Viridis color palette\n",
        "viridis = px.colors.sequential.Viridis\n",
        "\n",
        "# Plot each genre's time series on the same figure\n",
        "for i, g in enumerate(top_10_terrorism_genres):\n",
        "    temp = exploded[exploded['Genres'] == g]\n",
        "    time_series = temp.groupby('Release date').size()\n",
        "    \n",
        "    # Add the time series to the figure\n",
        "    fig.add_trace(go.Scatter(\n",
        "        x=time_series.index, \n",
        "        y=time_series, \n",
        "        mode='lines',\n",
        "        name=g,\n",
        "        line=dict(color=viridis[i % len(viridis)])  # Use color from Viridis palette\n",
        "    ))\n",
        "\n",
        "# Set the title and axis labels\n",
        "fig.update_layout(\n",
        "    title='Terrorism-Themed Movies Over Time by Genre',\n",
        "    xaxis_title='Year',\n",
        "    yaxis_title='Number of Movies',\n",
        "    legend_title='Genre'\n",
        ")\n",
        "\n",
        "# Display the plot\n",
        "fig.show()\n",
        "\n"
      ]
    },
    {
      "cell_type": "markdown",
      "metadata": {},
      "source": [
        "By comparing these plots to the plot done in section 2.1, the number of terrorism-related movies for each genre follow the same general trend as for all terrorism-related movies together. Indeed, we see a net increase of movies over time for all genres. We notice that some genres are more prevalent than others (Drama, Thriller, Action/Adventure and Horror), but we don't see one specific genre that has a different time series compared to the others.\n",
        "To conclude, the representation of terrorism in various genres have the same evolution over time. We don't notice any specific genre that stands out in this matter."
      ]
    }
  ],
  "metadata": {
    "kernelspec": {
      "display_name": "Python 3.9.18 ('ADA')",
      "language": "python",
      "name": "python3"
    },
    "language_info": {
      "codemirror_mode": {
        "name": "ipython",
        "version": 3
      },
      "file_extension": ".py",
      "mimetype": "text/x-python",
      "name": "python",
      "nbconvert_exporter": "python",
      "pygments_lexer": "ipython3",
      "version": "3.11.4"
    },
    "vscode": {
      "interpreter": {
        "hash": "9b064eaaa1f423612ae8be3711d10f440a953041816ebe2a62512e6f6f34b7fd"
      }
    }
  },
  "nbformat": 4,
  "nbformat_minor": 2
}
