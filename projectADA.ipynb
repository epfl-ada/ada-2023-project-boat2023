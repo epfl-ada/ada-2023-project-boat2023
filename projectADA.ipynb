{
 "cells": [
  {
   "cell_type": "markdown",
   "metadata": {},
   "source": [
    "## Project Milestone 2"
   ]
  },
  {
   "cell_type": "markdown",
   "metadata": {},
   "source": [
    "This project is a part of the analysis of the movies data set"
   ]
  },
  {
   "cell_type": "markdown",
   "metadata": {},
   "source": []
  },
  {
   "cell_type": "code",
   "execution_count": 443,
   "metadata": {},
   "outputs": [],
   "source": [
    "import numpy\n",
    "import pandas as pd\n",
    "import json\n",
    "import matplotlib.pyplot as plt\n",
    "import pycountry\n",
    "KEYWORDS = [ \"Terrorism\", \"Terrorist\", \"Terrorists\", \"Jihad\", \"Extremism\", \"Extremist\", \"Attacks\", \"Attack\", \"Bombs\", \"Bombing\", \"Bombers\", \"Hijack\", \"Hijacking\", \"Kidnap\", \"Kidnapping\", \"Counterterrorism\", \"Counterterrorist\", \"Radicalization\", \"Radicalized\", \"Security Threat\", \"Political Violence\", \"Suicide Bomber\", \"War on Terror\", \"Homeland Security\", \"National Security\", \"Intelligence Agencies\", \"Counterinsurgency\", \"Terrorist Cells\", \"Radical Ideology\", \"Terrorist Plot\", \"Terrorist Organization\", \"Hostage Crisis\", \"Terrorism Investigation\", \"Counterterrorist Operation\", \"Radical\", \"Guerrilla Warfare\", \"Insurgency\", \"Terror Threat\", \"Covert Operations\", \"Political Unrest\", \"Martyrdom\", \"Cyberterrorism\", \"Terrorism Financing\", \"Violent Extremism\", \"Terrorist Recruitment\", \"Suicide Attacks\", \"Terrorist Sleeper Cells\", \"Counterterror Measures\", \"Clandestine Activities\", \"Security Intelligence\" ]\n"
   ]
  },
  {
   "cell_type": "markdown",
   "metadata": {},
   "source": [
    "## Research Question\n",
    "\n",
    "### Are there noticeable topics patterns in terrorism movies? If so, do different countries/regions differ in the specific topics/patterns of their cinematic representation of terrorism?\n"
   ]
  },
  {
   "cell_type": "markdown",
   "metadata": {},
   "source": [
    "# 1. Data Preprocessing"
   ]
  },
  {
   "cell_type": "markdown",
   "metadata": {},
   "source": [
    "### 1.1 Import Data"
   ]
  },
  {
   "cell_type": "code",
   "execution_count": 444,
   "metadata": {},
   "outputs": [],
   "source": [
    "plot_path= 'data/plot_summaries.txt'\n",
    "movie_metadata_path = 'data/movie.metadata.tsv'"
   ]
  },
  {
   "cell_type": "code",
   "execution_count": 445,
   "metadata": {},
   "outputs": [],
   "source": [
    "\n",
    "m_column_names = ['wikipediaID', 'F_movie ID', 'Movie name', 'Release date', 'Box office revenue', 'Runtime', 'Languages', 'Countries', 'Genres']\n",
    "m_data = pd.read_csv('data/movie.metadata.tsv', delimiter= '\\t',on_bad_lines='skip', names=m_column_names, header=0)"
   ]
  },
  {
   "cell_type": "markdown",
   "metadata": {},
   "source": [
    "### 1.2 Filter Terrorism-Related Movies and Other Movies"
   ]
  },
  {
   "cell_type": "code",
   "execution_count": 446,
   "metadata": {},
   "outputs": [],
   "source": [
    "# Read the text file into a DataFrame\n",
    "m_plot = pd.read_csv(plot_path, delimiter='\\t', header= None)\n",
    "\n",
    "# Define list of keywords\n",
    "movie_ids=[]\n",
    "# Create a new column in the DataFrame to store the count of keywords in each movie plot\n",
    "for index, row in m_plot.iterrows():\n",
    "    movie_id = row[0]\n",
    "    plot = row[1]\n",
    "    # Check if the plot contains any of the keywords\n",
    "    for keyword in KEYWORDS:\n",
    "        if keyword.lower() in plot:\n",
    "            movie_ids.append(movie_id)\n",
    "\n",
    "# Display the list of movie IDs that match the keywords\n",
    "movie_ids= set(movie_ids)"
   ]
  },
  {
   "cell_type": "code",
   "execution_count": 447,
   "metadata": {},
   "outputs": [],
   "source": [
    "df = pd.DataFrame(m_plot)\n",
    "df_plot = df.rename(columns={0: 'wikipediaID', 1: 'summary'})"
   ]
  },
  {
   "cell_type": "code",
   "execution_count": 448,
   "metadata": {},
   "outputs": [],
   "source": [
    "terrorism_movies = m_data[m_data['wikipediaID'].isin(movie_ids)][['wikipediaID','Movie name', 'Release date','Countries', 'Languages', 'Genres','Box office revenue']]"
   ]
  },
  {
   "cell_type": "code",
   "execution_count": 449,
   "metadata": {},
   "outputs": [
    {
     "data": {
      "text/html": [
       "<div>\n",
       "<style scoped>\n",
       "    .dataframe tbody tr th:only-of-type {\n",
       "        vertical-align: middle;\n",
       "    }\n",
       "\n",
       "    .dataframe tbody tr th {\n",
       "        vertical-align: top;\n",
       "    }\n",
       "\n",
       "    .dataframe thead th {\n",
       "        text-align: right;\n",
       "    }\n",
       "</style>\n",
       "<table border=\"1\" class=\"dataframe\">\n",
       "  <thead>\n",
       "    <tr style=\"text-align: right;\">\n",
       "      <th></th>\n",
       "      <th>wikipediaID</th>\n",
       "      <th>Movie name</th>\n",
       "      <th>Release date</th>\n",
       "      <th>Countries</th>\n",
       "      <th>Languages</th>\n",
       "      <th>Genres</th>\n",
       "      <th>summary</th>\n",
       "    </tr>\n",
       "  </thead>\n",
       "  <tbody>\n",
       "    <tr>\n",
       "      <th>0</th>\n",
       "      <td>9633533</td>\n",
       "      <td>Vandanam</td>\n",
       "      <td>1989</td>\n",
       "      <td>{\"/m/03rk0\": \"India\"}</td>\n",
       "      <td>{\"/m/0999q\": \"Malayalam Language\"}</td>\n",
       "      <td>{\"/m/02kdv5l\": \"Action\"}</td>\n",
       "      <td>Professor Kurian Fernandez , a convict escapes...</td>\n",
       "    </tr>\n",
       "    <tr>\n",
       "      <th>1</th>\n",
       "      <td>261237</td>\n",
       "      <td>The Gods Must Be Crazy</td>\n",
       "      <td>1980</td>\n",
       "      <td>{\"/m/0hzlz\": \"South Africa\"}</td>\n",
       "      <td>{\"/m/0x82\": \"Afrikaans Language\", \"/m/02h40lc\"...</td>\n",
       "      <td>{\"/m/03k9fj\": \"Adventure\", \"/m/03btsm8\": \"Acti...</td>\n",
       "      <td>The film is a collision of three separate stor...</td>\n",
       "    </tr>\n",
       "    <tr>\n",
       "      <th>2</th>\n",
       "      <td>4951456</td>\n",
       "      <td>Kinjite: Forbidden Subjects</td>\n",
       "      <td>1989</td>\n",
       "      <td>{\"/m/09c7w0\": \"United States of America\"}</td>\n",
       "      <td>{\"/m/02h40lc\": \"English Language\"}</td>\n",
       "      <td>{\"/m/0lsxr\": \"Crime Fiction\", \"/m/03btsm8\": \"A...</td>\n",
       "      <td>A Japanese businessman sees a woman being grop...</td>\n",
       "    </tr>\n",
       "    <tr>\n",
       "      <th>3</th>\n",
       "      <td>32104837</td>\n",
       "      <td>It Came Upon the Midnight Clear</td>\n",
       "      <td>1984-12-15</td>\n",
       "      <td>{\"/m/09c7w0\": \"United States of America\"}</td>\n",
       "      <td>{\"/m/02h40lc\": \"English Language\"}</td>\n",
       "      <td>{\"/m/0hqxf\": \"Family Film\", \"/m/07s9rl0\": \"Dra...</td>\n",
       "      <td>The film centers on Mike Halligan, a retired c...</td>\n",
       "    </tr>\n",
       "    <tr>\n",
       "      <th>4</th>\n",
       "      <td>2647998</td>\n",
       "      <td>The Human Tornado</td>\n",
       "      <td>1976</td>\n",
       "      <td>{\"/m/09c7w0\": \"United States of America\"}</td>\n",
       "      <td>{\"/m/02h40lc\": \"English Language\"}</td>\n",
       "      <td>{\"/m/03btsm8\": \"Action/Adventure\", \"/m/0hj3l_y...</td>\n",
       "      <td>After coming off a successful comedy tour, Dol...</td>\n",
       "    </tr>\n",
       "    <tr>\n",
       "      <th>...</th>\n",
       "      <td>...</td>\n",
       "      <td>...</td>\n",
       "      <td>...</td>\n",
       "      <td>...</td>\n",
       "      <td>...</td>\n",
       "      <td>...</td>\n",
       "      <td>...</td>\n",
       "    </tr>\n",
       "    <tr>\n",
       "      <th>95</th>\n",
       "      <td>9943176</td>\n",
       "      <td>The Fighting Sullivans</td>\n",
       "      <td>1944</td>\n",
       "      <td>{\"/m/09c7w0\": \"United States of America\"}</td>\n",
       "      <td>{\"/m/02h40lc\": \"English Language\"}</td>\n",
       "      <td>{\"/m/03bxz7\": \"Biographical film\", \"/m/02h8pkk...</td>\n",
       "      <td>The Irish-American, Catholic Sullivan brothers...</td>\n",
       "    </tr>\n",
       "    <tr>\n",
       "      <th>96</th>\n",
       "      <td>3972416</td>\n",
       "      <td>Robot Taekwon V</td>\n",
       "      <td>1976-07-24</td>\n",
       "      <td>{\"/m/06qd3\": \"South Korea\"}</td>\n",
       "      <td>{\"/m/02hwhyv\": \"Korean Language\"}</td>\n",
       "      <td>{\"/m/02kdv5l\": \"Action\"}</td>\n",
       "      <td>Dr. Kaff , an evil scientist bent on world dom...</td>\n",
       "    </tr>\n",
       "    <tr>\n",
       "      <th>97</th>\n",
       "      <td>803276</td>\n",
       "      <td>Gwendoline</td>\n",
       "      <td>1984-02-08</td>\n",
       "      <td>{\"/m/0f8l9c\": \"France\"}</td>\n",
       "      <td>{\"/m/064_8sq\": \"French Language\"}</td>\n",
       "      <td>{\"/m/01jfsb\": \"Thriller\", \"/m/03q4nz\": \"World ...</td>\n",
       "      <td>Captured by a trio of thieves, Gwendoline is s...</td>\n",
       "    </tr>\n",
       "    <tr>\n",
       "      <th>98</th>\n",
       "      <td>3432108</td>\n",
       "      <td>Eye of the Tiger</td>\n",
       "      <td>1986-11-28</td>\n",
       "      <td>{\"/m/09c7w0\": \"United States of America\"}</td>\n",
       "      <td>{\"/m/02h40lc\": \"English Language\"}</td>\n",
       "      <td>{\"/m/0lsxr\": \"Crime Fiction\", \"/m/0hj3mwf\": \"B...</td>\n",
       "      <td>After a long stint in prison Buck Matthews , a...</td>\n",
       "    </tr>\n",
       "    <tr>\n",
       "      <th>99</th>\n",
       "      <td>4501185</td>\n",
       "      <td>Universal Soldier: The Return</td>\n",
       "      <td>1999-07-06</td>\n",
       "      <td>{\"/m/09c7w0\": \"United States of America\"}</td>\n",
       "      <td>{\"/m/02h40lc\": \"English Language\"}</td>\n",
       "      <td>{\"/m/03btsm8\": \"Action/Adventure\", \"/m/01jfsb\"...</td>\n",
       "      <td>Seven years after the events in the first film...</td>\n",
       "    </tr>\n",
       "  </tbody>\n",
       "</table>\n",
       "<p>100 rows × 7 columns</p>\n",
       "</div>"
      ],
      "text/plain": [
       "    wikipediaID                       Movie name Release date  \\\n",
       "0       9633533                         Vandanam         1989   \n",
       "1        261237           The Gods Must Be Crazy         1980   \n",
       "2       4951456      Kinjite: Forbidden Subjects         1989   \n",
       "3      32104837  It Came Upon the Midnight Clear   1984-12-15   \n",
       "4       2647998                The Human Tornado         1976   \n",
       "..          ...                              ...          ...   \n",
       "95      9943176           The Fighting Sullivans         1944   \n",
       "96      3972416                  Robot Taekwon V   1976-07-24   \n",
       "97       803276                       Gwendoline   1984-02-08   \n",
       "98      3432108                 Eye of the Tiger   1986-11-28   \n",
       "99      4501185    Universal Soldier: The Return   1999-07-06   \n",
       "\n",
       "                                    Countries  \\\n",
       "0                       {\"/m/03rk0\": \"India\"}   \n",
       "1                {\"/m/0hzlz\": \"South Africa\"}   \n",
       "2   {\"/m/09c7w0\": \"United States of America\"}   \n",
       "3   {\"/m/09c7w0\": \"United States of America\"}   \n",
       "4   {\"/m/09c7w0\": \"United States of America\"}   \n",
       "..                                        ...   \n",
       "95  {\"/m/09c7w0\": \"United States of America\"}   \n",
       "96                {\"/m/06qd3\": \"South Korea\"}   \n",
       "97                    {\"/m/0f8l9c\": \"France\"}   \n",
       "98  {\"/m/09c7w0\": \"United States of America\"}   \n",
       "99  {\"/m/09c7w0\": \"United States of America\"}   \n",
       "\n",
       "                                            Languages  \\\n",
       "0                  {\"/m/0999q\": \"Malayalam Language\"}   \n",
       "1   {\"/m/0x82\": \"Afrikaans Language\", \"/m/02h40lc\"...   \n",
       "2                  {\"/m/02h40lc\": \"English Language\"}   \n",
       "3                  {\"/m/02h40lc\": \"English Language\"}   \n",
       "4                  {\"/m/02h40lc\": \"English Language\"}   \n",
       "..                                                ...   \n",
       "95                 {\"/m/02h40lc\": \"English Language\"}   \n",
       "96                  {\"/m/02hwhyv\": \"Korean Language\"}   \n",
       "97                  {\"/m/064_8sq\": \"French Language\"}   \n",
       "98                 {\"/m/02h40lc\": \"English Language\"}   \n",
       "99                 {\"/m/02h40lc\": \"English Language\"}   \n",
       "\n",
       "                                               Genres  \\\n",
       "0                            {\"/m/02kdv5l\": \"Action\"}   \n",
       "1   {\"/m/03k9fj\": \"Adventure\", \"/m/03btsm8\": \"Acti...   \n",
       "2   {\"/m/0lsxr\": \"Crime Fiction\", \"/m/03btsm8\": \"A...   \n",
       "3   {\"/m/0hqxf\": \"Family Film\", \"/m/07s9rl0\": \"Dra...   \n",
       "4   {\"/m/03btsm8\": \"Action/Adventure\", \"/m/0hj3l_y...   \n",
       "..                                                ...   \n",
       "95  {\"/m/03bxz7\": \"Biographical film\", \"/m/02h8pkk...   \n",
       "96                           {\"/m/02kdv5l\": \"Action\"}   \n",
       "97  {\"/m/01jfsb\": \"Thriller\", \"/m/03q4nz\": \"World ...   \n",
       "98  {\"/m/0lsxr\": \"Crime Fiction\", \"/m/0hj3mwf\": \"B...   \n",
       "99  {\"/m/03btsm8\": \"Action/Adventure\", \"/m/01jfsb\"...   \n",
       "\n",
       "                                              summary  \n",
       "0   Professor Kurian Fernandez , a convict escapes...  \n",
       "1   The film is a collision of three separate stor...  \n",
       "2   A Japanese businessman sees a woman being grop...  \n",
       "3   The film centers on Mike Halligan, a retired c...  \n",
       "4   After coming off a successful comedy tour, Dol...  \n",
       "..                                                ...  \n",
       "95  The Irish-American, Catholic Sullivan brothers...  \n",
       "96  Dr. Kaff , an evil scientist bent on world dom...  \n",
       "97  Captured by a trio of thieves, Gwendoline is s...  \n",
       "98  After a long stint in prison Buck Matthews , a...  \n",
       "99  Seven years after the events in the first film...  \n",
       "\n",
       "[100 rows x 7 columns]"
      ]
     },
     "execution_count": 449,
     "metadata": {},
     "output_type": "execute_result"
    }
   ],
   "source": [
    "df_for_topics = pd.merge(terrorism_movies, df_plot, on='wikipediaID', how='inner')\n",
    "df_for_topics.drop('Box office revenue', axis =1, inplace=True)\n",
    "df_for_topics.head(100)\n"
   ]
  },
  {
   "cell_type": "code",
   "execution_count": 450,
   "metadata": {},
   "outputs": [
    {
     "name": "stdout",
     "output_type": "stream",
     "text": [
      "True\n",
      "Null Count Date  337\n",
      "Null Count Countries 0\n"
     ]
    },
    {
     "data": {
      "text/plain": [
       "8626"
      ]
     },
     "execution_count": 450,
     "metadata": {},
     "output_type": "execute_result"
    }
   ],
   "source": [
    "# Check for NaN values in the DataFrame\n",
    "nan_values = df_for_topics.isnull().values.any()\n",
    "print(nan_values)\n",
    "null_count = df_for_topics['Release date'].isnull().sum()\n",
    "print('Null Count Date ',null_count)\n",
    "null_count_countries = df_for_topics['Movie name'].isnull().sum()\n",
    "print('Null Count Countries' ,null_count_countries)\n",
    "df_for_topics.shape[0]"
   ]
  },
  {
   "cell_type": "code",
   "execution_count": 451,
   "metadata": {},
   "outputs": [],
   "source": [
    "# According to the number of values with empty date remove the rows with null date\n",
    "df_for_topics.dropna(subset=['Release date'], inplace=True)"
   ]
  },
  {
   "cell_type": "code",
   "execution_count": 452,
   "metadata": {},
   "outputs": [],
   "source": [
    "def extract_year(date_string):\n",
    "    return date_string.split('-')[0] if '-' in date_string else date_string"
   ]
  },
  {
   "cell_type": "code",
   "execution_count": 453,
   "metadata": {},
   "outputs": [
    {
     "data": {
      "text/html": [
       "<div>\n",
       "<style scoped>\n",
       "    .dataframe tbody tr th:only-of-type {\n",
       "        vertical-align: middle;\n",
       "    }\n",
       "\n",
       "    .dataframe tbody tr th {\n",
       "        vertical-align: top;\n",
       "    }\n",
       "\n",
       "    .dataframe thead th {\n",
       "        text-align: right;\n",
       "    }\n",
       "</style>\n",
       "<table border=\"1\" class=\"dataframe\">\n",
       "  <thead>\n",
       "    <tr style=\"text-align: right;\">\n",
       "      <th></th>\n",
       "      <th>wikipediaID</th>\n",
       "      <th>Movie name</th>\n",
       "      <th>Release date</th>\n",
       "      <th>Countries</th>\n",
       "      <th>Languages</th>\n",
       "      <th>Genres</th>\n",
       "      <th>summary</th>\n",
       "    </tr>\n",
       "  </thead>\n",
       "  <tbody>\n",
       "    <tr>\n",
       "      <th>0</th>\n",
       "      <td>9633533</td>\n",
       "      <td>Vandanam</td>\n",
       "      <td>1989</td>\n",
       "      <td>{\"/m/03rk0\": \"India\"}</td>\n",
       "      <td>{\"/m/0999q\": \"Malayalam Language\"}</td>\n",
       "      <td>{\"/m/02kdv5l\": \"Action\"}</td>\n",
       "      <td>Professor Kurian Fernandez , a convict escapes...</td>\n",
       "    </tr>\n",
       "    <tr>\n",
       "      <th>1</th>\n",
       "      <td>261237</td>\n",
       "      <td>The Gods Must Be Crazy</td>\n",
       "      <td>1980</td>\n",
       "      <td>{\"/m/0hzlz\": \"South Africa\"}</td>\n",
       "      <td>{\"/m/0x82\": \"Afrikaans Language\", \"/m/02h40lc\"...</td>\n",
       "      <td>{\"/m/03k9fj\": \"Adventure\", \"/m/03btsm8\": \"Acti...</td>\n",
       "      <td>The film is a collision of three separate stor...</td>\n",
       "    </tr>\n",
       "    <tr>\n",
       "      <th>2</th>\n",
       "      <td>4951456</td>\n",
       "      <td>Kinjite: Forbidden Subjects</td>\n",
       "      <td>1989</td>\n",
       "      <td>{\"/m/09c7w0\": \"United States of America\"}</td>\n",
       "      <td>{\"/m/02h40lc\": \"English Language\"}</td>\n",
       "      <td>{\"/m/0lsxr\": \"Crime Fiction\", \"/m/03btsm8\": \"A...</td>\n",
       "      <td>A Japanese businessman sees a woman being grop...</td>\n",
       "    </tr>\n",
       "    <tr>\n",
       "      <th>3</th>\n",
       "      <td>32104837</td>\n",
       "      <td>It Came Upon the Midnight Clear</td>\n",
       "      <td>1984</td>\n",
       "      <td>{\"/m/09c7w0\": \"United States of America\"}</td>\n",
       "      <td>{\"/m/02h40lc\": \"English Language\"}</td>\n",
       "      <td>{\"/m/0hqxf\": \"Family Film\", \"/m/07s9rl0\": \"Dra...</td>\n",
       "      <td>The film centers on Mike Halligan, a retired c...</td>\n",
       "    </tr>\n",
       "    <tr>\n",
       "      <th>4</th>\n",
       "      <td>2647998</td>\n",
       "      <td>The Human Tornado</td>\n",
       "      <td>1976</td>\n",
       "      <td>{\"/m/09c7w0\": \"United States of America\"}</td>\n",
       "      <td>{\"/m/02h40lc\": \"English Language\"}</td>\n",
       "      <td>{\"/m/03btsm8\": \"Action/Adventure\", \"/m/0hj3l_y...</td>\n",
       "      <td>After coming off a successful comedy tour, Dol...</td>\n",
       "    </tr>\n",
       "    <tr>\n",
       "      <th>5</th>\n",
       "      <td>273431</td>\n",
       "      <td>Terrorama</td>\n",
       "      <td>2001</td>\n",
       "      <td>{\"/m/059j2\": \"Netherlands\"}</td>\n",
       "      <td>{\"/m/02bv9\": \"Dutch Language\"}</td>\n",
       "      <td>{\"/m/07s9rl0\": \"Drama\", \"/m/01z4y\": \"Comedy\"}</td>\n",
       "      <td>The film tells the story of six mental cases, ...</td>\n",
       "    </tr>\n",
       "    <tr>\n",
       "      <th>6</th>\n",
       "      <td>19929835</td>\n",
       "      <td>Aftershock: Beyond the Civil War</td>\n",
       "      <td>2007</td>\n",
       "      <td>{\"/m/09c7w0\": \"United States of America\"}</td>\n",
       "      <td>{}</td>\n",
       "      <td>{\"/m/0jtdp\": \"Documentary\"}</td>\n",
       "      <td>The film is about the harsh period of Reconstr...</td>\n",
       "    </tr>\n",
       "    <tr>\n",
       "      <th>7</th>\n",
       "      <td>5894429</td>\n",
       "      <td>Closing the Ring</td>\n",
       "      <td>2007</td>\n",
       "      <td>{\"/m/09c7w0\": \"United States of America\", \"/m/...</td>\n",
       "      <td>{\"/m/02h40lc\": \"English Language\"}</td>\n",
       "      <td>{\"/m/068d7h\": \"Romantic drama\", \"/m/02l7c8\": \"...</td>\n",
       "      <td>The film opens in 1991, with the funeral of a ...</td>\n",
       "    </tr>\n",
       "    <tr>\n",
       "      <th>8</th>\n",
       "      <td>4300418</td>\n",
       "      <td>The Hero: Love Story of a Spy</td>\n",
       "      <td>2003</td>\n",
       "      <td>{\"/m/03rk0\": \"India\"}</td>\n",
       "      <td>{\"/m/03k50\": \"Hindi Language\"}</td>\n",
       "      <td>{\"/m/01jfsb\": \"Thriller\", \"/m/0cq22f9\": \"Actio...</td>\n",
       "      <td>Arun Sharma  is a spy working for RAW . He set...</td>\n",
       "    </tr>\n",
       "    <tr>\n",
       "      <th>9</th>\n",
       "      <td>3740032</td>\n",
       "      <td>Desperate</td>\n",
       "      <td>1947</td>\n",
       "      <td>{\"/m/09c7w0\": \"United States of America\"}</td>\n",
       "      <td>{\"/m/02h40lc\": \"English Language\"}</td>\n",
       "      <td>{\"/m/02xh1\": \"Film noir\"}</td>\n",
       "      <td>Steve Randall  is an independent trucker who i...</td>\n",
       "    </tr>\n",
       "  </tbody>\n",
       "</table>\n",
       "</div>"
      ],
      "text/plain": [
       "   wikipediaID                        Movie name Release date  \\\n",
       "0      9633533                          Vandanam         1989   \n",
       "1       261237            The Gods Must Be Crazy         1980   \n",
       "2      4951456       Kinjite: Forbidden Subjects         1989   \n",
       "3     32104837   It Came Upon the Midnight Clear         1984   \n",
       "4      2647998                 The Human Tornado         1976   \n",
       "5       273431                         Terrorama         2001   \n",
       "6     19929835  Aftershock: Beyond the Civil War         2007   \n",
       "7      5894429                  Closing the Ring         2007   \n",
       "8      4300418     The Hero: Love Story of a Spy         2003   \n",
       "9      3740032                         Desperate         1947   \n",
       "\n",
       "                                           Countries  \\\n",
       "0                              {\"/m/03rk0\": \"India\"}   \n",
       "1                       {\"/m/0hzlz\": \"South Africa\"}   \n",
       "2          {\"/m/09c7w0\": \"United States of America\"}   \n",
       "3          {\"/m/09c7w0\": \"United States of America\"}   \n",
       "4          {\"/m/09c7w0\": \"United States of America\"}   \n",
       "5                        {\"/m/059j2\": \"Netherlands\"}   \n",
       "6          {\"/m/09c7w0\": \"United States of America\"}   \n",
       "7  {\"/m/09c7w0\": \"United States of America\", \"/m/...   \n",
       "8                              {\"/m/03rk0\": \"India\"}   \n",
       "9          {\"/m/09c7w0\": \"United States of America\"}   \n",
       "\n",
       "                                           Languages  \\\n",
       "0                 {\"/m/0999q\": \"Malayalam Language\"}   \n",
       "1  {\"/m/0x82\": \"Afrikaans Language\", \"/m/02h40lc\"...   \n",
       "2                 {\"/m/02h40lc\": \"English Language\"}   \n",
       "3                 {\"/m/02h40lc\": \"English Language\"}   \n",
       "4                 {\"/m/02h40lc\": \"English Language\"}   \n",
       "5                     {\"/m/02bv9\": \"Dutch Language\"}   \n",
       "6                                                 {}   \n",
       "7                 {\"/m/02h40lc\": \"English Language\"}   \n",
       "8                     {\"/m/03k50\": \"Hindi Language\"}   \n",
       "9                 {\"/m/02h40lc\": \"English Language\"}   \n",
       "\n",
       "                                              Genres  \\\n",
       "0                           {\"/m/02kdv5l\": \"Action\"}   \n",
       "1  {\"/m/03k9fj\": \"Adventure\", \"/m/03btsm8\": \"Acti...   \n",
       "2  {\"/m/0lsxr\": \"Crime Fiction\", \"/m/03btsm8\": \"A...   \n",
       "3  {\"/m/0hqxf\": \"Family Film\", \"/m/07s9rl0\": \"Dra...   \n",
       "4  {\"/m/03btsm8\": \"Action/Adventure\", \"/m/0hj3l_y...   \n",
       "5      {\"/m/07s9rl0\": \"Drama\", \"/m/01z4y\": \"Comedy\"}   \n",
       "6                        {\"/m/0jtdp\": \"Documentary\"}   \n",
       "7  {\"/m/068d7h\": \"Romantic drama\", \"/m/02l7c8\": \"...   \n",
       "8  {\"/m/01jfsb\": \"Thriller\", \"/m/0cq22f9\": \"Actio...   \n",
       "9                          {\"/m/02xh1\": \"Film noir\"}   \n",
       "\n",
       "                                             summary  \n",
       "0  Professor Kurian Fernandez , a convict escapes...  \n",
       "1  The film is a collision of three separate stor...  \n",
       "2  A Japanese businessman sees a woman being grop...  \n",
       "3  The film centers on Mike Halligan, a retired c...  \n",
       "4  After coming off a successful comedy tour, Dol...  \n",
       "5  The film tells the story of six mental cases, ...  \n",
       "6  The film is about the harsh period of Reconstr...  \n",
       "7  The film opens in 1991, with the funeral of a ...  \n",
       "8  Arun Sharma  is a spy working for RAW . He set...  \n",
       "9  Steve Randall  is an independent trucker who i...  "
      ]
     },
     "execution_count": 453,
     "metadata": {},
     "output_type": "execute_result"
    }
   ],
   "source": [
    "df_for_topics['Release date'] = df_for_topics['Release date'].apply(extract_year)\n",
    "df_for_topics.head(10)"
   ]
  },
  {
   "cell_type": "markdown",
   "metadata": {},
   "source": [
    "In this section we remove all rows containing null values for Countries as I will be an essential tool in our computation"
   ]
  },
  {
   "cell_type": "code",
   "execution_count": 454,
   "metadata": {},
   "outputs": [],
   "source": [
    "# checks if ts an empty json\n",
    "def is_empty_json(json_str):\n",
    "    try:\n",
    "        json_obj = json.loads(json_str)\n",
    "        return isinstance(json_obj, dict) and not bool(json_obj)\n",
    "    except (json.JSONDecodeError, TypeError):\n",
    "        return False"
   ]
  },
  {
   "cell_type": "code",
   "execution_count": 455,
   "metadata": {},
   "outputs": [
    {
     "data": {
      "text/plain": [
       "7934"
      ]
     },
     "execution_count": 455,
     "metadata": {},
     "output_type": "execute_result"
    }
   ],
   "source": [
    "contains_empty_json = df_for_topics['Countries'].apply(is_empty_json)\n",
    "filtered_df_for_topics = df_for_topics[~contains_empty_json]\n",
    "filtered_df_for_topics.shape[0]"
   ]
  },
  {
   "cell_type": "markdown",
   "metadata": {},
   "source": [
    "## 2. Data Wrangling"
   ]
  },
  {
   "cell_type": "markdown",
   "metadata": {},
   "source": [
    "Now we want to see how many different countries we can find in our data set in order to check if we can classify the movies per country"
   ]
  },
  {
   "cell_type": "code",
   "execution_count": 456,
   "metadata": {},
   "outputs": [],
   "source": [
    "df = filtered_df_for_topics\n",
    "def extract_countries(json_str):\n",
    "    countries = set()\n",
    "    try:\n",
    "        json_obj = json.loads(json_str)\n",
    "        for country in json_obj.values():\n",
    "            countries.add(country)\n",
    "    except (json.JSONDecodeError, TypeError):\n",
    "        pass\n",
    "    return countries\n",
    "\n",
    "unique_countries = []\n",
    "\n"
   ]
  },
  {
   "cell_type": "code",
   "execution_count": 457,
   "metadata": {},
   "outputs": [
    {
     "data": {
      "image/png": "[encoded data removed]",
      "text/plain": [
       "<Figure size 1000x600 with 1 Axes>"
      ]
     },
     "metadata": {},
     "output_type": "display_data"
    }
   ],
   "source": [
    "for countries_str in df['Countries']:\n",
    "    unique_countries.extend(extract_countries(countries_str))\n",
    "# Count the occurrences of each country\n",
    "country_counts = pd.Series(unique_countries).value_counts()\n",
    "# Plotting\n",
    "plt.figure(figsize=(10, 6))\n",
    "country_counts.plot(kind='bar', color='skyblue')\n",
    "plt.title('Number of Movies per Country')\n",
    "plt.xlabel('Country')\n",
    "plt.ylabel('Number of Movies')\n",
    "plt.xticks(rotation=45)\n",
    "plt.tight_layout()\n",
    "plt.show()\n"
   ]
  },
  {
   "cell_type": "code",
   "execution_count": 458,
   "metadata": {},
   "outputs": [],
   "source": [
    "df_regions = pd.read_excel('data/Countries_Region.xlsx')\n"
   ]
  },
  {
   "cell_type": "code",
   "execution_count": 459,
   "metadata": {},
   "outputs": [
    {
     "data": {
      "text/html": [
       "<div>\n",
       "<style scoped>\n",
       "    .dataframe tbody tr th:only-of-type {\n",
       "        vertical-align: middle;\n",
       "    }\n",
       "\n",
       "    .dataframe tbody tr th {\n",
       "        vertical-align: top;\n",
       "    }\n",
       "\n",
       "    .dataframe thead th {\n",
       "        text-align: right;\n",
       "    }\n",
       "</style>\n",
       "<table border=\"1\" class=\"dataframe\">\n",
       "  <thead>\n",
       "    <tr style=\"text-align: right;\">\n",
       "      <th></th>\n",
       "      <th>Country</th>\n",
       "      <th>Region</th>\n",
       "    </tr>\n",
       "  </thead>\n",
       "  <tbody>\n",
       "    <tr>\n",
       "      <th>0</th>\n",
       "      <td>Angola</td>\n",
       "      <td>Africa</td>\n",
       "    </tr>\n",
       "    <tr>\n",
       "      <th>1</th>\n",
       "      <td>Benin</td>\n",
       "      <td>Africa</td>\n",
       "    </tr>\n",
       "    <tr>\n",
       "      <th>2</th>\n",
       "      <td>Botswana</td>\n",
       "      <td>Africa</td>\n",
       "    </tr>\n",
       "    <tr>\n",
       "      <th>3</th>\n",
       "      <td>Burkina Faso</td>\n",
       "      <td>Africa</td>\n",
       "    </tr>\n",
       "    <tr>\n",
       "      <th>4</th>\n",
       "      <td>Burundi</td>\n",
       "      <td>Africa</td>\n",
       "    </tr>\n",
       "    <tr>\n",
       "      <th>...</th>\n",
       "      <td>...</td>\n",
       "      <td>...</td>\n",
       "    </tr>\n",
       "    <tr>\n",
       "      <th>191</th>\n",
       "      <td>Rep.​of North Macedonia</td>\n",
       "      <td>​Europ Region</td>\n",
       "    </tr>\n",
       "    <tr>\n",
       "      <th>192</th>\n",
       "      <td>Turkey</td>\n",
       "      <td>​Europ Region</td>\n",
       "    </tr>\n",
       "    <tr>\n",
       "      <th>193</th>\n",
       "      <td>Ukraine</td>\n",
       "      <td>​Europ Region</td>\n",
       "    </tr>\n",
       "    <tr>\n",
       "      <th>194</th>\n",
       "      <td>United Kingdom</td>\n",
       "      <td>​Europ Region</td>\n",
       "    </tr>\n",
       "    <tr>\n",
       "      <th>195</th>\n",
       "      <td>Vatican</td>\n",
       "      <td>​Europ Region</td>\n",
       "    </tr>\n",
       "  </tbody>\n",
       "</table>\n",
       "<p>196 rows × 2 columns</p>\n",
       "</div>"
      ],
      "text/plain": [
       "                      Country         Region\n",
       "0                      Angola         Africa\n",
       "1                       Benin         Africa\n",
       "2                    Botswana         Africa\n",
       "3                Burkina Faso         Africa\n",
       "4                     Burundi         Africa\n",
       "..                        ...            ...\n",
       "191  Rep.​of North Macedonia   ​Europ Region\n",
       "192                    Turkey  ​Europ Region\n",
       "193                   Ukraine  ​Europ Region\n",
       "194            United Kingdom  ​Europ Region\n",
       "195                  Vatican   ​Europ Region\n",
       "\n",
       "[196 rows x 2 columns]"
      ]
     },
     "execution_count": 459,
     "metadata": {},
     "output_type": "execute_result"
    }
   ],
   "source": [
    "dfs = []\n",
    "new_df_regions = pd.DataFrame(['Country, Region'])\n",
    "for i in df_regions.columns:\n",
    "    region_name = i\n",
    "    # Create a DataFrame for each region with 'Country' and 'Region' columns\n",
    "    temp_df = pd.DataFrame({'Country': df_regions[i].dropna(), 'Region': region_name})\n",
    "    \n",
    "    # Append each region DataFrame to the list\n",
    "    dfs.append(temp_df)\n",
    "new_df_regions = pd.concat(dfs, ignore_index=True)\n",
    "new_df_regions"
   ]
  },
  {
   "cell_type": "code",
   "execution_count": 460,
   "metadata": {},
   "outputs": [
    {
     "name": "stdout",
     "output_type": "stream",
     "text": [
      "Africa\n",
      "America\n",
      "​Arab States\n",
      "Asia and Pacific\n",
      "Cis\n",
      "​Europ Region\n",
      "List of unique countries:\n",
      "['Angola', 'Benin', 'Botswana', 'Burkina Faso', 'Burundi', 'Cameroon', 'Cabo Verde', 'Central African Rep.', 'Chad', 'Congo (Rep. of the)\\xa0', \"Côte d'Ivoire\", 'Dem. Rep. of the Congo)', 'Equatorial Guinea', 'Eritrea', 'Eswatini', 'Ethiopia', 'Gabon', 'Gambia', 'Ghana', 'Guinea', 'Guinea-Bissau', 'Kenya', 'Lesotho', 'Liberia', 'Madagascar', 'Malawi', 'Mali', 'Mauritius', 'Mozambique', 'Namibia', 'Niger', 'Nigeria', 'Rwanda', 'Sao Tome and Principe', 'Senegal', 'Seychelles', 'Sierra Leone', 'South Africa', 'South Sudan', 'Tanzania', 'Togo', 'Uganda', 'Zambia', 'Zimbabwe', nan, 'Antigua\\xa0and Barbuda', 'Argentina', 'Bahamas', 'Barbados', 'Belize', 'Bolivia (Plurinational State of)', 'Brazil', 'Canada', 'Chile', 'Colombia', 'Costa Rica', 'Cuba', 'Dominica', 'Dominican Rep.', 'Ecuador', 'El Salvador', 'Grenada', 'Guatemala', 'Guyana', 'Haiti', 'Honduras', 'Jamaica', 'Mexico', 'Nicaragua', 'Panama', 'Paraguay', 'Peru', 'Saint Kitts and Nevis', 'Saint Lucia', 'Saint Vincent and the Grenadines', 'Suriname', 'Trinidad\\xa0and Tobago', 'United States', 'Uruguay', 'Venezuela', nan, 'Algeria', 'Bahrain', 'Comoros', 'Djibouti', 'Egypt', 'Iraq', 'Jordan', 'Kuwait', 'Lebanon', 'Libya', 'Mauritania', 'Morocco', 'Oman', 'Palestine*', 'Qatar', 'Saudi Arabia', 'Somalia', 'Sudan', 'Syrian Arab Republic', 'Tunisia', 'United Arab Emirates', 'Yemen', nan, 'Afghanistan', 'Australia', 'Bangladesh', 'Bhutan', 'Brunei Darussalam', 'Cambodia', 'China', 'Dem. People’s Rep. of Korea', 'Fiji', 'Hong Kong, China\\u200b', 'India', 'Indonesia', 'Iran (Islamic Republic of)\\xa0\\xa0', 'Japan', 'Kiribati', 'Korea (Rep. of)\\xa0', 'Lao P.D.R', 'Macao, China', 'Malaysia', 'Maldives', 'Marshall Islands', 'Micronesia', 'Mongolia', 'Myanmar', 'Nauru', 'Nepal (Republic of)', 'New Zealand', 'Pakistan', 'Papua New Guinea', 'Philippines', 'Samoa', 'Singapore', 'Solomon Islands', 'Sri Lanka', 'Thailand', 'Timor-Leste', 'Tonga', 'Tuvalu', 'Vanuatu', 'Viet Nam', nan, 'Armenia', 'Azerbaijan', 'Belarus', 'Kazakhstan', 'Kyrgyzstan', 'Russian Federation', 'Tajikistan', 'Turkmenistan', 'Uzbekistan', nan, 'Albania', 'Andorra', 'Austria', 'Belgium', 'Bosnia and Herzegovina', 'Bulgaria', 'Croatia', 'Cyprus', 'Czech Republic', 'Denmark', 'Estonia', 'Finland', 'France', 'Georgia', 'Germany', 'Greece', 'Hungary', 'Iceland', 'Ireland', 'Israel', 'Italy', 'Latvia', 'Liechtenstein', 'Lithuania', 'Luxembourg', 'Malta', 'Moldova', 'Monaco\\u200b', 'Montenegro', 'Netherlands', 'Norway', 'Poland', 'Portugal', 'Romania', 'San Marino', 'Serbia', 'Slovakia', 'Slovenia', 'Spain', 'Sweden', 'Switzerland', 'Rep.\\u200bof North Macedonia\\xa0', 'Turkey', 'Ukraine', 'United Kingdom', 'Vatican\\xa0']\n"
     ]
    }
   ],
   "source": [
    "\n",
    "# List of corrected column names you want to retrieve unique values from\n",
    "# Extract unique values from the renamed columns\n",
    "countries_list = []\n",
    "for column in df_regions.columns:\n",
    "        print(column)\n",
    "        countries_list.extend(df_regions[column].unique().tolist())\n",
    "\n",
    "\n",
    "\n",
    "# Display the list of unique countries\n",
    "print(\"List of unique countries:\")\n",
    "print(countries_list)\n"
   ]
  },
  {
   "cell_type": "code",
   "execution_count": 461,
   "metadata": {},
   "outputs": [
    {
     "name": "stdout",
     "output_type": "stream",
     "text": [
      "Countries not contained in the unique list:\n",
      "['United States of America', 'West Germany', 'Scotland', 'Monaco', 'Soviet Union', 'Nazi Germany', 'Palestinian Territories', 'England', 'Puerto Rico', 'Vietnam', 'Hong Kong', 'Mandatory Palestine', 'Bolivia', 'Republic of Macedonia', 'German Democratic Republic', 'Northern Ireland', 'Taiwan', 'Weimar Republic', 'Nepal', 'Iran', 'Aruba', 'Kingdom of Italy', 'Russia', 'Yugoslavia', 'Socialist Federal Republic of Yugoslavia', 'Korea', 'Slovak Republic', 'Malayalam Language', 'Czechoslovakia', 'South Korea', 'Palestinian territories']\n",
      "31\n"
     ]
    }
   ],
   "source": [
    "# Check for countries not present in 'unique_countries_list'\n",
    "unique_countries = set(unique_countries)\n",
    "countries_not_in_list = [country for country in unique_countries if country not in countries_list]\n",
    "\n",
    "# Display the list of countries not contained in the 'unique_countries_list'\n",
    "print(\"Countries not contained in the unique list:\")\n",
    "print(countries_not_in_list)\n",
    "print(len(countries_not_in_list))"
   ]
  },
  {
   "cell_type": "code",
   "execution_count": 462,
   "metadata": {},
   "outputs": [],
   "source": [
    "country_to_region = {\n",
    "    'United States of America': 'America',\n",
    "    'West Germany': '​Europ Region',\n",
    "    'Scotland': '​Europ Region',\n",
    "    'Taiwan': 'Asia and Pacific',\n",
    "    'South Korea': 'Asia and Pacific',\n",
    "    'Monaco': '​Europ Region',\n",
    "    'Weimar Republic': '​Europ Region',\n",
    "    'Nepal': 'Asia and Pacific',\n",
    "    'Iran': '​Arab States',\n",
    "    'Soviet Union': 'Cis',\n",
    "    'Nazi Germany': '​Europ Region',\n",
    "    'Aruba': 'America',\n",
    "    'Kingdom of Italy': '​Europ Region',\n",
    "    'Palestinian Territories': '​Arab States',\n",
    "    'Russia': 'Cis',\n",
    "    'England': '​Europ Region',\n",
    "    'Yugoslavia': '​Europ Region',\n",
    "    'Puerto Rico': 'America',\n",
    "    'Palestinian territories': '​Arab States',\n",
    "    'Vietnam': 'Asia and Pacific',\n",
    "    'Hong Kong': 'Asia and Pacific',\n",
    "    'Socialist Federal Republic of Yugoslavia': '​Europ Region',\n",
    "    'Bolivia': 'America',\n",
    "    'Korea': 'Asia and Pacific',\n",
    "    'Slovak Republic': '​Europ Region',\n",
    "    'Malayalam Language': 'Asia and Pacific',\n",
    "    'Republic of Macedonia': '​Europ Region',\n",
    "    'Czechoslovakia': '​Europ Region',\n",
    "    'Mandatory Palestine': '​Arab States',\n",
    "    'German Democratic Republic': '​Europ Region',\n",
    "    'Northern Ireland': '​Europ Region'\n",
    "}"
   ]
  },
  {
   "cell_type": "code",
   "execution_count": 463,
   "metadata": {},
   "outputs": [],
   "source": [
    "country_to_region_df = pd.DataFrame(country_to_region.items(), columns=['Country', 'Region'])\n",
    "final_df_regions = pd.concat([country_to_region_df, new_df_regions], ignore_index=True)"
   ]
  },
  {
   "cell_type": "code",
   "execution_count": 464,
   "metadata": {},
   "outputs": [],
   "source": [
    "def extract_countries_from_json(json_string):\n",
    "    try:\n",
    "        countries_dict = json.loads(json_string)\n",
    "        # Extract country names from the values in the dictionary\n",
    "        country_names = [value for value in countries_dict.values()]\n",
    "        return country_names\n",
    "    except (json.JSONDecodeError, KeyError):\n",
    "        return []"
   ]
  },
  {
   "cell_type": "code",
   "execution_count": 465,
   "metadata": {},
   "outputs": [
    {
     "name": "stderr",
     "output_type": "stream",
     "text": [
      "/var/folders/67/6c4p9l3d6gz7mdpq5tr7rk7w0000gn/T/ipykernel_79761/371166071.py:1: SettingWithCopyWarning:\n",
      "\n",
      "\n",
      "A value is trying to be set on a copy of a slice from a DataFrame.\n",
      "Try using .loc[row_indexer,col_indexer] = value instead\n",
      "\n",
      "See the caveats in the documentation: https://pandas.pydata.org/pandas-docs/stable/user_guide/indexing.html#returning-a-view-versus-a-copy\n",
      "\n"
     ]
    }
   ],
   "source": [
    "filtered_df_for_topics['Country_extract'] = filtered_df_for_topics['Countries'].apply(extract_countries_from_json)"
   ]
  },
  {
   "cell_type": "code",
   "execution_count": 466,
   "metadata": {},
   "outputs": [
    {
     "name": "stderr",
     "output_type": "stream",
     "text": [
      "/var/folders/67/6c4p9l3d6gz7mdpq5tr7rk7w0000gn/T/ipykernel_79761/2512808961.py:5: SettingWithCopyWarning:\n",
      "\n",
      "\n",
      "A value is trying to be set on a copy of a slice from a DataFrame.\n",
      "Try using .loc[row_indexer,col_indexer] = value instead\n",
      "\n",
      "See the caveats in the documentation: https://pandas.pydata.org/pandas-docs/stable/user_guide/indexing.html#returning-a-view-versus-a-copy\n",
      "\n"
     ]
    }
   ],
   "source": [
    "def map_region(country_list):\n",
    "    return final_df_regions[final_df_regions['Country'].isin(country_list)]['Region'].tolist()\n",
    "\n",
    "# Apply the function to create a new column 'Region' in filtered_df_for_topics\n",
    "filtered_df_for_topics['Region'] = filtered_df_for_topics['Country_extract'].apply(map_region)\n",
    "\n",
    "\n"
   ]
  },
  {
   "cell_type": "code",
   "execution_count": 467,
   "metadata": {},
   "outputs": [
    {
     "data": {
      "image/png": "[encoded data removed]",
      "text/plain": [
       "<Figure size 1000x600 with 1 Axes>"
      ]
     },
     "metadata": {},
     "output_type": "display_data"
    }
   ],
   "source": [
    "flattened_regions = filtered_df_for_topics['Region'].explode()\n",
    "movies_per_region = flattened_regions.value_counts()\n",
    "# Plot the number of movies per region\n",
    "plt.figure(figsize=(10, 6))\n",
    "movies_per_region.plot(kind='bar', color='#7e7e7e')\n",
    "plt.title('Number of Movies per Region')\n",
    "plt.xlabel('Region')\n",
    "plt.ylabel('Number of Movies')\n",
    "plt.xticks(rotation=45, ha='right')\n",
    "plt.tight_layout()"
   ]
  },
  {
   "cell_type": "markdown",
   "metadata": {},
   "source": [
    "- Basic Statistics: Calculate summary statistics for relevant columns such as release dates, number of movies per country/region, etc.\n",
    "- Topic Modeling Preparation: Prepare the movie summaries for topic modeling by tokenizing, vectorizing, and pre-processing the text data using techniques like TF-IDF or word embeddings.\n",
    "- Visualizations: to explore the distribution of movies across countries/regions, genres, and other relevant features.\n",
    "- plot number of movies per region avec la chronologie\n",
    "- par pays dans chaque region :)"
   ]
  },
  {
   "cell_type": "code",
   "execution_count": 468,
   "metadata": {},
   "outputs": [
    {
     "name": "stdout",
     "output_type": "stream",
     "text": [
      "Count of movies per region:\n",
      "America             5292\n",
      "​Europ Region       2538\n",
      "Asia and Pacific    2121\n",
      "Cis                   67\n",
      "Africa                48\n",
      "​Arab States          34\n",
      "Name: Region, dtype: int64\n"
     ]
    }
   ],
   "source": [
    "print(\"Count of movies per region:\")\n",
    "print(movies_per_region)"
   ]
  },
  {
   "cell_type": "code",
   "execution_count": 495,
   "metadata": {},
   "outputs": [
    {
     "name": "stdout",
     "output_type": "stream",
     "text": [
      "0      1975\n",
      "1      1977\n",
      "2      1978\n",
      "3      1980\n",
      "4      1985\n",
      "       ... \n",
      "351    2009\n",
      "352    2010\n",
      "353    2011\n",
      "354    2012\n",
      "355    2013\n",
      "Name: Release date, Length: 356, dtype: int64\n"
     ]
    },
    {
     "data": {
      "application/vnd.plotly.v1+json": {
       "config": {
        "plotlyServerURL": "https://plot.ly"
       },
       "data": [
        {
         "hovertemplate": "Region=Africa<br>Release Year=%{x}<br>Count=%{y}<extra></extra>",
         "legendgroup": "Africa",
         "line": {
          "color": "#636efa",
          "dash": "solid"
         },
         "marker": {
          "symbol": "circle"
         },
         "mode": "lines",
         "name": "Africa",
         "orientation": "v",
         "showlegend": true,
         "type": "scatter",
         "x": [
          1975,
          1977,
          1978,
          1980,
          1985,
          1987,
          1988,
          1989,
          1990,
          1993,
          2000,
          2001,
          2004,
          2005,
          2006,
          2007,
          2008,
          2009,
          2010,
          2011,
          2012
         ],
         "xaxis": "x",
         "y": [
          1,
          1,
          1,
          1,
          1,
          1,
          1,
          2,
          1,
          1,
          1,
          1,
          6,
          3,
          4,
          2,
          9,
          3,
          5,
          1,
          2
         ],
         "yaxis": "y"
        },
        {
         "hovertemplate": "Region=America<br>Release Year=%{x}<br>Count=%{y}<extra></extra>",
         "legendgroup": "America",
         "line": {
          "color": "#EF553B",
          "dash": "solid"
         },
         "marker": {
          "symbol": "circle"
         },
         "mode": "lines",
         "name": "America",
         "orientation": "v",
         "showlegend": true,
         "type": "scatter",
         "x": [
          1908,
          1910,
          1912,
          1913,
          1914,
          1915,
          1916,
          1917,
          1918,
          1919,
          1920,
          1921,
          1922,
          1923,
          1924,
          1925,
          1926,
          1928,
          1929,
          1930,
          1931,
          1932,
          1933,
          1934,
          1935,
          1936,
          1937,
          1938,
          1939,
          1940,
          1941,
          1942,
          1943,
          1944,
          1945,
          1946,
          1947,
          1948,
          1949,
          1950,
          1951,
          1952,
          1953,
          1954,
          1955,
          1956,
          1957,
          1958,
          1959,
          1960,
          1961,
          1962,
          1963,
          1964,
          1965,
          1966,
          1967,
          1968,
          1969,
          1970,
          1971,
          1972,
          1973,
          1974,
          1975,
          1976,
          1977,
          1978,
          1979,
          1980,
          1981,
          1982,
          1983,
          1984,
          1985,
          1986,
          1987,
          1988,
          1989,
          1990,
          1991,
          1992,
          1993,
          1994,
          1995,
          1996,
          1997,
          1998,
          1999,
          2000,
          2001,
          2002,
          2003,
          2004,
          2005,
          2006,
          2007,
          2008,
          2009,
          2010,
          2011,
          2012,
          2013
         ],
         "xaxis": "x",
         "y": [
          2,
          2,
          2,
          2,
          4,
          6,
          4,
          3,
          5,
          2,
          6,
          6,
          5,
          3,
          7,
          8,
          4,
          6,
          9,
          15,
          22,
          16,
          17,
          13,
          20,
          17,
          17,
          17,
          23,
          32,
          20,
          36,
          46,
          30,
          22,
          21,
          18,
          16,
          25,
          28,
          30,
          27,
          28,
          32,
          36,
          32,
          34,
          39,
          29,
          14,
          25,
          30,
          18,
          22,
          24,
          29,
          29,
          27,
          24,
          29,
          32,
          44,
          41,
          36,
          29,
          38,
          36,
          36,
          37,
          47,
          58,
          50,
          64,
          56,
          67,
          77,
          76,
          86,
          89,
          91,
          74,
          79,
          82,
          89,
          94,
          96,
          113,
          131,
          110,
          117,
          142,
          151,
          140,
          165,
          198,
          223,
          236,
          233,
          204,
          191,
          147,
          69,
          3
         ],
         "yaxis": "y"
        },
        {
         "hovertemplate": "Region=Asia and Pacific<br>Release Year=%{x}<br>Count=%{y}<extra></extra>",
         "legendgroup": "Asia and Pacific",
         "line": {
          "color": "#00cc96",
          "dash": "solid"
         },
         "marker": {
          "symbol": "circle"
         },
         "mode": "lines",
         "name": "Asia and Pacific",
         "orientation": "v",
         "showlegend": true,
         "type": "scatter",
         "x": [
          1907,
          1911,
          1912,
          1913,
          1916,
          1921,
          1927,
          1928,
          1929,
          1930,
          1931,
          1933,
          1935,
          1937,
          1938,
          1939,
          1941,
          1942,
          1944,
          1946,
          1948,
          1949,
          1950,
          1951,
          1952,
          1953,
          1954,
          1955,
          1956,
          1957,
          1958,
          1959,
          1960,
          1961,
          1962,
          1963,
          1964,
          1965,
          1966,
          1967,
          1968,
          1969,
          1970,
          1971,
          1972,
          1973,
          1974,
          1975,
          1976,
          1977,
          1978,
          1979,
          1980,
          1981,
          1982,
          1983,
          1984,
          1985,
          1986,
          1987,
          1988,
          1989,
          1990,
          1991,
          1992,
          1993,
          1994,
          1995,
          1996,
          1997,
          1998,
          1999,
          2000,
          2001,
          2002,
          2003,
          2004,
          2005,
          2006,
          2007,
          2008,
          2009,
          2010,
          2011,
          2012
         ],
         "xaxis": "x",
         "y": [
          1,
          2,
          1,
          1,
          1,
          1,
          1,
          2,
          2,
          2,
          1,
          1,
          2,
          1,
          1,
          4,
          2,
          1,
          1,
          2,
          2,
          2,
          2,
          2,
          3,
          2,
          7,
          6,
          6,
          4,
          6,
          6,
          7,
          9,
          10,
          7,
          9,
          11,
          9,
          10,
          11,
          9,
          7,
          8,
          22,
          10,
          12,
          14,
          15,
          18,
          24,
          24,
          23,
          23,
          23,
          20,
          26,
          22,
          39,
          30,
          27,
          42,
          37,
          28,
          41,
          53,
          50,
          46,
          32,
          47,
          35,
          42,
          58,
          62,
          53,
          91,
          87,
          102,
          103,
          97,
          138,
          118,
          102,
          60,
          40
         ],
         "yaxis": "y"
        },
        {
         "hovertemplate": "Region=Cis<br>Release Year=%{x}<br>Count=%{y}<extra></extra>",
         "legendgroup": "Cis",
         "line": {
          "color": "#ab63fa",
          "dash": "solid"
         },
         "marker": {
          "symbol": "circle"
         },
         "mode": "lines",
         "name": "Cis",
         "orientation": "v",
         "showlegend": true,
         "type": "scatter",
         "x": [
          1941,
          1946,
          1949,
          1957,
          1959,
          1966,
          1969,
          1971,
          1972,
          1973,
          1974,
          1976,
          1979,
          1980,
          1982,
          1985,
          1987,
          1988,
          1990,
          1991,
          1992,
          1994,
          1996,
          1998,
          2000,
          2001,
          2002,
          2004,
          2005,
          2006,
          2007,
          2008,
          2009,
          2010,
          2012
         ],
         "xaxis": "x",
         "y": [
          1,
          1,
          1,
          2,
          3,
          2,
          1,
          2,
          5,
          1,
          2,
          1,
          2,
          2,
          1,
          6,
          1,
          1,
          1,
          1,
          1,
          1,
          1,
          2,
          1,
          1,
          3,
          3,
          4,
          1,
          5,
          1,
          1,
          1,
          4
         ],
         "yaxis": "y"
        },
        {
         "hovertemplate": "Region=​Arab States<br>Release Year=%{x}<br>Count=%{y}<extra></extra>",
         "legendgroup": "​Arab States",
         "line": {
          "color": "#FFA15A",
          "dash": "solid"
         },
         "marker": {
          "symbol": "circle"
         },
         "mode": "lines",
         "name": "​Arab States",
         "orientation": "v",
         "showlegend": true,
         "type": "scatter",
         "x": [
          1934,
          1977,
          1981,
          1987,
          1989,
          1992,
          1996,
          2002,
          2005,
          2006,
          2007,
          2008,
          2009,
          2010,
          2011,
          2012
         ],
         "xaxis": "x",
         "y": [
          1,
          2,
          1,
          1,
          1,
          1,
          1,
          2,
          3,
          3,
          2,
          3,
          4,
          4,
          4,
          1
         ],
         "yaxis": "y"
        },
        {
         "hovertemplate": "Region=​Europ Region<br>Release Year=%{x}<br>Count=%{y}<extra></extra>",
         "legendgroup": "​Europ Region",
         "line": {
          "color": "#19d3f3",
          "dash": "solid"
         },
         "marker": {
          "symbol": "circle"
         },
         "mode": "lines",
         "name": "​Europ Region",
         "orientation": "v",
         "showlegend": true,
         "type": "scatter",
         "x": [
          1911,
          1915,
          1919,
          1920,
          1921,
          1922,
          1924,
          1925,
          1926,
          1927,
          1928,
          1929,
          1930,
          1931,
          1932,
          1933,
          1934,
          1935,
          1936,
          1937,
          1938,
          1939,
          1940,
          1941,
          1942,
          1943,
          1944,
          1945,
          1946,
          1947,
          1948,
          1949,
          1950,
          1951,
          1952,
          1953,
          1954,
          1955,
          1956,
          1957,
          1958,
          1959,
          1960,
          1961,
          1962,
          1963,
          1964,
          1965,
          1966,
          1967,
          1968,
          1969,
          1970,
          1971,
          1972,
          1973,
          1974,
          1975,
          1976,
          1977,
          1978,
          1979,
          1980,
          1981,
          1982,
          1983,
          1984,
          1985,
          1986,
          1987,
          1988,
          1989,
          1990,
          1991,
          1992,
          1993,
          1994,
          1995,
          1996,
          1997,
          1998,
          1999,
          2000,
          2001,
          2002,
          2003,
          2004,
          2005,
          2006,
          2007,
          2008,
          2009,
          2010,
          2011,
          2012,
          2013
         ],
         "xaxis": "x",
         "y": [
          2,
          2,
          1,
          4,
          1,
          2,
          1,
          2,
          1,
          3,
          2,
          3,
          1,
          2,
          5,
          1,
          2,
          3,
          4,
          3,
          1,
          6,
          5,
          10,
          8,
          8,
          4,
          4,
          3,
          6,
          9,
          4,
          4,
          5,
          7,
          10,
          10,
          7,
          11,
          11,
          15,
          20,
          16,
          15,
          16,
          13,
          40,
          31,
          24,
          21,
          25,
          29,
          20,
          20,
          27,
          37,
          20,
          25,
          18,
          26,
          15,
          30,
          15,
          28,
          26,
          28,
          25,
          30,
          16,
          25,
          21,
          21,
          28,
          21,
          21,
          27,
          27,
          38,
          32,
          37,
          47,
          37,
          61,
          76,
          89,
          96,
          102,
          136,
          122,
          123,
          136,
          154,
          103,
          86,
          22,
          1
         ],
         "yaxis": "y"
        }
       ],
       "layout": {
        "legend": {
         "title": {
          "text": "Region"
         },
         "tracegroupgap": 0
        },
        "template": {
         "data": {
          "bar": [
           {
            "error_x": {
             "color": "#2a3f5f"
            },
            "error_y": {
             "color": "#2a3f5f"
            },
            "marker": {
             "line": {
              "color": "#E5ECF6",
              "width": 0.5
             },
             "pattern": {
              "fillmode": "overlay",
              "size": 10,
              "solidity": 0.2
             }
            },
            "type": "bar"
           }
          ],
          "barpolar": [
           {
            "marker": {
             "line": {
              "color": "#E5ECF6",
              "width": 0.5
             },
             "pattern": {
              "fillmode": "overlay",
              "size": 10,
              "solidity": 0.2
             }
            },
            "type": "barpolar"
           }
          ],
          "carpet": [
           {
            "aaxis": {
             "endlinecolor": "#2a3f5f",
             "gridcolor": "white",
             "linecolor": "white",
             "minorgridcolor": "white",
             "startlinecolor": "#2a3f5f"
            },
            "baxis": {
             "endlinecolor": "#2a3f5f",
             "gridcolor": "white",
             "linecolor": "white",
             "minorgridcolor": "white",
             "startlinecolor": "#2a3f5f"
            },
            "type": "carpet"
           }
          ],
          "choropleth": [
           {
            "colorbar": {
             "outlinewidth": 0,
             "ticks": ""
            },
            "type": "choropleth"
           }
          ],
          "contour": [
           {
            "colorbar": {
             "outlinewidth": 0,
             "ticks": ""
            },
            "colorscale": [
             [
              0,
              "#0d0887"
             ],
             [
              0.1111111111111111,
              "#46039f"
             ],
             [
              0.2222222222222222,
              "#7201a8"
             ],
             [
              0.3333333333333333,
              "#9c179e"
             ],
             [
              0.4444444444444444,
              "#bd3786"
             ],
             [
              0.5555555555555556,
              "#d8576b"
             ],
             [
              0.6666666666666666,
              "#ed7953"
             ],
             [
              0.7777777777777778,
              "#fb9f3a"
             ],
             [
              0.8888888888888888,
              "#fdca26"
             ],
             [
              1,
              "#f0f921"
             ]
            ],
            "type": "contour"
           }
          ],
          "contourcarpet": [
           {
            "colorbar": {
             "outlinewidth": 0,
             "ticks": ""
            },
            "type": "contourcarpet"
           }
          ],
          "heatmap": [
           {
            "colorbar": {
             "outlinewidth": 0,
             "ticks": ""
            },
            "colorscale": [
             [
              0,
              "#0d0887"
             ],
             [
              0.1111111111111111,
              "#46039f"
             ],
             [
              0.2222222222222222,
              "#7201a8"
             ],
             [
              0.3333333333333333,
              "#9c179e"
             ],
             [
              0.4444444444444444,
              "#bd3786"
             ],
             [
              0.5555555555555556,
              "#d8576b"
             ],
             [
              0.6666666666666666,
              "#ed7953"
             ],
             [
              0.7777777777777778,
              "#fb9f3a"
             ],
             [
              0.8888888888888888,
              "#fdca26"
             ],
             [
              1,
              "#f0f921"
             ]
            ],
            "type": "heatmap"
           }
          ],
          "heatmapgl": [
           {
            "colorbar": {
             "outlinewidth": 0,
             "ticks": ""
            },
            "colorscale": [
             [
              0,
              "#0d0887"
             ],
             [
              0.1111111111111111,
              "#46039f"
             ],
             [
              0.2222222222222222,
              "#7201a8"
             ],
             [
              0.3333333333333333,
              "#9c179e"
             ],
             [
              0.4444444444444444,
              "#bd3786"
             ],
             [
              0.5555555555555556,
              "#d8576b"
             ],
             [
              0.6666666666666666,
              "#ed7953"
             ],
             [
              0.7777777777777778,
              "#fb9f3a"
             ],
             [
              0.8888888888888888,
              "#fdca26"
             ],
             [
              1,
              "#f0f921"
             ]
            ],
            "type": "heatmapgl"
           }
          ],
          "histogram": [
           {
            "marker": {
             "pattern": {
              "fillmode": "overlay",
              "size": 10,
              "solidity": 0.2
             }
            },
            "type": "histogram"
           }
          ],
          "histogram2d": [
           {
            "colorbar": {
             "outlinewidth": 0,
             "ticks": ""
            },
            "colorscale": [
             [
              0,
              "#0d0887"
             ],
             [
              0.1111111111111111,
              "#46039f"
             ],
             [
              0.2222222222222222,
              "#7201a8"
             ],
             [
              0.3333333333333333,
              "#9c179e"
             ],
             [
              0.4444444444444444,
              "#bd3786"
             ],
             [
              0.5555555555555556,
              "#d8576b"
             ],
             [
              0.6666666666666666,
              "#ed7953"
             ],
             [
              0.7777777777777778,
              "#fb9f3a"
             ],
             [
              0.8888888888888888,
              "#fdca26"
             ],
             [
              1,
              "#f0f921"
             ]
            ],
            "type": "histogram2d"
           }
          ],
          "histogram2dcontour": [
           {
            "colorbar": {
             "outlinewidth": 0,
             "ticks": ""
            },
            "colorscale": [
             [
              0,
              "#0d0887"
             ],
             [
              0.1111111111111111,
              "#46039f"
             ],
             [
              0.2222222222222222,
              "#7201a8"
             ],
             [
              0.3333333333333333,
              "#9c179e"
             ],
             [
              0.4444444444444444,
              "#bd3786"
             ],
             [
              0.5555555555555556,
              "#d8576b"
             ],
             [
              0.6666666666666666,
              "#ed7953"
             ],
             [
              0.7777777777777778,
              "#fb9f3a"
             ],
             [
              0.8888888888888888,
              "#fdca26"
             ],
             [
              1,
              "#f0f921"
             ]
            ],
            "type": "histogram2dcontour"
           }
          ],
          "mesh3d": [
           {
            "colorbar": {
             "outlinewidth": 0,
             "ticks": ""
            },
            "type": "mesh3d"
           }
          ],
          "parcoords": [
           {
            "line": {
             "colorbar": {
              "outlinewidth": 0,
              "ticks": ""
             }
            },
            "type": "parcoords"
           }
          ],
          "pie": [
           {
            "automargin": true,
            "type": "pie"
           }
          ],
          "scatter": [
           {
            "fillpattern": {
             "fillmode": "overlay",
             "size": 10,
             "solidity": 0.2
            },
            "type": "scatter"
           }
          ],
          "scatter3d": [
           {
            "line": {
             "colorbar": {
              "outlinewidth": 0,
              "ticks": ""
             }
            },
            "marker": {
             "colorbar": {
              "outlinewidth": 0,
              "ticks": ""
             }
            },
            "type": "scatter3d"
           }
          ],
          "scattercarpet": [
           {
            "marker": {
             "colorbar": {
              "outlinewidth": 0,
              "ticks": ""
             }
            },
            "type": "scattercarpet"
           }
          ],
          "scattergeo": [
           {
            "marker": {
             "colorbar": {
              "outlinewidth": 0,
              "ticks": ""
             }
            },
            "type": "scattergeo"
           }
          ],
          "scattergl": [
           {
            "marker": {
             "colorbar": {
              "outlinewidth": 0,
              "ticks": ""
             }
            },
            "type": "scattergl"
           }
          ],
          "scattermapbox": [
           {
            "marker": {
             "colorbar": {
              "outlinewidth": 0,
              "ticks": ""
             }
            },
            "type": "scattermapbox"
           }
          ],
          "scatterpolar": [
           {
            "marker": {
             "colorbar": {
              "outlinewidth": 0,
              "ticks": ""
             }
            },
            "type": "scatterpolar"
           }
          ],
          "scatterpolargl": [
           {
            "marker": {
             "colorbar": {
              "outlinewidth": 0,
              "ticks": ""
             }
            },
            "type": "scatterpolargl"
           }
          ],
          "scatterternary": [
           {
            "marker": {
             "colorbar": {
              "outlinewidth": 0,
              "ticks": ""
             }
            },
            "type": "scatterternary"
           }
          ],
          "surface": [
           {
            "colorbar": {
             "outlinewidth": 0,
             "ticks": ""
            },
            "colorscale": [
             [
              0,
              "#0d0887"
             ],
             [
              0.1111111111111111,
              "#46039f"
             ],
             [
              0.2222222222222222,
              "#7201a8"
             ],
             [
              0.3333333333333333,
              "#9c179e"
             ],
             [
              0.4444444444444444,
              "#bd3786"
             ],
             [
              0.5555555555555556,
              "#d8576b"
             ],
             [
              0.6666666666666666,
              "#ed7953"
             ],
             [
              0.7777777777777778,
              "#fb9f3a"
             ],
             [
              0.8888888888888888,
              "#fdca26"
             ],
             [
              1,
              "#f0f921"
             ]
            ],
            "type": "surface"
           }
          ],
          "table": [
           {
            "cells": {
             "fill": {
              "color": "#EBF0F8"
             },
             "line": {
              "color": "white"
             }
            },
            "header": {
             "fill": {
              "color": "#C8D4E3"
             },
             "line": {
              "color": "white"
             }
            },
            "type": "table"
           }
          ]
         },
         "layout": {
          "annotationdefaults": {
           "arrowcolor": "#2a3f5f",
           "arrowhead": 0,
           "arrowwidth": 1
          },
          "autotypenumbers": "strict",
          "coloraxis": {
           "colorbar": {
            "outlinewidth": 0,
            "ticks": ""
           }
          },
          "colorscale": {
           "diverging": [
            [
             0,
             "#8e0152"
            ],
            [
             0.1,
             "#c51b7d"
            ],
            [
             0.2,
             "#de77ae"
            ],
            [
             0.3,
             "#f1b6da"
            ],
            [
             0.4,
             "#fde0ef"
            ],
            [
             0.5,
             "#f7f7f7"
            ],
            [
             0.6,
             "#e6f5d0"
            ],
            [
             0.7,
             "#b8e186"
            ],
            [
             0.8,
             "#7fbc41"
            ],
            [
             0.9,
             "#4d9221"
            ],
            [
             1,
             "#276419"
            ]
           ],
           "sequential": [
            [
             0,
             "#0d0887"
            ],
            [
             0.1111111111111111,
             "#46039f"
            ],
            [
             0.2222222222222222,
             "#7201a8"
            ],
            [
             0.3333333333333333,
             "#9c179e"
            ],
            [
             0.4444444444444444,
             "#bd3786"
            ],
            [
             0.5555555555555556,
             "#d8576b"
            ],
            [
             0.6666666666666666,
             "#ed7953"
            ],
            [
             0.7777777777777778,
             "#fb9f3a"
            ],
            [
             0.8888888888888888,
             "#fdca26"
            ],
            [
             1,
             "#f0f921"
            ]
           ],
           "sequentialminus": [
            [
             0,
             "#0d0887"
            ],
            [
             0.1111111111111111,
             "#46039f"
            ],
            [
             0.2222222222222222,
             "#7201a8"
            ],
            [
             0.3333333333333333,
             "#9c179e"
            ],
            [
             0.4444444444444444,
             "#bd3786"
            ],
            [
             0.5555555555555556,
             "#d8576b"
            ],
            [
             0.6666666666666666,
             "#ed7953"
            ],
            [
             0.7777777777777778,
             "#fb9f3a"
            ],
            [
             0.8888888888888888,
             "#fdca26"
            ],
            [
             1,
             "#f0f921"
            ]
           ]
          },
          "colorway": [
           "#636efa",
           "#EF553B",
           "#00cc96",
           "#ab63fa",
           "#FFA15A",
           "#19d3f3",
           "#FF6692",
           "#B6E880",
           "#FF97FF",
           "#FECB52"
          ],
          "font": {
           "color": "#2a3f5f"
          },
          "geo": {
           "bgcolor": "white",
           "lakecolor": "white",
           "landcolor": "#E5ECF6",
           "showlakes": true,
           "showland": true,
           "subunitcolor": "white"
          },
          "hoverlabel": {
           "align": "left"
          },
          "hovermode": "closest",
          "mapbox": {
           "style": "light"
          },
          "paper_bgcolor": "white",
          "plot_bgcolor": "#E5ECF6",
          "polar": {
           "angularaxis": {
            "gridcolor": "white",
            "linecolor": "white",
            "ticks": ""
           },
           "bgcolor": "#E5ECF6",
           "radialaxis": {
            "gridcolor": "white",
            "linecolor": "white",
            "ticks": ""
           }
          },
          "scene": {
           "xaxis": {
            "backgroundcolor": "#E5ECF6",
            "gridcolor": "white",
            "gridwidth": 2,
            "linecolor": "white",
            "showbackground": true,
            "ticks": "",
            "zerolinecolor": "white"
           },
           "yaxis": {
            "backgroundcolor": "#E5ECF6",
            "gridcolor": "white",
            "gridwidth": 2,
            "linecolor": "white",
            "showbackground": true,
            "ticks": "",
            "zerolinecolor": "white"
           },
           "zaxis": {
            "backgroundcolor": "#E5ECF6",
            "gridcolor": "white",
            "gridwidth": 2,
            "linecolor": "white",
            "showbackground": true,
            "ticks": "",
            "zerolinecolor": "white"
           }
          },
          "shapedefaults": {
           "line": {
            "color": "#2a3f5f"
           }
          },
          "ternary": {
           "aaxis": {
            "gridcolor": "white",
            "linecolor": "white",
            "ticks": ""
           },
           "baxis": {
            "gridcolor": "white",
            "linecolor": "white",
            "ticks": ""
           },
           "bgcolor": "#E5ECF6",
           "caxis": {
            "gridcolor": "white",
            "linecolor": "white",
            "ticks": ""
           }
          },
          "title": {
           "x": 0.05
          },
          "xaxis": {
           "automargin": true,
           "gridcolor": "white",
           "linecolor": "white",
           "ticks": "",
           "title": {
            "standoff": 15
           },
           "zerolinecolor": "white",
           "zerolinewidth": 2
          },
          "yaxis": {
           "automargin": true,
           "gridcolor": "white",
           "linecolor": "white",
           "ticks": "",
           "title": {
            "standoff": 15
           },
           "zerolinecolor": "white",
           "zerolinewidth": 2
          }
         }
        },
        "title": {
         "text": "Interactive Plot of Movies per Year for Each Region"
        },
        "xaxis": {
         "anchor": "y",
         "domain": [
          0,
          1
         ],
         "rangeslider": {
          "visible": true
         },
         "title": {
          "text": "Release Year"
         }
        },
        "yaxis": {
         "anchor": "x",
         "domain": [
          0,
          1
         ],
         "title": {
          "text": "Count"
         }
        }
       }
      }
     },
     "metadata": {},
     "output_type": "display_data"
    }
   ],
   "source": [
    "import plotly.express as px\n",
    "\n",
    "# Sort the DataFrame by 'Release date'\n",
    "\n",
    "exploded_df = filtered_df_for_topics.explode('Region').sort_values('Release date')\n",
    "exploded_df['Release date'] = pd.to_datetime(exploded_df['Release date']).dt.year\n",
    "\n",
    "# Create a DataFrame suitable for Plotly\n",
    "plotly_df = exploded_df.groupby(['Region', 'Release date']).size().reset_index(name='Number of Movies')\n",
    "# Interactive Plot\n",
    "fig = px.line(plotly_df, x='Release date', y='Number of Movies', color='Region',\n",
    "              title='Interactive Plot of Movies per Year for Each Region',\n",
    "              labels={'Release date': 'Release Year', 'Number of Movies': 'Count'})\n",
    "\n",
    "fig.update_xaxes(rangeslider_visible=True)\n",
    "fig.show()\n"
   ]
  },
  {
   "cell_type": "code",
   "execution_count": 476,
   "metadata": {},
   "outputs": [
    {
     "data": {
      "image/png": "[encoded data removed]",
      "text/plain": [
       "<Figure size 1000x3600 with 6 Axes>"
      ]
     },
     "metadata": {},
     "output_type": "display_data"
    }
   ],
   "source": [
    "# Group by 'Region' and 'Release date', count movies for each region in each year\n",
    "\n",
    "\n",
    "movies_per_year_per_region = (exploded_df.groupby(['Region', 'Release date'])\n",
    "                                        .size()\n",
    "                                        .unstack(fill_value=0))\n",
    "unique_regions = exploded_df['Region'].unique()\n",
    "fig, axes = plt.subplots(nrows=len(unique_regions), figsize=(10, 6 * len(unique_regions)))\n",
    "\n",
    "\n",
    "for i, region in enumerate(unique_regions):\n",
    "    # Select data for the current region\n",
    "    region_data = exploded_df[exploded_df['Region'] == region]['Release date'].sort_values()\n",
    "    axes[i].hist(region_data, bins=100, linewidth=1.2, edgecolor='black', color='lightblue')\n",
    "    axes[i].set_xlabel('Release Year')\n",
    "    axes[i].set_ylabel('Number of Movies')\n",
    "    axes[i].set_title(f'Number of Movies per Year for {region}')\n",
    "    axes[i].set_xticks(axes[i].get_xticks()[::5])\n",
    "    axes[i].tick_params(axis='x', rotation=45)\n",
    "    axes[i].grid(axis='y')\n",
    "\n",
    "plt.tight_layout()\n",
    "plt.show()\n",
    "    \n",
    "   \n"
   ]
  }
 ],
 "metadata": {
  "kernelspec": {
   "display_name": "Python 3",
   "language": "python",
   "name": "python3"
  },
  "language_info": {
   "codemirror_mode": {
    "name": "ipython",
    "version": 3
   },
   "file_extension": ".py",
   "mimetype": "text/x-python",
   "name": "python",
   "nbconvert_exporter": "python",
   "pygments_lexer": "ipython3",
   "version": "3.11.4"
  }
 },
 "nbformat": 4,
 "nbformat_minor": 2
}
