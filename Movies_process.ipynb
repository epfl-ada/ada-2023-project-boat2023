{
 "cells": [
  {
   "cell_type": "code",
   "execution_count": 1,
   "id": "dc28004d",
   "metadata": {},
   "outputs": [],
   "source": [
    "import json\n",
    "import numpy as np\n",
    "import shutil\n",
    "import glob\n",
    "from tqdm import tqdm\n",
    "import pandas as pd\n",
    "import unidecode\n",
    "import os\n",
    "import subprocess\n",
    "import  tarfile\n",
    "import xml.etree.ElementTree as ET\n",
    "import ast\n",
    "import zipfile\n",
    "import datetime"
   ]
  },
  {
   "cell_type": "code",
   "execution_count": 2,
   "id": "bd34505e",
   "metadata": {},
   "outputs": [
    {
     "name": "stdout",
     "output_type": "stream",
     "text": [
      "Total number of articles: 67\n"
     ]
    }
   ],
   "source": [
    "txt_file = '/Users/bina/Documents/MA1/ADACODE/MovieSummaries/plot_summaries.txt'\n",
    "\n",
    "# Count the number of files, which represents the number of articles\n",
    "num_articles = len(txt_file)\n",
    "\n",
    "print(\"Total number of articles:\", num_articles)"
   ]
  },
  {
   "cell_type": "code",
   "execution_count": 3,
   "id": "6d6315b5",
   "metadata": {},
   "outputs": [],
   "source": [
    "data = []\n",
    "\n",
    "\n",
    "with open(txt_file, 'r', encoding='utf-8') as file:\n",
    "    for line in file:\n",
    "        if line[:6].isdigit() and len(line) >= 6:\n",
    "            wikipedia_id = line[:7]\n",
    "            summary = line[8:]\n",
    "            data.append([wikipedia_id, summary])\n",
    "            \n",
    "df = pd.DataFrame(data, columns=['wikipedia_id', 'summary'])\n",
    "\n",
    "df.head()\n",
    "\n",
    "output_file = 'plot_summaries.csv'\n",
    "df.to_csv(output_file, index=False)\n",
    "\n",
    "output_directory = '/Users/bina/Documents/MA1/ADACODE/MovieSummaries/'\n",
    "output_file_path = os.path.join(output_directory, output_file)\n",
    "df.to_csv(output_file_path, index=False)\n",
    "\n",
    "            "
   ]
  },
  {
   "cell_type": "code",
   "execution_count": 4,
   "id": "e055f7cd",
   "metadata": {},
   "outputs": [
    {
     "name": "stdout",
     "output_type": "stream",
     "text": [
      "      wikipedia_id                                            summary\n",
      "0          2389009  \\tShlykov, a hard-working taxi driver and Lyos...\n",
      "1          3118633  \\tThe nation of Panem consists of a wealthy Ca...\n",
      "2          2066373  \\tPoovalli Induchoodan  is sentenced for six y...\n",
      "3          2231378  The Lemon Drop Kid , a New York City swindler,...\n",
      "4         595909\\t  eventh-day Adventist Church pastor Michael Cha...\n",
      "...            ...                                                ...\n",
      "41743      3480848  \\tThe story is about Reema , a young Muslim sc...\n",
      "41744      1096473  In 1928 Hollywood, director Leo Andreyev  look...\n",
      "41745      3510201  \\tAmerican Luthier focuses on Randy Parsons’ t...\n",
      "41746      8628195  Abdur Rehman Khan , a middle-aged dry fruit se...\n",
      "41747      6040782  1940 - Operation Dynamo has just taken place. ...\n",
      "\n",
      "[41748 rows x 2 columns]\n"
     ]
    }
   ],
   "source": [
    "print(df)"
   ]
  },
  {
   "cell_type": "code",
   "execution_count": 5,
   "id": "8f9dc50c",
   "metadata": {},
   "outputs": [
    {
     "name": "stdout",
     "output_type": "stream",
     "text": [
      "      wikipedia_id                                            summary\n",
      "14307      1000005  \\tFur trapper Jean La Bête  paddles his canoe ...\n",
      "28407      1000217  \\tSet in Shelbyville, Tennessee in 1978, the f...\n",
      "4045       1000277  \\tThe film begins in 2001, when backpackers Jo...\n",
      "12160      1000326  \\tThe story takes place during the period of t...\n",
      "21224      1000405  \\tMurder, homosexuality, nymphomania, and sadi...\n",
      "...            ...                                                ...\n",
      "25680      9996003  The story starts with Lord Ting Chung  getting...\n",
      "25924      9998022  By 1930, Evaristo, a humble worker who lives n...\n",
      "30736      9998295  When San Francisco private detective Sam Spade...\n",
      "33459      9998297  The film tells the story of a real life fan of...\n",
      "22339      9999280  Marcelo makes a living as a painter in a Bueno...\n",
      "\n",
      "[41748 rows x 2 columns]\n"
     ]
    }
   ],
   "source": [
    "df_sorted = df.sort_values(by='wikipedia_id')\n",
    "\n",
    "# Display the sorted DataFrame (optional)\n",
    "print(df_sorted)\n",
    "\n",
    "# To save the sorted DataFrame to a CSV file\n",
    "# Replace 'sorted_output.csv' with the desired output file name\n",
    "# sorted_output_file = 'sorted_output.csv'\n",
    "# df_sorted.to_csv(sorted_output_file, index=False)"
   ]
  },
  {
   "cell_type": "code",
   "execution_count": 6,
   "id": "d3a5c849",
   "metadata": {},
   "outputs": [
    {
     "name": "stdout",
     "output_type": "stream",
     "text": [
      "\tPoovalli Induchoodan  is sentenced for six years prison life for murdering his classmate. Induchoodan, the only son of Justice Maranchery Karunakara Menon  was framed in the case by Manapally Madhavan Nambiar  and his crony DYSP Sankaranarayanan  to take revenge on idealist judge Menon who had earlier given jail sentence to Manapally in a corruption case. Induchoodan, who had achieved top rank in Indian Civil Service loses the post and Manapally Sudheeran ([[Saikumar  enters the list of civil service trainees. We learn in flashback that it was Ramakrishnan  the son of Moopil Nair , who had actually killed his classmate. Six years passes by and Manapally Madhavan Nambiar, now a former state minister, is dead and Induchoodan, who is all rage at the gross injustice meted out to him - thus destroying his promising life, is released from prison. Induchoodan thwarts Manapally Pavithran  from performing the funeral rituals of Nambiar at Bharathapuzha. Many confrontations between Induchoodan and Manapally's henchmen follow. Induchoodan also falls in love with Anuradha ([[Aishwarya , the strong-willed and independent-minded daughter of Mooppil Nair. Justice Menon and his wife returns back to Kerala to stay with Induchoodan. There is an appearance of a girl named Indulekha ([[Kanaka , who claims to be the daughter of Justice Menon. Menon flatly refuses the claim and banishes her. Forced by circumstances and at the instigation and help of Manapally Pavithran, she reluctantly come out open with the claim. Induchoodan at first thrashes the protesters. But upon knowing the truth from Chandrabhanu his uncle, he accepts the task of her protection in the capacity as elder brother. Induchoodan decides to marry off Indulekha to his good friend Jayakrishnan . Induchoodan has a confrontation with his father and prods him to accept mistake and acknowledge the parentage of Indulekha. Menon ultimately regrets and goes on to confess to his daughter. The very next day, when Induchoodan returns to Poovally, Indulekha is found dead and Menon is accused of murdering her. The whole act was planned by Pavithran, who after killing Indulekha, forces Raman Nair  to testify against Menon in court. In court, Nandagopal Maarar , a close friend of Induchoodan and a famous supreme court lawyer, appears for Menon and manages to lay bare the murder plot and hidden intentions of other party . Menon is judged innocent of the crime by court. After confronting Pavithran and promising just retribution to the crime of killing Indulekha, Induchoodan returns to his father, who now shows remorse for all his actions including not believing in the innocence of his son. But while speaking to Induchoodan, Menon suffers a heart stroke and passes away. At Menon's funeral, Manapally Pavithran arrives to poke fun at Induchoodan and he also tries to carry out the postponed last rituals of his own father. Induchoodan interrupts the ritual and avenges for the death of his sister and father by severely injuring Pavithran. On his way back to peaceful life, Induchoodan accepts Anuradha as his life partner.\n",
      "\n"
     ]
    }
   ],
   "source": [
    "print(df.loc[2]['summary'])"
   ]
  },
  {
   "cell_type": "code",
   "execution_count": 7,
   "id": "cd425ebc",
   "metadata": {},
   "outputs": [
    {
     "name": "stdout",
     "output_type": "stream",
     "text": [
      "Number of lines in the DataFrame: 41748\n"
     ]
    }
   ],
   "source": [
    "num_lines = len(df)\n",
    "\n",
    "# Print the result\n",
    "print(f\"Number of lines in the DataFrame: {num_lines}\")"
   ]
  },
  {
   "cell_type": "code",
   "execution_count": 8,
   "id": "b46bfd47",
   "metadata": {},
   "outputs": [],
   "source": [
    "import csv\n",
    "\n",
    "tsv_file = '/Users/bina/Documents/MA1/ADACODE/MovieSummaries/movie.metadata.tsv'\n",
    "\n",
    "csv_file = os.path.join('/Users/bina/Documents/MA1/ADACODE/MovieSummaries/', 'movie.csv')\n",
    "\n",
    "with open(tsv_file, 'r', newline='') as tsvfile, open(csv_file, 'w', newline='') as csvfile:\n",
    "    tsvreader = csv.reader(tsvfile, delimiter='\\t')\n",
    "    csvwriter = csv.writer(csvfile)\n",
    "\n",
    "    for row in tsvreader:\n",
    "        csvwriter.writerow(row)\n",
    "        \n",
    "\n"
   ]
  },
  {
   "cell_type": "code",
   "execution_count": 9,
   "id": "742f1132",
   "metadata": {},
   "outputs": [],
   "source": [
    "def extract_year(date_string):\n",
    "    return date_string.split('-')[0] if '-' in date_string else date_string\n"
   ]
  },
  {
   "cell_type": "code",
   "execution_count": 10,
   "id": "c8cc8214",
   "metadata": {},
   "outputs": [
    {
     "name": "stdout",
     "output_type": "stream",
     "text": [
      "Maximum year in the fourth column: 2016\n",
      "Minimum year in the fourth column: 1888\n"
     ]
    }
   ],
   "source": [
    "input_csv ='/Users/bina/Documents/MA1/ADACODE/MovieSummaries/movie.csv'\n",
    "max_year = None\n",
    "min_year = None\n",
    "with open(input_csv, 'r') as csv_file:\n",
    "    reader = csv.reader(csv_file)\n",
    "\n",
    "    for row in reader:\n",
    "        # Assuming the \"2001\" column is the fourth column (index 3)\n",
    "        year = extract_year(row[3])\n",
    "\n",
    "        if year is not None:\n",
    "            # Update max and min years if year is not None\n",
    "            if max_year is None or year > max_year:\n",
    "                max_year = year\n",
    "            if year >= '1880':\n",
    "                if min_year is None or year < min_year:\n",
    "                    min_year = year\n",
    "\n",
    "print(f\"Maximum year in the fourth column: {max_year}\")\n",
    "print(f\"Minimum year in the fourth column: {min_year}\")"
   ]
  },
  {
   "cell_type": "code",
   "execution_count": 35,
   "id": "7d25d22a",
   "metadata": {},
   "outputs": [
    {
     "name": "stdout",
     "output_type": "stream",
     "text": [
      "Total movies containing 'terrorism': 89\n"
     ]
    }
   ],
   "source": [
    "from sklearn.preprocessing import PolynomialFeatures\n",
    "from sklearn.linear_model import LinearRegression\n",
    "import matplotlib.pyplot as plt\n",
    "csv_file = os.path.join('/Users/bina/Documents/MA1/ADACODE/MovieSummaries/', 'plot_summaries.csv')\n",
    "df = pd.read_csv(csv_file)\n",
    "df.head(100)\n",
    "\n",
    "x= np.arange(len(df))\n",
    "\n",
    "# Define the word you want to search for\n",
    "target_word = \"terrorism\"\n",
    "\n",
    "# Create a new column that checks if the target word appears in each plot summary\n",
    "df['contains_target_word'] = df['summary'].str.lower().str.contains(target_word)\n",
    "\n",
    "# Count how many movies contain the target word\n",
    "count_movies_with_word = df['contains_target_word'].sum()\n",
    "\n",
    "# Print the count\n",
    "print(f\"Total movies containing '{target_word}': {count_movies_with_word}\")"
   ]
  },
  {
   "cell_type": "code",
   "execution_count": 36,
   "id": "63969e4d",
   "metadata": {},
   "outputs": [
    {
     "name": "stdout",
     "output_type": "stream",
     "text": [
      "Total movies containing 'terrorist': 546\n"
     ]
    }
   ],
   "source": [
    "target_word = \"terrorist\"\n",
    "df['contains_target_word'] = df['summary'].str.lower().str.contains(target_word)\n",
    "count_movies_with_word = df['contains_target_word'].sum()\n",
    "print(f\"Total movies containing '{target_word}': {count_movies_with_word}\")"
   ]
  },
  {
   "cell_type": "code",
   "execution_count": 37,
   "id": "16077589",
   "metadata": {},
   "outputs": [
    {
     "name": "stdout",
     "output_type": "stream",
     "text": [
      "Total movies containing 'extremist': 47\n"
     ]
    }
   ],
   "source": [
    "target_word = \"extremist\"\n",
    "df['contains_target_word'] = df['summary'].str.lower().str.contains(target_word)\n",
    "count_movies_with_word = df['contains_target_word'].sum()\n",
    "print(f\"Total movies containing '{target_word}': {count_movies_with_word}\")"
   ]
  },
  {
   "cell_type": "code",
   "execution_count": 38,
   "id": "8166a1bd",
   "metadata": {},
   "outputs": [
    {
     "name": "stdout",
     "output_type": "stream",
     "text": [
      "Total movies containing 'radical': 200\n"
     ]
    }
   ],
   "source": [
    "target_word = \"radical\"\n",
    "df['contains_target_word'] = df['summary'].str.lower().str.contains(target_word)\n",
    "count_movies_with_word = df['contains_target_word'].sum()\n",
    "print(f\"Total movies containing '{target_word}': {count_movies_with_word}\")"
   ]
  },
  {
   "cell_type": "code",
   "execution_count": 39,
   "id": "67ca7f7c",
   "metadata": {},
   "outputs": [
    {
     "name": "stdout",
     "output_type": "stream",
     "text": [
      "Total movies containing 'counterterrorism': 1\n"
     ]
    }
   ],
   "source": [
    "target_word = \"counterterrorism\"\n",
    "df['contains_target_word'] = df['summary'].str.lower().str.contains(target_word)\n",
    "count_movies_with_word = df['contains_target_word'].sum()\n",
    "print(f\"Total movies containing '{target_word}': {count_movies_with_word}\")"
   ]
  },
  {
   "cell_type": "code",
   "execution_count": 16,
   "id": "02269165",
   "metadata": {},
   "outputs": [
    {
     "name": "stdout",
     "output_type": "stream",
     "text": [
      "Total movies containing 'jihad': 20\n"
     ]
    }
   ],
   "source": [
    "target_word = \"jihad\"\n",
    "df['contains_target_word'] = df['summary'].str.lower().str.contains(target_word)\n",
    "count_movies_with_word = df['contains_target_word'].sum()\n",
    "print(f\"Total movies containing '{target_word}': {count_movies_with_word}\")"
   ]
  },
  {
   "cell_type": "code",
   "execution_count": 17,
   "id": "07cc8a30",
   "metadata": {},
   "outputs": [
    {
     "name": "stdout",
     "output_type": "stream",
     "text": [
      "Total movies containing 'hostage': 892\n"
     ]
    }
   ],
   "source": [
    "target_word = \"hostage\"\n",
    "df['contains_target_word'] = df['summary'].str.lower().str.contains(target_word)\n",
    "count_movies_with_word = df['contains_target_word'].sum()\n",
    "print(f\"Total movies containing '{target_word}': {count_movies_with_word}\")"
   ]
  },
  {
   "cell_type": "code",
   "execution_count": 18,
   "id": "487e83c0",
   "metadata": {},
   "outputs": [
    {
     "name": "stdout",
     "output_type": "stream",
     "text": [
      "Total movies containing 'bombing': 289\n"
     ]
    }
   ],
   "source": [
    "target_word = \"bombing\"\n",
    "df['contains_target_word'] = df['summary'].str.lower().str.contains(target_word)\n",
    "count_movies_with_word = df['contains_target_word'].sum()\n",
    "print(f\"Total movies containing '{target_word}': {count_movies_with_word}\")"
   ]
  },
  {
   "cell_type": "code",
   "execution_count": 19,
   "id": "3ea94785",
   "metadata": {},
   "outputs": [
    {
     "name": "stdout",
     "output_type": "stream",
     "text": [
      "Total movies containing 'al-qaeda': 10\n"
     ]
    }
   ],
   "source": [
    "target_word = \"al-qaeda\"\n",
    "df['contains_target_word'] = df['summary'].str.lower().str.contains(target_word)\n",
    "count_movies_with_word = df['contains_target_word'].sum()\n",
    "print(f\"Total movies containing '{target_word}': {count_movies_with_word}\")"
   ]
  },
  {
   "cell_type": "code",
   "execution_count": 20,
   "id": "27eead1a",
   "metadata": {},
   "outputs": [
    {
     "name": "stdout",
     "output_type": "stream",
     "text": [
      "Total movies containing 'terror': 1247\n"
     ]
    }
   ],
   "source": [
    "target_word = \"terror\"\n",
    "df['contains_target_word'] = df['summary'].str.lower().str.contains(target_word)\n",
    "count_movies_with_word = df['contains_target_word'].sum()\n",
    "print(f\"Total movies containing '{target_word}': {count_movies_with_word}\")"
   ]
  },
  {
   "cell_type": "code",
   "execution_count": 54,
   "id": "2aa53fcb",
   "metadata": {},
   "outputs": [
    {
     "name": "stdout",
     "output_type": "stream",
     "text": [
      "Total movies containing any of the specified words: 8495\n"
     ]
    }
   ],
   "source": [
    "# List of target words\n",
    "target_words = [\"Terrorism\", \"Terrorist\", \"Terrorists\", \"Jihad\", \"Extremism\", \"Extremist\", \"Attacks\", \"Attack\", \"Bombs\", \"Bombing\", \"Bombers\", \"Hijack\", \"Hijacking\", \"Kidnap\", \"Kidnapping\", \"Counterterrorism\", \"Counterterrorist\", \"Radicalization\", \"Radicalized\", \"Security Threat\", \"Political Violence\", \"Suicide Bomber\", \"War on Terror\", \"Homeland Security\", \"National Security\", \"Intelligence Agencies\", \"Counterinsurgency\", \"Terrorist Cells\", \"Radical Ideology\", \"Terrorist Plot\", \"Terrorist Organization\", \"Hostage Crisis\", \"Terrorism Investigation\", \"Counterterrorist Operation\", \"Radical\", \"Guerrilla Warfare\", \"Insurgency\", \"Terror Threat\", \"Covert Operations\", \"Political Unrest\", \"Martyrdom\", \"Cyberterrorism\", \"Terrorism Financing\", \"Violent Extremism\", \"Terrorist Recruitment\", \"Suicide Attacks\", \"Terrorist Sleeper Cells\", \"Counterterror Measures\", \"Clandestine Activities\", \"Security Intelligence\"]\n",
    "\n",
    "# Convert the list of target words to lowercase for case-insensitive matching\n",
    "target_words_lower = [word.lower() for word in target_words]\n",
    "\n",
    "# Create a new column in the DataFrame for each target word\n",
    "for word in target_words_lower:\n",
    "    df[f'contains_{word}'] = df['summary'].str.lower().str.contains(word)\n",
    "\n",
    "# Calculate the total count of movies that contain any of the target words\n",
    "total_count_movies_with_words = df[[f'contains_{word}' for word in target_words_lower]].any(axis=1).sum()\n",
    "\n",
    "print(f\"Total movies containing any of the specified words: {total_count_movies_with_words}\")\n"
   ]
  },
  {
   "cell_type": "code",
   "execution_count": 65,
   "id": "c6115959",
   "metadata": {},
   "outputs": [
    {
     "ename": "KeyError",
     "evalue": "\"['contains_security intelligence'] not in index\"",
     "output_type": "error",
     "traceback": [
      "\u001b[0;31m---------------------------------------------------------------------------\u001b[0m",
      "\u001b[0;31mKeyError\u001b[0m                                  Traceback (most recent call last)",
      "\u001b[1;32m/Users/bina/Documents/MA1/ADACODE/Movies_process.ipynb Cell 22\u001b[0m line \u001b[0;36m8\n\u001b[1;32m      <a href='vscode-notebook-cell:/Users/bina/Documents/MA1/ADACODE/Movies_process.ipynb#X41sZmlsZQ%3D%3D?line=4'>5</a>\u001b[0m target_words_lower \u001b[39m=\u001b[39m [word\u001b[39m.\u001b[39mlower() \u001b[39mfor\u001b[39;00m word \u001b[39min\u001b[39;00m target_words]\n\u001b[1;32m      <a href='vscode-notebook-cell:/Users/bina/Documents/MA1/ADACODE/Movies_process.ipynb#X41sZmlsZQ%3D%3D?line=6'>7</a>\u001b[0m \u001b[39m# Create a new column 'contains_target_word' in the DataFrame\u001b[39;00m\n\u001b[0;32m----> <a href='vscode-notebook-cell:/Users/bina/Documents/MA1/ADACODE/Movies_process.ipynb#X41sZmlsZQ%3D%3D?line=7'>8</a>\u001b[0m df[\u001b[39m'\u001b[39m\u001b[39mcontains_target_word\u001b[39m\u001b[39m'\u001b[39m] \u001b[39m=\u001b[39m df[[\u001b[39mf\u001b[39m\u001b[39m'\u001b[39m\u001b[39mcontains_\u001b[39m\u001b[39m{\u001b[39;00mword\u001b[39m}\u001b[39;00m\u001b[39m'\u001b[39m \u001b[39mfor\u001b[39;00m word \u001b[39min\u001b[39;00m target_words_lower]]\u001b[39m.\u001b[39many(axis\u001b[39m=\u001b[39m\u001b[39m1\u001b[39m)\n\u001b[1;32m     <a href='vscode-notebook-cell:/Users/bina/Documents/MA1/ADACODE/Movies_process.ipynb#X41sZmlsZQ%3D%3D?line=9'>10</a>\u001b[0m \u001b[39m# Calculate the total count of movies that contain any of the target words\u001b[39;00m\n\u001b[1;32m     <a href='vscode-notebook-cell:/Users/bina/Documents/MA1/ADACODE/Movies_process.ipynb#X41sZmlsZQ%3D%3D?line=10'>11</a>\u001b[0m total_count_movies_with_words \u001b[39m=\u001b[39m df[\u001b[39m'\u001b[39m\u001b[39mcontains_target_word\u001b[39m\u001b[39m'\u001b[39m]\u001b[39m.\u001b[39msum()\n",
      "File \u001b[0;32m/opt/homebrew/anaconda3/lib/python3.11/site-packages/pandas/core/frame.py:3813\u001b[0m, in \u001b[0;36mDataFrame.__getitem__\u001b[0;34m(self, key)\u001b[0m\n\u001b[1;32m   3811\u001b[0m     \u001b[39mif\u001b[39;00m is_iterator(key):\n\u001b[1;32m   3812\u001b[0m         key \u001b[39m=\u001b[39m \u001b[39mlist\u001b[39m(key)\n\u001b[0;32m-> 3813\u001b[0m     indexer \u001b[39m=\u001b[39m \u001b[39mself\u001b[39m\u001b[39m.\u001b[39mcolumns\u001b[39m.\u001b[39m_get_indexer_strict(key, \u001b[39m\"\u001b[39m\u001b[39mcolumns\u001b[39m\u001b[39m\"\u001b[39m)[\u001b[39m1\u001b[39m]\n\u001b[1;32m   3815\u001b[0m \u001b[39m# take() does not accept boolean indexers\u001b[39;00m\n\u001b[1;32m   3816\u001b[0m \u001b[39mif\u001b[39;00m \u001b[39mgetattr\u001b[39m(indexer, \u001b[39m\"\u001b[39m\u001b[39mdtype\u001b[39m\u001b[39m\"\u001b[39m, \u001b[39mNone\u001b[39;00m) \u001b[39m==\u001b[39m \u001b[39mbool\u001b[39m:\n",
      "File \u001b[0;32m/opt/homebrew/anaconda3/lib/python3.11/site-packages/pandas/core/indexes/base.py:6070\u001b[0m, in \u001b[0;36mIndex._get_indexer_strict\u001b[0;34m(self, key, axis_name)\u001b[0m\n\u001b[1;32m   6067\u001b[0m \u001b[39melse\u001b[39;00m:\n\u001b[1;32m   6068\u001b[0m     keyarr, indexer, new_indexer \u001b[39m=\u001b[39m \u001b[39mself\u001b[39m\u001b[39m.\u001b[39m_reindex_non_unique(keyarr)\n\u001b[0;32m-> 6070\u001b[0m \u001b[39mself\u001b[39m\u001b[39m.\u001b[39m_raise_if_missing(keyarr, indexer, axis_name)\n\u001b[1;32m   6072\u001b[0m keyarr \u001b[39m=\u001b[39m \u001b[39mself\u001b[39m\u001b[39m.\u001b[39mtake(indexer)\n\u001b[1;32m   6073\u001b[0m \u001b[39mif\u001b[39;00m \u001b[39misinstance\u001b[39m(key, Index):\n\u001b[1;32m   6074\u001b[0m     \u001b[39m# GH 42790 - Preserve name from an Index\u001b[39;00m\n",
      "File \u001b[0;32m/opt/homebrew/anaconda3/lib/python3.11/site-packages/pandas/core/indexes/base.py:6133\u001b[0m, in \u001b[0;36mIndex._raise_if_missing\u001b[0;34m(self, key, indexer, axis_name)\u001b[0m\n\u001b[1;32m   6130\u001b[0m     \u001b[39mraise\u001b[39;00m \u001b[39mKeyError\u001b[39;00m(\u001b[39mf\u001b[39m\u001b[39m\"\u001b[39m\u001b[39mNone of [\u001b[39m\u001b[39m{\u001b[39;00mkey\u001b[39m}\u001b[39;00m\u001b[39m] are in the [\u001b[39m\u001b[39m{\u001b[39;00maxis_name\u001b[39m}\u001b[39;00m\u001b[39m]\u001b[39m\u001b[39m\"\u001b[39m)\n\u001b[1;32m   6132\u001b[0m not_found \u001b[39m=\u001b[39m \u001b[39mlist\u001b[39m(ensure_index(key)[missing_mask\u001b[39m.\u001b[39mnonzero()[\u001b[39m0\u001b[39m]]\u001b[39m.\u001b[39munique())\n\u001b[0;32m-> 6133\u001b[0m \u001b[39mraise\u001b[39;00m \u001b[39mKeyError\u001b[39;00m(\u001b[39mf\u001b[39m\u001b[39m\"\u001b[39m\u001b[39m{\u001b[39;00mnot_found\u001b[39m}\u001b[39;00m\u001b[39m not in index\u001b[39m\u001b[39m\"\u001b[39m)\n",
      "\u001b[0;31mKeyError\u001b[0m: \"['contains_security intelligence'] not in index\""
     ]
    }
   ],
   "source": [
    "# List of target words\n",
    "target_words = [\"Terrorism\", \"Terrorist\", \"Terrorists\", \"Jihad\", \"Extremism\", \"Extremist\", \"Attacks\", \"Attack\", \"Bombs\", \"Bombing\", \"Bombers\", \"Hijack\", \"Hijacking\", \"Kidnap\", \"Kidnapping\", \"Counterterrorism\", \"Counterterrorist\", \"Radicalization\", \"Radicalized\", \"Security Threat\", \"Political Violence\", \"Suicide Bomber\", \"War on Terror\", \"Homeland Security\", \"National Security\", \"Intelligence Agencies\", \"Counterinsurgency\", \"Terrorist Cells\", \"Radical Ideology\", \"Terrorist Plot\", \"Terrorist Organization\", \"Hostage Crisis\", \"Terrorism Investigation\", \"Counterterrorist Operation\", \"Radical\", \"Guerrilla Warfare\", \"Insurgency\", \"Terror Threat\", \"Covert Operations\", \"Political Unrest\", \"Martyrdom\", \"Cyberterrorism\", \"Terrorism Financing\", \"Violent Extremism\", \"Terrorist Recruitment\", \"Suicide Attacks\", \"Terrorist Sleeper Cells\", \"Counterterror Measures\", \"Clandestine Activities\", \"Security Intelligence\"]\n",
    "\n",
    "# Convert the list of target words to lowercase for case-insensitive matching\n",
    "target_words_lower = [word.lower() for word in target_words]\n",
    "\n",
    "# Create a new column 'contains_target_word' in the DataFrame\n",
    "df['contains_target_word'] = df[[f'contains_{word}' for word in target_words_lower]].any(axis=1)\n",
    "\n",
    "# Calculate the total count of movies that contain any of the target words\n",
    "total_count_movies_with_words = df['contains_target_word'].sum()\n",
    "\n",
    "print(f\"Total movies containing any of the specified words: {total_count_movies_with_words}\")\n"
   ]
  },
  {
   "cell_type": "markdown",
   "id": "d6e4b943",
   "metadata": {},
   "source": []
  },
  {
   "cell_type": "markdown",
   "id": "b60fac95",
   "metadata": {},
   "source": [
    "\"Terrorism\", \"Terrorist\", \"Terrorists\", \"Jihad\", \"Extremism\", \"Extremist\", \"Attacks\", \"Attack\", \"Bombs\", \"Bombing\", \"Bombers\", \"Hijack\", \"Hijacking\", \"Kidnap\", \"Kidnapping\", \"Counterterrorism\", \"Counterterrorist\", \"Radicalization\", \"Radicalized\", \"Security Threat\", \"Political Violence\", \"Suicide Bomber\", \"War on Terror\", \"Homeland Security\", \"National Security\", \"Intelligence Agencies\", \"Counterinsurgency\", \"Terrorist Cells\", \"Radical Ideology\", \"Terrorist Plot\", \"Terrorist Organization\", \"Hostage Crisis\", \"Terrorism Investigation\", \"Counterterrorist Operation\", \"Radical\", \"Guerrilla Warfare\", \"Insurgency\", \"Terror Threat\", \"Covert Operations\", \"Political Unrest\", \"Martyrdom\", \"Cyberterrorism\", \"Terrorism Financing\", \"Violent Extremism\", \"Terrorist Recruitment\", \"Suicide Attacks\", \"Terrorist Sleeper Cells\", \"Counterterror Measures\", \"Clandestine Activities\", \"Security Intelligence\""
   ]
  },
  {
   "cell_type": "code",
   "execution_count": 55,
   "id": "c752260d",
   "metadata": {},
   "outputs": [],
   "source": [
    "\n",
    "csv_file_movies = os.path.join('/Users/bina/Documents/MA1/ADACODE/', 'movie_sorted.csv')\n",
    "df_movies = pd.read_csv(csv_file_movies)\n",
    "columns = [\n",
    "    'wikipedia_id', 'Freebase movie ID', 'Movie name', 'date', 'Movie box office revenue', \n",
    "    'Movie runtime', 'Movie languages', 'Movie countries', 'Movie genres'\n",
    "]\n",
    "df_movies = pd.DataFrame(df_movies, columns=columns)\n"
   ]
  },
  {
   "cell_type": "code",
   "execution_count": 56,
   "id": "7b6159c6",
   "metadata": {},
   "outputs": [
    {
     "data": {
      "text/plain": [
       "Index(['wikipedia_id', 'Freebase movie ID', 'Movie name', 'date',\n",
       "       'Movie box office revenue', 'Movie runtime', 'Movie languages',\n",
       "       'Movie countries', 'Movie genres'],\n",
       "      dtype='object')"
      ]
     },
     "execution_count": 56,
     "metadata": {},
     "output_type": "execute_result"
    }
   ],
   "source": [
    "df_movies.columns\n"
   ]
  },
  {
   "cell_type": "code",
   "execution_count": 57,
   "id": "b867852d",
   "metadata": {},
   "outputs": [
    {
     "data": {
      "text/plain": [
       "Index(['wikipedia_id', 'summary', 'contains_target_word', 'contains_terrorism',\n",
       "       'contains_terrorist', 'contains_terrorists', 'contains_jihad',\n",
       "       'contains_extremism', 'contains_extremist', 'contains_attacks',\n",
       "       'contains_attack', 'contains_bombs', 'contains_bombing',\n",
       "       'contains_bombers', 'contains_hijack', 'contains_hijacking',\n",
       "       'contains_kidnap', 'contains_kidnapping', 'contains_counterterrorism',\n",
       "       'contains_counterterrorist', 'contains_radicalization',\n",
       "       'contains_radicalized', 'contains_security threat',\n",
       "       'contains_political violence', 'contains_suicide bomber',\n",
       "       'contains_war on terror', 'contains_homeland security',\n",
       "       'contains_national security', 'contains_intelligence agencies',\n",
       "       'contains_counterinsurgency', 'contains_terrorist cells',\n",
       "       'contains_radical ideology', 'contains_terrorist plot',\n",
       "       'contains_terrorist organization', 'contains_hostage crisis',\n",
       "       'contains_terrorism investigation',\n",
       "       'contains_counterterrorist operation', 'contains_radical',\n",
       "       'contains_guerrilla warfare', 'contains_insurgency',\n",
       "       'contains_terror threat', 'contains_covert operations',\n",
       "       'contains_political unrest', 'contains_martyrdom',\n",
       "       'contains_cyberterrorism', 'contains_terrorism financing',\n",
       "       'contains_violent extremism', 'contains_terrorist recruitment',\n",
       "       'contains_suicide attacks', 'contains_terrorist sleeper cells',\n",
       "       'contains_counterterror measures', 'contains_clandestine activities',\n",
       "       'contains_security intelligence'],\n",
       "      dtype='object')"
      ]
     },
     "execution_count": 57,
     "metadata": {},
     "output_type": "execute_result"
    }
   ],
   "source": [
    "df.columns"
   ]
  },
  {
   "cell_type": "code",
   "execution_count": 58,
   "id": "4ca36270",
   "metadata": {},
   "outputs": [],
   "source": [
    "merged_df = pd.merge(df_movies, df, on='wikipedia_id', how='inner')\n",
    "\n"
   ]
  },
  {
   "cell_type": "code",
   "execution_count": 63,
   "id": "9ce9745a",
   "metadata": {},
   "outputs": [
    {
     "data": {
      "image/png": "[encoded data removed]",
      "text/plain": [
       "<Figure size 1000x600 with 1 Axes>"
      ]
     },
     "metadata": {},
     "output_type": "display_data"
    }
   ],
   "source": [
    "import pandas as pd\n",
    "import matplotlib.pyplot as plt\n",
    "\n",
    "# Assuming df contains 'movie_date' and 'contains_target_word' columns\n",
    "# If your dataframe has different column names, adjust accordingly.\n",
    "\n",
    "# Plot the data\n",
    "plt.figure(figsize=(10, 6))\n",
    "plt.plot(merged_df['date'], merged_df['contains_target_word'].cumsum(), marker='o', linestyle='-')\n",
    "plt.title('Cumulative Count of Movies with Specified Words Over Time')\n",
    "plt.xlabel('Movie Date')\n",
    "plt.ylabel('Cumulative Count of Movies')\n",
    "plt.show()\n"
   ]
  }
 ],
 "metadata": {
  "kernelspec": {
   "display_name": "Python 3 (ipykernel)",
   "language": "python",
   "name": "python3"
  },
  "language_info": {
   "codemirror_mode": {
    "name": "ipython",
    "version": 3
   },
   "file_extension": ".py",
   "mimetype": "text/x-python",
   "name": "python",
   "nbconvert_exporter": "python",
   "pygments_lexer": "ipython3",
   "version": "3.11.4"
  }
 },
 "nbformat": 4,
 "nbformat_minor": 5
}
