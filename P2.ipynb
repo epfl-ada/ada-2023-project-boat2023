{
 "cells": [
  {
   "cell_type": "markdown",
   "metadata": {},
   "source": [
    "# Boat2023 Milestone 2"
   ]
  },
  {
   "cell_type": "markdown",
   "metadata": {},
   "source": [
    "In this preparatory part of the project, we agreed on our project proposal; the impact on terrorism on cinema. We performed initial analyses including data exploration, data pre-processing and initial data visualizations, all in relation to our research questions: emotional depiction of terrorism-related movies, genre association, topic analysis as well as popularity."
   ]
  },
  {
   "cell_type": "markdown",
   "metadata": {},
   "source": [
    "**Table of content**"
   ]
  },
  {
   "cell_type": "markdown",
   "metadata": {},
   "source": [
    "**General data processing**  "
   ]
  },
  {
   "cell_type": "code",
   "execution_count": 1,
   "metadata": {},
   "outputs": [],
   "source": [
    "#useful imports\n",
    "import xml.etree.ElementTree as ET\n",
    "import pandas as pd\n",
    "from typing import Dict\n",
    "import json\n",
    "import re\n",
    "\n",
    "#important libraries for data visualisation\n",
    "import matplotlib.pyplot as plt\n",
    "import seaborn as sns\n",
    "import plotly.express as px\n",
    "import numpy as np\n",
    "from scipy import stats\n",
    "import statsmodels.formula.api as smf\n",
    "\n",
    "\n",
    "#important libraries for the Sentiment analysis\n",
    "from scipy.signal import savgol_filter\n",
    "import nltk\n",
    "from nltk import tokenize\n",
    "from nltk.corpus import stopwords\n",
    "from nltk.tokenize import sent_tokenize\n",
    "from nltk.stem import WordNetLemmatizer\n",
    "from vaderSentiment.vaderSentiment import SentimentIntensityAnalyzer"
   ]
  },
  {
   "cell_type": "markdown",
   "metadata": {},
   "source": [
    "First, we import the CMU dataset."
   ]
  },
  {
   "cell_type": "code",
   "execution_count": 4,
   "metadata": {},
   "outputs": [
    {
     "name": "stdout",
     "output_type": "stream",
     "text": [
      "81740\n"
     ]
    }
   ],
   "source": [
    "#import the data from movie.metadata and rename its columns\n",
    "column_names = ['Wikipedia movie ID', 'Freebase movie ID', 'Movie name', 'Release date', 'Box office revenue', 'Runtime', 'Languages', 'Countries', 'Genres']\n",
    "movies_data = pd.read_csv('data/movie.metadata.tsv', delimiter= '\\t',on_bad_lines='skip', names=column_names, header=0)\n",
    "print(len(movies_data))"
   ]
  },
  {
   "cell_type": "code",
   "execution_count": 6,
   "metadata": {},
   "outputs": [],
   "source": [
    "# Define the path to the text file containing movie plots\n",
    "file_path = 'data/plot_summaries.txt'\n",
    "# import the summaries file\n",
    "df_summaries = pd.read_csv(file_path, delimiter='\\t', header= None)"
   ]
  },
  {
   "cell_type": "markdown",
   "metadata": {},
   "source": [
    "Since our research focuses on the impact of terrorism on movies, we need to filter the dataset to solely target movies related to terrorism. We did some research and crafted a list of keywords of the terrorism lexicon, mainly based on information from Wikipedia. We used this list to create a subset of our original dataset, that we will use for all our analyses."
   ]
  },
  {
   "cell_type": "code",
   "execution_count": 7,
   "metadata": {},
   "outputs": [],
   "source": [
    "KEYWORDS = [ \"Terrorism\", \"Terrorist\", \"Terrorists\", \"Jihad\", \"Extremism\", \"Extremist\", \"Attacks\", \"Attack\", \"Bombs\", \"Bombing\", \"Bombers\", \n",
    "            \"Hijack\", \"Hijacking\", \"Kidnap\", \"Kidnapping\", \"Counterterrorism\", \"Counterterrorist\", \"Radicalization\", \"Radicalized\", \n",
    "            \"Security Threat\", \"Political Violence\", \"Suicide Bomber\", \"War on Terror\", \"Homeland Security\", \"National Security\", \"Intelligence Agencies\", \n",
    "            \"Counterinsurgency\", \"Terrorist Cells\", \"Radical Ideology\", \"Terrorist Plot\", \"Terrorist Organization\", \"Hostage Crisis\", \"Terrorism Investigation\", \n",
    "            \"Counterterrorist Operation\", \"Radical\", \"Guerrilla Warfare\", \"Insurgency\", \"Terror Threat\", \"Covert Operations\", \"Political Unrest\", \"Martyrdom\", \n",
    "            \"Cyberterrorism\", \"Terrorism Financing\", \"Violent Extremism\", \"Terrorist Recruitment\", \"Suicide Attacks\", \"Terrorist Sleeper Cells\", \n",
    "            \"Counterterror Measures\", \"Clandestine Activities\", \"Security Intelligence\" ]"
   ]
  },
  {
   "cell_type": "code",
   "execution_count": 8,
   "metadata": {},
   "outputs": [],
   "source": [
    "movie_ids=[]\n",
    "# Create a new column in the DataFrame to store the count of keywords in each movie plot\n",
    "for index, row in df_summaries.iterrows():\n",
    "    movie_id = row[0]\n",
    "    plot = row[1]\n",
    "    # Check if the plot contains any of the keywords\n",
    "    for keyword in KEYWORDS:\n",
    "        if keyword.lower() in plot:\n",
    "            movie_ids.append(movie_id)\n",
    "\n",
    "# Display the list of movie IDs that match the keywords\n",
    "movie_ids= set(movie_ids)"
   ]
  },
  {
   "cell_type": "code",
   "execution_count": 10,
   "metadata": {},
   "outputs": [
    {
     "data": {
      "text/html": [
       "<div>\n",
       "<style scoped>\n",
       "    .dataframe tbody tr th:only-of-type {\n",
       "        vertical-align: middle;\n",
       "    }\n",
       "\n",
       "    .dataframe tbody tr th {\n",
       "        vertical-align: top;\n",
       "    }\n",
       "\n",
       "    .dataframe thead th {\n",
       "        text-align: right;\n",
       "    }\n",
       "</style>\n",
       "<table border=\"1\" class=\"dataframe\">\n",
       "  <thead>\n",
       "    <tr style=\"text-align: right;\">\n",
       "      <th></th>\n",
       "      <th>Wikipedia movie ID</th>\n",
       "      <th>Movie name</th>\n",
       "      <th>Release date</th>\n",
       "      <th>Countries</th>\n",
       "      <th>Languages</th>\n",
       "      <th>Genres</th>\n",
       "      <th>Box office revenue</th>\n",
       "    </tr>\n",
       "  </thead>\n",
       "  <tbody>\n",
       "    <tr>\n",
       "      <th>42214</th>\n",
       "      <td>32986669</td>\n",
       "      <td>Robbery Under Arms</td>\n",
       "      <td>1907-11-02</td>\n",
       "      <td>{\"/m/0chghy\": \"Australia\"}</td>\n",
       "      <td>{\"/m/06ppq\": \"Silent film\"}</td>\n",
       "      <td>{\"/m/06ppq\": \"Silent film\", \"/m/07s9rl0\": \"Dra...</td>\n",
       "      <td>NaN</td>\n",
       "    </tr>\n",
       "    <tr>\n",
       "      <th>64189</th>\n",
       "      <td>7870349</td>\n",
       "      <td>Dr. Jekyll and Mr. Hyde</td>\n",
       "      <td>1908-03-07</td>\n",
       "      <td>{\"/m/09c7w0\": \"United States of America\"}</td>\n",
       "      <td>{\"/m/06ppq\": \"Silent film\"}</td>\n",
       "      <td>{\"/m/02hmvc\": \"Short Film\", \"/m/06ppq\": \"Silen...</td>\n",
       "      <td>NaN</td>\n",
       "    </tr>\n",
       "    <tr>\n",
       "      <th>70994</th>\n",
       "      <td>29391146</td>\n",
       "      <td>The Black Viper</td>\n",
       "      <td>1908-07-25</td>\n",
       "      <td>{\"/m/09c7w0\": \"United States of America\"}</td>\n",
       "      <td>{\"/m/06ppq\": \"Silent film\"}</td>\n",
       "      <td>{\"/m/06ppq\": \"Silent film\"}</td>\n",
       "      <td>NaN</td>\n",
       "    </tr>\n",
       "    <tr>\n",
       "      <th>18652</th>\n",
       "      <td>28777800</td>\n",
       "      <td>The Englishman and the Girl</td>\n",
       "      <td>1910-02-17</td>\n",
       "      <td>{\"/m/09c7w0\": \"United States of America\"}</td>\n",
       "      <td>{\"/m/06ppq\": \"Silent film\", \"/m/02h40lc\": \"Eng...</td>\n",
       "      <td>{\"/m/02hmvc\": \"Short Film\", \"/m/06ppq\": \"Silen...</td>\n",
       "      <td>NaN</td>\n",
       "    </tr>\n",
       "    <tr>\n",
       "      <th>45311</th>\n",
       "      <td>13254122</td>\n",
       "      <td>What the Daisy Said</td>\n",
       "      <td>1910-07-11</td>\n",
       "      <td>{\"/m/09c7w0\": \"United States of America\"}</td>\n",
       "      <td>{\"/m/06ppq\": \"Silent film\", \"/m/02h40lc\": \"Eng...</td>\n",
       "      <td>{\"/m/02hmvc\": \"Short Film\", \"/m/06ppq\": \"Silen...</td>\n",
       "      <td>NaN</td>\n",
       "    </tr>\n",
       "    <tr>\n",
       "      <th>...</th>\n",
       "      <td>...</td>\n",
       "      <td>...</td>\n",
       "      <td>...</td>\n",
       "      <td>...</td>\n",
       "      <td>...</td>\n",
       "      <td>...</td>\n",
       "      <td>...</td>\n",
       "    </tr>\n",
       "    <tr>\n",
       "      <th>81156</th>\n",
       "      <td>11971266</td>\n",
       "      <td>La Guerre des tuques</td>\n",
       "      <td>NaN</td>\n",
       "      <td>{\"/m/0d060g\": \"Canada\"}</td>\n",
       "      <td>{\"/m/064_8sq\": \"French Language\"}</td>\n",
       "      <td>{\"/m/0hj3myq\": \"Children's/Family\", \"/m/0hj3mt...</td>\n",
       "      <td>NaN</td>\n",
       "    </tr>\n",
       "    <tr>\n",
       "      <th>81303</th>\n",
       "      <td>11515305</td>\n",
       "      <td>Buio Omega</td>\n",
       "      <td>NaN</td>\n",
       "      <td>{\"/m/03rjj\": \"Italy\"}</td>\n",
       "      <td>{\"/m/02bjrlw\": \"Italian Language\", \"/m/02h40lc...</td>\n",
       "      <td>{\"/m/03npn\": \"Horror\"}</td>\n",
       "      <td>NaN</td>\n",
       "    </tr>\n",
       "    <tr>\n",
       "      <th>81312</th>\n",
       "      <td>27613497</td>\n",
       "      <td>Emperor: Young Caesar</td>\n",
       "      <td>NaN</td>\n",
       "      <td>{}</td>\n",
       "      <td>{}</td>\n",
       "      <td>{\"/m/06l3bl\": \"Epic\"}</td>\n",
       "      <td>NaN</td>\n",
       "    </tr>\n",
       "    <tr>\n",
       "      <th>81340</th>\n",
       "      <td>27646962</td>\n",
       "      <td>Raging Sharks</td>\n",
       "      <td>NaN</td>\n",
       "      <td>{\"/m/09c7w0\": \"United States of America\", \"/m/...</td>\n",
       "      <td>{\"/m/02h40lc\": \"English Language\"}</td>\n",
       "      <td>{\"/m/03npn\": \"Horror\"}</td>\n",
       "      <td>NaN</td>\n",
       "    </tr>\n",
       "    <tr>\n",
       "      <th>81521</th>\n",
       "      <td>24679315</td>\n",
       "      <td>Leader</td>\n",
       "      <td>NaN</td>\n",
       "      <td>{}</td>\n",
       "      <td>{}</td>\n",
       "      <td>{\"/m/07s9rl0\": \"Drama\"}</td>\n",
       "      <td>NaN</td>\n",
       "    </tr>\n",
       "  </tbody>\n",
       "</table>\n",
       "<p>8626 rows × 7 columns</p>\n",
       "</div>"
      ],
      "text/plain": [
       "       Wikipedia movie ID                   Movie name Release date  \\\n",
       "42214            32986669           Robbery Under Arms   1907-11-02   \n",
       "64189             7870349      Dr. Jekyll and Mr. Hyde   1908-03-07   \n",
       "70994            29391146              The Black Viper   1908-07-25   \n",
       "18652            28777800  The Englishman and the Girl   1910-02-17   \n",
       "45311            13254122          What the Daisy Said   1910-07-11   \n",
       "...                   ...                          ...          ...   \n",
       "81156            11971266         La Guerre des tuques          NaN   \n",
       "81303            11515305                   Buio Omega          NaN   \n",
       "81312            27613497        Emperor: Young Caesar          NaN   \n",
       "81340            27646962                Raging Sharks          NaN   \n",
       "81521            24679315                       Leader          NaN   \n",
       "\n",
       "                                               Countries  \\\n",
       "42214                         {\"/m/0chghy\": \"Australia\"}   \n",
       "64189          {\"/m/09c7w0\": \"United States of America\"}   \n",
       "70994          {\"/m/09c7w0\": \"United States of America\"}   \n",
       "18652          {\"/m/09c7w0\": \"United States of America\"}   \n",
       "45311          {\"/m/09c7w0\": \"United States of America\"}   \n",
       "...                                                  ...   \n",
       "81156                            {\"/m/0d060g\": \"Canada\"}   \n",
       "81303                              {\"/m/03rjj\": \"Italy\"}   \n",
       "81312                                                 {}   \n",
       "81340  {\"/m/09c7w0\": \"United States of America\", \"/m/...   \n",
       "81521                                                 {}   \n",
       "\n",
       "                                               Languages  \\\n",
       "42214                        {\"/m/06ppq\": \"Silent film\"}   \n",
       "64189                        {\"/m/06ppq\": \"Silent film\"}   \n",
       "70994                        {\"/m/06ppq\": \"Silent film\"}   \n",
       "18652  {\"/m/06ppq\": \"Silent film\", \"/m/02h40lc\": \"Eng...   \n",
       "45311  {\"/m/06ppq\": \"Silent film\", \"/m/02h40lc\": \"Eng...   \n",
       "...                                                  ...   \n",
       "81156                  {\"/m/064_8sq\": \"French Language\"}   \n",
       "81303  {\"/m/02bjrlw\": \"Italian Language\", \"/m/02h40lc...   \n",
       "81312                                                 {}   \n",
       "81340                 {\"/m/02h40lc\": \"English Language\"}   \n",
       "81521                                                 {}   \n",
       "\n",
       "                                                  Genres  Box office revenue  \n",
       "42214  {\"/m/06ppq\": \"Silent film\", \"/m/07s9rl0\": \"Dra...                 NaN  \n",
       "64189  {\"/m/02hmvc\": \"Short Film\", \"/m/06ppq\": \"Silen...                 NaN  \n",
       "70994                        {\"/m/06ppq\": \"Silent film\"}                 NaN  \n",
       "18652  {\"/m/02hmvc\": \"Short Film\", \"/m/06ppq\": \"Silen...                 NaN  \n",
       "45311  {\"/m/02hmvc\": \"Short Film\", \"/m/06ppq\": \"Silen...                 NaN  \n",
       "...                                                  ...                 ...  \n",
       "81156  {\"/m/0hj3myq\": \"Children's/Family\", \"/m/0hj3mt...                 NaN  \n",
       "81303                             {\"/m/03npn\": \"Horror\"}                 NaN  \n",
       "81312                              {\"/m/06l3bl\": \"Epic\"}                 NaN  \n",
       "81340                             {\"/m/03npn\": \"Horror\"}                 NaN  \n",
       "81521                            {\"/m/07s9rl0\": \"Drama\"}                 NaN  \n",
       "\n",
       "[8626 rows x 7 columns]"
      ]
     },
     "metadata": {},
     "output_type": "display_data"
    }
   ],
   "source": [
    "# Filter the movies_data DataFrame to include only the rows with IDs that are present in the movie_ids list\n",
    "filtered_data = movies_data[movies_data['Wikipedia movie ID'].isin(movie_ids)][['Wikipedia movie ID','Movie name', 'Release date','Countries', 'Languages', 'Genres','Box office revenue']]\n",
    "filtered_data = filtered_data.sort_values(by=['Release date'])\n",
    "display(filtered_data) "
   ]
  }
 ],
 "metadata": {
  "kernelspec": {
   "display_name": "Python 3.9.18 ('ADA')",
   "language": "python",
   "name": "python3"
  },
  "language_info": {
   "codemirror_mode": {
    "name": "ipython",
    "version": 3
   },
   "file_extension": ".py",
   "mimetype": "text/x-python",
   "name": "python",
   "nbconvert_exporter": "python",
   "pygments_lexer": "ipython3",
   "version": "3.9.18"
  },
  "orig_nbformat": 4,
  "vscode": {
   "interpreter": {
    "hash": "9b064eaaa1f423612ae8be3711d10f440a953041816ebe2a62512e6f6f34b7fd"
   }
  }
 },
 "nbformat": 4,
 "nbformat_minor": 2
}
